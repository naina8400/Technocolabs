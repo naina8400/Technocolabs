{
 "cells": [
  {
   "cell_type": "markdown",
   "id": "395b30f4",
   "metadata": {
    "papermill": {
     "duration": 0.016847,
     "end_time": "2022-01-25T08:03:06.124417",
     "exception": false,
     "start_time": "2022-01-25T08:03:06.107570",
     "status": "completed"
    },
    "tags": []
   },
   "source": [
    "**This notebook is an exercise in the [Pandas](https://www.kaggle.com/learn/pandas) course.  You can reference the tutorial at [this link](https://www.kaggle.com/residentmario/creating-reading-and-writing).**\n",
    "\n",
    "---\n"
   ]
  },
  {
   "cell_type": "markdown",
   "id": "9a9d27f7",
   "metadata": {
    "papermill": {
     "duration": 0.015589,
     "end_time": "2022-01-25T08:03:06.156302",
     "exception": false,
     "start_time": "2022-01-25T08:03:06.140713",
     "status": "completed"
    },
    "tags": []
   },
   "source": [
    "# Introduction\n",
    "\n",
    "The first step in most data analytics projects is reading the data file. In this exercise, you'll create Series and DataFrame objects, both by hand and by reading data files.\n",
    "\n",
    "Run the code cell below to load libraries you will need (including code to check your answers)."
   ]
  },
  {
   "cell_type": "code",
   "execution_count": 1,
   "id": "e5d0f60e",
   "metadata": {
    "execution": {
     "iopub.execute_input": "2022-01-25T08:03:06.192359Z",
     "iopub.status.busy": "2022-01-25T08:03:06.191168Z",
     "iopub.status.idle": "2022-01-25T08:03:08.090264Z",
     "shell.execute_reply": "2022-01-25T08:03:08.089629Z",
     "shell.execute_reply.started": "2022-01-25T08:01:35.148607Z"
    },
    "papermill": {
     "duration": 1.918556,
     "end_time": "2022-01-25T08:03:08.090438",
     "exception": false,
     "start_time": "2022-01-25T08:03:06.171882",
     "status": "completed"
    },
    "tags": []
   },
   "outputs": [
    {
     "name": "stdout",
     "output_type": "stream",
     "text": [
      "Setup complete.\n"
     ]
    }
   ],
   "source": [
    "import pandas as pd\n",
    "pd.set_option('max_rows', 5)\n",
    "from learntools.core import binder; binder.bind(globals())\n",
    "from learntools.pandas.creating_reading_and_writing import *\n",
    "print(\"Setup complete.\")"
   ]
  },
  {
   "cell_type": "markdown",
   "id": "67167128",
   "metadata": {
    "papermill": {
     "duration": 0.01566,
     "end_time": "2022-01-25T08:03:08.122631",
     "exception": false,
     "start_time": "2022-01-25T08:03:08.106971",
     "status": "completed"
    },
    "tags": []
   },
   "source": [
    "# Exercises"
   ]
  },
  {
   "cell_type": "markdown",
   "id": "60619368",
   "metadata": {
    "papermill": {
     "duration": 0.015893,
     "end_time": "2022-01-25T08:03:08.154361",
     "exception": false,
     "start_time": "2022-01-25T08:03:08.138468",
     "status": "completed"
    },
    "tags": []
   },
   "source": [
    "## 1.\n",
    "\n",
    "In the cell below, create a DataFrame `fruits` that looks like this:\n",
    "\n",
    "![](https://i.imgur.com/Ax3pp2A.png)"
   ]
  },
  {
   "cell_type": "code",
   "execution_count": 2,
   "id": "13f3ab3c",
   "metadata": {
    "execution": {
     "iopub.execute_input": "2022-01-25T08:03:08.192860Z",
     "iopub.status.busy": "2022-01-25T08:03:08.192122Z",
     "iopub.status.idle": "2022-01-25T08:03:08.208205Z",
     "shell.execute_reply": "2022-01-25T08:03:08.207717Z",
     "shell.execute_reply.started": "2022-01-25T08:01:37.061369Z"
    },
    "papermill": {
     "duration": 0.038036,
     "end_time": "2022-01-25T08:03:08.208375",
     "exception": false,
     "start_time": "2022-01-25T08:03:08.170339",
     "status": "completed"
    },
    "tags": []
   },
   "outputs": [
    {
     "data": {
      "application/javascript": [
       "parent.postMessage({\"jupyterEvent\": \"custom.exercise_interaction\", \"data\": {\"outcomeType\": 1, \"valueTowardsCompletion\": 0.16666666666666666, \"interactionType\": 1, \"questionType\": 1, \"questionId\": \"1_FruitDfCreation\", \"learnToolsVersion\": \"0.3.4\", \"failureMessage\": \"\", \"exceptionClass\": \"\", \"trace\": \"\"}}, \"*\")"
      ],
      "text/plain": [
       "<IPython.core.display.Javascript object>"
      ]
     },
     "metadata": {},
     "output_type": "display_data"
    },
    {
     "data": {
      "text/markdown": [
       "<span style=\"color:#33cc33\">Correct</span>"
      ],
      "text/plain": [
       "Correct"
      ]
     },
     "metadata": {},
     "output_type": "display_data"
    },
    {
     "data": {
      "text/html": [
       "<div>\n",
       "<style scoped>\n",
       "    .dataframe tbody tr th:only-of-type {\n",
       "        vertical-align: middle;\n",
       "    }\n",
       "\n",
       "    .dataframe tbody tr th {\n",
       "        vertical-align: top;\n",
       "    }\n",
       "\n",
       "    .dataframe thead th {\n",
       "        text-align: right;\n",
       "    }\n",
       "</style>\n",
       "<table border=\"1\" class=\"dataframe\">\n",
       "  <thead>\n",
       "    <tr style=\"text-align: right;\">\n",
       "      <th></th>\n",
       "      <th>Apples</th>\n",
       "      <th>Bananas</th>\n",
       "    </tr>\n",
       "  </thead>\n",
       "  <tbody>\n",
       "    <tr>\n",
       "      <th>0</th>\n",
       "      <td>30</td>\n",
       "      <td>21</td>\n",
       "    </tr>\n",
       "  </tbody>\n",
       "</table>\n",
       "</div>"
      ],
      "text/plain": [
       "   Apples  Bananas\n",
       "0      30       21"
      ]
     },
     "execution_count": 2,
     "metadata": {},
     "output_type": "execute_result"
    }
   ],
   "source": [
    "# Your code goes here. Create a dataframe matching the above diagram and assign it to the variable fruits.\n",
    "fruits = pd.DataFrame([[30,21]], columns=[\"Apples\", \"Bananas\"])\n",
    "\n",
    "# Check your answer\n",
    "q1.check()\n",
    "fruits"
   ]
  },
  {
   "cell_type": "code",
   "execution_count": 3,
   "id": "c5b26915",
   "metadata": {
    "execution": {
     "iopub.execute_input": "2022-01-25T08:03:08.248563Z",
     "iopub.status.busy": "2022-01-25T08:03:08.247400Z",
     "iopub.status.idle": "2022-01-25T08:03:08.250156Z",
     "shell.execute_reply": "2022-01-25T08:03:08.249678Z",
     "shell.execute_reply.started": "2022-01-25T08:01:37.083929Z"
    },
    "papermill": {
     "duration": 0.024174,
     "end_time": "2022-01-25T08:03:08.250317",
     "exception": false,
     "start_time": "2022-01-25T08:03:08.226143",
     "status": "completed"
    },
    "tags": []
   },
   "outputs": [],
   "source": [
    "#q1.hint()\n",
    "#q1.solution()"
   ]
  },
  {
   "cell_type": "markdown",
   "id": "fd87d9b6",
   "metadata": {
    "papermill": {
     "duration": 0.017936,
     "end_time": "2022-01-25T08:03:08.285804",
     "exception": false,
     "start_time": "2022-01-25T08:03:08.267868",
     "status": "completed"
    },
    "tags": []
   },
   "source": [
    "## 2.\n",
    "\n",
    "Create a dataframe `fruit_sales` that matches the diagram below:\n",
    "\n",
    "![](https://i.imgur.com/CHPn7ZF.png)"
   ]
  },
  {
   "cell_type": "code",
   "execution_count": 4,
   "id": "46053e46",
   "metadata": {
    "execution": {
     "iopub.execute_input": "2022-01-25T08:03:08.330222Z",
     "iopub.status.busy": "2022-01-25T08:03:08.329305Z",
     "iopub.status.idle": "2022-01-25T08:03:08.340146Z",
     "shell.execute_reply": "2022-01-25T08:03:08.339655Z",
     "shell.execute_reply.started": "2022-01-25T08:01:37.089222Z"
    },
    "papermill": {
     "duration": 0.035994,
     "end_time": "2022-01-25T08:03:08.340301",
     "exception": false,
     "start_time": "2022-01-25T08:03:08.304307",
     "status": "completed"
    },
    "tags": []
   },
   "outputs": [
    {
     "data": {
      "application/javascript": [
       "parent.postMessage({\"jupyterEvent\": \"custom.exercise_interaction\", \"data\": {\"outcomeType\": 1, \"valueTowardsCompletion\": 0.16666666666666666, \"interactionType\": 1, \"questionType\": 1, \"questionId\": \"2_FruitSalesDfCreation\", \"learnToolsVersion\": \"0.3.4\", \"failureMessage\": \"\", \"exceptionClass\": \"\", \"trace\": \"\"}}, \"*\")"
      ],
      "text/plain": [
       "<IPython.core.display.Javascript object>"
      ]
     },
     "metadata": {},
     "output_type": "display_data"
    },
    {
     "data": {
      "text/markdown": [
       "<span style=\"color:#33cc33\">Correct</span>"
      ],
      "text/plain": [
       "Correct"
      ]
     },
     "metadata": {},
     "output_type": "display_data"
    },
    {
     "data": {
      "text/html": [
       "<div>\n",
       "<style scoped>\n",
       "    .dataframe tbody tr th:only-of-type {\n",
       "        vertical-align: middle;\n",
       "    }\n",
       "\n",
       "    .dataframe tbody tr th {\n",
       "        vertical-align: top;\n",
       "    }\n",
       "\n",
       "    .dataframe thead th {\n",
       "        text-align: right;\n",
       "    }\n",
       "</style>\n",
       "<table border=\"1\" class=\"dataframe\">\n",
       "  <thead>\n",
       "    <tr style=\"text-align: right;\">\n",
       "      <th></th>\n",
       "      <th>Apples</th>\n",
       "      <th>Bananas</th>\n",
       "    </tr>\n",
       "  </thead>\n",
       "  <tbody>\n",
       "    <tr>\n",
       "      <th>2017 Sales</th>\n",
       "      <td>35</td>\n",
       "      <td>21</td>\n",
       "    </tr>\n",
       "    <tr>\n",
       "      <th>2018 Sales</th>\n",
       "      <td>41</td>\n",
       "      <td>34</td>\n",
       "    </tr>\n",
       "  </tbody>\n",
       "</table>\n",
       "</div>"
      ],
      "text/plain": [
       "            Apples  Bananas\n",
       "2017 Sales      35       21\n",
       "2018 Sales      41       34"
      ]
     },
     "execution_count": 4,
     "metadata": {},
     "output_type": "execute_result"
    }
   ],
   "source": [
    "# Your code goes here. Create a dataframe matching the above diagram and assign it to the variable fruit_sales.\n",
    "fruit_sales = pd.DataFrame([[35,21],[41,34]],columns = ['Apples', 'Bananas'], index=['2017 Sales','2018 Sales'])\n",
    "\n",
    "# Check your answer\n",
    "q2.check()\n",
    "fruit_sales"
   ]
  },
  {
   "cell_type": "code",
   "execution_count": 5,
   "id": "6a75af0e",
   "metadata": {
    "execution": {
     "iopub.execute_input": "2022-01-25T08:03:08.381581Z",
     "iopub.status.busy": "2022-01-25T08:03:08.380938Z",
     "iopub.status.idle": "2022-01-25T08:03:08.383960Z",
     "shell.execute_reply": "2022-01-25T08:03:08.384419Z",
     "shell.execute_reply.started": "2022-01-25T08:01:37.116559Z"
    },
    "papermill": {
     "duration": 0.02541,
     "end_time": "2022-01-25T08:03:08.384583",
     "exception": false,
     "start_time": "2022-01-25T08:03:08.359173",
     "status": "completed"
    },
    "tags": []
   },
   "outputs": [],
   "source": [
    "#q2.hint()\n",
    "#q2.solution()"
   ]
  },
  {
   "cell_type": "markdown",
   "id": "e546109d",
   "metadata": {
    "papermill": {
     "duration": 0.018472,
     "end_time": "2022-01-25T08:03:08.421938",
     "exception": false,
     "start_time": "2022-01-25T08:03:08.403466",
     "status": "completed"
    },
    "tags": []
   },
   "source": [
    "## 3.\n",
    "\n",
    "Create a variable `ingredients` with a Series that looks like:\n",
    "\n",
    "```\n",
    "Flour     4 cups\n",
    "Milk       1 cup\n",
    "Eggs     2 large\n",
    "Spam       1 can\n",
    "Name: Dinner, dtype: object\n",
    "```"
   ]
  },
  {
   "cell_type": "code",
   "execution_count": 6,
   "id": "812906d4",
   "metadata": {
    "execution": {
     "iopub.execute_input": "2022-01-25T08:03:08.466720Z",
     "iopub.status.busy": "2022-01-25T08:03:08.466021Z",
     "iopub.status.idle": "2022-01-25T08:03:08.474777Z",
     "shell.execute_reply": "2022-01-25T08:03:08.475416Z",
     "shell.execute_reply.started": "2022-01-25T08:01:37.126342Z"
    },
    "papermill": {
     "duration": 0.034871,
     "end_time": "2022-01-25T08:03:08.475597",
     "exception": false,
     "start_time": "2022-01-25T08:03:08.440726",
     "status": "completed"
    },
    "tags": []
   },
   "outputs": [
    {
     "data": {
      "application/javascript": [
       "parent.postMessage({\"jupyterEvent\": \"custom.exercise_interaction\", \"data\": {\"outcomeType\": 1, \"valueTowardsCompletion\": 0.16666666666666666, \"interactionType\": 1, \"questionType\": 2, \"questionId\": \"3_RecipeSeriesCreation\", \"learnToolsVersion\": \"0.3.4\", \"failureMessage\": \"\", \"exceptionClass\": \"\", \"trace\": \"\"}}, \"*\")"
      ],
      "text/plain": [
       "<IPython.core.display.Javascript object>"
      ]
     },
     "metadata": {},
     "output_type": "display_data"
    },
    {
     "data": {
      "text/markdown": [
       "<span style=\"color:#33cc33\">Correct</span>"
      ],
      "text/plain": [
       "Correct"
      ]
     },
     "metadata": {},
     "output_type": "display_data"
    },
    {
     "data": {
      "text/plain": [
       "Flour     4 cups\n",
       "Milk       1 cup\n",
       "Eggs     2 large\n",
       "Spam       1 can\n",
       "Name: Dinner, dtype: object"
      ]
     },
     "execution_count": 6,
     "metadata": {},
     "output_type": "execute_result"
    }
   ],
   "source": [
    "ingredients = pd.Series(['4 cups', '1 cup', '2 large', '1 can'], index=['Flour', 'Milk', 'Eggs', 'Spam'], name='Dinner')\n",
    "# Check your answer\n",
    "q3.check()\n",
    "ingredients"
   ]
  },
  {
   "cell_type": "code",
   "execution_count": 7,
   "id": "7de0d059",
   "metadata": {
    "execution": {
     "iopub.execute_input": "2022-01-25T08:03:08.520740Z",
     "iopub.status.busy": "2022-01-25T08:03:08.519747Z",
     "iopub.status.idle": "2022-01-25T08:03:08.523948Z",
     "shell.execute_reply": "2022-01-25T08:03:08.523446Z",
     "shell.execute_reply.started": "2022-01-25T08:01:37.148885Z"
    },
    "papermill": {
     "duration": 0.027741,
     "end_time": "2022-01-25T08:03:08.524089",
     "exception": false,
     "start_time": "2022-01-25T08:03:08.496348",
     "status": "completed"
    },
    "tags": []
   },
   "outputs": [],
   "source": [
    "#q3.hint()\n",
    "#q3.solution()"
   ]
  },
  {
   "cell_type": "markdown",
   "id": "c496a866",
   "metadata": {
    "papermill": {
     "duration": 0.019784,
     "end_time": "2022-01-25T08:03:08.564351",
     "exception": false,
     "start_time": "2022-01-25T08:03:08.544567",
     "status": "completed"
    },
    "tags": []
   },
   "source": [
    "## 4.\n",
    "\n",
    "Read the following csv dataset of wine reviews into a DataFrame called `reviews`:\n",
    "\n",
    "![](https://i.imgur.com/74RCZtU.png)\n",
    "\n",
    "The filepath to the csv file is `../input/wine-reviews/winemag-data_first150k.csv`. The first few lines look like:\n",
    "\n",
    "```\n",
    ",country,description,designation,points,price,province,region_1,region_2,variety,winery\n",
    "0,US,\"This tremendous 100% varietal wine[...]\",Martha's Vineyard,96,235.0,California,Napa Valley,Napa,Cabernet Sauvignon,Heitz\n",
    "1,Spain,\"Ripe aromas of fig, blackberry and[...]\",Carodorum Selección Especial Reserva,96,110.0,Northern Spain,Toro,,Tinta de Toro,Bodega Carmen Rodríguez\n",
    "```"
   ]
  },
  {
   "cell_type": "code",
   "execution_count": 8,
   "id": "d8d16b65",
   "metadata": {
    "execution": {
     "iopub.execute_input": "2022-01-25T08:03:08.608063Z",
     "iopub.status.busy": "2022-01-25T08:03:08.607091Z",
     "iopub.status.idle": "2022-01-25T08:03:09.516632Z",
     "shell.execute_reply": "2022-01-25T08:03:09.516092Z",
     "shell.execute_reply.started": "2022-01-25T08:01:37.153469Z"
    },
    "papermill": {
     "duration": 0.932368,
     "end_time": "2022-01-25T08:03:09.516781",
     "exception": false,
     "start_time": "2022-01-25T08:03:08.584413",
     "status": "completed"
    },
    "tags": []
   },
   "outputs": [
    {
     "data": {
      "application/javascript": [
       "parent.postMessage({\"jupyterEvent\": \"custom.exercise_interaction\", \"data\": {\"outcomeType\": 1, \"valueTowardsCompletion\": 0.16666666666666666, \"interactionType\": 1, \"questionType\": 1, \"questionId\": \"4_ReadWineCsv\", \"learnToolsVersion\": \"0.3.4\", \"failureMessage\": \"\", \"exceptionClass\": \"\", \"trace\": \"\"}}, \"*\")"
      ],
      "text/plain": [
       "<IPython.core.display.Javascript object>"
      ]
     },
     "metadata": {},
     "output_type": "display_data"
    },
    {
     "data": {
      "text/markdown": [
       "<span style=\"color:#33cc33\">Correct</span>"
      ],
      "text/plain": [
       "Correct"
      ]
     },
     "metadata": {},
     "output_type": "display_data"
    },
    {
     "data": {
      "text/html": [
       "<div>\n",
       "<style scoped>\n",
       "    .dataframe tbody tr th:only-of-type {\n",
       "        vertical-align: middle;\n",
       "    }\n",
       "\n",
       "    .dataframe tbody tr th {\n",
       "        vertical-align: top;\n",
       "    }\n",
       "\n",
       "    .dataframe thead th {\n",
       "        text-align: right;\n",
       "    }\n",
       "</style>\n",
       "<table border=\"1\" class=\"dataframe\">\n",
       "  <thead>\n",
       "    <tr style=\"text-align: right;\">\n",
       "      <th></th>\n",
       "      <th>country</th>\n",
       "      <th>description</th>\n",
       "      <th>designation</th>\n",
       "      <th>points</th>\n",
       "      <th>price</th>\n",
       "      <th>province</th>\n",
       "      <th>region_1</th>\n",
       "      <th>region_2</th>\n",
       "      <th>variety</th>\n",
       "      <th>winery</th>\n",
       "    </tr>\n",
       "  </thead>\n",
       "  <tbody>\n",
       "    <tr>\n",
       "      <th>0</th>\n",
       "      <td>US</td>\n",
       "      <td>This tremendous 100% varietal wine hails from ...</td>\n",
       "      <td>Martha's Vineyard</td>\n",
       "      <td>96</td>\n",
       "      <td>235.0</td>\n",
       "      <td>California</td>\n",
       "      <td>Napa Valley</td>\n",
       "      <td>Napa</td>\n",
       "      <td>Cabernet Sauvignon</td>\n",
       "      <td>Heitz</td>\n",
       "    </tr>\n",
       "    <tr>\n",
       "      <th>1</th>\n",
       "      <td>Spain</td>\n",
       "      <td>Ripe aromas of fig, blackberry and cassis are ...</td>\n",
       "      <td>Carodorum Selección Especial Reserva</td>\n",
       "      <td>96</td>\n",
       "      <td>110.0</td>\n",
       "      <td>Northern Spain</td>\n",
       "      <td>Toro</td>\n",
       "      <td>NaN</td>\n",
       "      <td>Tinta de Toro</td>\n",
       "      <td>Bodega Carmen Rodríguez</td>\n",
       "    </tr>\n",
       "    <tr>\n",
       "      <th>...</th>\n",
       "      <td>...</td>\n",
       "      <td>...</td>\n",
       "      <td>...</td>\n",
       "      <td>...</td>\n",
       "      <td>...</td>\n",
       "      <td>...</td>\n",
       "      <td>...</td>\n",
       "      <td>...</td>\n",
       "      <td>...</td>\n",
       "      <td>...</td>\n",
       "    </tr>\n",
       "    <tr>\n",
       "      <th>150928</th>\n",
       "      <td>France</td>\n",
       "      <td>A perfect salmon shade, with scents of peaches...</td>\n",
       "      <td>Grand Brut Rosé</td>\n",
       "      <td>90</td>\n",
       "      <td>52.0</td>\n",
       "      <td>Champagne</td>\n",
       "      <td>Champagne</td>\n",
       "      <td>NaN</td>\n",
       "      <td>Champagne Blend</td>\n",
       "      <td>Gosset</td>\n",
       "    </tr>\n",
       "    <tr>\n",
       "      <th>150929</th>\n",
       "      <td>Italy</td>\n",
       "      <td>More Pinot Grigios should taste like this. A r...</td>\n",
       "      <td>NaN</td>\n",
       "      <td>90</td>\n",
       "      <td>15.0</td>\n",
       "      <td>Northeastern Italy</td>\n",
       "      <td>Alto Adige</td>\n",
       "      <td>NaN</td>\n",
       "      <td>Pinot Grigio</td>\n",
       "      <td>Alois Lageder</td>\n",
       "    </tr>\n",
       "  </tbody>\n",
       "</table>\n",
       "<p>150930 rows × 10 columns</p>\n",
       "</div>"
      ],
      "text/plain": [
       "       country                                        description  \\\n",
       "0           US  This tremendous 100% varietal wine hails from ...   \n",
       "1        Spain  Ripe aromas of fig, blackberry and cassis are ...   \n",
       "...        ...                                                ...   \n",
       "150928  France  A perfect salmon shade, with scents of peaches...   \n",
       "150929   Italy  More Pinot Grigios should taste like this. A r...   \n",
       "\n",
       "                                 designation  points  price  \\\n",
       "0                          Martha's Vineyard      96  235.0   \n",
       "1       Carodorum Selección Especial Reserva      96  110.0   \n",
       "...                                      ...     ...    ...   \n",
       "150928                       Grand Brut Rosé      90   52.0   \n",
       "150929                                   NaN      90   15.0   \n",
       "\n",
       "                  province     region_1 region_2             variety  \\\n",
       "0               California  Napa Valley     Napa  Cabernet Sauvignon   \n",
       "1           Northern Spain         Toro      NaN       Tinta de Toro   \n",
       "...                    ...          ...      ...                 ...   \n",
       "150928           Champagne    Champagne      NaN     Champagne Blend   \n",
       "150929  Northeastern Italy   Alto Adige      NaN        Pinot Grigio   \n",
       "\n",
       "                         winery  \n",
       "0                         Heitz  \n",
       "1       Bodega Carmen Rodríguez  \n",
       "...                         ...  \n",
       "150928                   Gosset  \n",
       "150929            Alois Lageder  \n",
       "\n",
       "[150930 rows x 10 columns]"
      ]
     },
     "execution_count": 8,
     "metadata": {},
     "output_type": "execute_result"
    }
   ],
   "source": [
    "reviews = pd.read_csv(\"../input/wine-reviews/winemag-data_first150k.csv\",index_col=0)\n",
    "\n",
    "# Check your answer\n",
    "q4.check()\n",
    "reviews"
   ]
  },
  {
   "cell_type": "code",
   "execution_count": 9,
   "id": "c32b4c50",
   "metadata": {
    "execution": {
     "iopub.execute_input": "2022-01-25T08:03:09.565735Z",
     "iopub.status.busy": "2022-01-25T08:03:09.564753Z",
     "iopub.status.idle": "2022-01-25T08:03:09.567785Z",
     "shell.execute_reply": "2022-01-25T08:03:09.568386Z",
     "shell.execute_reply.started": "2022-01-25T08:01:38.270296Z"
    },
    "papermill": {
     "duration": 0.030046,
     "end_time": "2022-01-25T08:03:09.568552",
     "exception": false,
     "start_time": "2022-01-25T08:03:09.538506",
     "status": "completed"
    },
    "tags": []
   },
   "outputs": [],
   "source": [
    "#q4.hint()\n",
    "#q4.solution()"
   ]
  },
  {
   "cell_type": "markdown",
   "id": "e312da7a",
   "metadata": {
    "papermill": {
     "duration": 0.023117,
     "end_time": "2022-01-25T08:03:09.613693",
     "exception": false,
     "start_time": "2022-01-25T08:03:09.590576",
     "status": "completed"
    },
    "tags": []
   },
   "source": [
    "## 5.\n",
    "\n",
    "Run the cell below to create and display a DataFrame called `animals`:"
   ]
  },
  {
   "cell_type": "code",
   "execution_count": 10,
   "id": "df30e90d",
   "metadata": {
    "execution": {
     "iopub.execute_input": "2022-01-25T08:03:09.668592Z",
     "iopub.status.busy": "2022-01-25T08:03:09.667742Z",
     "iopub.status.idle": "2022-01-25T08:03:09.670958Z",
     "shell.execute_reply": "2022-01-25T08:03:09.671451Z",
     "shell.execute_reply.started": "2022-01-25T08:01:38.275974Z"
    },
    "papermill": {
     "duration": 0.035925,
     "end_time": "2022-01-25T08:03:09.671619",
     "exception": false,
     "start_time": "2022-01-25T08:03:09.635694",
     "status": "completed"
    },
    "tags": []
   },
   "outputs": [
    {
     "data": {
      "text/html": [
       "<div>\n",
       "<style scoped>\n",
       "    .dataframe tbody tr th:only-of-type {\n",
       "        vertical-align: middle;\n",
       "    }\n",
       "\n",
       "    .dataframe tbody tr th {\n",
       "        vertical-align: top;\n",
       "    }\n",
       "\n",
       "    .dataframe thead th {\n",
       "        text-align: right;\n",
       "    }\n",
       "</style>\n",
       "<table border=\"1\" class=\"dataframe\">\n",
       "  <thead>\n",
       "    <tr style=\"text-align: right;\">\n",
       "      <th></th>\n",
       "      <th>Cows</th>\n",
       "      <th>Goats</th>\n",
       "    </tr>\n",
       "  </thead>\n",
       "  <tbody>\n",
       "    <tr>\n",
       "      <th>Year 1</th>\n",
       "      <td>12</td>\n",
       "      <td>22</td>\n",
       "    </tr>\n",
       "    <tr>\n",
       "      <th>Year 2</th>\n",
       "      <td>20</td>\n",
       "      <td>19</td>\n",
       "    </tr>\n",
       "  </tbody>\n",
       "</table>\n",
       "</div>"
      ],
      "text/plain": [
       "        Cows  Goats\n",
       "Year 1    12     22\n",
       "Year 2    20     19"
      ]
     },
     "execution_count": 10,
     "metadata": {},
     "output_type": "execute_result"
    }
   ],
   "source": [
    "animals = pd.DataFrame([[12, 22],[20, 19]],columns=['Cows','Goats'], index=['Year 1', 'Year 2'])\n",
    "animals"
   ]
  },
  {
   "cell_type": "markdown",
   "id": "8bed3a13",
   "metadata": {
    "papermill": {
     "duration": 0.023183,
     "end_time": "2022-01-25T08:03:09.716761",
     "exception": false,
     "start_time": "2022-01-25T08:03:09.693578",
     "status": "completed"
    },
    "tags": []
   },
   "source": [
    "In the cell below, write code to save this DataFrame to disk as a csv file with the name `cows_and_goats.csv`."
   ]
  },
  {
   "cell_type": "code",
   "execution_count": 11,
   "id": "aef1026d",
   "metadata": {
    "execution": {
     "iopub.execute_input": "2022-01-25T08:03:09.765945Z",
     "iopub.status.busy": "2022-01-25T08:03:09.764885Z",
     "iopub.status.idle": "2022-01-25T08:03:09.778813Z",
     "shell.execute_reply": "2022-01-25T08:03:09.778240Z",
     "shell.execute_reply.started": "2022-01-25T08:01:38.294915Z"
    },
    "papermill": {
     "duration": 0.039761,
     "end_time": "2022-01-25T08:03:09.778952",
     "exception": false,
     "start_time": "2022-01-25T08:03:09.739191",
     "status": "completed"
    },
    "tags": []
   },
   "outputs": [
    {
     "data": {
      "application/javascript": [
       "parent.postMessage({\"jupyterEvent\": \"custom.exercise_interaction\", \"data\": {\"outcomeType\": 1, \"valueTowardsCompletion\": 0.16666666666666666, \"interactionType\": 1, \"questionType\": 2, \"questionId\": \"5_SaveAnimalsCsv\", \"learnToolsVersion\": \"0.3.4\", \"failureMessage\": \"\", \"exceptionClass\": \"\", \"trace\": \"\"}}, \"*\")"
      ],
      "text/plain": [
       "<IPython.core.display.Javascript object>"
      ]
     },
     "metadata": {},
     "output_type": "display_data"
    },
    {
     "data": {
      "text/markdown": [
       "<span style=\"color:#33cc33\">Correct</span>"
      ],
      "text/plain": [
       "Correct"
      ]
     },
     "metadata": {},
     "output_type": "display_data"
    }
   ],
   "source": [
    "# Your code goes here\n",
    "animals.to_csv(\"cows_and_goats.csv\")\n",
    "# Check your answer\n",
    "q5.check()"
   ]
  },
  {
   "cell_type": "code",
   "execution_count": 12,
   "id": "341334d3",
   "metadata": {
    "execution": {
     "iopub.execute_input": "2022-01-25T08:03:09.829559Z",
     "iopub.status.busy": "2022-01-25T08:03:09.828930Z",
     "iopub.status.idle": "2022-01-25T08:03:09.830741Z",
     "shell.execute_reply": "2022-01-25T08:03:09.831215Z",
     "shell.execute_reply.started": "2022-01-25T08:01:38.315844Z"
    },
    "papermill": {
     "duration": 0.028949,
     "end_time": "2022-01-25T08:03:09.831392",
     "exception": false,
     "start_time": "2022-01-25T08:03:09.802443",
     "status": "completed"
    },
    "tags": []
   },
   "outputs": [],
   "source": [
    "#q5.hint()\n",
    "#q5.solution()"
   ]
  },
  {
   "cell_type": "markdown",
   "id": "b563d12c",
   "metadata": {
    "papermill": {
     "duration": 0.022642,
     "end_time": "2022-01-25T08:03:09.877074",
     "exception": false,
     "start_time": "2022-01-25T08:03:09.854432",
     "status": "completed"
    },
    "tags": []
   },
   "source": [
    "# Keep going\n",
    "\n",
    "Move on to learn about **[indexing, selecting and assigning](https://www.kaggle.com/residentmario/indexing-selecting-assigning)**."
   ]
  },
  {
   "cell_type": "markdown",
   "id": "e3c2c75e",
   "metadata": {
    "papermill": {
     "duration": 0.023698,
     "end_time": "2022-01-25T08:03:09.924768",
     "exception": false,
     "start_time": "2022-01-25T08:03:09.901070",
     "status": "completed"
    },
    "tags": []
   },
   "source": [
    "---\n",
    "\n",
    "\n",
    "\n",
    "\n",
    "*Have questions or comments? Visit the [course discussion forum](https://www.kaggle.com/learn/pandas/discussion) to chat with other learners.*"
   ]
  }
 ],
 "metadata": {
  "kernelspec": {
   "display_name": "Python 3",
   "language": "python",
   "name": "python3"
  },
  "language_info": {
   "codemirror_mode": {
    "name": "ipython",
    "version": 3
   },
   "file_extension": ".py",
   "mimetype": "text/x-python",
   "name": "python",
   "nbconvert_exporter": "python",
   "pygments_lexer": "ipython3",
   "version": "3.7.12"
  },
  "papermill": {
   "default_parameters": {},
   "duration": 14.217711,
   "end_time": "2022-01-25T08:03:10.558322",
   "environment_variables": {},
   "exception": null,
   "input_path": "__notebook__.ipynb",
   "output_path": "__notebook__.ipynb",
   "parameters": {},
   "start_time": "2022-01-25T08:02:56.340611",
   "version": "2.3.3"
  }
 },
 "nbformat": 4,
 "nbformat_minor": 5
}
