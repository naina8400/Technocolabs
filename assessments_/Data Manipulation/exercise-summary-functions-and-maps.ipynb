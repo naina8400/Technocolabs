{
 "cells": [
  {
   "cell_type": "markdown",
   "id": "1fc1f457",
   "metadata": {
    "papermill": {
     "duration": 0.014741,
     "end_time": "2022-01-25T08:11:24.190942",
     "exception": false,
     "start_time": "2022-01-25T08:11:24.176201",
     "status": "completed"
    },
    "tags": []
   },
   "source": [
    "**This notebook is an exercise in the [Pandas](https://www.kaggle.com/learn/pandas) course.  You can reference the tutorial at [this link](https://www.kaggle.com/residentmario/summary-functions-and-maps).**\n",
    "\n",
    "---\n"
   ]
  },
  {
   "cell_type": "markdown",
   "id": "67d00598",
   "metadata": {
    "papermill": {
     "duration": 0.013091,
     "end_time": "2022-01-25T08:11:24.219307",
     "exception": false,
     "start_time": "2022-01-25T08:11:24.206216",
     "status": "completed"
    },
    "tags": []
   },
   "source": [
    "# Introduction\n",
    "\n",
    "Now you are ready to get a deeper understanding of your data.\n",
    "\n",
    "Run the following cell to load your data and some utility functions (including code to check your answers)."
   ]
  },
  {
   "cell_type": "code",
   "execution_count": 1,
   "id": "77bc6b05",
   "metadata": {
    "execution": {
     "iopub.execute_input": "2022-01-25T08:11:24.250214Z",
     "iopub.status.busy": "2022-01-25T08:11:24.249168Z",
     "iopub.status.idle": "2022-01-25T08:11:30.313126Z",
     "shell.execute_reply": "2022-01-25T08:11:30.313577Z",
     "shell.execute_reply.started": "2022-01-25T08:10:33.011306Z"
    },
    "papermill": {
     "duration": 6.081257,
     "end_time": "2022-01-25T08:11:30.313848",
     "exception": false,
     "start_time": "2022-01-25T08:11:24.232591",
     "status": "completed"
    },
    "tags": []
   },
   "outputs": [
    {
     "name": "stdout",
     "output_type": "stream",
     "text": [
      "Setup complete.\n"
     ]
    },
    {
     "data": {
      "text/html": [
       "<div>\n",
       "<style scoped>\n",
       "    .dataframe tbody tr th:only-of-type {\n",
       "        vertical-align: middle;\n",
       "    }\n",
       "\n",
       "    .dataframe tbody tr th {\n",
       "        vertical-align: top;\n",
       "    }\n",
       "\n",
       "    .dataframe thead th {\n",
       "        text-align: right;\n",
       "    }\n",
       "</style>\n",
       "<table border=\"1\" class=\"dataframe\">\n",
       "  <thead>\n",
       "    <tr style=\"text-align: right;\">\n",
       "      <th></th>\n",
       "      <th>country</th>\n",
       "      <th>description</th>\n",
       "      <th>designation</th>\n",
       "      <th>points</th>\n",
       "      <th>price</th>\n",
       "      <th>province</th>\n",
       "      <th>region_1</th>\n",
       "      <th>region_2</th>\n",
       "      <th>taster_name</th>\n",
       "      <th>taster_twitter_handle</th>\n",
       "      <th>title</th>\n",
       "      <th>variety</th>\n",
       "      <th>winery</th>\n",
       "    </tr>\n",
       "  </thead>\n",
       "  <tbody>\n",
       "    <tr>\n",
       "      <th>0</th>\n",
       "      <td>Italy</td>\n",
       "      <td>Aromas include tropical fruit, broom, brimston...</td>\n",
       "      <td>Vulkà Bianco</td>\n",
       "      <td>87</td>\n",
       "      <td>NaN</td>\n",
       "      <td>Sicily &amp; Sardinia</td>\n",
       "      <td>Etna</td>\n",
       "      <td>NaN</td>\n",
       "      <td>Kerin O’Keefe</td>\n",
       "      <td>@kerinokeefe</td>\n",
       "      <td>Nicosia 2013 Vulkà Bianco  (Etna)</td>\n",
       "      <td>White Blend</td>\n",
       "      <td>Nicosia</td>\n",
       "    </tr>\n",
       "    <tr>\n",
       "      <th>1</th>\n",
       "      <td>Portugal</td>\n",
       "      <td>This is ripe and fruity, a wine that is smooth...</td>\n",
       "      <td>Avidagos</td>\n",
       "      <td>87</td>\n",
       "      <td>15.0</td>\n",
       "      <td>Douro</td>\n",
       "      <td>NaN</td>\n",
       "      <td>NaN</td>\n",
       "      <td>Roger Voss</td>\n",
       "      <td>@vossroger</td>\n",
       "      <td>Quinta dos Avidagos 2011 Avidagos Red (Douro)</td>\n",
       "      <td>Portuguese Red</td>\n",
       "      <td>Quinta dos Avidagos</td>\n",
       "    </tr>\n",
       "    <tr>\n",
       "      <th>2</th>\n",
       "      <td>US</td>\n",
       "      <td>Tart and snappy, the flavors of lime flesh and...</td>\n",
       "      <td>NaN</td>\n",
       "      <td>87</td>\n",
       "      <td>14.0</td>\n",
       "      <td>Oregon</td>\n",
       "      <td>Willamette Valley</td>\n",
       "      <td>Willamette Valley</td>\n",
       "      <td>Paul Gregutt</td>\n",
       "      <td>@paulgwine</td>\n",
       "      <td>Rainstorm 2013 Pinot Gris (Willamette Valley)</td>\n",
       "      <td>Pinot Gris</td>\n",
       "      <td>Rainstorm</td>\n",
       "    </tr>\n",
       "    <tr>\n",
       "      <th>3</th>\n",
       "      <td>US</td>\n",
       "      <td>Pineapple rind, lemon pith and orange blossom ...</td>\n",
       "      <td>Reserve Late Harvest</td>\n",
       "      <td>87</td>\n",
       "      <td>13.0</td>\n",
       "      <td>Michigan</td>\n",
       "      <td>Lake Michigan Shore</td>\n",
       "      <td>NaN</td>\n",
       "      <td>Alexander Peartree</td>\n",
       "      <td>NaN</td>\n",
       "      <td>St. Julian 2013 Reserve Late Harvest Riesling ...</td>\n",
       "      <td>Riesling</td>\n",
       "      <td>St. Julian</td>\n",
       "    </tr>\n",
       "    <tr>\n",
       "      <th>4</th>\n",
       "      <td>US</td>\n",
       "      <td>Much like the regular bottling from 2012, this...</td>\n",
       "      <td>Vintner's Reserve Wild Child Block</td>\n",
       "      <td>87</td>\n",
       "      <td>65.0</td>\n",
       "      <td>Oregon</td>\n",
       "      <td>Willamette Valley</td>\n",
       "      <td>Willamette Valley</td>\n",
       "      <td>Paul Gregutt</td>\n",
       "      <td>@paulgwine</td>\n",
       "      <td>Sweet Cheeks 2012 Vintner's Reserve Wild Child...</td>\n",
       "      <td>Pinot Noir</td>\n",
       "      <td>Sweet Cheeks</td>\n",
       "    </tr>\n",
       "  </tbody>\n",
       "</table>\n",
       "</div>"
      ],
      "text/plain": [
       "    country                                        description  \\\n",
       "0     Italy  Aromas include tropical fruit, broom, brimston...   \n",
       "1  Portugal  This is ripe and fruity, a wine that is smooth...   \n",
       "2        US  Tart and snappy, the flavors of lime flesh and...   \n",
       "3        US  Pineapple rind, lemon pith and orange blossom ...   \n",
       "4        US  Much like the regular bottling from 2012, this...   \n",
       "\n",
       "                          designation  points  price           province  \\\n",
       "0                        Vulkà Bianco      87    NaN  Sicily & Sardinia   \n",
       "1                            Avidagos      87   15.0              Douro   \n",
       "2                                 NaN      87   14.0             Oregon   \n",
       "3                Reserve Late Harvest      87   13.0           Michigan   \n",
       "4  Vintner's Reserve Wild Child Block      87   65.0             Oregon   \n",
       "\n",
       "              region_1           region_2         taster_name  \\\n",
       "0                 Etna                NaN       Kerin O’Keefe   \n",
       "1                  NaN                NaN          Roger Voss   \n",
       "2    Willamette Valley  Willamette Valley        Paul Gregutt   \n",
       "3  Lake Michigan Shore                NaN  Alexander Peartree   \n",
       "4    Willamette Valley  Willamette Valley        Paul Gregutt   \n",
       "\n",
       "  taster_twitter_handle                                              title  \\\n",
       "0          @kerinokeefe                  Nicosia 2013 Vulkà Bianco  (Etna)   \n",
       "1            @vossroger      Quinta dos Avidagos 2011 Avidagos Red (Douro)   \n",
       "2           @paulgwine       Rainstorm 2013 Pinot Gris (Willamette Valley)   \n",
       "3                   NaN  St. Julian 2013 Reserve Late Harvest Riesling ...   \n",
       "4           @paulgwine   Sweet Cheeks 2012 Vintner's Reserve Wild Child...   \n",
       "\n",
       "          variety               winery  \n",
       "0     White Blend              Nicosia  \n",
       "1  Portuguese Red  Quinta dos Avidagos  \n",
       "2      Pinot Gris            Rainstorm  \n",
       "3        Riesling           St. Julian  \n",
       "4      Pinot Noir         Sweet Cheeks  "
      ]
     },
     "execution_count": 1,
     "metadata": {},
     "output_type": "execute_result"
    }
   ],
   "source": [
    "import pandas as pd\n",
    "pd.set_option(\"display.max_rows\", 5)\n",
    "reviews = pd.read_csv(\"../input/wine-reviews/winemag-data-130k-v2.csv\", index_col=0)\n",
    "\n",
    "from learntools.core import binder; binder.bind(globals())\n",
    "from learntools.pandas.summary_functions_and_maps import *\n",
    "print(\"Setup complete.\")\n",
    "\n",
    "reviews.head()"
   ]
  },
  {
   "cell_type": "markdown",
   "id": "fab897c6",
   "metadata": {
    "papermill": {
     "duration": 0.013956,
     "end_time": "2022-01-25T08:11:30.342342",
     "exception": false,
     "start_time": "2022-01-25T08:11:30.328386",
     "status": "completed"
    },
    "tags": []
   },
   "source": [
    "# Exercises"
   ]
  },
  {
   "cell_type": "markdown",
   "id": "65a288bb",
   "metadata": {
    "papermill": {
     "duration": 0.01393,
     "end_time": "2022-01-25T08:11:30.370532",
     "exception": false,
     "start_time": "2022-01-25T08:11:30.356602",
     "status": "completed"
    },
    "tags": []
   },
   "source": [
    "## 1.\n",
    "\n",
    "What is the median of the `points` column in the `reviews` DataFrame?"
   ]
  },
  {
   "cell_type": "code",
   "execution_count": 2,
   "id": "8ed985f5",
   "metadata": {
    "execution": {
     "iopub.execute_input": "2022-01-25T08:11:30.403548Z",
     "iopub.status.busy": "2022-01-25T08:11:30.402948Z",
     "iopub.status.idle": "2022-01-25T08:11:30.408584Z",
     "shell.execute_reply": "2022-01-25T08:11:30.409041Z",
     "shell.execute_reply.started": "2022-01-25T08:10:40.968552Z"
    },
    "papermill": {
     "duration": 0.024438,
     "end_time": "2022-01-25T08:11:30.409214",
     "exception": false,
     "start_time": "2022-01-25T08:11:30.384776",
     "status": "completed"
    },
    "tags": []
   },
   "outputs": [
    {
     "data": {
      "application/javascript": [
       "parent.postMessage({\"jupyterEvent\": \"custom.exercise_interaction\", \"data\": {\"outcomeType\": 1, \"valueTowardsCompletion\": 0.14285714285714285, \"interactionType\": 1, \"questionType\": 1, \"questionId\": \"1_MedianPoints\", \"learnToolsVersion\": \"0.3.4\", \"failureMessage\": \"\", \"exceptionClass\": \"\", \"trace\": \"\"}}, \"*\")"
      ],
      "text/plain": [
       "<IPython.core.display.Javascript object>"
      ]
     },
     "metadata": {},
     "output_type": "display_data"
    },
    {
     "data": {
      "text/markdown": [
       "<span style=\"color:#33cc33\">Correct</span>"
      ],
      "text/plain": [
       "Correct"
      ]
     },
     "metadata": {},
     "output_type": "display_data"
    }
   ],
   "source": [
    "median_points = reviews.points.median()\n",
    "\n",
    "# Check your answer\n",
    "q1.check()"
   ]
  },
  {
   "cell_type": "code",
   "execution_count": 3,
   "id": "90a08639",
   "metadata": {
    "execution": {
     "iopub.execute_input": "2022-01-25T08:11:30.442025Z",
     "iopub.status.busy": "2022-01-25T08:11:30.441458Z",
     "iopub.status.idle": "2022-01-25T08:11:30.443951Z",
     "shell.execute_reply": "2022-01-25T08:11:30.444393Z",
     "shell.execute_reply.started": "2022-01-25T08:10:40.979387Z"
    },
    "papermill": {
     "duration": 0.020152,
     "end_time": "2022-01-25T08:11:30.444538",
     "exception": false,
     "start_time": "2022-01-25T08:11:30.424386",
     "status": "completed"
    },
    "tags": []
   },
   "outputs": [],
   "source": [
    "#q1.hint()\n",
    "#q1.solution()"
   ]
  },
  {
   "cell_type": "markdown",
   "id": "3e09ee73",
   "metadata": {
    "papermill": {
     "duration": 0.014728,
     "end_time": "2022-01-25T08:11:30.474277",
     "exception": false,
     "start_time": "2022-01-25T08:11:30.459549",
     "status": "completed"
    },
    "tags": []
   },
   "source": [
    "## 2. \n",
    "What countries are represented in the dataset? (Your answer should not include any duplicates.)"
   ]
  },
  {
   "cell_type": "code",
   "execution_count": 4,
   "id": "4f96afb4",
   "metadata": {
    "execution": {
     "iopub.execute_input": "2022-01-25T08:11:30.515241Z",
     "iopub.status.busy": "2022-01-25T08:11:30.514626Z",
     "iopub.status.idle": "2022-01-25T08:11:30.521162Z",
     "shell.execute_reply": "2022-01-25T08:11:30.520718Z",
     "shell.execute_reply.started": "2022-01-25T08:10:40.986258Z"
    },
    "papermill": {
     "duration": 0.032107,
     "end_time": "2022-01-25T08:11:30.521296",
     "exception": false,
     "start_time": "2022-01-25T08:11:30.489189",
     "status": "completed"
    },
    "tags": []
   },
   "outputs": [
    {
     "data": {
      "application/javascript": [
       "parent.postMessage({\"jupyterEvent\": \"custom.exercise_interaction\", \"data\": {\"outcomeType\": 1, \"valueTowardsCompletion\": 0.14285714285714285, \"interactionType\": 1, \"questionType\": 2, \"questionId\": \"2_UniqueCountries\", \"learnToolsVersion\": \"0.3.4\", \"failureMessage\": \"\", \"exceptionClass\": \"\", \"trace\": \"\"}}, \"*\")"
      ],
      "text/plain": [
       "<IPython.core.display.Javascript object>"
      ]
     },
     "metadata": {},
     "output_type": "display_data"
    },
    {
     "data": {
      "text/markdown": [
       "<span style=\"color:#33cc33\">Correct</span>"
      ],
      "text/plain": [
       "Correct"
      ]
     },
     "metadata": {},
     "output_type": "display_data"
    }
   ],
   "source": [
    "countries = reviews.country.unique()\n",
    "\n",
    "# Check your answer\n",
    "q2.check()"
   ]
  },
  {
   "cell_type": "code",
   "execution_count": 5,
   "id": "145adc02",
   "metadata": {
    "execution": {
     "iopub.execute_input": "2022-01-25T08:11:30.557115Z",
     "iopub.status.busy": "2022-01-25T08:11:30.556559Z",
     "iopub.status.idle": "2022-01-25T08:11:30.560461Z",
     "shell.execute_reply": "2022-01-25T08:11:30.559965Z",
     "shell.execute_reply.started": "2022-01-25T08:10:41.018230Z"
    },
    "papermill": {
     "duration": 0.022094,
     "end_time": "2022-01-25T08:11:30.560587",
     "exception": false,
     "start_time": "2022-01-25T08:11:30.538493",
     "status": "completed"
    },
    "tags": []
   },
   "outputs": [],
   "source": [
    "#q2.hint()\n",
    "#q2.solution()"
   ]
  },
  {
   "cell_type": "markdown",
   "id": "f865f5f7",
   "metadata": {
    "papermill": {
     "duration": 0.0157,
     "end_time": "2022-01-25T08:11:30.592082",
     "exception": false,
     "start_time": "2022-01-25T08:11:30.576382",
     "status": "completed"
    },
    "tags": []
   },
   "source": [
    "## 3.\n",
    "How often does each country appear in the dataset? Create a Series `reviews_per_country` mapping countries to the count of reviews of wines from that country."
   ]
  },
  {
   "cell_type": "code",
   "execution_count": 6,
   "id": "3c0e40cf",
   "metadata": {
    "execution": {
     "iopub.execute_input": "2022-01-25T08:11:30.635495Z",
     "iopub.status.busy": "2022-01-25T08:11:30.634888Z",
     "iopub.status.idle": "2022-01-25T08:11:30.639897Z",
     "shell.execute_reply": "2022-01-25T08:11:30.640328Z",
     "shell.execute_reply.started": "2022-01-25T08:10:41.025063Z"
    },
    "papermill": {
     "duration": 0.032309,
     "end_time": "2022-01-25T08:11:30.640483",
     "exception": false,
     "start_time": "2022-01-25T08:11:30.608174",
     "status": "completed"
    },
    "tags": []
   },
   "outputs": [
    {
     "data": {
      "application/javascript": [
       "parent.postMessage({\"jupyterEvent\": \"custom.exercise_interaction\", \"data\": {\"outcomeType\": 1, \"valueTowardsCompletion\": 0.14285714285714285, \"interactionType\": 1, \"questionType\": 1, \"questionId\": \"3_ReviewsPerCountry\", \"learnToolsVersion\": \"0.3.4\", \"failureMessage\": \"\", \"exceptionClass\": \"\", \"trace\": \"\"}}, \"*\")"
      ],
      "text/plain": [
       "<IPython.core.display.Javascript object>"
      ]
     },
     "metadata": {},
     "output_type": "display_data"
    },
    {
     "data": {
      "text/markdown": [
       "<span style=\"color:#33cc33\">Correct</span>"
      ],
      "text/plain": [
       "Correct"
      ]
     },
     "metadata": {},
     "output_type": "display_data"
    }
   ],
   "source": [
    "reviews_per_country = reviews.country.value_counts()\n",
    "\n",
    "# Check your answer\n",
    "q3.check()"
   ]
  },
  {
   "cell_type": "code",
   "execution_count": 7,
   "id": "ccc639f5",
   "metadata": {
    "execution": {
     "iopub.execute_input": "2022-01-25T08:11:30.676565Z",
     "iopub.status.busy": "2022-01-25T08:11:30.675923Z",
     "iopub.status.idle": "2022-01-25T08:11:30.678462Z",
     "shell.execute_reply": "2022-01-25T08:11:30.678889Z",
     "shell.execute_reply.started": "2022-01-25T08:10:41.059909Z"
    },
    "papermill": {
     "duration": 0.022048,
     "end_time": "2022-01-25T08:11:30.679037",
     "exception": false,
     "start_time": "2022-01-25T08:11:30.656989",
     "status": "completed"
    },
    "tags": []
   },
   "outputs": [],
   "source": [
    "#q3.hint()\n",
    "#q3.solution()"
   ]
  },
  {
   "cell_type": "markdown",
   "id": "ecfb4849",
   "metadata": {
    "papermill": {
     "duration": 0.016328,
     "end_time": "2022-01-25T08:11:30.711974",
     "exception": false,
     "start_time": "2022-01-25T08:11:30.695646",
     "status": "completed"
    },
    "tags": []
   },
   "source": [
    "## 4.\n",
    "Create variable `centered_price` containing a version of the `price` column with the mean price subtracted.\n",
    "\n",
    "(Note: this 'centering' transformation is a common preprocessing step before applying various machine learning algorithms.) "
   ]
  },
  {
   "cell_type": "code",
   "execution_count": 8,
   "id": "f5d70a88",
   "metadata": {
    "execution": {
     "iopub.execute_input": "2022-01-25T08:11:30.747702Z",
     "iopub.status.busy": "2022-01-25T08:11:30.747156Z",
     "iopub.status.idle": "2022-01-25T08:11:30.754314Z",
     "shell.execute_reply": "2022-01-25T08:11:30.754851Z",
     "shell.execute_reply.started": "2022-01-25T08:10:41.071023Z"
    },
    "papermill": {
     "duration": 0.026633,
     "end_time": "2022-01-25T08:11:30.755009",
     "exception": false,
     "start_time": "2022-01-25T08:11:30.728376",
     "status": "completed"
    },
    "tags": []
   },
   "outputs": [
    {
     "data": {
      "application/javascript": [
       "parent.postMessage({\"jupyterEvent\": \"custom.exercise_interaction\", \"data\": {\"outcomeType\": 1, \"valueTowardsCompletion\": 0.14285714285714285, \"interactionType\": 1, \"questionType\": 1, \"questionId\": \"4_CenteredPrice\", \"learnToolsVersion\": \"0.3.4\", \"failureMessage\": \"\", \"exceptionClass\": \"\", \"trace\": \"\"}}, \"*\")"
      ],
      "text/plain": [
       "<IPython.core.display.Javascript object>"
      ]
     },
     "metadata": {},
     "output_type": "display_data"
    },
    {
     "data": {
      "text/markdown": [
       "<span style=\"color:#33cc33\">Correct</span>"
      ],
      "text/plain": [
       "Correct"
      ]
     },
     "metadata": {},
     "output_type": "display_data"
    }
   ],
   "source": [
    "centered_price = reviews.price - reviews.price.mean()\n",
    "\n",
    "# Check your answer\n",
    "q4.check()"
   ]
  },
  {
   "cell_type": "code",
   "execution_count": 9,
   "id": "7e76416a",
   "metadata": {
    "execution": {
     "iopub.execute_input": "2022-01-25T08:11:30.792580Z",
     "iopub.status.busy": "2022-01-25T08:11:30.792002Z",
     "iopub.status.idle": "2022-01-25T08:11:30.794433Z",
     "shell.execute_reply": "2022-01-25T08:11:30.794945Z",
     "shell.execute_reply.started": "2022-01-25T08:10:41.089024Z"
    },
    "papermill": {
     "duration": 0.022711,
     "end_time": "2022-01-25T08:11:30.795092",
     "exception": false,
     "start_time": "2022-01-25T08:11:30.772381",
     "status": "completed"
    },
    "tags": []
   },
   "outputs": [],
   "source": [
    "#q4.hint()\n",
    "#q4.solution()"
   ]
  },
  {
   "cell_type": "markdown",
   "id": "a1e3a9f4",
   "metadata": {
    "papermill": {
     "duration": 0.016833,
     "end_time": "2022-01-25T08:11:30.829127",
     "exception": false,
     "start_time": "2022-01-25T08:11:30.812294",
     "status": "completed"
    },
    "tags": []
   },
   "source": [
    "## 5.\n",
    "I'm an economical wine buyer. Which wine is the \"best bargain\"? Create a variable `bargain_wine` with the title of the wine with the highest points-to-price ratio in the dataset."
   ]
  },
  {
   "cell_type": "code",
   "execution_count": 10,
   "id": "4bbf88ec",
   "metadata": {
    "execution": {
     "iopub.execute_input": "2022-01-25T08:11:30.866115Z",
     "iopub.status.busy": "2022-01-25T08:11:30.865587Z",
     "iopub.status.idle": "2022-01-25T08:11:30.875773Z",
     "shell.execute_reply": "2022-01-25T08:11:30.876351Z",
     "shell.execute_reply.started": "2022-01-25T08:10:41.100442Z"
    },
    "papermill": {
     "duration": 0.030183,
     "end_time": "2022-01-25T08:11:30.876506",
     "exception": false,
     "start_time": "2022-01-25T08:11:30.846323",
     "status": "completed"
    },
    "tags": []
   },
   "outputs": [
    {
     "data": {
      "application/javascript": [
       "parent.postMessage({\"jupyterEvent\": \"custom.exercise_interaction\", \"data\": {\"outcomeType\": 1, \"valueTowardsCompletion\": 0.14285714285714285, \"interactionType\": 1, \"questionType\": 2, \"questionId\": \"5_BargainWine\", \"learnToolsVersion\": \"0.3.4\", \"failureMessage\": \"\", \"exceptionClass\": \"\", \"trace\": \"\"}}, \"*\")"
      ],
      "text/plain": [
       "<IPython.core.display.Javascript object>"
      ]
     },
     "metadata": {},
     "output_type": "display_data"
    },
    {
     "data": {
      "text/markdown": [
       "<span style=\"color:#33cc33\">Correct</span>"
      ],
      "text/plain": [
       "Correct"
      ]
     },
     "metadata": {},
     "output_type": "display_data"
    }
   ],
   "source": [
    "bargain_wine = reviews.loc[(reviews.points / reviews.price).idxmax(), 'title']\n",
    "\n",
    "# Check your answer\n",
    "q5.check()"
   ]
  },
  {
   "cell_type": "code",
   "execution_count": 11,
   "id": "794b39b1",
   "metadata": {
    "execution": {
     "iopub.execute_input": "2022-01-25T08:11:30.915427Z",
     "iopub.status.busy": "2022-01-25T08:11:30.914887Z",
     "iopub.status.idle": "2022-01-25T08:11:30.917565Z",
     "shell.execute_reply": "2022-01-25T08:11:30.918046Z",
     "shell.execute_reply.started": "2022-01-25T08:10:41.123956Z"
    },
    "papermill": {
     "duration": 0.023738,
     "end_time": "2022-01-25T08:11:30.918226",
     "exception": false,
     "start_time": "2022-01-25T08:11:30.894488",
     "status": "completed"
    },
    "tags": []
   },
   "outputs": [],
   "source": [
    "#q5.hint()\n",
    "#q5.solution()"
   ]
  },
  {
   "cell_type": "markdown",
   "id": "4eb34108",
   "metadata": {
    "papermill": {
     "duration": 0.017757,
     "end_time": "2022-01-25T08:11:30.954031",
     "exception": false,
     "start_time": "2022-01-25T08:11:30.936274",
     "status": "completed"
    },
    "tags": []
   },
   "source": [
    "## 6.\n",
    "There are only so many words you can use when describing a bottle of wine. Is a wine more likely to be \"tropical\" or \"fruity\"? Create a Series `descriptor_counts` counting how many times each of these two words appears in the `description` column in the dataset. (For simplicity, let's ignore the capitalized versions of these words.)"
   ]
  },
  {
   "cell_type": "code",
   "execution_count": 12,
   "id": "2461a332",
   "metadata": {
    "execution": {
     "iopub.execute_input": "2022-01-25T08:11:30.992877Z",
     "iopub.status.busy": "2022-01-25T08:11:30.992267Z",
     "iopub.status.idle": "2022-01-25T08:11:31.119359Z",
     "shell.execute_reply": "2022-01-25T08:11:31.118878Z",
     "shell.execute_reply.started": "2022-01-25T08:10:41.129498Z"
    },
    "papermill": {
     "duration": 0.147564,
     "end_time": "2022-01-25T08:11:31.119490",
     "exception": false,
     "start_time": "2022-01-25T08:11:30.971926",
     "status": "completed"
    },
    "tags": []
   },
   "outputs": [
    {
     "data": {
      "application/javascript": [
       "parent.postMessage({\"jupyterEvent\": \"custom.exercise_interaction\", \"data\": {\"outcomeType\": 1, \"valueTowardsCompletion\": 0.14285714285714285, \"interactionType\": 1, \"questionType\": 1, \"questionId\": \"6_DescriptorCounts\", \"learnToolsVersion\": \"0.3.4\", \"failureMessage\": \"\", \"exceptionClass\": \"\", \"trace\": \"\"}}, \"*\")"
      ],
      "text/plain": [
       "<IPython.core.display.Javascript object>"
      ]
     },
     "metadata": {},
     "output_type": "display_data"
    },
    {
     "data": {
      "text/markdown": [
       "<span style=\"color:#33cc33\">Correct</span>"
      ],
      "text/plain": [
       "Correct"
      ]
     },
     "metadata": {},
     "output_type": "display_data"
    }
   ],
   "source": [
    "n_trop = reviews.description.map(lambda desc: \"tropical\" in desc).sum()\n",
    "n_fruity = reviews.description.map(lambda desc: \"fruity\" in desc).sum()\n",
    "descriptor_counts = pd.Series([n_trop, n_fruity], index=['tropical', 'fruity'])\n",
    "\n",
    "# Check your answer\n",
    "q6.check()"
   ]
  },
  {
   "cell_type": "code",
   "execution_count": 13,
   "id": "bb05d655",
   "metadata": {
    "execution": {
     "iopub.execute_input": "2022-01-25T08:11:31.160288Z",
     "iopub.status.busy": "2022-01-25T08:11:31.159729Z",
     "iopub.status.idle": "2022-01-25T08:11:31.162091Z",
     "shell.execute_reply": "2022-01-25T08:11:31.162631Z",
     "shell.execute_reply.started": "2022-01-25T08:10:41.298111Z"
    },
    "papermill": {
     "duration": 0.024254,
     "end_time": "2022-01-25T08:11:31.162797",
     "exception": false,
     "start_time": "2022-01-25T08:11:31.138543",
     "status": "completed"
    },
    "tags": []
   },
   "outputs": [],
   "source": [
    "#q6.hint()\n",
    "#q6.solution()"
   ]
  },
  {
   "cell_type": "markdown",
   "id": "82e0f61a",
   "metadata": {
    "papermill": {
     "duration": 0.018593,
     "end_time": "2022-01-25T08:11:31.200266",
     "exception": false,
     "start_time": "2022-01-25T08:11:31.181673",
     "status": "completed"
    },
    "tags": []
   },
   "source": [
    "## 7.\n",
    "We'd like to host these wine reviews on our website, but a rating system ranging from 80 to 100 points is too hard to understand - we'd like to translate them into simple star ratings. A score of 95 or higher counts as 3 stars, a score of at least 85 but less than 95 is 2 stars. Any other score is 1 star.\n",
    "\n",
    "Also, the Canadian Vintners Association bought a lot of ads on the site, so any wines from Canada should automatically get 3 stars, regardless of points.\n",
    "\n",
    "Create a series `star_ratings` with the number of stars corresponding to each review in the dataset."
   ]
  },
  {
   "cell_type": "code",
   "execution_count": 14,
   "id": "c0404358",
   "metadata": {
    "execution": {
     "iopub.execute_input": "2022-01-25T08:11:31.240746Z",
     "iopub.status.busy": "2022-01-25T08:11:31.240198Z",
     "iopub.status.idle": "2022-01-25T08:11:34.490652Z",
     "shell.execute_reply": "2022-01-25T08:11:34.489910Z",
     "shell.execute_reply.started": "2022-01-25T08:10:41.303582Z"
    },
    "papermill": {
     "duration": 3.271545,
     "end_time": "2022-01-25T08:11:34.490835",
     "exception": false,
     "start_time": "2022-01-25T08:11:31.219290",
     "status": "completed"
    },
    "tags": []
   },
   "outputs": [
    {
     "data": {
      "application/javascript": [
       "parent.postMessage({\"jupyterEvent\": \"custom.exercise_interaction\", \"data\": {\"outcomeType\": 1, \"valueTowardsCompletion\": 0.14285714285714285, \"interactionType\": 1, \"questionType\": 1, \"questionId\": \"7_StarRatings\", \"learnToolsVersion\": \"0.3.4\", \"failureMessage\": \"\", \"exceptionClass\": \"\", \"trace\": \"\"}}, \"*\")"
      ],
      "text/plain": [
       "<IPython.core.display.Javascript object>"
      ]
     },
     "metadata": {},
     "output_type": "display_data"
    },
    {
     "data": {
      "text/markdown": [
       "<span style=\"color:#33cc33\">Correct</span>"
      ],
      "text/plain": [
       "Correct"
      ]
     },
     "metadata": {},
     "output_type": "display_data"
    }
   ],
   "source": [
    "def stars(score):\n",
    "    if score.country == 'Canada':\n",
    "        return 3\n",
    "    elif score.points >= 95:\n",
    "        return 3\n",
    "    elif score.points >= 85:\n",
    "        return 2\n",
    "    else:\n",
    "        return 1\n",
    "\n",
    "star_ratings = reviews.apply(stars, axis='columns')\n",
    "\n",
    "# Check your answer\n",
    "q7.check()"
   ]
  },
  {
   "cell_type": "code",
   "execution_count": 15,
   "id": "3f17bf3b",
   "metadata": {
    "execution": {
     "iopub.execute_input": "2022-01-25T08:11:34.534160Z",
     "iopub.status.busy": "2022-01-25T08:11:34.533525Z",
     "iopub.status.idle": "2022-01-25T08:11:34.536180Z",
     "shell.execute_reply": "2022-01-25T08:11:34.536668Z",
     "shell.execute_reply.started": "2022-01-25T08:10:46.153210Z"
    },
    "papermill": {
     "duration": 0.02538,
     "end_time": "2022-01-25T08:11:34.536825",
     "exception": false,
     "start_time": "2022-01-25T08:11:34.511445",
     "status": "completed"
    },
    "tags": []
   },
   "outputs": [],
   "source": [
    "#q7.hint()\n",
    "#q7.solution()"
   ]
  },
  {
   "cell_type": "markdown",
   "id": "bccb1d6f",
   "metadata": {
    "papermill": {
     "duration": 0.019563,
     "end_time": "2022-01-25T08:11:34.577782",
     "exception": false,
     "start_time": "2022-01-25T08:11:34.558219",
     "status": "completed"
    },
    "tags": []
   },
   "source": [
    "# Keep going\n",
    "Continue to **[grouping and sorting](https://www.kaggle.com/residentmario/grouping-and-sorting)**."
   ]
  },
  {
   "cell_type": "markdown",
   "id": "1d92600b",
   "metadata": {
    "papermill": {
     "duration": 0.019555,
     "end_time": "2022-01-25T08:11:34.617334",
     "exception": false,
     "start_time": "2022-01-25T08:11:34.597779",
     "status": "completed"
    },
    "tags": []
   },
   "source": [
    "---\n",
    "\n",
    "\n",
    "\n",
    "\n",
    "*Have questions or comments? Visit the [course discussion forum](https://www.kaggle.com/learn/pandas/discussion) to chat with other learners.*"
   ]
  }
 ],
 "metadata": {
  "kernelspec": {
   "display_name": "Python 3",
   "language": "python",
   "name": "python3"
  },
  "language_info": {
   "codemirror_mode": {
    "name": "ipython",
    "version": 3
   },
   "file_extension": ".py",
   "mimetype": "text/x-python",
   "name": "python",
   "nbconvert_exporter": "python",
   "pygments_lexer": "ipython3",
   "version": "3.7.12"
  },
  "papermill": {
   "default_parameters": {},
   "duration": 19.257022,
   "end_time": "2022-01-25T08:11:35.246079",
   "environment_variables": {},
   "exception": null,
   "input_path": "__notebook__.ipynb",
   "output_path": "__notebook__.ipynb",
   "parameters": {},
   "start_time": "2022-01-25T08:11:15.989057",
   "version": "2.3.3"
  }
 },
 "nbformat": 4,
 "nbformat_minor": 5
}
