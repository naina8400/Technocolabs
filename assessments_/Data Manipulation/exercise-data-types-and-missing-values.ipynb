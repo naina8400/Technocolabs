{
 "cells": [
  {
   "cell_type": "markdown",
   "id": "59e2c31c",
   "metadata": {
    "papermill": {
     "duration": 0.013672,
     "end_time": "2022-01-25T08:17:47.139046",
     "exception": false,
     "start_time": "2022-01-25T08:17:47.125374",
     "status": "completed"
    },
    "tags": []
   },
   "source": [
    "**This notebook is an exercise in the [Pandas](https://www.kaggle.com/learn/pandas) course.  You can reference the tutorial at [this link](https://www.kaggle.com/residentmario/data-types-and-missing-values).**\n",
    "\n",
    "---\n"
   ]
  },
  {
   "cell_type": "markdown",
   "id": "330c727d",
   "metadata": {
    "papermill": {
     "duration": 0.012279,
     "end_time": "2022-01-25T08:17:47.164482",
     "exception": false,
     "start_time": "2022-01-25T08:17:47.152203",
     "status": "completed"
    },
    "tags": []
   },
   "source": [
    "# Introduction\n",
    "\n",
    "Run the following cell to load your data and some utility functions."
   ]
  },
  {
   "cell_type": "code",
   "execution_count": 1,
   "id": "570b34ba",
   "metadata": {
    "execution": {
     "iopub.execute_input": "2022-01-25T08:17:47.194153Z",
     "iopub.status.busy": "2022-01-25T08:17:47.192905Z",
     "iopub.status.idle": "2022-01-25T08:17:50.216891Z",
     "shell.execute_reply": "2022-01-25T08:17:50.215805Z",
     "shell.execute_reply.started": "2022-01-25T08:17:11.651550Z"
    },
    "papermill": {
     "duration": 3.040052,
     "end_time": "2022-01-25T08:17:50.217121",
     "exception": false,
     "start_time": "2022-01-25T08:17:47.177069",
     "status": "completed"
    },
    "tags": []
   },
   "outputs": [
    {
     "name": "stdout",
     "output_type": "stream",
     "text": [
      "Setup complete.\n"
     ]
    }
   ],
   "source": [
    "import pandas as pd\n",
    "\n",
    "reviews = pd.read_csv(\"../input/wine-reviews/winemag-data-130k-v2.csv\", index_col=0)\n",
    "\n",
    "from learntools.core import binder; binder.bind(globals())\n",
    "from learntools.pandas.data_types_and_missing_data import *\n",
    "print(\"Setup complete.\")"
   ]
  },
  {
   "cell_type": "markdown",
   "id": "ec1d52dc",
   "metadata": {
    "papermill": {
     "duration": 0.012946,
     "end_time": "2022-01-25T08:17:50.244466",
     "exception": false,
     "start_time": "2022-01-25T08:17:50.231520",
     "status": "completed"
    },
    "tags": []
   },
   "source": [
    "# Exercises"
   ]
  },
  {
   "cell_type": "markdown",
   "id": "89d2afe9",
   "metadata": {
    "papermill": {
     "duration": 0.012922,
     "end_time": "2022-01-25T08:17:50.270515",
     "exception": false,
     "start_time": "2022-01-25T08:17:50.257593",
     "status": "completed"
    },
    "tags": []
   },
   "source": [
    "## 1. \n",
    "What is the data type of the `points` column in the dataset?"
   ]
  },
  {
   "cell_type": "code",
   "execution_count": 2,
   "id": "b2ba61cd",
   "metadata": {
    "execution": {
     "iopub.execute_input": "2022-01-25T08:17:50.306146Z",
     "iopub.status.busy": "2022-01-25T08:17:50.305442Z",
     "iopub.status.idle": "2022-01-25T08:17:50.309344Z",
     "shell.execute_reply": "2022-01-25T08:17:50.309914Z",
     "shell.execute_reply.started": "2022-01-25T08:17:14.698383Z"
    },
    "papermill": {
     "duration": 0.026323,
     "end_time": "2022-01-25T08:17:50.310081",
     "exception": false,
     "start_time": "2022-01-25T08:17:50.283758",
     "status": "completed"
    },
    "tags": []
   },
   "outputs": [
    {
     "data": {
      "application/javascript": [
       "parent.postMessage({\"jupyterEvent\": \"custom.exercise_interaction\", \"data\": {\"outcomeType\": 1, \"valueTowardsCompletion\": 0.25, \"interactionType\": 1, \"questionType\": 1, \"questionId\": \"1_PointsDtype\", \"learnToolsVersion\": \"0.3.4\", \"failureMessage\": \"\", \"exceptionClass\": \"\", \"trace\": \"\"}}, \"*\")"
      ],
      "text/plain": [
       "<IPython.core.display.Javascript object>"
      ]
     },
     "metadata": {},
     "output_type": "display_data"
    },
    {
     "data": {
      "text/markdown": [
       "<span style=\"color:#33cc33\">Correct</span>"
      ],
      "text/plain": [
       "Correct"
      ]
     },
     "metadata": {},
     "output_type": "display_data"
    }
   ],
   "source": [
    "# Your code here\n",
    "dtype = reviews.points.dtype\n",
    "\n",
    "# Check your answer\n",
    "q1.check()"
   ]
  },
  {
   "cell_type": "code",
   "execution_count": 3,
   "id": "917d6853",
   "metadata": {
    "execution": {
     "iopub.execute_input": "2022-01-25T08:17:50.341428Z",
     "iopub.status.busy": "2022-01-25T08:17:50.340752Z",
     "iopub.status.idle": "2022-01-25T08:17:50.343536Z",
     "shell.execute_reply": "2022-01-25T08:17:50.344076Z",
     "shell.execute_reply.started": "2022-01-25T08:17:14.712571Z"
    },
    "papermill": {
     "duration": 0.019913,
     "end_time": "2022-01-25T08:17:50.344245",
     "exception": false,
     "start_time": "2022-01-25T08:17:50.324332",
     "status": "completed"
    },
    "tags": []
   },
   "outputs": [],
   "source": [
    "#q1.hint()\n",
    "#q1.solution()"
   ]
  },
  {
   "cell_type": "markdown",
   "id": "9a308069",
   "metadata": {
    "papermill": {
     "duration": 0.013592,
     "end_time": "2022-01-25T08:17:50.371840",
     "exception": false,
     "start_time": "2022-01-25T08:17:50.358248",
     "status": "completed"
    },
    "tags": []
   },
   "source": [
    "## 2. \n",
    "Create a Series from entries in the `points` column, but convert the entries to strings. Hint: strings are `str` in native Python."
   ]
  },
  {
   "cell_type": "code",
   "execution_count": 4,
   "id": "d20bbde9",
   "metadata": {
    "execution": {
     "iopub.execute_input": "2022-01-25T08:17:50.402776Z",
     "iopub.status.busy": "2022-01-25T08:17:50.402141Z",
     "iopub.status.idle": "2022-01-25T08:17:50.566266Z",
     "shell.execute_reply": "2022-01-25T08:17:50.566721Z",
     "shell.execute_reply.started": "2022-01-25T08:17:14.727436Z"
    },
    "papermill": {
     "duration": 0.181152,
     "end_time": "2022-01-25T08:17:50.566919",
     "exception": false,
     "start_time": "2022-01-25T08:17:50.385767",
     "status": "completed"
    },
    "tags": []
   },
   "outputs": [
    {
     "data": {
      "application/javascript": [
       "parent.postMessage({\"jupyterEvent\": \"custom.exercise_interaction\", \"data\": {\"outcomeType\": 1, \"valueTowardsCompletion\": 0.25, \"interactionType\": 1, \"questionType\": 1, \"questionId\": \"2_StrPoints\", \"learnToolsVersion\": \"0.3.4\", \"failureMessage\": \"\", \"exceptionClass\": \"\", \"trace\": \"\"}}, \"*\")"
      ],
      "text/plain": [
       "<IPython.core.display.Javascript object>"
      ]
     },
     "metadata": {},
     "output_type": "display_data"
    },
    {
     "data": {
      "text/markdown": [
       "<span style=\"color:#33cc33\">Correct</span>"
      ],
      "text/plain": [
       "Correct"
      ]
     },
     "metadata": {},
     "output_type": "display_data"
    }
   ],
   "source": [
    "point_strings = reviews.points.astype(str)\n",
    "\n",
    "# Check your answer\n",
    "q2.check()"
   ]
  },
  {
   "cell_type": "code",
   "execution_count": 5,
   "id": "e802d4f6",
   "metadata": {
    "execution": {
     "iopub.execute_input": "2022-01-25T08:17:50.601056Z",
     "iopub.status.busy": "2022-01-25T08:17:50.600348Z",
     "iopub.status.idle": "2022-01-25T08:17:50.604031Z",
     "shell.execute_reply": "2022-01-25T08:17:50.603434Z",
     "shell.execute_reply.started": "2022-01-25T08:17:14.914335Z"
    },
    "papermill": {
     "duration": 0.02172,
     "end_time": "2022-01-25T08:17:50.604188",
     "exception": false,
     "start_time": "2022-01-25T08:17:50.582468",
     "status": "completed"
    },
    "tags": []
   },
   "outputs": [],
   "source": [
    "#q2.hint()\n",
    "#q2.solution()"
   ]
  },
  {
   "cell_type": "markdown",
   "id": "bae1c9b0",
   "metadata": {
    "papermill": {
     "duration": 0.015264,
     "end_time": "2022-01-25T08:17:50.634512",
     "exception": false,
     "start_time": "2022-01-25T08:17:50.619248",
     "status": "completed"
    },
    "tags": []
   },
   "source": [
    "## 3.\n",
    "Sometimes the price column is null. How many reviews in the dataset are missing a price?"
   ]
  },
  {
   "cell_type": "code",
   "execution_count": 6,
   "id": "500d734a",
   "metadata": {
    "execution": {
     "iopub.execute_input": "2022-01-25T08:17:50.668272Z",
     "iopub.status.busy": "2022-01-25T08:17:50.667606Z",
     "iopub.status.idle": "2022-01-25T08:17:50.678205Z",
     "shell.execute_reply": "2022-01-25T08:17:50.677577Z",
     "shell.execute_reply.started": "2022-01-25T08:17:14.919518Z"
    },
    "papermill": {
     "duration": 0.028787,
     "end_time": "2022-01-25T08:17:50.678352",
     "exception": false,
     "start_time": "2022-01-25T08:17:50.649565",
     "status": "completed"
    },
    "tags": []
   },
   "outputs": [
    {
     "name": "stdout",
     "output_type": "stream",
     "text": [
      "8996\n"
     ]
    },
    {
     "data": {
      "application/javascript": [
       "parent.postMessage({\"jupyterEvent\": \"custom.exercise_interaction\", \"data\": {\"outcomeType\": 1, \"valueTowardsCompletion\": 0.25, \"interactionType\": 1, \"questionType\": 1, \"questionId\": \"3_CountMissingPrices\", \"learnToolsVersion\": \"0.3.4\", \"failureMessage\": \"\", \"exceptionClass\": \"\", \"trace\": \"\"}}, \"*\")"
      ],
      "text/plain": [
       "<IPython.core.display.Javascript object>"
      ]
     },
     "metadata": {},
     "output_type": "display_data"
    },
    {
     "data": {
      "text/markdown": [
       "<span style=\"color:#33cc33\">Correct</span>"
      ],
      "text/plain": [
       "Correct"
      ]
     },
     "metadata": {},
     "output_type": "display_data"
    }
   ],
   "source": [
    "n_missing_prices = reviews.price.isnull().sum()\n",
    "print(n_missing_prices)\n",
    "# Check your answer\n",
    "q3.check()"
   ]
  },
  {
   "cell_type": "code",
   "execution_count": 7,
   "id": "36ff3f6b",
   "metadata": {
    "execution": {
     "iopub.execute_input": "2022-01-25T08:17:50.716149Z",
     "iopub.status.busy": "2022-01-25T08:17:50.715103Z",
     "iopub.status.idle": "2022-01-25T08:17:50.718073Z",
     "shell.execute_reply": "2022-01-25T08:17:50.717418Z",
     "shell.execute_reply.started": "2022-01-25T08:17:14.936802Z"
    },
    "papermill": {
     "duration": 0.023408,
     "end_time": "2022-01-25T08:17:50.718222",
     "exception": false,
     "start_time": "2022-01-25T08:17:50.694814",
     "status": "completed"
    },
    "tags": []
   },
   "outputs": [],
   "source": [
    "#q3.hint()\n",
    "#q3.solution()"
   ]
  },
  {
   "cell_type": "markdown",
   "id": "9f99919f",
   "metadata": {
    "papermill": {
     "duration": 0.015704,
     "end_time": "2022-01-25T08:17:50.750312",
     "exception": false,
     "start_time": "2022-01-25T08:17:50.734608",
     "status": "completed"
    },
    "tags": []
   },
   "source": [
    "## 4.\n",
    "What are the most common wine-producing regions? Create a Series counting the number of times each value occurs in the `region_1` field. This field is often missing data, so replace missing values with `Unknown`. Sort in descending order.  Your output should look something like this:\n",
    "\n",
    "```\n",
    "Unknown                    21247\n",
    "Napa Valley                 4480\n",
    "                           ...  \n",
    "Bardolino Superiore            1\n",
    "Primitivo del Tarantino        1\n",
    "Name: region_1, Length: 1230, dtype: int64\n",
    "```"
   ]
  },
  {
   "cell_type": "code",
   "execution_count": 8,
   "id": "e7474d35",
   "metadata": {
    "execution": {
     "iopub.execute_input": "2022-01-25T08:17:50.801890Z",
     "iopub.status.busy": "2022-01-25T08:17:50.800876Z",
     "iopub.status.idle": "2022-01-25T08:17:50.865880Z",
     "shell.execute_reply": "2022-01-25T08:17:50.866367Z",
     "shell.execute_reply.started": "2022-01-25T08:17:14.943378Z"
    },
    "papermill": {
     "duration": 0.100028,
     "end_time": "2022-01-25T08:17:50.866552",
     "exception": false,
     "start_time": "2022-01-25T08:17:50.766524",
     "status": "completed"
    },
    "tags": []
   },
   "outputs": [
    {
     "name": "stdout",
     "output_type": "stream",
     "text": [
      "Unknown                 21247\n",
      "Napa Valley              4480\n",
      "Columbia Valley (WA)     4124\n",
      "Russian River Valley     3091\n",
      "California               2629\n",
      "                        ...  \n",
      "Offida Rosso                1\n",
      "Corton Perrières            1\n",
      "Isle St. George             1\n",
      "Geelong                     1\n",
      "Paestum                     1\n",
      "Name: region_1, Length: 1230, dtype: int64\n"
     ]
    },
    {
     "data": {
      "application/javascript": [
       "parent.postMessage({\"jupyterEvent\": \"custom.exercise_interaction\", \"data\": {\"outcomeType\": 1, \"valueTowardsCompletion\": 0.25, \"interactionType\": 1, \"questionType\": 2, \"questionId\": \"4_ReviewsPerRegion\", \"learnToolsVersion\": \"0.3.4\", \"failureMessage\": \"\", \"exceptionClass\": \"\", \"trace\": \"\"}}, \"*\")"
      ],
      "text/plain": [
       "<IPython.core.display.Javascript object>"
      ]
     },
     "metadata": {},
     "output_type": "display_data"
    },
    {
     "data": {
      "text/markdown": [
       "<span style=\"color:#33cc33\">Correct</span>"
      ],
      "text/plain": [
       "Correct"
      ]
     },
     "metadata": {},
     "output_type": "display_data"
    }
   ],
   "source": [
    "reviews_per_region = reviews['region_1'].fillna('Unknown').value_counts().sort_values(ascending= False)\n",
    "print(reviews_per_region)\n",
    "# Check your answer\n",
    "q4.check()"
   ]
  },
  {
   "cell_type": "code",
   "execution_count": 9,
   "id": "840e6f0a",
   "metadata": {
    "execution": {
     "iopub.execute_input": "2022-01-25T08:17:50.906205Z",
     "iopub.status.busy": "2022-01-25T08:17:50.905199Z",
     "iopub.status.idle": "2022-01-25T08:17:50.908104Z",
     "shell.execute_reply": "2022-01-25T08:17:50.907463Z",
     "shell.execute_reply.started": "2022-01-25T08:17:15.026066Z"
    },
    "papermill": {
     "duration": 0.024165,
     "end_time": "2022-01-25T08:17:50.908246",
     "exception": false,
     "start_time": "2022-01-25T08:17:50.884081",
     "status": "completed"
    },
    "tags": []
   },
   "outputs": [],
   "source": [
    "#q4.hint()\n",
    "#q4.solution()"
   ]
  },
  {
   "cell_type": "markdown",
   "id": "36d5a591",
   "metadata": {
    "papermill": {
     "duration": 0.017109,
     "end_time": "2022-01-25T08:17:50.943039",
     "exception": false,
     "start_time": "2022-01-25T08:17:50.925930",
     "status": "completed"
    },
    "tags": []
   },
   "source": [
    "# Keep going\n",
    "\n",
    "Move on to **[renaming and combining](https://www.kaggle.com/residentmario/renaming-and-combining)**."
   ]
  },
  {
   "cell_type": "markdown",
   "id": "9ee0d554",
   "metadata": {
    "papermill": {
     "duration": 0.01722,
     "end_time": "2022-01-25T08:17:50.977678",
     "exception": false,
     "start_time": "2022-01-25T08:17:50.960458",
     "status": "completed"
    },
    "tags": []
   },
   "source": [
    "---\n",
    "\n",
    "\n",
    "\n",
    "\n",
    "*Have questions or comments? Visit the [course discussion forum](https://www.kaggle.com/learn/pandas/discussion) to chat with other learners.*"
   ]
  }
 ],
 "metadata": {
  "kernelspec": {
   "display_name": "Python 3",
   "language": "python",
   "name": "python3"
  },
  "language_info": {
   "codemirror_mode": {
    "name": "ipython",
    "version": 3
   },
   "file_extension": ".py",
   "mimetype": "text/x-python",
   "name": "python",
   "nbconvert_exporter": "python",
   "pygments_lexer": "ipython3",
   "version": "3.7.12"
  },
  "papermill": {
   "default_parameters": {},
   "duration": 14.718938,
   "end_time": "2022-01-25T08:17:51.706607",
   "environment_variables": {},
   "exception": null,
   "input_path": "__notebook__.ipynb",
   "output_path": "__notebook__.ipynb",
   "parameters": {},
   "start_time": "2022-01-25T08:17:36.987669",
   "version": "2.3.3"
  }
 },
 "nbformat": 4,
 "nbformat_minor": 5
}
