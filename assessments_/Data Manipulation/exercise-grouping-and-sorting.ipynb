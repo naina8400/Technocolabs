{
 "cells": [
  {
   "cell_type": "markdown",
   "id": "a09df887",
   "metadata": {
    "papermill": {
     "duration": 0.020627,
     "end_time": "2022-01-25T08:15:00.470159",
     "exception": false,
     "start_time": "2022-01-25T08:15:00.449532",
     "status": "completed"
    },
    "tags": []
   },
   "source": [
    "**This notebook is an exercise in the [Pandas](https://www.kaggle.com/learn/pandas) course.  You can reference the tutorial at [this link](https://www.kaggle.com/residentmario/grouping-and-sorting).**\n",
    "\n",
    "---\n"
   ]
  },
  {
   "cell_type": "markdown",
   "id": "d7bd80c3",
   "metadata": {
    "papermill": {
     "duration": 0.017729,
     "end_time": "2022-01-25T08:15:00.506561",
     "exception": false,
     "start_time": "2022-01-25T08:15:00.488832",
     "status": "completed"
    },
    "tags": []
   },
   "source": [
    "# Introduction\n",
    "\n",
    "In these exercises we'll apply groupwise analysis to our dataset.\n",
    "\n",
    "Run the code cell below to load the data before running the exercises."
   ]
  },
  {
   "cell_type": "code",
   "execution_count": 1,
   "id": "79ff7cec",
   "metadata": {
    "execution": {
     "iopub.execute_input": "2022-01-25T08:15:00.556543Z",
     "iopub.status.busy": "2022-01-25T08:15:00.555556Z",
     "iopub.status.idle": "2022-01-25T08:15:03.735309Z",
     "shell.execute_reply": "2022-01-25T08:15:03.735921Z",
     "shell.execute_reply.started": "2022-01-25T08:14:23.801494Z"
    },
    "papermill": {
     "duration": 3.211126,
     "end_time": "2022-01-25T08:15:03.736242",
     "exception": false,
     "start_time": "2022-01-25T08:15:00.525116",
     "status": "completed"
    },
    "tags": []
   },
   "outputs": [
    {
     "name": "stdout",
     "output_type": "stream",
     "text": [
      "Setup complete.\n"
     ]
    }
   ],
   "source": [
    "import pandas as pd\n",
    "\n",
    "reviews = pd.read_csv(\"../input/wine-reviews/winemag-data-130k-v2.csv\", index_col=0)\n",
    "#pd.set_option(\"display.max_rows\", 5)\n",
    "\n",
    "from learntools.core import binder; binder.bind(globals())\n",
    "from learntools.pandas.grouping_and_sorting import *\n",
    "print(\"Setup complete.\")"
   ]
  },
  {
   "cell_type": "markdown",
   "id": "2536e65a",
   "metadata": {
    "papermill": {
     "duration": 0.018876,
     "end_time": "2022-01-25T08:15:03.774225",
     "exception": false,
     "start_time": "2022-01-25T08:15:03.755349",
     "status": "completed"
    },
    "tags": []
   },
   "source": [
    "# Exercises"
   ]
  },
  {
   "cell_type": "markdown",
   "id": "64c85512",
   "metadata": {
    "papermill": {
     "duration": 0.018169,
     "end_time": "2022-01-25T08:15:03.811166",
     "exception": false,
     "start_time": "2022-01-25T08:15:03.792997",
     "status": "completed"
    },
    "tags": []
   },
   "source": [
    "## 1.\n",
    "Who are the most common wine reviewers in the dataset? Create a `Series` whose index is the `taster_twitter_handle` category from the dataset, and whose values count how many reviews each person wrote."
   ]
  },
  {
   "cell_type": "code",
   "execution_count": 2,
   "id": "ca04822c",
   "metadata": {
    "execution": {
     "iopub.execute_input": "2022-01-25T08:15:03.853847Z",
     "iopub.status.busy": "2022-01-25T08:15:03.852690Z",
     "iopub.status.idle": "2022-01-25T08:15:03.895192Z",
     "shell.execute_reply": "2022-01-25T08:15:03.894425Z",
     "shell.execute_reply.started": "2022-01-25T08:14:26.585839Z"
    },
    "papermill": {
     "duration": 0.06492,
     "end_time": "2022-01-25T08:15:03.895350",
     "exception": false,
     "start_time": "2022-01-25T08:15:03.830430",
     "status": "completed"
    },
    "tags": []
   },
   "outputs": [
    {
     "data": {
      "application/javascript": [
       "parent.postMessage({\"jupyterEvent\": \"custom.exercise_interaction\", \"data\": {\"outcomeType\": 1, \"valueTowardsCompletion\": 0.16666666666666666, \"interactionType\": 1, \"questionType\": 1, \"questionId\": \"1_ReviewsWritten\", \"learnToolsVersion\": \"0.3.4\", \"failureMessage\": \"\", \"exceptionClass\": \"\", \"trace\": \"\"}}, \"*\")"
      ],
      "text/plain": [
       "<IPython.core.display.Javascript object>"
      ]
     },
     "metadata": {},
     "output_type": "display_data"
    },
    {
     "data": {
      "text/markdown": [
       "<span style=\"color:#33cc33\">Correct:</span> \n",
       "\n",
       "\n",
       "```python\n",
       "reviews_written = reviews.groupby('taster_twitter_handle').size()\n",
       "```\n",
       "or\n",
       "```python\n",
       "reviews_written = reviews.groupby('taster_twitter_handle').taster_twitter_handle.count()\n",
       "```\n"
      ],
      "text/plain": [
       "Correct: \n",
       "\n",
       "\n",
       "```python\n",
       "reviews_written = reviews.groupby('taster_twitter_handle').size()\n",
       "```\n",
       "or\n",
       "```python\n",
       "reviews_written = reviews.groupby('taster_twitter_handle').taster_twitter_handle.count()\n",
       "```"
      ]
     },
     "metadata": {},
     "output_type": "display_data"
    }
   ],
   "source": [
    "# Your code here\n",
    "reviews_written = reviews.groupby('taster_twitter_handle').taster_twitter_handle.count()\n",
    "\n",
    "# Check your answer\n",
    "q1.check()"
   ]
  },
  {
   "cell_type": "code",
   "execution_count": 3,
   "id": "b4f706da",
   "metadata": {
    "execution": {
     "iopub.execute_input": "2022-01-25T08:15:03.939468Z",
     "iopub.status.busy": "2022-01-25T08:15:03.938727Z",
     "iopub.status.idle": "2022-01-25T08:15:03.942506Z",
     "shell.execute_reply": "2022-01-25T08:15:03.943025Z",
     "shell.execute_reply.started": "2022-01-25T08:14:26.616772Z"
    },
    "papermill": {
     "duration": 0.027881,
     "end_time": "2022-01-25T08:15:03.943207",
     "exception": false,
     "start_time": "2022-01-25T08:15:03.915326",
     "status": "completed"
    },
    "tags": []
   },
   "outputs": [],
   "source": [
    "#q1.hint()\n",
    "#q1.solution()"
   ]
  },
  {
   "cell_type": "markdown",
   "id": "fba1ead5",
   "metadata": {
    "papermill": {
     "duration": 0.019253,
     "end_time": "2022-01-25T08:15:03.981959",
     "exception": false,
     "start_time": "2022-01-25T08:15:03.962706",
     "status": "completed"
    },
    "tags": []
   },
   "source": [
    "## 2.\n",
    "What is the best wine I can buy for a given amount of money? Create a `Series` whose index is wine prices and whose values is the maximum number of points a wine costing that much was given in a review. Sort the values by price, ascending (so that `4.0` dollars is at the top and `3300.0` dollars is at the bottom)."
   ]
  },
  {
   "cell_type": "code",
   "execution_count": 4,
   "id": "1755e596",
   "metadata": {
    "execution": {
     "iopub.execute_input": "2022-01-25T08:15:04.027486Z",
     "iopub.status.busy": "2022-01-25T08:15:04.026685Z",
     "iopub.status.idle": "2022-01-25T08:15:04.041371Z",
     "shell.execute_reply": "2022-01-25T08:15:04.042059Z",
     "shell.execute_reply.started": "2022-01-25T08:14:26.623365Z"
    },
    "papermill": {
     "duration": 0.040758,
     "end_time": "2022-01-25T08:15:04.042255",
     "exception": false,
     "start_time": "2022-01-25T08:15:04.001497",
     "status": "completed"
    },
    "tags": []
   },
   "outputs": [
    {
     "name": "stdout",
     "output_type": "stream",
     "text": [
      "price\n",
      "4.0       86\n",
      "5.0       87\n",
      "6.0       88\n",
      "7.0       91\n",
      "8.0       91\n",
      "          ..\n",
      "1900.0    98\n",
      "2000.0    97\n",
      "2013.0    91\n",
      "2500.0    96\n",
      "3300.0    88\n",
      "Name: points, Length: 390, dtype: int64\n"
     ]
    },
    {
     "data": {
      "application/javascript": [
       "parent.postMessage({\"jupyterEvent\": \"custom.exercise_interaction\", \"data\": {\"outcomeType\": 1, \"valueTowardsCompletion\": 0.16666666666666666, \"interactionType\": 1, \"questionType\": 1, \"questionId\": \"2_BestRatingPerPrice\", \"learnToolsVersion\": \"0.3.4\", \"failureMessage\": \"\", \"exceptionClass\": \"\", \"trace\": \"\"}}, \"*\")"
      ],
      "text/plain": [
       "<IPython.core.display.Javascript object>"
      ]
     },
     "metadata": {},
     "output_type": "display_data"
    },
    {
     "data": {
      "text/markdown": [
       "<span style=\"color:#33cc33\">Correct</span>"
      ],
      "text/plain": [
       "Correct"
      ]
     },
     "metadata": {},
     "output_type": "display_data"
    }
   ],
   "source": [
    "best_rating_per_price =reviews.groupby('price')['points'].max().sort_index(ascending = True)\n",
    "print(best_rating_per_price)\n",
    "# Check your answer\n",
    "q2.check()"
   ]
  },
  {
   "cell_type": "code",
   "execution_count": 5,
   "id": "85adda6e",
   "metadata": {
    "_kg_hide-output": true,
    "execution": {
     "iopub.execute_input": "2022-01-25T08:15:04.089679Z",
     "iopub.status.busy": "2022-01-25T08:15:04.088714Z",
     "iopub.status.idle": "2022-01-25T08:15:04.091925Z",
     "shell.execute_reply": "2022-01-25T08:15:04.092480Z",
     "shell.execute_reply.started": "2022-01-25T08:14:26.639732Z"
    },
    "papermill": {
     "duration": 0.029374,
     "end_time": "2022-01-25T08:15:04.092649",
     "exception": false,
     "start_time": "2022-01-25T08:15:04.063275",
     "status": "completed"
    },
    "tags": []
   },
   "outputs": [],
   "source": [
    "#q2.hint()\n",
    "#q2.solution()"
   ]
  },
  {
   "cell_type": "markdown",
   "id": "041b7b9f",
   "metadata": {
    "papermill": {
     "duration": 0.020294,
     "end_time": "2022-01-25T08:15:04.133525",
     "exception": false,
     "start_time": "2022-01-25T08:15:04.113231",
     "status": "completed"
    },
    "tags": []
   },
   "source": [
    "## 3.\n",
    "What are the minimum and maximum prices for each `variety` of wine? Create a `DataFrame` whose index is the `variety` category from the dataset and whose values are the `min` and `max` values thereof."
   ]
  },
  {
   "cell_type": "code",
   "execution_count": 6,
   "id": "791dcad9",
   "metadata": {
    "execution": {
     "iopub.execute_input": "2022-01-25T08:15:04.178850Z",
     "iopub.status.busy": "2022-01-25T08:15:04.177836Z",
     "iopub.status.idle": "2022-01-25T08:15:04.217296Z",
     "shell.execute_reply": "2022-01-25T08:15:04.217865Z",
     "shell.execute_reply.started": "2022-01-25T08:14:26.644287Z"
    },
    "papermill": {
     "duration": 0.063783,
     "end_time": "2022-01-25T08:15:04.218069",
     "exception": false,
     "start_time": "2022-01-25T08:15:04.154286",
     "status": "completed"
    },
    "tags": []
   },
   "outputs": [
    {
     "name": "stdout",
     "output_type": "stream",
     "text": [
      "              min    max\n",
      "variety                 \n",
      "Abouriou     15.0   75.0\n",
      "Agiorgitiko  10.0   66.0\n",
      "Aglianico     6.0  180.0\n",
      "Aidani       27.0   27.0\n",
      "Airen         8.0   10.0\n",
      "...           ...    ...\n",
      "Zinfandel     5.0  100.0\n",
      "Zlahtina     13.0   16.0\n",
      "Zweigelt      9.0   70.0\n",
      "Çalkarası    19.0   19.0\n",
      "Žilavka      15.0   15.0\n",
      "\n",
      "[707 rows x 2 columns]\n"
     ]
    },
    {
     "data": {
      "application/javascript": [
       "parent.postMessage({\"jupyterEvent\": \"custom.exercise_interaction\", \"data\": {\"outcomeType\": 1, \"valueTowardsCompletion\": 0.16666666666666666, \"interactionType\": 1, \"questionType\": 1, \"questionId\": \"3_PriceExtremes\", \"learnToolsVersion\": \"0.3.4\", \"failureMessage\": \"\", \"exceptionClass\": \"\", \"trace\": \"\"}}, \"*\")"
      ],
      "text/plain": [
       "<IPython.core.display.Javascript object>"
      ]
     },
     "metadata": {},
     "output_type": "display_data"
    },
    {
     "data": {
      "text/markdown": [
       "<span style=\"color:#33cc33\">Correct</span>"
      ],
      "text/plain": [
       "Correct"
      ]
     },
     "metadata": {},
     "output_type": "display_data"
    }
   ],
   "source": [
    "price_extremes = reviews.groupby('variety').price.agg([min, max])\n",
    "print(price_extremes)\n",
    "# Check your answer\n",
    "q3.check()"
   ]
  },
  {
   "cell_type": "code",
   "execution_count": 7,
   "id": "1321a702",
   "metadata": {
    "execution": {
     "iopub.execute_input": "2022-01-25T08:15:04.269321Z",
     "iopub.status.busy": "2022-01-25T08:15:04.268271Z",
     "iopub.status.idle": "2022-01-25T08:15:04.271328Z",
     "shell.execute_reply": "2022-01-25T08:15:04.270780Z",
     "shell.execute_reply.started": "2022-01-25T08:14:26.681415Z"
    },
    "papermill": {
     "duration": 0.030583,
     "end_time": "2022-01-25T08:15:04.271476",
     "exception": false,
     "start_time": "2022-01-25T08:15:04.240893",
     "status": "completed"
    },
    "tags": []
   },
   "outputs": [],
   "source": [
    "#q3.hint()\n",
    "#q3.solution()"
   ]
  },
  {
   "cell_type": "markdown",
   "id": "ef714bd4",
   "metadata": {
    "papermill": {
     "duration": 0.022299,
     "end_time": "2022-01-25T08:15:04.316872",
     "exception": false,
     "start_time": "2022-01-25T08:15:04.294573",
     "status": "completed"
    },
    "tags": []
   },
   "source": [
    "## 4.\n",
    "What are the most expensive wine varieties? Create a variable `sorted_varieties` containing a copy of the dataframe from the previous question where varieties are sorted in descending order based on minimum price, then on maximum price (to break ties)."
   ]
  },
  {
   "cell_type": "code",
   "execution_count": 8,
   "id": "3282681f",
   "metadata": {
    "execution": {
     "iopub.execute_input": "2022-01-25T08:15:04.368252Z",
     "iopub.status.busy": "2022-01-25T08:15:04.367513Z",
     "iopub.status.idle": "2022-01-25T08:15:04.381268Z",
     "shell.execute_reply": "2022-01-25T08:15:04.381756Z",
     "shell.execute_reply.started": "2022-01-25T08:14:26.685421Z"
    },
    "papermill": {
     "duration": 0.042816,
     "end_time": "2022-01-25T08:15:04.381984",
     "exception": false,
     "start_time": "2022-01-25T08:15:04.339168",
     "status": "completed"
    },
    "tags": []
   },
   "outputs": [
    {
     "name": "stdout",
     "output_type": "stream",
     "text": [
      "                                  min    max\n",
      "variety                                     \n",
      "Ramisco                         495.0  495.0\n",
      "Terrantez                       236.0  236.0\n",
      "Francisa                        160.0  160.0\n",
      "Rosenmuskateller                150.0  150.0\n",
      "Tinta Negra Mole                112.0  112.0\n",
      "...                               ...    ...\n",
      "Roscetto                          NaN    NaN\n",
      "Sauvignon Blanc-Sauvignon Gris    NaN    NaN\n",
      "Tempranillo-Malbec                NaN    NaN\n",
      "Vital                             NaN    NaN\n",
      "Zelen                             NaN    NaN\n",
      "\n",
      "[707 rows x 2 columns]\n"
     ]
    },
    {
     "data": {
      "application/javascript": [
       "parent.postMessage({\"jupyterEvent\": \"custom.exercise_interaction\", \"data\": {\"outcomeType\": 1, \"valueTowardsCompletion\": 0.16666666666666666, \"interactionType\": 1, \"questionType\": 1, \"questionId\": \"4_SortedVarieties\", \"learnToolsVersion\": \"0.3.4\", \"failureMessage\": \"\", \"exceptionClass\": \"\", \"trace\": \"\"}}, \"*\")"
      ],
      "text/plain": [
       "<IPython.core.display.Javascript object>"
      ]
     },
     "metadata": {},
     "output_type": "display_data"
    },
    {
     "data": {
      "text/markdown": [
       "<span style=\"color:#33cc33\">Correct</span>"
      ],
      "text/plain": [
       "Correct"
      ]
     },
     "metadata": {},
     "output_type": "display_data"
    }
   ],
   "source": [
    "sorted_varieties = price_extremes.sort_values(by = ['min', 'max'], ascending = False)\n",
    "print(sorted_varieties)\n",
    "# Check your answer\n",
    "q4.check()"
   ]
  },
  {
   "cell_type": "code",
   "execution_count": 9,
   "id": "602735fe",
   "metadata": {
    "execution": {
     "iopub.execute_input": "2022-01-25T08:15:04.434171Z",
     "iopub.status.busy": "2022-01-25T08:15:04.433471Z",
     "iopub.status.idle": "2022-01-25T08:15:04.435888Z",
     "shell.execute_reply": "2022-01-25T08:15:04.435297Z",
     "shell.execute_reply.started": "2022-01-25T08:14:26.705660Z"
    },
    "papermill": {
     "duration": 0.030368,
     "end_time": "2022-01-25T08:15:04.436032",
     "exception": false,
     "start_time": "2022-01-25T08:15:04.405664",
     "status": "completed"
    },
    "tags": []
   },
   "outputs": [],
   "source": [
    "#q4.hint()\n",
    "#q4.solution()"
   ]
  },
  {
   "cell_type": "markdown",
   "id": "9491695a",
   "metadata": {
    "papermill": {
     "duration": 0.023178,
     "end_time": "2022-01-25T08:15:04.482668",
     "exception": false,
     "start_time": "2022-01-25T08:15:04.459490",
     "status": "completed"
    },
    "tags": []
   },
   "source": [
    "## 5.\n",
    "Create a `Series` whose index is reviewers and whose values is the average review score given out by that reviewer. Hint: you will need the `taster_name` and `points` columns."
   ]
  },
  {
   "cell_type": "code",
   "execution_count": 10,
   "id": "0f98e69b",
   "metadata": {
    "execution": {
     "iopub.execute_input": "2022-01-25T08:15:04.551010Z",
     "iopub.status.busy": "2022-01-25T08:15:04.550270Z",
     "iopub.status.idle": "2022-01-25T08:15:04.562396Z",
     "shell.execute_reply": "2022-01-25T08:15:04.561821Z",
     "shell.execute_reply.started": "2022-01-25T08:14:26.711201Z"
    },
    "papermill": {
     "duration": 0.056325,
     "end_time": "2022-01-25T08:15:04.562550",
     "exception": false,
     "start_time": "2022-01-25T08:15:04.506225",
     "status": "completed"
    },
    "tags": []
   },
   "outputs": [
    {
     "name": "stdout",
     "output_type": "stream",
     "text": [
      "taster_name\n",
      "Alexander Peartree    85.855422\n",
      "Anna Lee C. Iijima    88.415629\n",
      "Anne Krebiehl MW      90.562551\n",
      "Carrie Dykes          86.395683\n",
      "Christina Pickard     87.833333\n",
      "Fiona Adams           86.888889\n",
      "Jeff Jenssen          88.319756\n",
      "Jim Gordon            88.626287\n",
      "Joe Czerwinski        88.536235\n",
      "Kerin O’Keefe         88.867947\n",
      "Lauren Buzzeo         87.739510\n",
      "Matt Kettmann         90.008686\n",
      "Michael Schachner     86.907493\n",
      "Mike DeSimone         89.101167\n",
      "Paul Gregutt          89.082564\n",
      "Roger Voss            88.708003\n",
      "Sean P. Sullivan      88.755739\n",
      "Susan Kostrzewa       86.609217\n",
      "Virginie Boone        89.213379\n",
      "Name: points, dtype: float64\n"
     ]
    },
    {
     "data": {
      "application/javascript": [
       "parent.postMessage({\"jupyterEvent\": \"custom.exercise_interaction\", \"data\": {\"outcomeType\": 1, \"valueTowardsCompletion\": 0.16666666666666666, \"interactionType\": 1, \"questionType\": 1, \"questionId\": \"5_ReviewerMeanRatings\", \"learnToolsVersion\": \"0.3.4\", \"failureMessage\": \"\", \"exceptionClass\": \"\", \"trace\": \"\"}}, \"*\")"
      ],
      "text/plain": [
       "<IPython.core.display.Javascript object>"
      ]
     },
     "metadata": {},
     "output_type": "display_data"
    },
    {
     "data": {
      "text/markdown": [
       "<span style=\"color:#33cc33\">Correct</span>"
      ],
      "text/plain": [
       "Correct"
      ]
     },
     "metadata": {},
     "output_type": "display_data"
    }
   ],
   "source": [
    "reviewer_mean_ratings = reviews.groupby('taster_name').points.mean()\n",
    "print(reviewer_mean_ratings)\n",
    "# Check your answer\n",
    "q5.check()"
   ]
  },
  {
   "cell_type": "code",
   "execution_count": 11,
   "id": "884bc56f",
   "metadata": {
    "execution": {
     "iopub.execute_input": "2022-01-25T08:15:04.618175Z",
     "iopub.status.busy": "2022-01-25T08:15:04.617070Z",
     "iopub.status.idle": "2022-01-25T08:15:04.621016Z",
     "shell.execute_reply": "2022-01-25T08:15:04.620252Z",
     "shell.execute_reply.started": "2022-01-25T08:14:26.735911Z"
    },
    "papermill": {
     "duration": 0.032861,
     "end_time": "2022-01-25T08:15:04.621169",
     "exception": false,
     "start_time": "2022-01-25T08:15:04.588308",
     "status": "completed"
    },
    "tags": []
   },
   "outputs": [],
   "source": [
    "#q5.hint()\n",
    "#q5.solution()"
   ]
  },
  {
   "cell_type": "markdown",
   "id": "8afedf3b",
   "metadata": {
    "papermill": {
     "duration": 0.025425,
     "end_time": "2022-01-25T08:15:04.671911",
     "exception": false,
     "start_time": "2022-01-25T08:15:04.646486",
     "status": "completed"
    },
    "tags": []
   },
   "source": [
    "Are there significant differences in the average scores assigned by the various reviewers? Run the cell below to use the `describe()` method to see a summary of the range of values."
   ]
  },
  {
   "cell_type": "code",
   "execution_count": 12,
   "id": "22367eaa",
   "metadata": {
    "execution": {
     "iopub.execute_input": "2022-01-25T08:15:04.730590Z",
     "iopub.status.busy": "2022-01-25T08:15:04.729880Z",
     "iopub.status.idle": "2022-01-25T08:15:04.737972Z",
     "shell.execute_reply": "2022-01-25T08:15:04.737275Z",
     "shell.execute_reply.started": "2022-01-25T08:14:26.740293Z"
    },
    "papermill": {
     "duration": 0.04099,
     "end_time": "2022-01-25T08:15:04.738156",
     "exception": false,
     "start_time": "2022-01-25T08:15:04.697166",
     "status": "completed"
    },
    "tags": []
   },
   "outputs": [
    {
     "data": {
      "text/plain": [
       "count    19.000000\n",
       "mean     88.233026\n",
       "std       1.243610\n",
       "min      85.855422\n",
       "25%      87.323501\n",
       "50%      88.536235\n",
       "75%      88.975256\n",
       "max      90.562551\n",
       "Name: points, dtype: float64"
      ]
     },
     "execution_count": 12,
     "metadata": {},
     "output_type": "execute_result"
    }
   ],
   "source": [
    "reviewer_mean_ratings.describe()"
   ]
  },
  {
   "cell_type": "markdown",
   "id": "f33b42e2",
   "metadata": {
    "papermill": {
     "duration": 0.026997,
     "end_time": "2022-01-25T08:15:04.790415",
     "exception": false,
     "start_time": "2022-01-25T08:15:04.763418",
     "status": "completed"
    },
    "tags": []
   },
   "source": [
    "## 6.\n",
    "What combination of countries and varieties are most common? Create a `Series` whose index is a `MultiIndex`of `{country, variety}` pairs. For example, a pinot noir produced in the US should map to `{\"US\", \"Pinot Noir\"}`. Sort the values in the `Series` in descending order based on wine count."
   ]
  },
  {
   "cell_type": "code",
   "execution_count": 13,
   "id": "1a89914c",
   "metadata": {
    "execution": {
     "iopub.execute_input": "2022-01-25T08:15:04.883781Z",
     "iopub.status.busy": "2022-01-25T08:15:04.862449Z",
     "iopub.status.idle": "2022-01-25T08:15:04.900891Z",
     "shell.execute_reply": "2022-01-25T08:15:04.901466Z",
     "shell.execute_reply.started": "2022-01-25T08:14:26.753912Z"
    },
    "papermill": {
     "duration": 0.08601,
     "end_time": "2022-01-25T08:15:04.901674",
     "exception": false,
     "start_time": "2022-01-25T08:15:04.815664",
     "status": "completed"
    },
    "tags": []
   },
   "outputs": [
    {
     "name": "stdout",
     "output_type": "stream",
     "text": [
      "country  variety                 \n",
      "US       Pinot Noir                  9885\n",
      "         Cabernet Sauvignon          7315\n",
      "         Chardonnay                  6801\n",
      "France   Bordeaux-style Red Blend    4725\n",
      "Italy    Red Blend                   3624\n",
      "                                     ... \n",
      "Mexico   Cinsault                       1\n",
      "         Grenache                       1\n",
      "         Merlot                         1\n",
      "         Rosado                         1\n",
      "Uruguay  White Blend                    1\n",
      "Length: 1612, dtype: int64\n"
     ]
    },
    {
     "data": {
      "application/javascript": [
       "parent.postMessage({\"jupyterEvent\": \"custom.exercise_interaction\", \"data\": {\"outcomeType\": 1, \"valueTowardsCompletion\": 0.16666666666666666, \"interactionType\": 1, \"questionType\": 1, \"questionId\": \"6_GroupbyCountryVariety\", \"learnToolsVersion\": \"0.3.4\", \"failureMessage\": \"\", \"exceptionClass\": \"\", \"trace\": \"\"}}, \"*\")"
      ],
      "text/plain": [
       "<IPython.core.display.Javascript object>"
      ]
     },
     "metadata": {},
     "output_type": "display_data"
    },
    {
     "data": {
      "text/markdown": [
       "<span style=\"color:#33cc33\">Correct</span>"
      ],
      "text/plain": [
       "Correct"
      ]
     },
     "metadata": {},
     "output_type": "display_data"
    }
   ],
   "source": [
    "country_variety_counts = reviews.groupby(['country', 'variety']).size().sort_values(ascending = False)\n",
    "print(country_variety_counts)\n",
    "\n",
    "# Check your answer\n",
    "q6.check()"
   ]
  },
  {
   "cell_type": "code",
   "execution_count": 14,
   "id": "46bd7865",
   "metadata": {
    "execution": {
     "iopub.execute_input": "2022-01-25T08:15:04.962329Z",
     "iopub.status.busy": "2022-01-25T08:15:04.961348Z",
     "iopub.status.idle": "2022-01-25T08:15:04.964258Z",
     "shell.execute_reply": "2022-01-25T08:15:04.963585Z",
     "shell.execute_reply.started": "2022-01-25T08:14:26.788960Z"
    },
    "papermill": {
     "duration": 0.035881,
     "end_time": "2022-01-25T08:15:04.964405",
     "exception": false,
     "start_time": "2022-01-25T08:15:04.928524",
     "status": "completed"
    },
    "tags": []
   },
   "outputs": [],
   "source": [
    "#q6.hint()\n",
    "#q6.solution()"
   ]
  },
  {
   "cell_type": "markdown",
   "id": "71fe57ba",
   "metadata": {
    "papermill": {
     "duration": 0.027401,
     "end_time": "2022-01-25T08:15:05.019302",
     "exception": false,
     "start_time": "2022-01-25T08:15:04.991901",
     "status": "completed"
    },
    "tags": []
   },
   "source": [
    "# Keep going\n",
    "\n",
    "Move on to the [**data types and missing data**](https://www.kaggle.com/residentmario/data-types-and-missing-values)."
   ]
  },
  {
   "cell_type": "markdown",
   "id": "4a6decc8",
   "metadata": {
    "papermill": {
     "duration": 0.026238,
     "end_time": "2022-01-25T08:15:05.073557",
     "exception": false,
     "start_time": "2022-01-25T08:15:05.047319",
     "status": "completed"
    },
    "tags": []
   },
   "source": [
    "---\n",
    "\n",
    "\n",
    "\n",
    "\n",
    "*Have questions or comments? Visit the [course discussion forum](https://www.kaggle.com/learn/pandas/discussion) to chat with other learners.*"
   ]
  }
 ],
 "metadata": {
  "kernelspec": {
   "display_name": "Python 3",
   "language": "python",
   "name": "python3"
  },
  "language_info": {
   "codemirror_mode": {
    "name": "ipython",
    "version": 3
   },
   "file_extension": ".py",
   "mimetype": "text/x-python",
   "name": "python",
   "nbconvert_exporter": "python",
   "pygments_lexer": "ipython3",
   "version": "3.7.12"
  },
  "papermill": {
   "default_parameters": {},
   "duration": 16.299116,
   "end_time": "2022-01-25T08:15:05.810848",
   "environment_variables": {},
   "exception": null,
   "input_path": "__notebook__.ipynb",
   "output_path": "__notebook__.ipynb",
   "parameters": {},
   "start_time": "2022-01-25T08:14:49.511732",
   "version": "2.3.3"
  }
 },
 "nbformat": 4,
 "nbformat_minor": 5
}
