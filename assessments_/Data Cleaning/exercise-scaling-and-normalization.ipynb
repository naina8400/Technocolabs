{
 "cells": [
  {
   "cell_type": "code",
   "execution_count": 1,
   "id": "75bb7586",
   "metadata": {
    "execution": {
     "iopub.execute_input": "2022-01-25T08:26:36.597697Z",
     "iopub.status.busy": "2022-01-25T08:26:36.596556Z",
     "iopub.status.idle": "2022-01-25T08:26:40.471202Z",
     "shell.execute_reply": "2022-01-25T08:26:40.471920Z",
     "shell.execute_reply.started": "2022-01-25T08:25:44.398531Z"
    },
    "papermill": {
     "duration": 3.895663,
     "end_time": "2022-01-25T08:26:40.472254",
     "exception": false,
     "start_time": "2022-01-25T08:26:36.576591",
     "status": "completed"
    },
    "tags": []
   },
   "outputs": [
    {
     "name": "stdout",
     "output_type": "stream",
     "text": [
      "Setup Complete\n"
     ]
    }
   ],
   "source": [
    "from learntools.core import binder\n",
    "binder.bind(globals())\n",
    "from learntools.data_cleaning.ex2 import *\n",
    "print(\"Setup Complete\")"
   ]
  },
  {
   "cell_type": "markdown",
   "id": "99d9ff82",
   "metadata": {
    "papermill": {
     "duration": 0.014128,
     "end_time": "2022-01-25T08:26:40.501644",
     "exception": false,
     "start_time": "2022-01-25T08:26:40.487516",
     "status": "completed"
    },
    "tags": []
   },
   "source": [
    "# Get our environment set up\n",
    "\n",
    "To practice scaling and normalization, we're going to use a [dataset of Kickstarter campaigns](https://www.kaggle.com/kemical/kickstarter-projects). (Kickstarter is a website where people can ask people to invest in various projects and concept products.)\n",
    "\n",
    "The next code cell loads in the libraries and dataset we'll be using. "
   ]
  },
  {
   "cell_type": "code",
   "execution_count": 2,
   "id": "669d09b0",
   "metadata": {
    "execution": {
     "iopub.execute_input": "2022-01-25T08:26:40.536933Z",
     "iopub.status.busy": "2022-01-25T08:26:40.536246Z",
     "iopub.status.idle": "2022-01-25T08:26:42.148278Z",
     "shell.execute_reply": "2022-01-25T08:26:42.147675Z",
     "shell.execute_reply.started": "2022-01-25T08:25:44.405984Z"
    },
    "papermill": {
     "duration": 1.632307,
     "end_time": "2022-01-25T08:26:42.148436",
     "exception": false,
     "start_time": "2022-01-25T08:26:40.516129",
     "status": "completed"
    },
    "tags": []
   },
   "outputs": [],
   "source": [
    "# modules we'll use\n",
    "import pandas as pd\n",
    "import numpy as np\n",
    "\n",
    "# for Box-Cox Transformation\n",
    "from scipy import stats\n",
    "\n",
    "# for min_max scaling\n",
    "from mlxtend.preprocessing import minmax_scaling\n",
    "\n",
    "# plotting modules\n",
    "import seaborn as sns\n",
    "import matplotlib.pyplot as plt\n",
    "\n",
    "# read in all our data\n",
    "kickstarters_2017 = pd.read_csv(\"../input/kickstarter-projects/ks-projects-201801.csv\")\n",
    "\n",
    "# set seed for reproducibility\n",
    "np.random.seed(0)"
   ]
  },
  {
   "cell_type": "markdown",
   "id": "e267b4cf",
   "metadata": {
    "papermill": {
     "duration": 0.014474,
     "end_time": "2022-01-25T08:26:42.177279",
     "exception": false,
     "start_time": "2022-01-25T08:26:42.162805",
     "status": "completed"
    },
    "tags": []
   },
   "source": [
    "Let's start by scaling the goals of each campaign, which is how much money they were asking for.  After scaling, all values lie between 0 and 1."
   ]
  },
  {
   "cell_type": "code",
   "execution_count": 3,
   "id": "f435ffe2",
   "metadata": {
    "execution": {
     "iopub.execute_input": "2022-01-25T08:26:42.216349Z",
     "iopub.status.busy": "2022-01-25T08:26:42.215300Z",
     "iopub.status.idle": "2022-01-25T08:26:42.249146Z",
     "shell.execute_reply": "2022-01-25T08:26:42.249749Z",
     "shell.execute_reply.started": "2022-01-25T08:25:45.709692Z"
    },
    "papermill": {
     "duration": 0.057114,
     "end_time": "2022-01-25T08:26:42.249942",
     "exception": false,
     "start_time": "2022-01-25T08:26:42.192828",
     "status": "completed"
    },
    "tags": []
   },
   "outputs": [
    {
     "name": "stdout",
     "output_type": "stream",
     "text": [
      "Original data\n",
      "Preview:\n",
      "    usd_goal_real\n",
      "0        1533.95\n",
      "1       30000.00\n",
      "2       45000.00\n",
      "3        5000.00\n",
      "4       19500.00\n",
      "Minimum value: 0.01 \n",
      "Maximum value: 166361390.71\n",
      "______________________________\n",
      "\n",
      "Scaled data\n",
      "Preview:\n",
      "    usd_goal_real\n",
      "0       0.000009\n",
      "1       0.000180\n",
      "2       0.000270\n",
      "3       0.000030\n",
      "4       0.000117\n",
      "Minimum value: 0.0 \n",
      "Maximum value: 1.0\n"
     ]
    }
   ],
   "source": [
    "# select the usd_goal_real column\n",
    "original_data = pd.DataFrame(kickstarters_2017.usd_goal_real)\n",
    "\n",
    "# scale the goals from 0 to 1\n",
    "scaled_data = minmax_scaling(original_data, columns=['usd_goal_real'])\n",
    "\n",
    "print('Original data\\nPreview:\\n', original_data.head())\n",
    "print('Minimum value:', float(original_data.min()),\n",
    "      '\\nMaximum value:', float(original_data.max()))\n",
    "print('_'*30)\n",
    "\n",
    "print('\\nScaled data\\nPreview:\\n', scaled_data.head())\n",
    "print('Minimum value:', float(scaled_data.min()),\n",
    "      '\\nMaximum value:', float(scaled_data.max()))"
   ]
  },
  {
   "cell_type": "markdown",
   "id": "4ea65789",
   "metadata": {
    "papermill": {
     "duration": 0.015596,
     "end_time": "2022-01-25T08:26:42.281220",
     "exception": false,
     "start_time": "2022-01-25T08:26:42.265624",
     "status": "completed"
    },
    "tags": []
   },
   "source": [
    "# 1) scaling\n",
    "\n",
    "We just scaled the \"usd_goal_real\" column. What about the \"goal\" column?\n",
    "\n",
    "Begin by running the code cell below to create a DataFrame `original_goal_data` containing the \"goal\" column."
   ]
  },
  {
   "cell_type": "code",
   "execution_count": 4,
   "id": "10e9f112",
   "metadata": {
    "execution": {
     "iopub.execute_input": "2022-01-25T08:26:42.317165Z",
     "iopub.status.busy": "2022-01-25T08:26:42.316321Z",
     "iopub.status.idle": "2022-01-25T08:26:42.332576Z",
     "shell.execute_reply": "2022-01-25T08:26:42.333103Z",
     "shell.execute_reply.started": "2022-01-25T08:25:45.741876Z"
    },
    "papermill": {
     "duration": 0.037415,
     "end_time": "2022-01-25T08:26:42.333299",
     "exception": false,
     "start_time": "2022-01-25T08:26:42.295884",
     "status": "completed"
    },
    "tags": []
   },
   "outputs": [
    {
     "data": {
      "text/html": [
       "<div>\n",
       "<style scoped>\n",
       "    .dataframe tbody tr th:only-of-type {\n",
       "        vertical-align: middle;\n",
       "    }\n",
       "\n",
       "    .dataframe tbody tr th {\n",
       "        vertical-align: top;\n",
       "    }\n",
       "\n",
       "    .dataframe thead th {\n",
       "        text-align: right;\n",
       "    }\n",
       "</style>\n",
       "<table border=\"1\" class=\"dataframe\">\n",
       "  <thead>\n",
       "    <tr style=\"text-align: right;\">\n",
       "      <th></th>\n",
       "      <th>goal</th>\n",
       "    </tr>\n",
       "  </thead>\n",
       "  <tbody>\n",
       "    <tr>\n",
       "      <th>0</th>\n",
       "      <td>1000.0</td>\n",
       "    </tr>\n",
       "    <tr>\n",
       "      <th>1</th>\n",
       "      <td>30000.0</td>\n",
       "    </tr>\n",
       "    <tr>\n",
       "      <th>2</th>\n",
       "      <td>45000.0</td>\n",
       "    </tr>\n",
       "    <tr>\n",
       "      <th>3</th>\n",
       "      <td>5000.0</td>\n",
       "    </tr>\n",
       "    <tr>\n",
       "      <th>4</th>\n",
       "      <td>19500.0</td>\n",
       "    </tr>\n",
       "    <tr>\n",
       "      <th>...</th>\n",
       "      <td>...</td>\n",
       "    </tr>\n",
       "    <tr>\n",
       "      <th>378656</th>\n",
       "      <td>50000.0</td>\n",
       "    </tr>\n",
       "    <tr>\n",
       "      <th>378657</th>\n",
       "      <td>1500.0</td>\n",
       "    </tr>\n",
       "    <tr>\n",
       "      <th>378658</th>\n",
       "      <td>15000.0</td>\n",
       "    </tr>\n",
       "    <tr>\n",
       "      <th>378659</th>\n",
       "      <td>15000.0</td>\n",
       "    </tr>\n",
       "    <tr>\n",
       "      <th>378660</th>\n",
       "      <td>2000.0</td>\n",
       "    </tr>\n",
       "  </tbody>\n",
       "</table>\n",
       "<p>378661 rows × 1 columns</p>\n",
       "</div>"
      ],
      "text/plain": [
       "           goal\n",
       "0        1000.0\n",
       "1       30000.0\n",
       "2       45000.0\n",
       "3        5000.0\n",
       "4       19500.0\n",
       "...         ...\n",
       "378656  50000.0\n",
       "378657   1500.0\n",
       "378658  15000.0\n",
       "378659  15000.0\n",
       "378660   2000.0\n",
       "\n",
       "[378661 rows x 1 columns]"
      ]
     },
     "execution_count": 4,
     "metadata": {},
     "output_type": "execute_result"
    }
   ],
   "source": [
    "# select the usd_goal_real column\n",
    "original_goal_data = pd.DataFrame(kickstarters_2017.goal)\n",
    "original_goal_data"
   ]
  },
  {
   "cell_type": "markdown",
   "id": "218356b5",
   "metadata": {
    "papermill": {
     "duration": 0.014821,
     "end_time": "2022-01-25T08:26:42.364072",
     "exception": false,
     "start_time": "2022-01-25T08:26:42.349251",
     "status": "completed"
    },
    "tags": []
   },
   "source": [
    "Use `original_goal_data` to create a new DataFrame `scaled_goal_data` with values scaled between 0 and 1. You must use the `minmax_scaling()` function."
   ]
  },
  {
   "cell_type": "code",
   "execution_count": 5,
   "id": "27961c24",
   "metadata": {
    "execution": {
     "iopub.execute_input": "2022-01-25T08:26:42.400203Z",
     "iopub.status.busy": "2022-01-25T08:26:42.399156Z",
     "iopub.status.idle": "2022-01-25T08:26:42.424125Z",
     "shell.execute_reply": "2022-01-25T08:26:42.424738Z",
     "shell.execute_reply.started": "2022-01-25T08:25:45.754383Z"
    },
    "papermill": {
     "duration": 0.045818,
     "end_time": "2022-01-25T08:26:42.424905",
     "exception": false,
     "start_time": "2022-01-25T08:26:42.379087",
     "status": "completed"
    },
    "tags": []
   },
   "outputs": [
    {
     "data": {
      "application/javascript": [
       "parent.postMessage({\"jupyterEvent\": \"custom.exercise_interaction\", \"data\": {\"outcomeType\": 1, \"valueTowardsCompletion\": 0.3333333333333333, \"interactionType\": 1, \"questionType\": 1, \"questionId\": \"1_TryScaling\", \"learnToolsVersion\": \"0.3.4\", \"failureMessage\": \"\", \"exceptionClass\": \"\", \"trace\": \"\"}}, \"*\")"
      ],
      "text/plain": [
       "<IPython.core.display.Javascript object>"
      ]
     },
     "metadata": {},
     "output_type": "display_data"
    },
    {
     "data": {
      "text/markdown": [
       "<span style=\"color:#33cc33\">Correct</span>"
      ],
      "text/plain": [
       "Correct"
      ]
     },
     "metadata": {},
     "output_type": "display_data"
    }
   ],
   "source": [
    "# TODO: Your code here\n",
    "scaled_goal_data = minmax_scaling(original_goal_data, columns=['goal'])\n",
    "\n",
    "# Check your answer\n",
    "q1.check()"
   ]
  },
  {
   "cell_type": "code",
   "execution_count": 6,
   "id": "6c9e2268",
   "metadata": {
    "execution": {
     "iopub.execute_input": "2022-01-25T08:26:42.463311Z",
     "iopub.status.busy": "2022-01-25T08:26:42.462202Z",
     "iopub.status.idle": "2022-01-25T08:26:42.464921Z",
     "shell.execute_reply": "2022-01-25T08:26:42.464297Z",
     "shell.execute_reply.started": "2022-01-25T08:25:45.778687Z"
    },
    "papermill": {
     "duration": 0.023151,
     "end_time": "2022-01-25T08:26:42.465083",
     "exception": false,
     "start_time": "2022-01-25T08:26:42.441932",
     "status": "completed"
    },
    "tags": []
   },
   "outputs": [],
   "source": [
    "# Lines below will give you a hint or solution code\n",
    "#q1.hint()\n",
    "#q1.solution()"
   ]
  },
  {
   "cell_type": "markdown",
   "id": "27918d7a",
   "metadata": {
    "papermill": {
     "duration": 0.016762,
     "end_time": "2022-01-25T08:26:42.497847",
     "exception": false,
     "start_time": "2022-01-25T08:26:42.481085",
     "status": "completed"
    },
    "tags": []
   },
   "source": [
    "# 2) normalization\n",
    "\n",
    "Now you'll practice normalization. We begin by normalizing the amount of money pledged to each campaign."
   ]
  },
  {
   "cell_type": "code",
   "execution_count": 7,
   "id": "b50ebb37",
   "metadata": {
    "execution": {
     "iopub.execute_input": "2022-01-25T08:26:42.534187Z",
     "iopub.status.busy": "2022-01-25T08:26:42.533170Z",
     "iopub.status.idle": "2022-01-25T08:26:42.762735Z",
     "shell.execute_reply": "2022-01-25T08:26:42.763286Z",
     "shell.execute_reply.started": "2022-01-25T08:25:45.783525Z"
    },
    "papermill": {
     "duration": 0.249319,
     "end_time": "2022-01-25T08:26:42.763539",
     "exception": false,
     "start_time": "2022-01-25T08:26:42.514220",
     "status": "completed"
    },
    "tags": []
   },
   "outputs": [
    {
     "name": "stdout",
     "output_type": "stream",
     "text": [
      "Original data\n",
      "Preview:\n",
      " 1     2421.0\n",
      "2      220.0\n",
      "3        1.0\n",
      "4     1283.0\n",
      "5    52375.0\n",
      "Name: usd_pledged_real, dtype: float64\n",
      "Minimum value: 0.45 \n",
      "Maximum value: 20338986.27\n",
      "______________________________\n",
      "\n",
      "Normalized data\n",
      "Preview:\n",
      " 1    10.165142\n",
      "2     6.468598\n",
      "3     0.000000\n",
      "4     9.129277\n",
      "5    15.836853\n",
      "Name: usd_pledged_real, dtype: float64\n",
      "Minimum value: -0.7779954122762203 \n",
      "Maximum value: 30.69054020451361\n"
     ]
    }
   ],
   "source": [
    "# get the index of all positive pledges (Box-Cox only takes positive values)\n",
    "index_of_positive_pledges = kickstarters_2017.usd_pledged_real > 0\n",
    "\n",
    "# get only positive pledges (using their indexes)\n",
    "positive_pledges = kickstarters_2017.usd_pledged_real.loc[index_of_positive_pledges]\n",
    "\n",
    "# normalize the pledges (w/ Box-Cox)\n",
    "normalized_pledges = pd.Series(stats.boxcox(positive_pledges)[0], \n",
    "                               name='usd_pledged_real', index=positive_pledges.index)\n",
    "\n",
    "print('Original data\\nPreview:\\n', positive_pledges.head())\n",
    "print('Minimum value:', float(positive_pledges.min()),\n",
    "      '\\nMaximum value:', float(positive_pledges.max()))\n",
    "print('_'*30)\n",
    "\n",
    "print('\\nNormalized data\\nPreview:\\n', normalized_pledges.head())\n",
    "print('Minimum value:', float(normalized_pledges.min()),\n",
    "      '\\nMaximum value:', float(normalized_pledges.max()))"
   ]
  },
  {
   "cell_type": "markdown",
   "id": "8bd2fd47",
   "metadata": {
    "papermill": {
     "duration": 0.016047,
     "end_time": "2022-01-25T08:26:42.796255",
     "exception": false,
     "start_time": "2022-01-25T08:26:42.780208",
     "status": "completed"
    },
    "tags": []
   },
   "source": [
    "The values have changed significantly with normalization!\n",
    "\n",
    "In the next code cell, you'll take a look at the distribution of the normalized data, where it should now resemble a normal distribution."
   ]
  },
  {
   "cell_type": "code",
   "execution_count": 8,
   "id": "7ea7ff81",
   "metadata": {
    "execution": {
     "iopub.execute_input": "2022-01-25T08:26:42.834733Z",
     "iopub.status.busy": "2022-01-25T08:26:42.833560Z",
     "iopub.status.idle": "2022-01-25T08:26:45.046850Z",
     "shell.execute_reply": "2022-01-25T08:26:45.047424Z",
     "shell.execute_reply.started": "2022-01-25T08:25:46.013543Z"
    },
    "papermill": {
     "duration": 2.2351,
     "end_time": "2022-01-25T08:26:45.047608",
     "exception": false,
     "start_time": "2022-01-25T08:26:42.812508",
     "status": "completed"
    },
    "tags": []
   },
   "outputs": [
    {
     "data": {
      "image/png": "[encoded data removed]",
      "text/plain": [
       "<Figure size 432x288 with 1 Axes>"
      ]
     },
     "metadata": {
      "needs_background": "light"
     },
     "output_type": "display_data"
    }
   ],
   "source": [
    "# plot normalized data\n",
    "ax = sns.histplot(normalized_pledges, kde=True)\n",
    "ax.set_title(\"Normalized data\")\n",
    "plt.show()"
   ]
  },
  {
   "cell_type": "markdown",
   "id": "c13ab9e4",
   "metadata": {
    "papermill": {
     "duration": 0.019353,
     "end_time": "2022-01-25T08:26:45.085492",
     "exception": false,
     "start_time": "2022-01-25T08:26:45.066139",
     "status": "completed"
    },
    "tags": []
   },
   "source": [
    "We used the \"usd_pledged_real\" column. Follow the same process to normalize the \"pledged\" column. "
   ]
  },
  {
   "cell_type": "code",
   "execution_count": 9,
   "id": "c7869a47",
   "metadata": {
    "execution": {
     "iopub.execute_input": "2022-01-25T08:26:45.125407Z",
     "iopub.status.busy": "2022-01-25T08:26:45.124679Z",
     "iopub.status.idle": "2022-01-25T08:26:48.451295Z",
     "shell.execute_reply": "2022-01-25T08:26:48.450688Z",
     "shell.execute_reply.started": "2022-01-25T08:26:05.604706Z"
    },
    "papermill": {
     "duration": 3.347767,
     "end_time": "2022-01-25T08:26:48.451476",
     "exception": false,
     "start_time": "2022-01-25T08:26:45.103709",
     "status": "completed"
    },
    "tags": []
   },
   "outputs": [
    {
     "name": "stderr",
     "output_type": "stream",
     "text": [
      "/opt/conda/lib/python3.7/site-packages/seaborn/distributions.py:2619: FutureWarning: `distplot` is a deprecated function and will be removed in a future version. Please adapt your code to use either `displot` (a figure-level function with similar flexibility) or `histplot` (an axes-level function for histograms).\n",
      "  warnings.warn(msg, FutureWarning)\n",
      "/opt/conda/lib/python3.7/site-packages/seaborn/distributions.py:2619: FutureWarning: `distplot` is a deprecated function and will be removed in a future version. Please adapt your code to use either `displot` (a figure-level function with similar flexibility) or `histplot` (an axes-level function for histograms).\n",
      "  warnings.warn(msg, FutureWarning)\n"
     ]
    },
    {
     "data": {
      "text/plain": [
       "Text(0.5, 1.0, 'Normalized data')"
      ]
     },
     "execution_count": 9,
     "metadata": {},
     "output_type": "execute_result"
    },
    {
     "data": {
      "image/png": "[encoded data removed]",
      "text/plain": [
       "<Figure size 1080x216 with 2 Axes>"
      ]
     },
     "metadata": {
      "needs_background": "light"
     },
     "output_type": "display_data"
    }
   ],
   "source": [
    "# TODO: Your code here!\n",
    "normalized_pledges = pd.Series(stats.boxcox(positive_pledges)[0], \n",
    "                               name='pledged', index=positive_pledges.index)\n",
    "fig, ax=plt.subplots(1,2,figsize=(15,3))\n",
    "sns.distplot(positive_pledges, ax=ax[0])\n",
    "ax[0].set_title(\"Original Data\")\n",
    "sns.distplot(normalized_pledges, ax=ax[1])\n",
    "ax[1].set_title(\"Normalized data\")"
   ]
  },
  {
   "cell_type": "markdown",
   "id": "b3ea63e4",
   "metadata": {
    "papermill": {
     "duration": 0.020591,
     "end_time": "2022-01-25T08:26:48.492810",
     "exception": false,
     "start_time": "2022-01-25T08:26:48.472219",
     "status": "completed"
    },
    "tags": []
   },
   "source": [
    "How does the normalized \"usd_pledged_real\" column look different from when we normalized the \"pledged\" column?  Or, do they look mostly the same?\n",
    "\n",
    "Once you have an answer, run the code cell below."
   ]
  },
  {
   "cell_type": "code",
   "execution_count": 10,
   "id": "037f00c8",
   "metadata": {
    "execution": {
     "iopub.execute_input": "2022-01-25T08:26:48.536766Z",
     "iopub.status.busy": "2022-01-25T08:26:48.536070Z",
     "iopub.status.idle": "2022-01-25T08:26:48.542774Z",
     "shell.execute_reply": "2022-01-25T08:26:48.543416Z",
     "shell.execute_reply.started": "2022-01-25T08:25:51.040666Z"
    },
    "papermill": {
     "duration": 0.029721,
     "end_time": "2022-01-25T08:26:48.543621",
     "exception": false,
     "start_time": "2022-01-25T08:26:48.513900",
     "status": "completed"
    },
    "tags": []
   },
   "outputs": [
    {
     "data": {
      "application/javascript": [
       "parent.postMessage({\"jupyterEvent\": \"custom.exercise_interaction\", \"data\": {\"outcomeType\": 1, \"valueTowardsCompletion\": 0.3333333333333333, \"interactionType\": 1, \"questionType\": 4, \"questionId\": \"2_TryNormalization\", \"learnToolsVersion\": \"0.3.4\", \"failureMessage\": \"\", \"exceptionClass\": \"\", \"trace\": \"\"}}, \"*\")"
      ],
      "text/plain": [
       "<IPython.core.display.Javascript object>"
      ]
     },
     "metadata": {},
     "output_type": "display_data"
    },
    {
     "data": {
      "text/markdown": [
       "<span style=\"color:#33cc33\">Correct:</span> \n",
       "\n",
       "The distributions in the normalized data look mostly the same."
      ],
      "text/plain": [
       "Correct: \n",
       "\n",
       "The distributions in the normalized data look mostly the same."
      ]
     },
     "metadata": {},
     "output_type": "display_data"
    }
   ],
   "source": [
    "# Check your answer (Run this code cell to receive credit!)\n",
    "q2.check()"
   ]
  },
  {
   "cell_type": "code",
   "execution_count": 11,
   "id": "58df6441",
   "metadata": {
    "execution": {
     "iopub.execute_input": "2022-01-25T08:26:48.590497Z",
     "iopub.status.busy": "2022-01-25T08:26:48.589653Z",
     "iopub.status.idle": "2022-01-25T08:26:48.592732Z",
     "shell.execute_reply": "2022-01-25T08:26:48.592181Z",
     "shell.execute_reply.started": "2022-01-25T08:25:51.050584Z"
    },
    "papermill": {
     "duration": 0.027884,
     "end_time": "2022-01-25T08:26:48.592886",
     "exception": false,
     "start_time": "2022-01-25T08:26:48.565002",
     "status": "completed"
    },
    "tags": []
   },
   "outputs": [],
   "source": [
    "# Line below will give you a hint\n",
    "#q2.hint()"
   ]
  }
 ],
 "metadata": {
  "kernelspec": {
   "display_name": "Python 3",
   "language": "python",
   "name": "python3"
  },
  "language_info": {
   "codemirror_mode": {
    "name": "ipython",
    "version": 3
   },
   "file_extension": ".py",
   "mimetype": "text/x-python",
   "name": "python",
   "nbconvert_exporter": "python",
   "pygments_lexer": "ipython3",
   "version": "3.7.12"
  },
  "papermill": {
   "default_parameters": {},
   "duration": 23.685061,
   "end_time": "2022-01-25T08:26:49.427556",
   "environment_variables": {},
   "exception": null,
   "input_path": "__notebook__.ipynb",
   "output_path": "__notebook__.ipynb",
   "parameters": {},
   "start_time": "2022-01-25T08:26:25.742495",
   "version": "2.3.3"
  }
 },
 "nbformat": 4,
 "nbformat_minor": 5
}
