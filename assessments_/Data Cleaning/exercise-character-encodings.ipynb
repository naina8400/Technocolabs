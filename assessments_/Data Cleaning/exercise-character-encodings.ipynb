{
 "cells": [
  {
   "cell_type": "code",
   "execution_count": 1,
   "id": "7f630c87",
   "metadata": {
    "execution": {
     "iopub.execute_input": "2022-01-25T08:32:00.217068Z",
     "iopub.status.busy": "2022-01-25T08:32:00.215814Z",
     "iopub.status.idle": "2022-01-25T08:32:00.310471Z",
     "shell.execute_reply": "2022-01-25T08:32:00.310958Z",
     "shell.execute_reply.started": "2022-01-25T08:31:32.779822Z"
    },
    "papermill": {
     "duration": 0.108954,
     "end_time": "2022-01-25T08:32:00.311225",
     "exception": false,
     "start_time": "2022-01-25T08:32:00.202271",
     "status": "completed"
    },
    "tags": []
   },
   "outputs": [
    {
     "name": "stdout",
     "output_type": "stream",
     "text": [
      "Setup Complete\n"
     ]
    }
   ],
   "source": [
    "from learntools.core import binder\n",
    "binder.bind(globals())\n",
    "from learntools.data_cleaning.ex4 import *\n",
    "print(\"Setup Complete\")"
   ]
  },
  {
   "cell_type": "markdown",
   "id": "55f03f5a",
   "metadata": {
    "papermill": {
     "duration": 0.009682,
     "end_time": "2022-01-25T08:32:00.331136",
     "exception": false,
     "start_time": "2022-01-25T08:32:00.321454",
     "status": "completed"
    },
    "tags": []
   },
   "source": [
    "# Get our environment set up\n",
    "\n",
    "The first thing we'll need to do is load in the libraries we'll be using."
   ]
  },
  {
   "cell_type": "code",
   "execution_count": 2,
   "id": "55e7bfe9",
   "metadata": {
    "execution": {
     "iopub.execute_input": "2022-01-25T08:32:00.356276Z",
     "iopub.status.busy": "2022-01-25T08:32:00.355675Z",
     "iopub.status.idle": "2022-01-25T08:32:00.357346Z",
     "shell.execute_reply": "2022-01-25T08:32:00.357856Z",
     "shell.execute_reply.started": "2022-01-25T08:31:32.879201Z"
    },
    "papermill": {
     "duration": 0.016982,
     "end_time": "2022-01-25T08:32:00.358004",
     "exception": false,
     "start_time": "2022-01-25T08:32:00.341022",
     "status": "completed"
    },
    "tags": []
   },
   "outputs": [],
   "source": [
    "# modules we'll use\n",
    "import pandas as pd\n",
    "import numpy as np\n",
    "\n",
    "# helpful character encoding module\n",
    "import chardet\n",
    "\n",
    "# set seed for reproducibility\n",
    "np.random.seed(0)"
   ]
  },
  {
   "cell_type": "markdown",
   "id": "f6fedb99",
   "metadata": {
    "papermill": {
     "duration": 0.009403,
     "end_time": "2022-01-25T08:32:00.377211",
     "exception": false,
     "start_time": "2022-01-25T08:32:00.367808",
     "status": "completed"
    },
    "tags": []
   },
   "source": [
    "# 1) What are encodings?\n",
    "\n",
    "You're working with a dataset composed of bytes.  Run the code cell below to print a sample entry."
   ]
  },
  {
   "cell_type": "code",
   "execution_count": 3,
   "id": "26bf706f",
   "metadata": {
    "execution": {
     "iopub.execute_input": "2022-01-25T08:32:00.402371Z",
     "iopub.status.busy": "2022-01-25T08:32:00.401693Z",
     "iopub.status.idle": "2022-01-25T08:32:00.404733Z",
     "shell.execute_reply": "2022-01-25T08:32:00.404179Z",
     "shell.execute_reply.started": "2022-01-25T08:31:32.884593Z"
    },
    "papermill": {
     "duration": 0.017722,
     "end_time": "2022-01-25T08:32:00.404883",
     "exception": false,
     "start_time": "2022-01-25T08:32:00.387161",
     "status": "completed"
    },
    "tags": []
   },
   "outputs": [
    {
     "name": "stdout",
     "output_type": "stream",
     "text": [
      "b'\\xa7A\\xa6n'\n",
      "data type: <class 'bytes'>\n"
     ]
    }
   ],
   "source": [
    "sample_entry = b'\\xa7A\\xa6n'\n",
    "print(sample_entry)\n",
    "print('data type:', type(sample_entry))"
   ]
  },
  {
   "cell_type": "markdown",
   "id": "3b05f2ff",
   "metadata": {
    "papermill": {
     "duration": 0.010028,
     "end_time": "2022-01-25T08:32:00.425237",
     "exception": false,
     "start_time": "2022-01-25T08:32:00.415209",
     "status": "completed"
    },
    "tags": []
   },
   "source": [
    "You notice that it doesn't use the standard UTF-8 encoding. \n",
    "\n",
    "Use the next code cell to create a variable `new_entry` that changes the encoding from `\"big5-tw\"` to `\"utf-8\"`.  `new_entry` should have the bytes datatype."
   ]
  },
  {
   "cell_type": "code",
   "execution_count": 4,
   "id": "60397ee3",
   "metadata": {
    "execution": {
     "iopub.execute_input": "2022-01-25T08:32:00.451721Z",
     "iopub.status.busy": "2022-01-25T08:32:00.451078Z",
     "iopub.status.idle": "2022-01-25T08:32:00.458130Z",
     "shell.execute_reply": "2022-01-25T08:32:00.458688Z",
     "shell.execute_reply.started": "2022-01-25T08:31:32.901901Z"
    },
    "papermill": {
     "duration": 0.02323,
     "end_time": "2022-01-25T08:32:00.458892",
     "exception": false,
     "start_time": "2022-01-25T08:32:00.435662",
     "status": "completed"
    },
    "tags": []
   },
   "outputs": [
    {
     "data": {
      "application/javascript": [
       "parent.postMessage({\"jupyterEvent\": \"custom.exercise_interaction\", \"data\": {\"outcomeType\": 1, \"valueTowardsCompletion\": 0.3333333333333333, \"interactionType\": 1, \"questionType\": 1, \"questionId\": \"1_EncodingsIntro\", \"learnToolsVersion\": \"0.3.4\", \"failureMessage\": \"\", \"exceptionClass\": \"\", \"trace\": \"\"}}, \"*\")"
      ],
      "text/plain": [
       "<IPython.core.display.Javascript object>"
      ]
     },
     "metadata": {},
     "output_type": "display_data"
    },
    {
     "data": {
      "text/markdown": [
       "<span style=\"color:#33cc33\">Correct</span>"
      ],
      "text/plain": [
       "Correct"
      ]
     },
     "metadata": {},
     "output_type": "display_data"
    }
   ],
   "source": [
    "s= sample_entry.decode(\"big5-tw\")\n",
    "new_entry = s.encode(\"utf-8\",errors = \"replace\")\n",
    "new_entry\n",
    "# Check your answer\n",
    "q1.check()"
   ]
  },
  {
   "cell_type": "code",
   "execution_count": 5,
   "id": "1caea0ac",
   "metadata": {
    "execution": {
     "iopub.execute_input": "2022-01-25T08:32:00.484451Z",
     "iopub.status.busy": "2022-01-25T08:32:00.483889Z",
     "iopub.status.idle": "2022-01-25T08:32:00.486986Z",
     "shell.execute_reply": "2022-01-25T08:32:00.487421Z",
     "shell.execute_reply.started": "2022-01-25T08:31:32.917585Z"
    },
    "papermill": {
     "duration": 0.017252,
     "end_time": "2022-01-25T08:32:00.487594",
     "exception": false,
     "start_time": "2022-01-25T08:32:00.470342",
     "status": "completed"
    },
    "tags": []
   },
   "outputs": [],
   "source": [
    "# Lines below will give you a hint or solution code\n",
    "#q1.hint()\n",
    "#q1.solution()"
   ]
  },
  {
   "cell_type": "markdown",
   "id": "63baaecc",
   "metadata": {
    "papermill": {
     "duration": 0.010874,
     "end_time": "2022-01-25T08:32:00.509445",
     "exception": false,
     "start_time": "2022-01-25T08:32:00.498571",
     "status": "completed"
    },
    "tags": []
   },
   "source": [
    "# 2) Reading in files with encoding problems\n",
    "\n",
    "Use the code cell below to read in this file at path `\"../input/fatal-police-shootings-in-the-us/PoliceKillingsUS.csv\"`.  \n",
    "\n",
    "Figure out what the correct encoding should be and read in the file to a DataFrame `police_killings`."
   ]
  },
  {
   "cell_type": "code",
   "execution_count": 6,
   "id": "a7883e56",
   "metadata": {
    "execution": {
     "iopub.execute_input": "2022-01-25T08:32:00.537193Z",
     "iopub.status.busy": "2022-01-25T08:32:00.536555Z",
     "iopub.status.idle": "2022-01-25T08:32:00.558404Z",
     "shell.execute_reply": "2022-01-25T08:32:00.558835Z",
     "shell.execute_reply.started": "2022-01-25T08:31:32.926253Z"
    },
    "papermill": {
     "duration": 0.038255,
     "end_time": "2022-01-25T08:32:00.559005",
     "exception": false,
     "start_time": "2022-01-25T08:32:00.520750",
     "status": "completed"
    },
    "tags": []
   },
   "outputs": [
    {
     "data": {
      "application/javascript": [
       "parent.postMessage({\"jupyterEvent\": \"custom.exercise_interaction\", \"data\": {\"outcomeType\": 1, \"valueTowardsCompletion\": 0.3333333333333333, \"interactionType\": 1, \"questionType\": 1, \"questionId\": \"2_ReadIn\", \"learnToolsVersion\": \"0.3.4\", \"failureMessage\": \"\", \"exceptionClass\": \"\", \"trace\": \"\"}}, \"*\")"
      ],
      "text/plain": [
       "<IPython.core.display.Javascript object>"
      ]
     },
     "metadata": {},
     "output_type": "display_data"
    },
    {
     "data": {
      "text/markdown": [
       "<span style=\"color:#33cc33\">Correct</span>"
      ],
      "text/plain": [
       "Correct"
      ]
     },
     "metadata": {},
     "output_type": "display_data"
    }
   ],
   "source": [
    "police_killings = pd.read_csv(\"../input/fatal-police-shootings-in-the-us/PoliceKillingsUS.csv\", encoding='Windows-1252')\n",
    "\n",
    "# look at the first few lines\n",
    "police_killings.head()\n",
    "# Check your answer\n",
    "q2.check()"
   ]
  },
  {
   "cell_type": "markdown",
   "id": "c2b79202",
   "metadata": {
    "papermill": {
     "duration": 0.011745,
     "end_time": "2022-01-25T08:32:00.582659",
     "exception": false,
     "start_time": "2022-01-25T08:32:00.570914",
     "status": "completed"
    },
    "tags": []
   },
   "source": [
    "Feel free to use any additional code cells for supplemental work.  To get credit for finishing this question, you'll need to run `q2.check()` and get a result of **Correct**."
   ]
  },
  {
   "cell_type": "code",
   "execution_count": 7,
   "id": "825396eb",
   "metadata": {
    "execution": {
     "iopub.execute_input": "2022-01-25T08:32:00.610838Z",
     "iopub.status.busy": "2022-01-25T08:32:00.609434Z",
     "iopub.status.idle": "2022-01-25T08:32:00.613281Z",
     "shell.execute_reply": "2022-01-25T08:32:00.613956Z",
     "shell.execute_reply.started": "2022-01-25T08:31:32.960905Z"
    },
    "papermill": {
     "duration": 0.019237,
     "end_time": "2022-01-25T08:32:00.614132",
     "exception": false,
     "start_time": "2022-01-25T08:32:00.594895",
     "status": "completed"
    },
    "tags": []
   },
   "outputs": [],
   "source": [
    "# Lines below will give you a hint or solution code\n",
    "#q2.hint()\n",
    "#q2.solution()"
   ]
  },
  {
   "cell_type": "markdown",
   "id": "1af86898",
   "metadata": {
    "papermill": {
     "duration": 0.011603,
     "end_time": "2022-01-25T08:32:00.637526",
     "exception": false,
     "start_time": "2022-01-25T08:32:00.625923",
     "status": "completed"
    },
    "tags": []
   },
   "source": [
    "# 3) Saving your files with UTF-8 encoding\n",
    "\n",
    "Save a version of the police killings dataset to CSV with UTF-8 encoding.  Your answer will be marked correct after saving this file.  \n",
    "\n",
    "Note: When using the `to_csv()` method, supply only the name of the file (e.g., `\"my_file.csv\"`).  This saves the file at the filepath `\"/kaggle/working/my_file.csv\"`."
   ]
  },
  {
   "cell_type": "code",
   "execution_count": 8,
   "id": "9b0cee07",
   "metadata": {
    "execution": {
     "iopub.execute_input": "2022-01-25T08:32:00.666639Z",
     "iopub.status.busy": "2022-01-25T08:32:00.665916Z",
     "iopub.status.idle": "2022-01-25T08:32:00.696076Z",
     "shell.execute_reply": "2022-01-25T08:32:00.695515Z",
     "shell.execute_reply.started": "2022-01-25T08:31:32.966261Z"
    },
    "papermill": {
     "duration": 0.046736,
     "end_time": "2022-01-25T08:32:00.696214",
     "exception": false,
     "start_time": "2022-01-25T08:32:00.649478",
     "status": "completed"
    },
    "tags": []
   },
   "outputs": [
    {
     "data": {
      "application/javascript": [
       "parent.postMessage({\"jupyterEvent\": \"custom.exercise_interaction\", \"data\": {\"outcomeType\": 1, \"valueTowardsCompletion\": 0.3333333333333333, \"interactionType\": 1, \"questionType\": 2, \"questionId\": \"3_SaveCSV\", \"learnToolsVersion\": \"0.3.4\", \"failureMessage\": \"\", \"exceptionClass\": \"\", \"trace\": \"\"}}, \"*\")"
      ],
      "text/plain": [
       "<IPython.core.display.Javascript object>"
      ]
     },
     "metadata": {},
     "output_type": "display_data"
    },
    {
     "data": {
      "text/markdown": [
       "<span style=\"color:#33cc33\">Correct</span>"
      ],
      "text/plain": [
       "Correct"
      ]
     },
     "metadata": {},
     "output_type": "display_data"
    }
   ],
   "source": [
    "# TODO: Save the police killings dataset to CSV\n",
    "police_killings.to_csv(\"my_file-utf8.csv\")\n",
    "\n",
    "# Check your answer\n",
    "q3.check()"
   ]
  },
  {
   "cell_type": "code",
   "execution_count": 9,
   "id": "e7348611",
   "metadata": {
    "execution": {
     "iopub.execute_input": "2022-01-25T08:32:00.724742Z",
     "iopub.status.busy": "2022-01-25T08:32:00.724237Z",
     "iopub.status.idle": "2022-01-25T08:32:00.728477Z",
     "shell.execute_reply": "2022-01-25T08:32:00.729177Z",
     "shell.execute_reply.started": "2022-01-25T08:31:33.018012Z"
    },
    "papermill": {
     "duration": 0.020196,
     "end_time": "2022-01-25T08:32:00.729418",
     "exception": false,
     "start_time": "2022-01-25T08:32:00.709222",
     "status": "completed"
    },
    "tags": []
   },
   "outputs": [],
   "source": [
    "# Lines below will give you a hint or solution code\n",
    "#q3.hint()\n",
    "#q3.solution()"
   ]
  }
 ],
 "metadata": {
  "kernelspec": {
   "display_name": "Python 3",
   "language": "python",
   "name": "python3"
  },
  "language_info": {
   "codemirror_mode": {
    "name": "ipython",
    "version": 3
   },
   "file_extension": ".py",
   "mimetype": "text/x-python",
   "name": "python",
   "nbconvert_exporter": "python",
   "pygments_lexer": "ipython3",
   "version": "3.7.12"
  },
  "papermill": {
   "default_parameters": {},
   "duration": 9.493914,
   "end_time": "2022-01-25T08:32:01.352008",
   "environment_variables": {},
   "exception": null,
   "input_path": "__notebook__.ipynb",
   "output_path": "__notebook__.ipynb",
   "parameters": {},
   "start_time": "2022-01-25T08:31:51.858094",
   "version": "2.3.3"
  }
 },
 "nbformat": 4,
 "nbformat_minor": 5
}
