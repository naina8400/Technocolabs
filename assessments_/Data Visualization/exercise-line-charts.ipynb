{
 "cells": [
  {
   "cell_type": "markdown",
   "id": "29d522cd",
   "metadata": {
    "papermill": {
     "duration": 0.01654,
     "end_time": "2022-01-25T07:46:49.745037",
     "exception": false,
     "start_time": "2022-01-25T07:46:49.728497",
     "status": "completed"
    },
    "tags": []
   },
   "source": [
    "In this exercise, you will use your new knowledge to propose a solution to a real-world scenario. To succeed, you will need to import data into Python, answer questions using the data, and generate **line charts** to understand patterns in the data.\n",
    "\n",
    "## Scenario\n",
    "\n",
    "You have recently been hired to manage the museums in the City of Los Angeles. Your first project focuses on the four museums pictured in the images below.\n",
    "\n",
    "![ex1_museums](https://i.imgur.com/pFYL8J1.png)\n",
    "\n",
    "You will leverage data from the Los Angeles [Data Portal](https://data.lacity.org/) that tracks monthly visitors to each museum.  \n",
    "\n",
    "![ex1_xlsx](https://i.imgur.com/mGWYlym.png)\n",
    "\n",
    "## Setup\n",
    "\n",
    "Run the next cell to import and configure the Python libraries that you need to complete the exercise."
   ]
  },
  {
   "cell_type": "code",
   "execution_count": 1,
   "id": "d9883b25",
   "metadata": {
    "execution": {
     "iopub.execute_input": "2022-01-25T07:46:49.784382Z",
     "iopub.status.busy": "2022-01-25T07:46:49.783738Z",
     "iopub.status.idle": "2022-01-25T07:46:50.824761Z",
     "shell.execute_reply": "2022-01-25T07:46:50.823735Z",
     "shell.execute_reply.started": "2022-01-25T07:45:50.386593Z"
    },
    "papermill": {
     "duration": 1.064463,
     "end_time": "2022-01-25T07:46:50.825011",
     "exception": false,
     "start_time": "2022-01-25T07:46:49.760548",
     "status": "completed"
    },
    "tags": []
   },
   "outputs": [
    {
     "name": "stdout",
     "output_type": "stream",
     "text": [
      "Setup Complete\n"
     ]
    }
   ],
   "source": [
    "import pandas as pd\n",
    "pd.plotting.register_matplotlib_converters()\n",
    "import matplotlib.pyplot as plt\n",
    "%matplotlib inline\n",
    "import seaborn as sns\n",
    "print(\"Setup Complete\")"
   ]
  },
  {
   "cell_type": "markdown",
   "id": "0c5234cb",
   "metadata": {
    "papermill": {
     "duration": 0.015616,
     "end_time": "2022-01-25T07:46:50.857072",
     "exception": false,
     "start_time": "2022-01-25T07:46:50.841456",
     "status": "completed"
    },
    "tags": []
   },
   "source": [
    "The questions below will give you feedback on your work. Run the following cell to set up the feedback system."
   ]
  },
  {
   "cell_type": "code",
   "execution_count": 2,
   "id": "1a532cc2",
   "metadata": {
    "execution": {
     "iopub.execute_input": "2022-01-25T07:46:50.894379Z",
     "iopub.status.busy": "2022-01-25T07:46:50.893701Z",
     "iopub.status.idle": "2022-01-25T07:46:50.957285Z",
     "shell.execute_reply": "2022-01-25T07:46:50.958184Z",
     "shell.execute_reply.started": "2022-01-25T07:46:00.814543Z"
    },
    "papermill": {
     "duration": 0.08572,
     "end_time": "2022-01-25T07:46:50.958440",
     "exception": false,
     "start_time": "2022-01-25T07:46:50.872720",
     "status": "completed"
    },
    "tags": []
   },
   "outputs": [
    {
     "name": "stdout",
     "output_type": "stream",
     "text": [
      "Setup Complete\n"
     ]
    }
   ],
   "source": [
    "# Set up code checking\n",
    "import os\n",
    "if not os.path.exists(\"../input/museum_visitors.csv\"):\n",
    "    os.symlink(\"../input/data-for-datavis/museum_visitors.csv\", \"../input/museum_visitors.csv\") \n",
    "from learntools.core import binder\n",
    "binder.bind(globals())\n",
    "from learntools.data_viz_to_coder.ex2 import *\n",
    "print(\"Setup Complete\")"
   ]
  },
  {
   "cell_type": "markdown",
   "id": "f520785a",
   "metadata": {
    "papermill": {
     "duration": 0.016054,
     "end_time": "2022-01-25T07:46:50.991405",
     "exception": false,
     "start_time": "2022-01-25T07:46:50.975351",
     "status": "completed"
    },
    "tags": []
   },
   "source": [
    "## Step 1: Load the data\n",
    "\n",
    "Your first assignment is to read the LA Museum Visitors data file into `museum_data`.  Note that:\n",
    "- The filepath to the dataset is stored as `museum_filepath`.  Please **do not** change the provided value of the filepath.\n",
    "- The name of the column to use as row labels is `\"Date\"`.  (This can be seen in cell A1 when the file is opened in Excel.)\n",
    "\n",
    "To help with this, you may find it useful to revisit some relevant code from the tutorial, which we have pasted below:\n",
    "\n",
    "```python\n",
    "# Path of the file to read\n",
    "spotify_filepath = \"../input/spotify.csv\"\n",
    "\n",
    "# Read the file into a variable spotify_data\n",
    "spotify_data = pd.read_csv(spotify_filepath, index_col=\"Date\", parse_dates=True)\n",
    "```\n",
    "\n",
    "The code you need to write now looks very similar!"
   ]
  },
  {
   "cell_type": "code",
   "execution_count": 3,
   "id": "ee982421",
   "metadata": {
    "execution": {
     "iopub.execute_input": "2022-01-25T07:46:51.029040Z",
     "iopub.status.busy": "2022-01-25T07:46:51.028348Z",
     "iopub.status.idle": "2022-01-25T07:46:51.041151Z",
     "shell.execute_reply": "2022-01-25T07:46:51.041636Z",
     "shell.execute_reply.started": "2022-01-25T07:46:04.820815Z"
    },
    "papermill": {
     "duration": 0.034228,
     "end_time": "2022-01-25T07:46:51.041801",
     "exception": false,
     "start_time": "2022-01-25T07:46:51.007573",
     "status": "completed"
    },
    "tags": []
   },
   "outputs": [
    {
     "data": {
      "application/javascript": [
       "parent.postMessage({\"jupyterEvent\": \"custom.exercise_interaction\", \"data\": {\"outcomeType\": 1, \"valueTowardsCompletion\": 0.3333333333333333, \"interactionType\": 1, \"questionType\": 1, \"questionId\": \"1_LoadMuseumData\", \"learnToolsVersion\": \"0.3.4\", \"failureMessage\": \"\", \"exceptionClass\": \"\", \"trace\": \"\"}}, \"*\")"
      ],
      "text/plain": [
       "<IPython.core.display.Javascript object>"
      ]
     },
     "metadata": {},
     "output_type": "display_data"
    },
    {
     "data": {
      "text/markdown": [
       "<span style=\"color:#33cc33\">Correct</span>"
      ],
      "text/plain": [
       "Correct"
      ]
     },
     "metadata": {},
     "output_type": "display_data"
    }
   ],
   "source": [
    "# Path of the file to read\n",
    "museum_filepath = \"../input/museum_visitors.csv\"\n",
    "\n",
    "# Fill in the line below to read the file into a variable museum_data\n",
    "museum_data = pd.read_csv(museum_filepath, index_col=\"Date\", parse_dates=True)\n",
    "# Run the line below with no changes to check that you've loaded the data correctly\n",
    "step_1.check()"
   ]
  },
  {
   "cell_type": "code",
   "execution_count": 4,
   "id": "8d8a51b5",
   "metadata": {
    "execution": {
     "iopub.execute_input": "2022-01-25T07:46:51.080727Z",
     "iopub.status.busy": "2022-01-25T07:46:51.079108Z",
     "iopub.status.idle": "2022-01-25T07:46:51.083639Z",
     "shell.execute_reply": "2022-01-25T07:46:51.084199Z",
     "shell.execute_reply.started": "2022-01-22T17:07:29.649553Z"
    },
    "papermill": {
     "duration": 0.025079,
     "end_time": "2022-01-25T07:46:51.084365",
     "exception": false,
     "start_time": "2022-01-25T07:46:51.059286",
     "status": "completed"
    },
    "tags": []
   },
   "outputs": [],
   "source": [
    "# Uncomment the line below to receive a hint\n",
    "#step_1.hint()\n",
    "# Uncomment the line below to see the solution\n",
    "#step_1.solution()"
   ]
  },
  {
   "cell_type": "markdown",
   "id": "13223f0e",
   "metadata": {
    "papermill": {
     "duration": 0.016959,
     "end_time": "2022-01-25T07:46:51.118204",
     "exception": false,
     "start_time": "2022-01-25T07:46:51.101245",
     "status": "completed"
    },
    "tags": []
   },
   "source": [
    "## Step 2: Review the data\n",
    "\n",
    "Use a Python command to print the last 5 rows of the data."
   ]
  },
  {
   "cell_type": "code",
   "execution_count": 5,
   "id": "d88ad598",
   "metadata": {
    "execution": {
     "iopub.execute_input": "2022-01-25T07:46:51.155230Z",
     "iopub.status.busy": "2022-01-25T07:46:51.154619Z",
     "iopub.status.idle": "2022-01-25T07:46:51.167306Z",
     "shell.execute_reply": "2022-01-25T07:46:51.167899Z",
     "shell.execute_reply.started": "2022-01-25T07:46:08.373168Z"
    },
    "papermill": {
     "duration": 0.032903,
     "end_time": "2022-01-25T07:46:51.168063",
     "exception": false,
     "start_time": "2022-01-25T07:46:51.135160",
     "status": "completed"
    },
    "tags": []
   },
   "outputs": [
    {
     "data": {
      "text/html": [
       "<div>\n",
       "<style scoped>\n",
       "    .dataframe tbody tr th:only-of-type {\n",
       "        vertical-align: middle;\n",
       "    }\n",
       "\n",
       "    .dataframe tbody tr th {\n",
       "        vertical-align: top;\n",
       "    }\n",
       "\n",
       "    .dataframe thead th {\n",
       "        text-align: right;\n",
       "    }\n",
       "</style>\n",
       "<table border=\"1\" class=\"dataframe\">\n",
       "  <thead>\n",
       "    <tr style=\"text-align: right;\">\n",
       "      <th></th>\n",
       "      <th>Avila Adobe</th>\n",
       "      <th>Firehouse Museum</th>\n",
       "      <th>Chinese American Museum</th>\n",
       "      <th>America Tropical Interpretive Center</th>\n",
       "    </tr>\n",
       "    <tr>\n",
       "      <th>Date</th>\n",
       "      <th></th>\n",
       "      <th></th>\n",
       "      <th></th>\n",
       "      <th></th>\n",
       "    </tr>\n",
       "  </thead>\n",
       "  <tbody>\n",
       "    <tr>\n",
       "      <th>2018-07-01</th>\n",
       "      <td>23136</td>\n",
       "      <td>4191</td>\n",
       "      <td>2620</td>\n",
       "      <td>4718</td>\n",
       "    </tr>\n",
       "    <tr>\n",
       "      <th>2018-08-01</th>\n",
       "      <td>20815</td>\n",
       "      <td>4866</td>\n",
       "      <td>2409</td>\n",
       "      <td>3891</td>\n",
       "    </tr>\n",
       "    <tr>\n",
       "      <th>2018-09-01</th>\n",
       "      <td>21020</td>\n",
       "      <td>4956</td>\n",
       "      <td>2146</td>\n",
       "      <td>3180</td>\n",
       "    </tr>\n",
       "    <tr>\n",
       "      <th>2018-10-01</th>\n",
       "      <td>19280</td>\n",
       "      <td>4622</td>\n",
       "      <td>2364</td>\n",
       "      <td>3775</td>\n",
       "    </tr>\n",
       "    <tr>\n",
       "      <th>2018-11-01</th>\n",
       "      <td>17163</td>\n",
       "      <td>4082</td>\n",
       "      <td>2385</td>\n",
       "      <td>4562</td>\n",
       "    </tr>\n",
       "  </tbody>\n",
       "</table>\n",
       "</div>"
      ],
      "text/plain": [
       "            Avila Adobe  Firehouse Museum  Chinese American Museum  \\\n",
       "Date                                                                 \n",
       "2018-07-01        23136              4191                     2620   \n",
       "2018-08-01        20815              4866                     2409   \n",
       "2018-09-01        21020              4956                     2146   \n",
       "2018-10-01        19280              4622                     2364   \n",
       "2018-11-01        17163              4082                     2385   \n",
       "\n",
       "            America Tropical Interpretive Center  \n",
       "Date                                              \n",
       "2018-07-01                                  4718  \n",
       "2018-08-01                                  3891  \n",
       "2018-09-01                                  3180  \n",
       "2018-10-01                                  3775  \n",
       "2018-11-01                                  4562  "
      ]
     },
     "execution_count": 5,
     "metadata": {},
     "output_type": "execute_result"
    }
   ],
   "source": [
    "# Print the last five rows of the data \n",
    "museum_data.tail() # Your code here"
   ]
  },
  {
   "cell_type": "markdown",
   "id": "2e49cc64",
   "metadata": {
    "papermill": {
     "duration": 0.016941,
     "end_time": "2022-01-25T07:46:51.202652",
     "exception": false,
     "start_time": "2022-01-25T07:46:51.185711",
     "status": "completed"
    },
    "tags": []
   },
   "source": [
    "The last row (for `2018-11-01`) tracks the number of visitors to each museum in November 2018, the next-to-last row (for `2018-10-01`) tracks the number of visitors to each museum in October 2018, _and so on_.\n",
    "\n",
    "Use the last 5 rows of the data to answer the questions below."
   ]
  },
  {
   "cell_type": "code",
   "execution_count": 6,
   "id": "36095dac",
   "metadata": {
    "execution": {
     "iopub.execute_input": "2022-01-25T07:46:51.240256Z",
     "iopub.status.busy": "2022-01-25T07:46:51.239549Z",
     "iopub.status.idle": "2022-01-25T07:46:51.247128Z",
     "shell.execute_reply": "2022-01-25T07:46:51.247704Z",
     "shell.execute_reply.started": "2022-01-25T07:46:11.908794Z"
    },
    "papermill": {
     "duration": 0.027991,
     "end_time": "2022-01-25T07:46:51.247882",
     "exception": false,
     "start_time": "2022-01-25T07:46:51.219891",
     "status": "completed"
    },
    "tags": []
   },
   "outputs": [
    {
     "data": {
      "application/javascript": [
       "parent.postMessage({\"jupyterEvent\": \"custom.exercise_interaction\", \"data\": {\"outcomeType\": 1, \"valueTowardsCompletion\": 0.3333333333333333, \"interactionType\": 1, \"questionType\": 1, \"questionId\": \"2_ReviewData\", \"learnToolsVersion\": \"0.3.4\", \"failureMessage\": \"\", \"exceptionClass\": \"\", \"trace\": \"\"}}, \"*\")"
      ],
      "text/plain": [
       "<IPython.core.display.Javascript object>"
      ]
     },
     "metadata": {},
     "output_type": "display_data"
    },
    {
     "data": {
      "text/markdown": [
       "<span style=\"color:#33cc33\">Correct</span>"
      ],
      "text/plain": [
       "Correct"
      ]
     },
     "metadata": {},
     "output_type": "display_data"
    }
   ],
   "source": [
    "# Fill in the line below: How many visitors did the Chinese American Museum \n",
    "# receive in July 2018?\n",
    "ca_museum_jul18 =  2620\n",
    "\n",
    "# Fill in the line below: In October 2018, how many more visitors did Avila \n",
    "# Adobe receive than the Firehouse Museum?\n",
    "avila_oct18 = 14658\n",
    "\n",
    "# Check your answers\n",
    "step_2.check()"
   ]
  },
  {
   "cell_type": "code",
   "execution_count": 7,
   "id": "c5b90a5f",
   "metadata": {
    "execution": {
     "iopub.execute_input": "2022-01-25T07:46:51.287269Z",
     "iopub.status.busy": "2022-01-25T07:46:51.286629Z",
     "iopub.status.idle": "2022-01-25T07:46:51.289442Z",
     "shell.execute_reply": "2022-01-25T07:46:51.290027Z",
     "shell.execute_reply.started": "2022-01-22T17:07:29.691246Z"
    },
    "papermill": {
     "duration": 0.024071,
     "end_time": "2022-01-25T07:46:51.290184",
     "exception": false,
     "start_time": "2022-01-25T07:46:51.266113",
     "status": "completed"
    },
    "tags": []
   },
   "outputs": [],
   "source": [
    "# Lines below will give you a hint or solution code\n",
    "#step_2.hint()\n",
    "#step_2.solution()"
   ]
  },
  {
   "cell_type": "markdown",
   "id": "9b1ceb90",
   "metadata": {
    "papermill": {
     "duration": 0.017875,
     "end_time": "2022-01-25T07:46:51.326695",
     "exception": false,
     "start_time": "2022-01-25T07:46:51.308820",
     "status": "completed"
    },
    "tags": []
   },
   "source": [
    "## Step 3: Convince the museum board \n",
    "\n",
    "The Firehouse Museum claims they ran an event in 2014 that brought an incredible number of visitors, and that they should get extra budget to run a similar event again.  The other museums think these types of events aren't that important, and budgets should be split purely based on recent visitors on an average day.  \n",
    "\n",
    "To show the museum board how the event compared to regular traffic at each museum, create a line chart that shows how the number of visitors to each museum evolved over time.  Your figure should have four lines (one for each museum).\n",
    "\n",
    "> **(Optional) Note**: If you have some prior experience with plotting figures in Python, you might be familiar with the `plt.show()` command.  If you decide to use this command, please place it **after** the line of code that checks your answer (in this case, place it after `step_3.check()` below) -- otherwise, the checking code will return an error!"
   ]
  },
  {
   "cell_type": "code",
   "execution_count": 8,
   "id": "5fda91cf",
   "metadata": {
    "execution": {
     "iopub.execute_input": "2022-01-25T07:46:51.365990Z",
     "iopub.status.busy": "2022-01-25T07:46:51.365347Z",
     "iopub.status.idle": "2022-01-25T07:46:51.751387Z",
     "shell.execute_reply": "2022-01-25T07:46:51.751828Z",
     "shell.execute_reply.started": "2022-01-25T07:46:16.213312Z"
    },
    "papermill": {
     "duration": 0.407104,
     "end_time": "2022-01-25T07:46:51.752031",
     "exception": false,
     "start_time": "2022-01-25T07:46:51.344927",
     "status": "completed"
    },
    "tags": []
   },
   "outputs": [
    {
     "data": {
      "application/javascript": [
       "parent.postMessage({\"jupyterEvent\": \"custom.exercise_interaction\", \"data\": {\"outcomeType\": 1, \"valueTowardsCompletion\": 0.3333333333333333, \"interactionType\": 1, \"questionType\": 2, \"questionId\": \"3_PlotAll\", \"learnToolsVersion\": \"0.3.4\", \"failureMessage\": \"\", \"exceptionClass\": \"\", \"trace\": \"\"}}, \"*\")"
      ],
      "text/plain": [
       "<IPython.core.display.Javascript object>"
      ]
     },
     "metadata": {},
     "output_type": "display_data"
    },
    {
     "data": {
      "text/markdown": [
       "<span style=\"color:#33cc33\">Correct</span>"
      ],
      "text/plain": [
       "Correct"
      ]
     },
     "metadata": {},
     "output_type": "display_data"
    },
    {
     "data": {
      "image/png": "[encoded data removed]",
      "text/plain": [
       "<Figure size 432x288 with 1 Axes>"
      ]
     },
     "metadata": {
      "needs_background": "light"
     },
     "output_type": "display_data"
    }
   ],
   "source": [
    "# Line chart showing the number of visitors to each museum over time\n",
    "# Your code here\n",
    "plt.figure(figsize=(6,4))\n",
    "sns.lineplot(data = museum_data)\n",
    "\n",
    "# Check your answer\n",
    "step_3.check()\n",
    "plt.legend()\n",
    "plt.show()"
   ]
  },
  {
   "cell_type": "code",
   "execution_count": 9,
   "id": "5e7af009",
   "metadata": {
    "execution": {
     "iopub.execute_input": "2022-01-25T07:46:51.798106Z",
     "iopub.status.busy": "2022-01-25T07:46:51.797448Z",
     "iopub.status.idle": "2022-01-25T07:46:51.799600Z",
     "shell.execute_reply": "2022-01-25T07:46:51.800116Z",
     "shell.execute_reply.started": "2022-01-22T17:07:30.081957Z"
    },
    "papermill": {
     "duration": 0.027274,
     "end_time": "2022-01-25T07:46:51.800277",
     "exception": false,
     "start_time": "2022-01-25T07:46:51.773003",
     "status": "completed"
    },
    "tags": []
   },
   "outputs": [],
   "source": [
    "# Lines below will give you a hint or solution code\n",
    "#step_3.hint()\n",
    "#step_3.solution_plot()"
   ]
  },
  {
   "cell_type": "markdown",
   "id": "e57da17d",
   "metadata": {
    "papermill": {
     "duration": 0.021961,
     "end_time": "2022-01-25T07:46:51.842783",
     "exception": false,
     "start_time": "2022-01-25T07:46:51.820822",
     "status": "completed"
    },
    "tags": []
   },
   "source": [
    "## Step 4: Assess seasonality\n",
    "\n",
    "When meeting with the employees at Avila Adobe, you hear that one major pain point is that the number of museum visitors varies greatly with the seasons, with low seasons (when the employees are perfectly staffed and happy) and also high seasons (when the employees are understaffed and stressed).  You realize that if you can predict these high and low seasons, you can plan ahead to hire some additional seasonal employees to help out with the extra work.\n",
    "\n",
    "#### Part A\n",
    "Create a line chart that shows how the number of visitors to Avila Adobe has evolved over time.  (_If your code returns an error, the first thing that you should check is that you've spelled the name of the column correctly!  You must write the name of the column exactly as it appears in the dataset._)"
   ]
  },
  {
   "cell_type": "markdown",
   "id": "a683e4dd",
   "metadata": {
    "papermill": {
     "duration": 0.020262,
     "end_time": "2022-01-25T07:46:51.883714",
     "exception": false,
     "start_time": "2022-01-25T07:46:51.863452",
     "status": "completed"
    },
    "tags": []
   },
   "source": [
    "#### Part B\n",
    "\n",
    "Does Avila Adobe get more visitors:\n",
    "- in September-February (in LA, the fall and winter months), or \n",
    "- in March-August (in LA, the spring and summer)?  \n",
    "\n",
    "Using this information, when should the museum staff additional seasonal employees?"
   ]
  },
  {
   "cell_type": "code",
   "execution_count": 10,
   "id": "52cc203a",
   "metadata": {
    "execution": {
     "iopub.execute_input": "2022-01-25T07:46:51.929084Z",
     "iopub.status.busy": "2022-01-25T07:46:51.928457Z",
     "iopub.status.idle": "2022-01-25T07:46:52.193954Z",
     "shell.execute_reply": "2022-01-25T07:46:52.193360Z",
     "shell.execute_reply.started": "2022-01-25T07:46:22.809044Z"
    },
    "papermill": {
     "duration": 0.289398,
     "end_time": "2022-01-25T07:46:52.194097",
     "exception": false,
     "start_time": "2022-01-25T07:46:51.904699",
     "status": "completed"
    },
    "tags": []
   },
   "outputs": [
    {
     "name": "stdout",
     "output_type": "stream",
     "text": [
      "Thank you for creating a line chart!  To see how your code compares to the official solution, please use the code cell below.\n"
     ]
    },
    {
     "data": {
      "application/javascript": [
       "parent.postMessage({\"jupyterEvent\": \"custom.exercise_interaction\", \"data\": {\"outcomeType\": 1, \"valueTowardsCompletion\": 0.3333333333333333, \"interactionType\": 1, \"questionType\": 2, \"questionId\": \"4.1_PlotAvila\", \"learnToolsVersion\": \"0.3.4\", \"failureMessage\": \"\", \"exceptionClass\": \"\", \"trace\": \"\"}}, \"*\")"
      ],
      "text/plain": [
       "<IPython.core.display.Javascript object>"
      ]
     },
     "metadata": {},
     "output_type": "display_data"
    },
    {
     "data": {
      "text/markdown": [
       "<span style=\"color:#33cc33\">Correct</span>"
      ],
      "text/plain": [
       "Correct"
      ]
     },
     "metadata": {},
     "output_type": "display_data"
    },
    {
     "data": {
      "image/png": "[encoded data removed]",
      "text/plain": [
       "<Figure size 432x216 with 1 Axes>"
      ]
     },
     "metadata": {
      "needs_background": "light"
     },
     "output_type": "display_data"
    }
   ],
   "source": [
    "# Line plot showing the number of visitors to Avila Adobe over time\n",
    "____ # Your code here\n",
    "plt.figure(figsize=(6,3))\n",
    "sns.lineplot(data=museum_data['Avila Adobe'])\n",
    "# Check your answer\n",
    "step_4.a.check()"
   ]
  },
  {
   "cell_type": "code",
   "execution_count": 11,
   "id": "895e8bcf",
   "metadata": {
    "execution": {
     "iopub.execute_input": "2022-01-25T07:46:52.245468Z",
     "iopub.status.busy": "2022-01-25T07:46:52.244757Z",
     "iopub.status.idle": "2022-01-25T07:46:52.246589Z",
     "shell.execute_reply": "2022-01-25T07:46:52.247064Z",
     "shell.execute_reply.started": "2022-01-22T17:07:30.378364Z"
    },
    "papermill": {
     "duration": 0.029619,
     "end_time": "2022-01-25T07:46:52.247223",
     "exception": false,
     "start_time": "2022-01-25T07:46:52.217604",
     "status": "completed"
    },
    "tags": []
   },
   "outputs": [],
   "source": [
    "# Lines below will give you a hint or solution code\n",
    "#step_4.a.hint()\n",
    "#step_4.a.solution_plot()"
   ]
  },
  {
   "cell_type": "code",
   "execution_count": 12,
   "id": "c95c87e6",
   "metadata": {
    "execution": {
     "iopub.execute_input": "2022-01-25T07:46:52.297830Z",
     "iopub.status.busy": "2022-01-25T07:46:52.296504Z",
     "iopub.status.idle": "2022-01-25T07:46:52.300649Z",
     "shell.execute_reply": "2022-01-25T07:46:52.300164Z",
     "shell.execute_reply.started": "2022-01-22T17:07:30.38413Z"
    },
    "papermill": {
     "duration": 0.030435,
     "end_time": "2022-01-25T07:46:52.300787",
     "exception": false,
     "start_time": "2022-01-25T07:46:52.270352",
     "status": "completed"
    },
    "tags": []
   },
   "outputs": [],
   "source": [
    "#step_4.b.hint()"
   ]
  },
  {
   "cell_type": "code",
   "execution_count": 13,
   "id": "e01c5273",
   "metadata": {
    "execution": {
     "iopub.execute_input": "2022-01-25T07:46:52.353509Z",
     "iopub.status.busy": "2022-01-25T07:46:52.352871Z",
     "iopub.status.idle": "2022-01-25T07:46:52.358198Z",
     "shell.execute_reply": "2022-01-25T07:46:52.358675Z",
     "shell.execute_reply.started": "2022-01-25T07:46:27.224329Z"
    },
    "papermill": {
     "duration": 0.033848,
     "end_time": "2022-01-25T07:46:52.358876",
     "exception": false,
     "start_time": "2022-01-25T07:46:52.325028",
     "status": "completed"
    },
    "tags": []
   },
   "outputs": [
    {
     "data": {
      "application/javascript": [
       "parent.postMessage({\"jupyterEvent\": \"custom.exercise_interaction\", \"data\": {\"interactionType\": 3, \"questionType\": 4, \"questionId\": \"4.2_ThinkAvila\", \"learnToolsVersion\": \"0.3.4\", \"valueTowardsCompletion\": 0.0, \"failureMessage\": \"\", \"exceptionClass\": \"\", \"trace\": \"\", \"outcomeType\": 4}}, \"*\")"
      ],
      "text/plain": [
       "<IPython.core.display.Javascript object>"
      ]
     },
     "metadata": {},
     "output_type": "display_data"
    },
    {
     "data": {
      "text/markdown": [
       "<span style=\"color:#33cc99\">Solution:</span> The line chart generally dips to relatively low values around the early part of each year (in December and January), and reaches its highest values in the middle of the year (especially around May and June).  Thus, Avila Adobe usually gets more visitors in March-August (or the spring and summer months).  With this in mind, Avila Adobe could definitely benefit from hiring more seasonal employees to help with the extra work in March-August (the spring and summer)!"
      ],
      "text/plain": [
       "Solution: The line chart generally dips to relatively low values around the early part of each year (in December and January), and reaches its highest values in the middle of the year (especially around May and June).  Thus, Avila Adobe usually gets more visitors in March-August (or the spring and summer months).  With this in mind, Avila Adobe could definitely benefit from hiring more seasonal employees to help with the extra work in March-August (the spring and summer)!"
      ]
     },
     "metadata": {},
     "output_type": "display_data"
    }
   ],
   "source": [
    "# Check your answer (Run this code cell to receive credit!)\n",
    "step_4.b.solution()"
   ]
  }
 ],
 "metadata": {
  "kernelspec": {
   "display_name": "Python 3",
   "language": "python",
   "name": "python3"
  },
  "language_info": {
   "codemirror_mode": {
    "name": "ipython",
    "version": 3
   },
   "file_extension": ".py",
   "mimetype": "text/x-python",
   "name": "python",
   "nbconvert_exporter": "python",
   "pygments_lexer": "ipython3",
   "version": "3.7.12"
  },
  "papermill": {
   "default_parameters": {},
   "duration": 13.974415,
   "end_time": "2022-01-25T07:46:53.095721",
   "environment_variables": {},
   "exception": null,
   "input_path": "__notebook__.ipynb",
   "output_path": "__notebook__.ipynb",
   "parameters": {},
   "start_time": "2022-01-25T07:46:39.121306",
   "version": "2.3.3"
  }
 },
 "nbformat": 4,
 "nbformat_minor": 5
}
