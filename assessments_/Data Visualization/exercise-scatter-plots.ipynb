{
 "cells": [
  {
   "cell_type": "markdown",
   "id": "68259902",
   "metadata": {
    "papermill": {
     "duration": 0.027857,
     "end_time": "2022-01-25T07:50:28.390968",
     "exception": false,
     "start_time": "2022-01-25T07:50:28.363111",
     "status": "completed"
    },
    "tags": []
   },
   "source": [
    "\n",
    "\n",
    "## Scenario\n",
    "\n",
    "You work for a major candy producer, and your goal is to write a report that your company can use to guide the design of its next product.  Soon after starting your research, you stumble across this [very interesting dataset](https://fivethirtyeight.com/features/the-ultimate-halloween-candy-power-ranking/) containing results from a fun survey to crowdsource favorite candies.\n",
    "\n",
    "## Setup\n",
    "\n",
    "Run the next cell to import and configure the Python libraries that you need to complete the exercise."
   ]
  },
  {
   "cell_type": "code",
   "execution_count": 1,
   "id": "d0f97561",
   "metadata": {
    "execution": {
     "iopub.execute_input": "2022-01-25T07:50:28.446890Z",
     "iopub.status.busy": "2022-01-25T07:50:28.445732Z",
     "iopub.status.idle": "2022-01-25T07:50:29.419518Z",
     "shell.execute_reply": "2022-01-25T07:50:29.420047Z",
     "shell.execute_reply.started": "2022-01-25T07:48:46.483585Z"
    },
    "papermill": {
     "duration": 1.003265,
     "end_time": "2022-01-25T07:50:29.420331",
     "exception": false,
     "start_time": "2022-01-25T07:50:28.417066",
     "status": "completed"
    },
    "tags": []
   },
   "outputs": [
    {
     "name": "stdout",
     "output_type": "stream",
     "text": [
      "Setup Complete\n"
     ]
    }
   ],
   "source": [
    "import pandas as pd\n",
    "pd.plotting.register_matplotlib_converters()\n",
    "import matplotlib.pyplot as plt\n",
    "%matplotlib inline\n",
    "import seaborn as sns\n",
    "print(\"Setup Complete\")"
   ]
  },
  {
   "cell_type": "markdown",
   "id": "be87150c",
   "metadata": {
    "papermill": {
     "duration": 0.026299,
     "end_time": "2022-01-25T07:50:29.473831",
     "exception": false,
     "start_time": "2022-01-25T07:50:29.447532",
     "status": "completed"
    },
    "tags": []
   },
   "source": [
    "The questions below will give you feedback on your work. Run the following cell to set up our feedback system."
   ]
  },
  {
   "cell_type": "code",
   "execution_count": 2,
   "id": "d6096ed6",
   "metadata": {
    "execution": {
     "iopub.execute_input": "2022-01-25T07:50:29.532509Z",
     "iopub.status.busy": "2022-01-25T07:50:29.531796Z",
     "iopub.status.idle": "2022-01-25T07:50:29.590530Z",
     "shell.execute_reply": "2022-01-25T07:50:29.589938Z",
     "shell.execute_reply.started": "2022-01-25T07:49:13.001236Z"
    },
    "papermill": {
     "duration": 0.090178,
     "end_time": "2022-01-25T07:50:29.590671",
     "exception": false,
     "start_time": "2022-01-25T07:50:29.500493",
     "status": "completed"
    },
    "tags": []
   },
   "outputs": [
    {
     "name": "stdout",
     "output_type": "stream",
     "text": [
      "Setup Complete\n"
     ]
    }
   ],
   "source": [
    "# Set up code checking\n",
    "import os\n",
    "if not os.path.exists(\"../input/candy.csv\"):\n",
    "    os.symlink(\"../input/data-for-datavis/candy.csv\", \"../input/candy.csv\") \n",
    "from learntools.core import binder\n",
    "binder.bind(globals())\n",
    "from learntools.data_viz_to_coder.ex4 import *\n",
    "print(\"Setup Complete\")"
   ]
  },
  {
   "cell_type": "markdown",
   "id": "1efd570f",
   "metadata": {
    "papermill": {
     "duration": 0.026388,
     "end_time": "2022-01-25T07:50:29.644959",
     "exception": false,
     "start_time": "2022-01-25T07:50:29.618571",
     "status": "completed"
    },
    "tags": []
   },
   "source": [
    "## Step 1: Load the Data\n",
    "\n",
    "Read the candy data file into `candy_data`.  Use the `\"id\"` column to label the rows."
   ]
  },
  {
   "cell_type": "code",
   "execution_count": 3,
   "id": "d00a761b",
   "metadata": {
    "execution": {
     "iopub.execute_input": "2022-01-25T07:50:29.703706Z",
     "iopub.status.busy": "2022-01-25T07:50:29.703073Z",
     "iopub.status.idle": "2022-01-25T07:50:29.716942Z",
     "shell.execute_reply": "2022-01-25T07:50:29.716383Z",
     "shell.execute_reply.started": "2022-01-25T07:49:15.887266Z"
    },
    "papermill": {
     "duration": 0.04561,
     "end_time": "2022-01-25T07:50:29.717073",
     "exception": false,
     "start_time": "2022-01-25T07:50:29.671463",
     "status": "completed"
    },
    "tags": []
   },
   "outputs": [
    {
     "data": {
      "application/javascript": [
       "parent.postMessage({\"jupyterEvent\": \"custom.exercise_interaction\", \"data\": {\"outcomeType\": 1, \"valueTowardsCompletion\": 0.3333333333333333, \"interactionType\": 1, \"questionType\": 1, \"questionId\": \"1_LoadData\", \"learnToolsVersion\": \"0.3.4\", \"failureMessage\": \"\", \"exceptionClass\": \"\", \"trace\": \"\"}}, \"*\")"
      ],
      "text/plain": [
       "<IPython.core.display.Javascript object>"
      ]
     },
     "metadata": {},
     "output_type": "display_data"
    },
    {
     "data": {
      "text/markdown": [
       "<span style=\"color:#33cc33\">Correct</span>"
      ],
      "text/plain": [
       "Correct"
      ]
     },
     "metadata": {},
     "output_type": "display_data"
    }
   ],
   "source": [
    "# Path of the file to read\n",
    "candy_filepath = \"../input/candy.csv\"\n",
    "\n",
    "# Fill in the line below to read the file into a variable candy_data\n",
    "candy_data = pd.read_csv(candy_filepath, index_col=\"id\")\n",
    "\n",
    "# Run the line below with no changes to check that you've loaded the data correctly\n",
    "step_1.check()"
   ]
  },
  {
   "cell_type": "code",
   "execution_count": 4,
   "id": "8ed82029",
   "metadata": {
    "execution": {
     "iopub.execute_input": "2022-01-25T07:50:29.777816Z",
     "iopub.status.busy": "2022-01-25T07:50:29.776674Z",
     "iopub.status.idle": "2022-01-25T07:50:29.779695Z",
     "shell.execute_reply": "2022-01-25T07:50:29.780225Z"
    },
    "papermill": {
     "duration": 0.0338,
     "end_time": "2022-01-25T07:50:29.780380",
     "exception": false,
     "start_time": "2022-01-25T07:50:29.746580",
     "status": "completed"
    },
    "tags": []
   },
   "outputs": [],
   "source": [
    "# Lines below will give you a hint or solution code\n",
    "#step_1.hint()\n",
    "#step_1.solution()"
   ]
  },
  {
   "cell_type": "markdown",
   "id": "1daade35",
   "metadata": {
    "papermill": {
     "duration": 0.026882,
     "end_time": "2022-01-25T07:50:29.835342",
     "exception": false,
     "start_time": "2022-01-25T07:50:29.808460",
     "status": "completed"
    },
    "tags": []
   },
   "source": [
    "## Step 2: Review the data\n",
    "\n",
    "Use a Python command to print the first five rows of the data."
   ]
  },
  {
   "cell_type": "code",
   "execution_count": 5,
   "id": "ab5855dd",
   "metadata": {
    "execution": {
     "iopub.execute_input": "2022-01-25T07:50:29.895811Z",
     "iopub.status.busy": "2022-01-25T07:50:29.895178Z",
     "iopub.status.idle": "2022-01-25T07:50:29.914739Z",
     "shell.execute_reply": "2022-01-25T07:50:29.915294Z",
     "shell.execute_reply.started": "2022-01-25T07:49:19.561576Z"
    },
    "papermill": {
     "duration": 0.052337,
     "end_time": "2022-01-25T07:50:29.915467",
     "exception": false,
     "start_time": "2022-01-25T07:50:29.863130",
     "status": "completed"
    },
    "tags": []
   },
   "outputs": [
    {
     "data": {
      "text/html": [
       "<div>\n",
       "<style scoped>\n",
       "    .dataframe tbody tr th:only-of-type {\n",
       "        vertical-align: middle;\n",
       "    }\n",
       "\n",
       "    .dataframe tbody tr th {\n",
       "        vertical-align: top;\n",
       "    }\n",
       "\n",
       "    .dataframe thead th {\n",
       "        text-align: right;\n",
       "    }\n",
       "</style>\n",
       "<table border=\"1\" class=\"dataframe\">\n",
       "  <thead>\n",
       "    <tr style=\"text-align: right;\">\n",
       "      <th></th>\n",
       "      <th>competitorname</th>\n",
       "      <th>chocolate</th>\n",
       "      <th>fruity</th>\n",
       "      <th>caramel</th>\n",
       "      <th>peanutyalmondy</th>\n",
       "      <th>nougat</th>\n",
       "      <th>crispedricewafer</th>\n",
       "      <th>hard</th>\n",
       "      <th>bar</th>\n",
       "      <th>pluribus</th>\n",
       "      <th>sugarpercent</th>\n",
       "      <th>pricepercent</th>\n",
       "      <th>winpercent</th>\n",
       "    </tr>\n",
       "    <tr>\n",
       "      <th>id</th>\n",
       "      <th></th>\n",
       "      <th></th>\n",
       "      <th></th>\n",
       "      <th></th>\n",
       "      <th></th>\n",
       "      <th></th>\n",
       "      <th></th>\n",
       "      <th></th>\n",
       "      <th></th>\n",
       "      <th></th>\n",
       "      <th></th>\n",
       "      <th></th>\n",
       "      <th></th>\n",
       "    </tr>\n",
       "  </thead>\n",
       "  <tbody>\n",
       "    <tr>\n",
       "      <th>0</th>\n",
       "      <td>100 Grand</td>\n",
       "      <td>Yes</td>\n",
       "      <td>No</td>\n",
       "      <td>Yes</td>\n",
       "      <td>No</td>\n",
       "      <td>No</td>\n",
       "      <td>Yes</td>\n",
       "      <td>No</td>\n",
       "      <td>Yes</td>\n",
       "      <td>No</td>\n",
       "      <td>0.732</td>\n",
       "      <td>0.860</td>\n",
       "      <td>66.971725</td>\n",
       "    </tr>\n",
       "    <tr>\n",
       "      <th>1</th>\n",
       "      <td>3 Musketeers</td>\n",
       "      <td>Yes</td>\n",
       "      <td>No</td>\n",
       "      <td>No</td>\n",
       "      <td>No</td>\n",
       "      <td>Yes</td>\n",
       "      <td>No</td>\n",
       "      <td>No</td>\n",
       "      <td>Yes</td>\n",
       "      <td>No</td>\n",
       "      <td>0.604</td>\n",
       "      <td>0.511</td>\n",
       "      <td>67.602936</td>\n",
       "    </tr>\n",
       "    <tr>\n",
       "      <th>2</th>\n",
       "      <td>Air Heads</td>\n",
       "      <td>No</td>\n",
       "      <td>Yes</td>\n",
       "      <td>No</td>\n",
       "      <td>No</td>\n",
       "      <td>No</td>\n",
       "      <td>No</td>\n",
       "      <td>No</td>\n",
       "      <td>No</td>\n",
       "      <td>No</td>\n",
       "      <td>0.906</td>\n",
       "      <td>0.511</td>\n",
       "      <td>52.341465</td>\n",
       "    </tr>\n",
       "    <tr>\n",
       "      <th>3</th>\n",
       "      <td>Almond Joy</td>\n",
       "      <td>Yes</td>\n",
       "      <td>No</td>\n",
       "      <td>No</td>\n",
       "      <td>Yes</td>\n",
       "      <td>No</td>\n",
       "      <td>No</td>\n",
       "      <td>No</td>\n",
       "      <td>Yes</td>\n",
       "      <td>No</td>\n",
       "      <td>0.465</td>\n",
       "      <td>0.767</td>\n",
       "      <td>50.347546</td>\n",
       "    </tr>\n",
       "    <tr>\n",
       "      <th>4</th>\n",
       "      <td>Baby Ruth</td>\n",
       "      <td>Yes</td>\n",
       "      <td>No</td>\n",
       "      <td>Yes</td>\n",
       "      <td>Yes</td>\n",
       "      <td>Yes</td>\n",
       "      <td>No</td>\n",
       "      <td>No</td>\n",
       "      <td>Yes</td>\n",
       "      <td>No</td>\n",
       "      <td>0.604</td>\n",
       "      <td>0.767</td>\n",
       "      <td>56.914547</td>\n",
       "    </tr>\n",
       "  </tbody>\n",
       "</table>\n",
       "</div>"
      ],
      "text/plain": [
       "   competitorname chocolate fruity caramel peanutyalmondy nougat  \\\n",
       "id                                                                 \n",
       "0       100 Grand       Yes     No     Yes             No     No   \n",
       "1    3 Musketeers       Yes     No      No             No    Yes   \n",
       "2       Air Heads        No    Yes      No             No     No   \n",
       "3      Almond Joy       Yes     No      No            Yes     No   \n",
       "4       Baby Ruth       Yes     No     Yes            Yes    Yes   \n",
       "\n",
       "   crispedricewafer hard  bar pluribus  sugarpercent  pricepercent  winpercent  \n",
       "id                                                                              \n",
       "0               Yes   No  Yes       No         0.732         0.860   66.971725  \n",
       "1                No   No  Yes       No         0.604         0.511   67.602936  \n",
       "2                No   No   No       No         0.906         0.511   52.341465  \n",
       "3                No   No  Yes       No         0.465         0.767   50.347546  \n",
       "4                No   No  Yes       No         0.604         0.767   56.914547  "
      ]
     },
     "execution_count": 5,
     "metadata": {},
     "output_type": "execute_result"
    }
   ],
   "source": [
    "# Print the first five rows of the data\n",
    "# Your code here\n",
    "candy_data.head()"
   ]
  },
  {
   "cell_type": "markdown",
   "id": "e79bf8a4",
   "metadata": {
    "papermill": {
     "duration": 0.027729,
     "end_time": "2022-01-25T07:50:29.971351",
     "exception": false,
     "start_time": "2022-01-25T07:50:29.943622",
     "status": "completed"
    },
    "tags": []
   },
   "source": [
    "The dataset contains 83 rows, where each corresponds to a different candy bar.  There are 13 columns:\n",
    "- `'competitorname'` contains the name of the candy bar. \n",
    "- the next **9** columns (from `'chocolate'` to `'pluribus'`) describe the candy.  For instance, rows with chocolate candies have `\"Yes\"` in the `'chocolate'` column (and candies without chocolate have `\"No\"` in the same column).\n",
    "- `'sugarpercent'` provides some indication of the amount of sugar, where higher values signify higher sugar content.\n",
    "- `'pricepercent'` shows the price per unit, relative to the other candies in the dataset.\n",
    "- `'winpercent'` is calculated from the survey results; higher values indicate that the candy was more popular with survey respondents.\n",
    "\n",
    "Use the first five rows of the data to answer the questions below."
   ]
  },
  {
   "cell_type": "code",
   "execution_count": 6,
   "id": "7a5b9d57",
   "metadata": {
    "execution": {
     "iopub.execute_input": "2022-01-25T07:50:30.032106Z",
     "iopub.status.busy": "2022-01-25T07:50:30.030483Z",
     "iopub.status.idle": "2022-01-25T07:50:30.036554Z",
     "shell.execute_reply": "2022-01-25T07:50:30.037162Z",
     "shell.execute_reply.started": "2022-01-25T07:49:23.414773Z"
    },
    "papermill": {
     "duration": 0.038026,
     "end_time": "2022-01-25T07:50:30.037338",
     "exception": false,
     "start_time": "2022-01-25T07:50:29.999312",
     "status": "completed"
    },
    "tags": []
   },
   "outputs": [
    {
     "data": {
      "application/javascript": [
       "parent.postMessage({\"jupyterEvent\": \"custom.exercise_interaction\", \"data\": {\"outcomeType\": 1, \"valueTowardsCompletion\": 0.3333333333333333, \"interactionType\": 1, \"questionType\": 1, \"questionId\": \"2_ReviewData\", \"learnToolsVersion\": \"0.3.4\", \"failureMessage\": \"\", \"exceptionClass\": \"\", \"trace\": \"\"}}, \"*\")"
      ],
      "text/plain": [
       "<IPython.core.display.Javascript object>"
      ]
     },
     "metadata": {},
     "output_type": "display_data"
    },
    {
     "data": {
      "text/markdown": [
       "<span style=\"color:#33cc33\">Correct</span>"
      ],
      "text/plain": [
       "Correct"
      ]
     },
     "metadata": {},
     "output_type": "display_data"
    }
   ],
   "source": [
    "# Fill in the line below: Which candy was more popular with survey respondents:\n",
    "# '3 Musketeers' or 'Almond Joy'?  (Please enclose your answer in single quotes.)\n",
    "more_popular = '3 Musketeers'\n",
    "\n",
    "# Fill in the line below: Which candy has higher sugar content: 'Air Heads'\n",
    "# or 'Baby Ruth'? (Please enclose your answer in single quotes.)\n",
    "more_sugar = 'Air Heads'\n",
    "\n",
    "# Check your answers\n",
    "step_2.check()"
   ]
  },
  {
   "cell_type": "code",
   "execution_count": 7,
   "id": "f902e665",
   "metadata": {
    "execution": {
     "iopub.execute_input": "2022-01-25T07:50:30.099467Z",
     "iopub.status.busy": "2022-01-25T07:50:30.098883Z",
     "iopub.status.idle": "2022-01-25T07:50:30.101932Z",
     "shell.execute_reply": "2022-01-25T07:50:30.102464Z"
    },
    "papermill": {
     "duration": 0.036324,
     "end_time": "2022-01-25T07:50:30.102630",
     "exception": false,
     "start_time": "2022-01-25T07:50:30.066306",
     "status": "completed"
    },
    "tags": []
   },
   "outputs": [],
   "source": [
    "# Lines below will give you a hint or solution code\n",
    "#step_2.hint()\n",
    "#step_2.solution()"
   ]
  },
  {
   "cell_type": "markdown",
   "id": "638eed3b",
   "metadata": {
    "papermill": {
     "duration": 0.028764,
     "end_time": "2022-01-25T07:50:30.160933",
     "exception": false,
     "start_time": "2022-01-25T07:50:30.132169",
     "status": "completed"
    },
    "tags": []
   },
   "source": [
    "## Step 3: The role of sugar\n",
    "\n",
    "Do people tend to prefer candies with higher sugar content?  \n",
    "\n",
    "#### Part A\n",
    "\n",
    "Create a scatter plot that shows the relationship between `'sugarpercent'` (on the horizontal x-axis) and `'winpercent'` (on the vertical y-axis).  _Don't add a regression line just yet -- you'll do that in the next step!_"
   ]
  },
  {
   "cell_type": "code",
   "execution_count": 8,
   "id": "242f34a4",
   "metadata": {
    "execution": {
     "iopub.execute_input": "2022-01-25T07:50:30.221905Z",
     "iopub.status.busy": "2022-01-25T07:50:30.221305Z",
     "iopub.status.idle": "2022-01-25T07:50:30.445231Z",
     "shell.execute_reply": "2022-01-25T07:50:30.445785Z",
     "shell.execute_reply.started": "2022-01-25T07:49:27.314198Z"
    },
    "papermill": {
     "duration": 0.256036,
     "end_time": "2022-01-25T07:50:30.445972",
     "exception": false,
     "start_time": "2022-01-25T07:50:30.189936",
     "status": "completed"
    },
    "tags": []
   },
   "outputs": [
    {
     "data": {
      "application/javascript": [
       "parent.postMessage({\"jupyterEvent\": \"custom.exercise_interaction\", \"data\": {\"outcomeType\": 1, \"valueTowardsCompletion\": 0.3333333333333333, \"interactionType\": 1, \"questionType\": 2, \"questionId\": \"3.1_PlotBlueScatter\", \"learnToolsVersion\": \"0.3.4\", \"failureMessage\": \"\", \"exceptionClass\": \"\", \"trace\": \"\"}}, \"*\")"
      ],
      "text/plain": [
       "<IPython.core.display.Javascript object>"
      ]
     },
     "metadata": {},
     "output_type": "display_data"
    },
    {
     "data": {
      "text/markdown": [
       "<span style=\"color:#33cc33\">Correct</span>"
      ],
      "text/plain": [
       "Correct"
      ]
     },
     "metadata": {},
     "output_type": "display_data"
    },
    {
     "data": {
      "image/png": "[encoded data removed]",
      "text/plain": [
       "<Figure size 432x288 with 1 Axes>"
      ]
     },
     "metadata": {
      "needs_background": "light"
     },
     "output_type": "display_data"
    }
   ],
   "source": [
    "# Scatter plot showing the relationship between 'sugarpercent' and 'winpercent'\n",
    "____ # Your code here\n",
    "sns.scatterplot(x=candy_data['sugarpercent'], y=candy_data['winpercent'])\n",
    "# Check your answer\n",
    "step_3.a.check()"
   ]
  },
  {
   "cell_type": "code",
   "execution_count": 9,
   "id": "3a1c5368",
   "metadata": {
    "execution": {
     "iopub.execute_input": "2022-01-25T07:50:30.512538Z",
     "iopub.status.busy": "2022-01-25T07:50:30.511816Z",
     "iopub.status.idle": "2022-01-25T07:50:30.513128Z",
     "shell.execute_reply": "2022-01-25T07:50:30.513708Z"
    },
    "papermill": {
     "duration": 0.037087,
     "end_time": "2022-01-25T07:50:30.513885",
     "exception": false,
     "start_time": "2022-01-25T07:50:30.476798",
     "status": "completed"
    },
    "tags": []
   },
   "outputs": [],
   "source": [
    "# Lines below will give you a hint or solution code\n",
    "#step_3.a.hint()\n",
    "#step_3.a.solution_plot()"
   ]
  },
  {
   "cell_type": "markdown",
   "id": "b4a9a863",
   "metadata": {
    "papermill": {
     "duration": 0.031417,
     "end_time": "2022-01-25T07:50:30.576614",
     "exception": false,
     "start_time": "2022-01-25T07:50:30.545197",
     "status": "completed"
    },
    "tags": []
   },
   "source": [
    "#### Part B\n",
    "\n",
    "Does the scatter plot show a **strong** correlation between the two variables?  If so, are candies with more sugar relatively more or less popular with the survey respondents?"
   ]
  },
  {
   "cell_type": "code",
   "execution_count": 10,
   "id": "b16bde3b",
   "metadata": {
    "execution": {
     "iopub.execute_input": "2022-01-25T07:50:30.641720Z",
     "iopub.status.busy": "2022-01-25T07:50:30.641115Z",
     "iopub.status.idle": "2022-01-25T07:50:30.644592Z",
     "shell.execute_reply": "2022-01-25T07:50:30.645105Z"
    },
    "papermill": {
     "duration": 0.037486,
     "end_time": "2022-01-25T07:50:30.645289",
     "exception": false,
     "start_time": "2022-01-25T07:50:30.607803",
     "status": "completed"
    },
    "tags": []
   },
   "outputs": [],
   "source": [
    "#step_3.b.hint()"
   ]
  },
  {
   "cell_type": "code",
   "execution_count": 11,
   "id": "2ce9f961",
   "metadata": {
    "execution": {
     "iopub.execute_input": "2022-01-25T07:50:30.710508Z",
     "iopub.status.busy": "2022-01-25T07:50:30.709901Z",
     "iopub.status.idle": "2022-01-25T07:50:30.716259Z",
     "shell.execute_reply": "2022-01-25T07:50:30.716711Z",
     "shell.execute_reply.started": "2022-01-25T07:49:32.262668Z"
    },
    "papermill": {
     "duration": 0.040799,
     "end_time": "2022-01-25T07:50:30.716915",
     "exception": false,
     "start_time": "2022-01-25T07:50:30.676116",
     "status": "completed"
    },
    "tags": []
   },
   "outputs": [
    {
     "data": {
      "application/javascript": [
       "parent.postMessage({\"jupyterEvent\": \"custom.exercise_interaction\", \"data\": {\"interactionType\": 3, \"questionType\": 4, \"questionId\": \"3.2_ThinkBlueScatter\", \"learnToolsVersion\": \"0.3.4\", \"valueTowardsCompletion\": 0.0, \"failureMessage\": \"\", \"exceptionClass\": \"\", \"trace\": \"\", \"outcomeType\": 4}}, \"*\")"
      ],
      "text/plain": [
       "<IPython.core.display.Javascript object>"
      ]
     },
     "metadata": {},
     "output_type": "display_data"
    },
    {
     "data": {
      "text/markdown": [
       "<span style=\"color:#33cc99\">Solution:</span> The scatter plot does not show a strong correlation between the two variables. Since there is no clear relationship between the two variables, this tells us that sugar content does not play a strong role in candy popularity."
      ],
      "text/plain": [
       "Solution: The scatter plot does not show a strong correlation between the two variables. Since there is no clear relationship between the two variables, this tells us that sugar content does not play a strong role in candy popularity."
      ]
     },
     "metadata": {},
     "output_type": "display_data"
    }
   ],
   "source": [
    "# Check your answer (Run this code cell to receive credit!)\n",
    "step_3.b.solution()"
   ]
  },
  {
   "cell_type": "markdown",
   "id": "4e367e05",
   "metadata": {
    "papermill": {
     "duration": 0.032098,
     "end_time": "2022-01-25T07:50:30.781382",
     "exception": false,
     "start_time": "2022-01-25T07:50:30.749284",
     "status": "completed"
    },
    "tags": []
   },
   "source": [
    "## Step 4: Take a closer look\n",
    "\n",
    "#### Part A\n",
    "\n",
    "Create the same scatter plot you created in **Step 3**, but now with a regression line!"
   ]
  },
  {
   "cell_type": "code",
   "execution_count": 12,
   "id": "4f554b30",
   "metadata": {
    "execution": {
     "iopub.execute_input": "2022-01-25T07:50:30.868305Z",
     "iopub.status.busy": "2022-01-25T07:50:30.866029Z",
     "iopub.status.idle": "2022-01-25T07:50:31.138343Z",
     "shell.execute_reply": "2022-01-25T07:50:31.137798Z",
     "shell.execute_reply.started": "2022-01-25T07:49:34.822004Z"
    },
    "papermill": {
     "duration": 0.324608,
     "end_time": "2022-01-25T07:50:31.138483",
     "exception": false,
     "start_time": "2022-01-25T07:50:30.813875",
     "status": "completed"
    },
    "tags": []
   },
   "outputs": [
    {
     "data": {
      "application/javascript": [
       "parent.postMessage({\"jupyterEvent\": \"custom.exercise_interaction\", \"data\": {\"outcomeType\": 1, \"valueTowardsCompletion\": 0.3333333333333333, \"interactionType\": 1, \"questionType\": 2, \"questionId\": \"4.1_PlotBlueReg\", \"learnToolsVersion\": \"0.3.4\", \"failureMessage\": \"\", \"exceptionClass\": \"\", \"trace\": \"\"}}, \"*\")"
      ],
      "text/plain": [
       "<IPython.core.display.Javascript object>"
      ]
     },
     "metadata": {},
     "output_type": "display_data"
    },
    {
     "data": {
      "text/markdown": [
       "<span style=\"color:#33cc33\">Correct</span>"
      ],
      "text/plain": [
       "Correct"
      ]
     },
     "metadata": {},
     "output_type": "display_data"
    },
    {
     "data": {
      "image/png": "[encoded data removed]",
      "text/plain": [
       "<Figure size 432x288 with 1 Axes>"
      ]
     },
     "metadata": {
      "needs_background": "light"
     },
     "output_type": "display_data"
    }
   ],
   "source": [
    "# Scatter plot w/ regression line showing the relationship between 'sugarpercent' and 'winpercent'\n",
    "____ # Your code here\n",
    "sns.regplot(x=candy_data['sugarpercent'], y=candy_data['winpercent'])# Check your answer\n",
    "step_4.a.check()"
   ]
  },
  {
   "cell_type": "code",
   "execution_count": 13,
   "id": "46d97cb5",
   "metadata": {
    "execution": {
     "iopub.execute_input": "2022-01-25T07:50:31.211068Z",
     "iopub.status.busy": "2022-01-25T07:50:31.210402Z",
     "iopub.status.idle": "2022-01-25T07:50:31.212816Z",
     "shell.execute_reply": "2022-01-25T07:50:31.212250Z"
    },
    "papermill": {
     "duration": 0.040455,
     "end_time": "2022-01-25T07:50:31.212959",
     "exception": false,
     "start_time": "2022-01-25T07:50:31.172504",
     "status": "completed"
    },
    "tags": []
   },
   "outputs": [],
   "source": [
    "# Lines below will give you a hint or solution code\n",
    "#step_4.a.hint()\n",
    "#step_4.a.solution_plot()"
   ]
  },
  {
   "cell_type": "markdown",
   "id": "aef9a13a",
   "metadata": {
    "papermill": {
     "duration": 0.033615,
     "end_time": "2022-01-25T07:50:31.280458",
     "exception": false,
     "start_time": "2022-01-25T07:50:31.246843",
     "status": "completed"
    },
    "tags": []
   },
   "source": [
    "#### Part B\n",
    "\n",
    "According to the plot above, is there a **slight** correlation between `'winpercent'` and `'sugarpercent'`?  What does this tell you about the candy that people tend to prefer?"
   ]
  },
  {
   "cell_type": "code",
   "execution_count": 14,
   "id": "58edef5e",
   "metadata": {
    "execution": {
     "iopub.execute_input": "2022-01-25T07:50:31.353496Z",
     "iopub.status.busy": "2022-01-25T07:50:31.352910Z",
     "iopub.status.idle": "2022-01-25T07:50:31.355569Z",
     "shell.execute_reply": "2022-01-25T07:50:31.355082Z"
    },
    "papermill": {
     "duration": 0.0407,
     "end_time": "2022-01-25T07:50:31.355702",
     "exception": false,
     "start_time": "2022-01-25T07:50:31.315002",
     "status": "completed"
    },
    "tags": []
   },
   "outputs": [],
   "source": [
    "#step_4.b.hint()"
   ]
  },
  {
   "cell_type": "code",
   "execution_count": 15,
   "id": "96243f41",
   "metadata": {
    "execution": {
     "iopub.execute_input": "2022-01-25T07:50:31.430200Z",
     "iopub.status.busy": "2022-01-25T07:50:31.429395Z",
     "iopub.status.idle": "2022-01-25T07:50:31.434599Z",
     "shell.execute_reply": "2022-01-25T07:50:31.434015Z",
     "shell.execute_reply.started": "2022-01-25T07:49:39.408998Z"
    },
    "papermill": {
     "duration": 0.044476,
     "end_time": "2022-01-25T07:50:31.434728",
     "exception": false,
     "start_time": "2022-01-25T07:50:31.390252",
     "status": "completed"
    },
    "tags": []
   },
   "outputs": [
    {
     "data": {
      "application/javascript": [
       "parent.postMessage({\"jupyterEvent\": \"custom.exercise_interaction\", \"data\": {\"interactionType\": 3, \"questionType\": 4, \"questionId\": \"4.2_ThinkBlueReg\", \"learnToolsVersion\": \"0.3.4\", \"valueTowardsCompletion\": 0.0, \"failureMessage\": \"\", \"exceptionClass\": \"\", \"trace\": \"\", \"outcomeType\": 4}}, \"*\")"
      ],
      "text/plain": [
       "<IPython.core.display.Javascript object>"
      ]
     },
     "metadata": {},
     "output_type": "display_data"
    },
    {
     "data": {
      "text/markdown": [
       "<span style=\"color:#33cc99\">Solution:</span> Since the regression line has a slightly positive slope, this tells us that there is a slightly positive correlation between `'winpercent'` and `'sugarpercent'`. Thus, people have a slight preference for candies containing relatively more sugar."
      ],
      "text/plain": [
       "Solution: Since the regression line has a slightly positive slope, this tells us that there is a slightly positive correlation between `'winpercent'` and `'sugarpercent'`. Thus, people have a slight preference for candies containing relatively more sugar."
      ]
     },
     "metadata": {},
     "output_type": "display_data"
    }
   ],
   "source": [
    "# Check your answer (Run this code cell to receive credit!)\n",
    "step_4.b.solution()"
   ]
  },
  {
   "cell_type": "markdown",
   "id": "7be8ccd7",
   "metadata": {
    "papermill": {
     "duration": 0.034903,
     "end_time": "2022-01-25T07:50:31.504996",
     "exception": false,
     "start_time": "2022-01-25T07:50:31.470093",
     "status": "completed"
    },
    "tags": []
   },
   "source": [
    "## Step 5: Chocolate!\n",
    "\n",
    "In the code cell below, create a scatter plot to show the relationship between `'pricepercent'` (on the horizontal x-axis) and `'winpercent'` (on the vertical y-axis). Use the `'chocolate'` column to color-code the points.  _Don't add any regression lines just yet -- you'll do that in the next step!_"
   ]
  },
  {
   "cell_type": "code",
   "execution_count": 16,
   "id": "35947a5d",
   "metadata": {
    "execution": {
     "iopub.execute_input": "2022-01-25T07:50:31.579417Z",
     "iopub.status.busy": "2022-01-25T07:50:31.578823Z",
     "iopub.status.idle": "2022-01-25T07:50:32.186357Z",
     "shell.execute_reply": "2022-01-25T07:50:32.186814Z",
     "shell.execute_reply.started": "2022-01-25T07:49:42.679375Z"
    },
    "papermill": {
     "duration": 0.646273,
     "end_time": "2022-01-25T07:50:32.186997",
     "exception": false,
     "start_time": "2022-01-25T07:50:31.540724",
     "status": "completed"
    },
    "tags": []
   },
   "outputs": [
    {
     "data": {
      "application/javascript": [
       "parent.postMessage({\"jupyterEvent\": \"custom.exercise_interaction\", \"data\": {\"outcomeType\": 1, \"valueTowardsCompletion\": 0.3333333333333333, \"interactionType\": 1, \"questionType\": 2, \"questionId\": \"5_ColorScatter\", \"learnToolsVersion\": \"0.3.4\", \"failureMessage\": \"\", \"exceptionClass\": \"\", \"trace\": \"\"}}, \"*\")"
      ],
      "text/plain": [
       "<IPython.core.display.Javascript object>"
      ]
     },
     "metadata": {},
     "output_type": "display_data"
    },
    {
     "data": {
      "text/markdown": [
       "<span style=\"color:#33cc33\">Correct</span>"
      ],
      "text/plain": [
       "Correct"
      ]
     },
     "metadata": {},
     "output_type": "display_data"
    },
    {
     "data": {
      "image/png": "[encoded data removed]",
      "text/plain": [
       "<Figure size 416.375x360 with 1 Axes>"
      ]
     },
     "metadata": {
      "needs_background": "light"
     },
     "output_type": "display_data"
    }
   ],
   "source": [
    "# Scatter plot showing the relationship between 'pricepercent', 'winpercent', and 'chocolate'\n",
    "____ # Your code here\n",
    "sns.lmplot(x=\"pricepercent\", y=\"winpercent\", hue=\"chocolate\", data=candy_data)\n",
    "# Check your answer\n",
    "step_5.check()"
   ]
  },
  {
   "cell_type": "code",
   "execution_count": 17,
   "id": "8cdc6cc9",
   "metadata": {
    "execution": {
     "iopub.execute_input": "2022-01-25T07:50:32.266703Z",
     "iopub.status.busy": "2022-01-25T07:50:32.266081Z",
     "iopub.status.idle": "2022-01-25T07:50:32.269654Z",
     "shell.execute_reply": "2022-01-25T07:50:32.269147Z"
    },
    "papermill": {
     "duration": 0.044551,
     "end_time": "2022-01-25T07:50:32.269821",
     "exception": false,
     "start_time": "2022-01-25T07:50:32.225270",
     "status": "completed"
    },
    "tags": []
   },
   "outputs": [],
   "source": [
    "# Lines below will give you a hint or solution code\n",
    "#step_5.hint()\n",
    "#step_5.solution_plot()"
   ]
  },
  {
   "cell_type": "markdown",
   "id": "a85884ff",
   "metadata": {
    "papermill": {
     "duration": 0.037443,
     "end_time": "2022-01-25T07:50:32.344810",
     "exception": false,
     "start_time": "2022-01-25T07:50:32.307367",
     "status": "completed"
    },
    "tags": []
   },
   "source": [
    "Can you see any interesting patterns in the scatter plot?  We'll investigate this plot further  by adding regression lines in the next step!\n",
    "\n",
    "## Step 6: Investigate chocolate\n",
    "\n",
    "#### Part A\n",
    "\n",
    "Create the same scatter plot you created in **Step 5**, but now with two regression lines, corresponding to (1) chocolate candies and (2) candies without chocolate."
   ]
  },
  {
   "cell_type": "code",
   "execution_count": 18,
   "id": "9177daf5",
   "metadata": {
    "execution": {
     "iopub.execute_input": "2022-01-25T07:50:32.443580Z",
     "iopub.status.busy": "2022-01-25T07:50:32.442481Z",
     "iopub.status.idle": "2022-01-25T07:50:33.031528Z",
     "shell.execute_reply": "2022-01-25T07:50:33.031013Z",
     "shell.execute_reply.started": "2022-01-25T07:49:46.667765Z"
    },
    "papermill": {
     "duration": 0.648581,
     "end_time": "2022-01-25T07:50:33.031669",
     "exception": false,
     "start_time": "2022-01-25T07:50:32.383088",
     "status": "completed"
    },
    "tags": []
   },
   "outputs": [
    {
     "data": {
      "application/javascript": [
       "parent.postMessage({\"jupyterEvent\": \"custom.exercise_interaction\", \"data\": {\"outcomeType\": 1, \"valueTowardsCompletion\": 0.3333333333333333, \"interactionType\": 1, \"questionType\": 2, \"questionId\": \"6.1_PlotColorReg\", \"learnToolsVersion\": \"0.3.4\", \"failureMessage\": \"\", \"exceptionClass\": \"\", \"trace\": \"\"}}, \"*\")"
      ],
      "text/plain": [
       "<IPython.core.display.Javascript object>"
      ]
     },
     "metadata": {},
     "output_type": "display_data"
    },
    {
     "data": {
      "text/markdown": [
       "<span style=\"color:#33cc33\">Correct</span>"
      ],
      "text/plain": [
       "Correct"
      ]
     },
     "metadata": {},
     "output_type": "display_data"
    },
    {
     "data": {
      "image/png": "[encoded data removed]",
      "text/plain": [
       "<Figure size 416.375x360 with 1 Axes>"
      ]
     },
     "metadata": {
      "needs_background": "light"
     },
     "output_type": "display_data"
    }
   ],
   "source": [
    "# Color-coded scatter plot w/ regression lines\n",
    "____ # Your code here\n",
    "sns.lmplot(x=\"pricepercent\", y=\"winpercent\", hue=\"chocolate\", data=candy_data)\n",
    "# Check your answer\n",
    "step_6.a.check()"
   ]
  },
  {
   "cell_type": "code",
   "execution_count": 19,
   "id": "50c260bc",
   "metadata": {
    "execution": {
     "iopub.execute_input": "2022-01-25T07:50:33.116470Z",
     "iopub.status.busy": "2022-01-25T07:50:33.115744Z",
     "iopub.status.idle": "2022-01-25T07:50:33.117108Z",
     "shell.execute_reply": "2022-01-25T07:50:33.117692Z"
    },
    "papermill": {
     "duration": 0.046229,
     "end_time": "2022-01-25T07:50:33.117878",
     "exception": false,
     "start_time": "2022-01-25T07:50:33.071649",
     "status": "completed"
    },
    "tags": []
   },
   "outputs": [],
   "source": [
    "# Lines below will give you a hint or solution code\n",
    "#step_6.a.hint()\n",
    "#step_6.a.solution_plot()"
   ]
  },
  {
   "cell_type": "markdown",
   "id": "63601b92",
   "metadata": {
    "papermill": {
     "duration": 0.039823,
     "end_time": "2022-01-25T07:50:33.197863",
     "exception": false,
     "start_time": "2022-01-25T07:50:33.158040",
     "status": "completed"
    },
    "tags": []
   },
   "source": [
    "#### Part B\n",
    "\n",
    "Using the regression lines, what conclusions can you draw about the effects of chocolate and price on candy popularity?"
   ]
  },
  {
   "cell_type": "code",
   "execution_count": 20,
   "id": "60987dcc",
   "metadata": {
    "execution": {
     "iopub.execute_input": "2022-01-25T07:50:33.280038Z",
     "iopub.status.busy": "2022-01-25T07:50:33.279407Z",
     "iopub.status.idle": "2022-01-25T07:50:33.282277Z",
     "shell.execute_reply": "2022-01-25T07:50:33.282839Z"
    },
    "papermill": {
     "duration": 0.045372,
     "end_time": "2022-01-25T07:50:33.283005",
     "exception": false,
     "start_time": "2022-01-25T07:50:33.237633",
     "status": "completed"
    },
    "tags": []
   },
   "outputs": [],
   "source": [
    "#step_6.b.hint()"
   ]
  },
  {
   "cell_type": "code",
   "execution_count": 21,
   "id": "de733eb9",
   "metadata": {
    "execution": {
     "iopub.execute_input": "2022-01-25T07:50:33.366408Z",
     "iopub.status.busy": "2022-01-25T07:50:33.365796Z",
     "iopub.status.idle": "2022-01-25T07:50:33.371301Z",
     "shell.execute_reply": "2022-01-25T07:50:33.371929Z",
     "shell.execute_reply.started": "2022-01-25T07:49:51.538763Z"
    },
    "papermill": {
     "duration": 0.048913,
     "end_time": "2022-01-25T07:50:33.372091",
     "exception": false,
     "start_time": "2022-01-25T07:50:33.323178",
     "status": "completed"
    },
    "tags": []
   },
   "outputs": [
    {
     "data": {
      "application/javascript": [
       "parent.postMessage({\"jupyterEvent\": \"custom.exercise_interaction\", \"data\": {\"interactionType\": 3, \"questionType\": 4, \"questionId\": \"6.2_ThinkColorReg\", \"learnToolsVersion\": \"0.3.4\", \"valueTowardsCompletion\": 0.0, \"failureMessage\": \"\", \"exceptionClass\": \"\", \"trace\": \"\", \"outcomeType\": 4}}, \"*\")"
      ],
      "text/plain": [
       "<IPython.core.display.Javascript object>"
      ]
     },
     "metadata": {},
     "output_type": "display_data"
    },
    {
     "data": {
      "text/markdown": [
       "<span style=\"color:#33cc99\">Solution:</span> We'll begin with the regression line for chocolate candies. Since this line has a slightly positive slope, we can say that more expensive chocolate candies tend to be more popular (than relatively cheaper chocolate candies).  Likewise, since the regression line for candies without chocolate has a negative slope, we can say that if candies don't contain chocolate, they tend to be more popular when they are cheaper.  One important note, however, is that the dataset is quite small -- so we shouldn't invest too much trust in these patterns!  To inspire more confidence in the results, we should add more candies to the dataset."
      ],
      "text/plain": [
       "Solution: We'll begin with the regression line for chocolate candies. Since this line has a slightly positive slope, we can say that more expensive chocolate candies tend to be more popular (than relatively cheaper chocolate candies).  Likewise, since the regression line for candies without chocolate has a negative slope, we can say that if candies don't contain chocolate, they tend to be more popular when they are cheaper.  One important note, however, is that the dataset is quite small -- so we shouldn't invest too much trust in these patterns!  To inspire more confidence in the results, we should add more candies to the dataset."
      ]
     },
     "metadata": {},
     "output_type": "display_data"
    }
   ],
   "source": [
    "# Check your answer (Run this code cell to receive credit!)\n",
    "step_6.b.solution()"
   ]
  },
  {
   "cell_type": "markdown",
   "id": "713ddbf0",
   "metadata": {
    "papermill": {
     "duration": 0.040912,
     "end_time": "2022-01-25T07:50:33.454530",
     "exception": false,
     "start_time": "2022-01-25T07:50:33.413618",
     "status": "completed"
    },
    "tags": []
   },
   "source": [
    "## Step 7: Everybody loves chocolate.\n",
    "\n",
    "#### Part A\n",
    "\n",
    "Create a categorical scatter plot to highlight the relationship between `'chocolate'` and `'winpercent'`.  Put `'chocolate'` on the (horizontal) x-axis, and `'winpercent'` on the (vertical) y-axis."
   ]
  },
  {
   "cell_type": "code",
   "execution_count": 22,
   "id": "713ce899",
   "metadata": {
    "execution": {
     "iopub.execute_input": "2022-01-25T07:50:33.539616Z",
     "iopub.status.busy": "2022-01-25T07:50:33.538958Z",
     "iopub.status.idle": "2022-01-25T07:50:33.737825Z",
     "shell.execute_reply": "2022-01-25T07:50:33.737158Z",
     "shell.execute_reply.started": "2022-01-25T07:49:54.609368Z"
    },
    "papermill": {
     "duration": 0.242731,
     "end_time": "2022-01-25T07:50:33.737970",
     "exception": false,
     "start_time": "2022-01-25T07:50:33.495239",
     "status": "completed"
    },
    "tags": []
   },
   "outputs": [
    {
     "data": {
      "application/javascript": [
       "parent.postMessage({\"jupyterEvent\": \"custom.exercise_interaction\", \"data\": {\"outcomeType\": 1, \"valueTowardsCompletion\": 0.3333333333333333, \"interactionType\": 1, \"questionType\": 2, \"questionId\": \"7.1_PlotSwarm\", \"learnToolsVersion\": \"0.3.4\", \"failureMessage\": \"\", \"exceptionClass\": \"\", \"trace\": \"\"}}, \"*\")"
      ],
      "text/plain": [
       "<IPython.core.display.Javascript object>"
      ]
     },
     "metadata": {},
     "output_type": "display_data"
    },
    {
     "data": {
      "text/markdown": [
       "<span style=\"color:#33cc33\">Correct</span>"
      ],
      "text/plain": [
       "Correct"
      ]
     },
     "metadata": {},
     "output_type": "display_data"
    },
    {
     "data": {
      "image/png": "[encoded data removed]",
      "text/plain": [
       "<Figure size 432x288 with 1 Axes>"
      ]
     },
     "metadata": {
      "needs_background": "light"
     },
     "output_type": "display_data"
    }
   ],
   "source": [
    "# Scatter plot showing the relationship between 'chocolate' and 'winpercent'\n",
    "____ # Your code here\n",
    "sns.swarmplot(x=candy_data['chocolate'], y=candy_data['winpercent'])\n",
    "# Check your answer\n",
    "step_7.a.check()"
   ]
  },
  {
   "cell_type": "code",
   "execution_count": 23,
   "id": "5e6f6b2e",
   "metadata": {
    "execution": {
     "iopub.execute_input": "2022-01-25T07:50:33.829457Z",
     "iopub.status.busy": "2022-01-25T07:50:33.828849Z",
     "iopub.status.idle": "2022-01-25T07:50:33.830263Z",
     "shell.execute_reply": "2022-01-25T07:50:33.830847Z"
    },
    "papermill": {
     "duration": 0.049296,
     "end_time": "2022-01-25T07:50:33.831005",
     "exception": false,
     "start_time": "2022-01-25T07:50:33.781709",
     "status": "completed"
    },
    "tags": []
   },
   "outputs": [],
   "source": [
    "# Lines below will give you a hint or solution code\n",
    "#step_7.a.hint()\n",
    "#step_7.a.solution_plot()"
   ]
  },
  {
   "cell_type": "markdown",
   "id": "2a867453",
   "metadata": {
    "papermill": {
     "duration": 0.042494,
     "end_time": "2022-01-25T07:50:33.915968",
     "exception": false,
     "start_time": "2022-01-25T07:50:33.873474",
     "status": "completed"
    },
    "tags": []
   },
   "source": [
    "#### Part B\n",
    "\n",
    "You decide to dedicate a section of your report to the fact that chocolate candies tend to be more popular than candies without chocolate.  Which plot is more appropriate to tell this story: the plot from **Step 6**, or the plot from **Step 7**?"
   ]
  },
  {
   "cell_type": "code",
   "execution_count": 24,
   "id": "07bc9498",
   "metadata": {
    "execution": {
     "iopub.execute_input": "2022-01-25T07:50:34.005077Z",
     "iopub.status.busy": "2022-01-25T07:50:34.004434Z",
     "iopub.status.idle": "2022-01-25T07:50:34.007355Z",
     "shell.execute_reply": "2022-01-25T07:50:34.007936Z"
    },
    "papermill": {
     "duration": 0.04895,
     "end_time": "2022-01-25T07:50:34.008104",
     "exception": false,
     "start_time": "2022-01-25T07:50:33.959154",
     "status": "completed"
    },
    "tags": []
   },
   "outputs": [],
   "source": [
    "#step_7.b.hint()"
   ]
  },
  {
   "cell_type": "code",
   "execution_count": 25,
   "id": "76e334c6",
   "metadata": {
    "execution": {
     "iopub.execute_input": "2022-01-25T07:50:34.106005Z",
     "iopub.status.busy": "2022-01-25T07:50:34.105168Z",
     "iopub.status.idle": "2022-01-25T07:50:34.111065Z",
     "shell.execute_reply": "2022-01-25T07:50:34.111582Z",
     "shell.execute_reply.started": "2022-01-25T07:49:58.891653Z"
    },
    "papermill": {
     "duration": 0.059755,
     "end_time": "2022-01-25T07:50:34.111776",
     "exception": false,
     "start_time": "2022-01-25T07:50:34.052021",
     "status": "completed"
    },
    "tags": []
   },
   "outputs": [
    {
     "data": {
      "application/javascript": [
       "parent.postMessage({\"jupyterEvent\": \"custom.exercise_interaction\", \"data\": {\"interactionType\": 3, \"questionType\": 4, \"questionId\": \"7.2_ThinkSwarm\", \"learnToolsVersion\": \"0.3.4\", \"valueTowardsCompletion\": 0.0, \"failureMessage\": \"\", \"exceptionClass\": \"\", \"trace\": \"\", \"outcomeType\": 4}}, \"*\")"
      ],
      "text/plain": [
       "<IPython.core.display.Javascript object>"
      ]
     },
     "metadata": {},
     "output_type": "display_data"
    },
    {
     "data": {
      "text/markdown": [
       "<span style=\"color:#33cc99\">Solution:</span> In this case, the categorical scatter plot from **Step 7** is the more appropriate plot. While both plots tell the desired story, the plot from **Step 6** conveys far more information that could distract from the main point."
      ],
      "text/plain": [
       "Solution: In this case, the categorical scatter plot from **Step 7** is the more appropriate plot. While both plots tell the desired story, the plot from **Step 6** conveys far more information that could distract from the main point."
      ]
     },
     "metadata": {},
     "output_type": "display_data"
    }
   ],
   "source": [
    "# Check your answer (Run this code cell to receive credit!)\n",
    "step_7.b.solution()"
   ]
  },
  {
   "cell_type": "markdown",
   "id": "7537beb0",
   "metadata": {
    "papermill": {
     "duration": 0.043553,
     "end_time": "2022-01-25T07:50:34.199955",
     "exception": false,
     "start_time": "2022-01-25T07:50:34.156402",
     "status": "completed"
    },
    "tags": []
   },
   "source": [
    "---\n",
    "\n",
    "\n",
    "\n",
    "\n",
    "*Have questions or comments? Visit the [course discussion forum](https://www.kaggle.com/learn/data-visualization/discussion) to chat with other learners.*"
   ]
  }
 ],
 "metadata": {
  "kernelspec": {
   "display_name": "Python 3",
   "language": "python",
   "name": "python3"
  },
  "language_info": {
   "codemirror_mode": {
    "name": "ipython",
    "version": 3
   },
   "file_extension": ".py",
   "mimetype": "text/x-python",
   "name": "python",
   "nbconvert_exporter": "python",
   "pygments_lexer": "ipython3",
   "version": "3.7.12"
  },
  "papermill": {
   "default_parameters": {},
   "duration": 16.16681,
   "end_time": "2022-01-25T07:50:34.954528",
   "environment_variables": {},
   "exception": null,
   "input_path": "__notebook__.ipynb",
   "output_path": "__notebook__.ipynb",
   "parameters": {},
   "start_time": "2022-01-25T07:50:18.787718",
   "version": "2.3.3"
  }
 },
 "nbformat": 4,
 "nbformat_minor": 5
}
