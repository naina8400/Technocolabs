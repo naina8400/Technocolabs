{
 "cells": [
  {
   "cell_type": "markdown",
   "id": "27223327",
   "metadata": {
    "papermill": {
     "duration": 0.031051,
     "end_time": "2022-01-25T08:57:22.956385",
     "exception": false,
     "start_time": "2022-01-25T08:57:22.925334",
     "status": "completed"
    },
    "tags": []
   },
   "source": [
    "# Setup\n",
    "\n",
    "The questions below will give you feedback on your work. Run the following cell to set up the feedback system."
   ]
  },
  {
   "cell_type": "code",
   "execution_count": 1,
   "id": "91b089f9",
   "metadata": {
    "execution": {
     "iopub.execute_input": "2022-01-25T08:57:23.025249Z",
     "iopub.status.busy": "2022-01-25T08:57:23.024431Z",
     "iopub.status.idle": "2022-01-25T08:57:23.076338Z",
     "shell.execute_reply": "2022-01-25T08:57:23.077021Z",
     "shell.execute_reply.started": "2022-01-25T08:56:19.014503Z"
    },
    "papermill": {
     "duration": 0.091632,
     "end_time": "2022-01-25T08:57:23.077364",
     "exception": false,
     "start_time": "2022-01-25T08:57:22.985732",
     "status": "completed"
    },
    "tags": []
   },
   "outputs": [
    {
     "name": "stdout",
     "output_type": "stream",
     "text": [
      "Setup Complete\n"
     ]
    }
   ],
   "source": [
    "# Set up code checking\n",
    "import os\n",
    "if not os.path.exists(\"../input/train.csv\"):\n",
    "    os.symlink(\"../input/home-data-for-ml-course/train.csv\", \"../input/train.csv\")  \n",
    "    os.symlink(\"../input/home-data-for-ml-course/test.csv\", \"../input/test.csv\") \n",
    "from learntools.core import binder\n",
    "binder.bind(globals())\n",
    "from learntools.ml_intermediate.ex3 import *\n",
    "print(\"Setup Complete\")"
   ]
  },
  {
   "cell_type": "markdown",
   "id": "c9fb252f",
   "metadata": {
    "papermill": {
     "duration": 0.029801,
     "end_time": "2022-01-25T08:57:23.139445",
     "exception": false,
     "start_time": "2022-01-25T08:57:23.109644",
     "status": "completed"
    },
    "tags": []
   },
   "source": [
    "In this exercise, you will work with data from the [Housing Prices Competition for Kaggle Learn Users](https://www.kaggle.com/c/home-data-for-ml-course). \n",
    "\n",
    "![Ames Housing dataset image](https://i.imgur.com/lTJVG4e.png)\n",
    "\n",
    "Run the next code cell without changes to load the training and validation sets in `X_train`, `X_valid`, `y_train`, and `y_valid`.  The test set is loaded in `X_test`."
   ]
  },
  {
   "cell_type": "code",
   "execution_count": 2,
   "id": "a0357c9c",
   "metadata": {
    "execution": {
     "iopub.execute_input": "2022-01-25T08:57:23.210902Z",
     "iopub.status.busy": "2022-01-25T08:57:23.210043Z",
     "iopub.status.idle": "2022-01-25T08:57:24.366636Z",
     "shell.execute_reply": "2022-01-25T08:57:24.365952Z",
     "shell.execute_reply.started": "2022-01-25T08:56:19.076003Z"
    },
    "papermill": {
     "duration": 1.195973,
     "end_time": "2022-01-25T08:57:24.366776",
     "exception": false,
     "start_time": "2022-01-25T08:57:23.170803",
     "status": "completed"
    },
    "tags": []
   },
   "outputs": [],
   "source": [
    "import pandas as pd\n",
    "from sklearn.model_selection import train_test_split\n",
    "\n",
    "# Read the data\n",
    "X = pd.read_csv('../input/train.csv', index_col='Id') \n",
    "X_test = pd.read_csv('../input/test.csv', index_col='Id')\n",
    "\n",
    "# Remove rows with missing target, separate target from predictors\n",
    "X.dropna(axis=0, subset=['SalePrice'], inplace=True)\n",
    "y = X.SalePrice\n",
    "X.drop(['SalePrice'], axis=1, inplace=True)\n",
    "\n",
    "# To keep things simple, we'll drop columns with missing values\n",
    "cols_with_missing = [col for col in X.columns if X[col].isnull().any()] \n",
    "X.drop(cols_with_missing, axis=1, inplace=True)\n",
    "X_test.drop(cols_with_missing, axis=1, inplace=True)\n",
    "\n",
    "# Break off validation set from training data\n",
    "X_train, X_valid, y_train, y_valid = train_test_split(X, y,\n",
    "                                                      train_size=0.8, test_size=0.2,\n",
    "                                                      random_state=0)"
   ]
  },
  {
   "cell_type": "markdown",
   "id": "9dae4991",
   "metadata": {
    "papermill": {
     "duration": 0.028732,
     "end_time": "2022-01-25T08:57:24.425252",
     "exception": false,
     "start_time": "2022-01-25T08:57:24.396520",
     "status": "completed"
    },
    "tags": []
   },
   "source": [
    "Use the next code cell to print the first five rows of the data."
   ]
  },
  {
   "cell_type": "code",
   "execution_count": 3,
   "id": "bb7a145f",
   "metadata": {
    "execution": {
     "iopub.execute_input": "2022-01-25T08:57:24.495979Z",
     "iopub.status.busy": "2022-01-25T08:57:24.494948Z",
     "iopub.status.idle": "2022-01-25T08:57:24.521225Z",
     "shell.execute_reply": "2022-01-25T08:57:24.520517Z",
     "shell.execute_reply.started": "2022-01-25T08:56:20.158786Z"
    },
    "papermill": {
     "duration": 0.065971,
     "end_time": "2022-01-25T08:57:24.521390",
     "exception": false,
     "start_time": "2022-01-25T08:57:24.455419",
     "status": "completed"
    },
    "tags": []
   },
   "outputs": [
    {
     "data": {
      "text/html": [
       "<div>\n",
       "<style scoped>\n",
       "    .dataframe tbody tr th:only-of-type {\n",
       "        vertical-align: middle;\n",
       "    }\n",
       "\n",
       "    .dataframe tbody tr th {\n",
       "        vertical-align: top;\n",
       "    }\n",
       "\n",
       "    .dataframe thead th {\n",
       "        text-align: right;\n",
       "    }\n",
       "</style>\n",
       "<table border=\"1\" class=\"dataframe\">\n",
       "  <thead>\n",
       "    <tr style=\"text-align: right;\">\n",
       "      <th></th>\n",
       "      <th>MSSubClass</th>\n",
       "      <th>MSZoning</th>\n",
       "      <th>LotArea</th>\n",
       "      <th>Street</th>\n",
       "      <th>LotShape</th>\n",
       "      <th>LandContour</th>\n",
       "      <th>Utilities</th>\n",
       "      <th>LotConfig</th>\n",
       "      <th>LandSlope</th>\n",
       "      <th>Neighborhood</th>\n",
       "      <th>...</th>\n",
       "      <th>OpenPorchSF</th>\n",
       "      <th>EnclosedPorch</th>\n",
       "      <th>3SsnPorch</th>\n",
       "      <th>ScreenPorch</th>\n",
       "      <th>PoolArea</th>\n",
       "      <th>MiscVal</th>\n",
       "      <th>MoSold</th>\n",
       "      <th>YrSold</th>\n",
       "      <th>SaleType</th>\n",
       "      <th>SaleCondition</th>\n",
       "    </tr>\n",
       "    <tr>\n",
       "      <th>Id</th>\n",
       "      <th></th>\n",
       "      <th></th>\n",
       "      <th></th>\n",
       "      <th></th>\n",
       "      <th></th>\n",
       "      <th></th>\n",
       "      <th></th>\n",
       "      <th></th>\n",
       "      <th></th>\n",
       "      <th></th>\n",
       "      <th></th>\n",
       "      <th></th>\n",
       "      <th></th>\n",
       "      <th></th>\n",
       "      <th></th>\n",
       "      <th></th>\n",
       "      <th></th>\n",
       "      <th></th>\n",
       "      <th></th>\n",
       "      <th></th>\n",
       "      <th></th>\n",
       "    </tr>\n",
       "  </thead>\n",
       "  <tbody>\n",
       "    <tr>\n",
       "      <th>619</th>\n",
       "      <td>20</td>\n",
       "      <td>RL</td>\n",
       "      <td>11694</td>\n",
       "      <td>Pave</td>\n",
       "      <td>Reg</td>\n",
       "      <td>Lvl</td>\n",
       "      <td>AllPub</td>\n",
       "      <td>Inside</td>\n",
       "      <td>Gtl</td>\n",
       "      <td>NridgHt</td>\n",
       "      <td>...</td>\n",
       "      <td>108</td>\n",
       "      <td>0</td>\n",
       "      <td>0</td>\n",
       "      <td>260</td>\n",
       "      <td>0</td>\n",
       "      <td>0</td>\n",
       "      <td>7</td>\n",
       "      <td>2007</td>\n",
       "      <td>New</td>\n",
       "      <td>Partial</td>\n",
       "    </tr>\n",
       "    <tr>\n",
       "      <th>871</th>\n",
       "      <td>20</td>\n",
       "      <td>RL</td>\n",
       "      <td>6600</td>\n",
       "      <td>Pave</td>\n",
       "      <td>Reg</td>\n",
       "      <td>Lvl</td>\n",
       "      <td>AllPub</td>\n",
       "      <td>Inside</td>\n",
       "      <td>Gtl</td>\n",
       "      <td>NAmes</td>\n",
       "      <td>...</td>\n",
       "      <td>0</td>\n",
       "      <td>0</td>\n",
       "      <td>0</td>\n",
       "      <td>0</td>\n",
       "      <td>0</td>\n",
       "      <td>0</td>\n",
       "      <td>8</td>\n",
       "      <td>2009</td>\n",
       "      <td>WD</td>\n",
       "      <td>Normal</td>\n",
       "    </tr>\n",
       "    <tr>\n",
       "      <th>93</th>\n",
       "      <td>30</td>\n",
       "      <td>RL</td>\n",
       "      <td>13360</td>\n",
       "      <td>Pave</td>\n",
       "      <td>IR1</td>\n",
       "      <td>HLS</td>\n",
       "      <td>AllPub</td>\n",
       "      <td>Inside</td>\n",
       "      <td>Gtl</td>\n",
       "      <td>Crawfor</td>\n",
       "      <td>...</td>\n",
       "      <td>0</td>\n",
       "      <td>44</td>\n",
       "      <td>0</td>\n",
       "      <td>0</td>\n",
       "      <td>0</td>\n",
       "      <td>0</td>\n",
       "      <td>8</td>\n",
       "      <td>2009</td>\n",
       "      <td>WD</td>\n",
       "      <td>Normal</td>\n",
       "    </tr>\n",
       "    <tr>\n",
       "      <th>818</th>\n",
       "      <td>20</td>\n",
       "      <td>RL</td>\n",
       "      <td>13265</td>\n",
       "      <td>Pave</td>\n",
       "      <td>IR1</td>\n",
       "      <td>Lvl</td>\n",
       "      <td>AllPub</td>\n",
       "      <td>CulDSac</td>\n",
       "      <td>Gtl</td>\n",
       "      <td>Mitchel</td>\n",
       "      <td>...</td>\n",
       "      <td>59</td>\n",
       "      <td>0</td>\n",
       "      <td>0</td>\n",
       "      <td>0</td>\n",
       "      <td>0</td>\n",
       "      <td>0</td>\n",
       "      <td>7</td>\n",
       "      <td>2008</td>\n",
       "      <td>WD</td>\n",
       "      <td>Normal</td>\n",
       "    </tr>\n",
       "    <tr>\n",
       "      <th>303</th>\n",
       "      <td>20</td>\n",
       "      <td>RL</td>\n",
       "      <td>13704</td>\n",
       "      <td>Pave</td>\n",
       "      <td>IR1</td>\n",
       "      <td>Lvl</td>\n",
       "      <td>AllPub</td>\n",
       "      <td>Corner</td>\n",
       "      <td>Gtl</td>\n",
       "      <td>CollgCr</td>\n",
       "      <td>...</td>\n",
       "      <td>81</td>\n",
       "      <td>0</td>\n",
       "      <td>0</td>\n",
       "      <td>0</td>\n",
       "      <td>0</td>\n",
       "      <td>0</td>\n",
       "      <td>1</td>\n",
       "      <td>2006</td>\n",
       "      <td>WD</td>\n",
       "      <td>Normal</td>\n",
       "    </tr>\n",
       "  </tbody>\n",
       "</table>\n",
       "<p>5 rows × 60 columns</p>\n",
       "</div>"
      ],
      "text/plain": [
       "     MSSubClass MSZoning  LotArea Street LotShape LandContour Utilities  \\\n",
       "Id                                                                        \n",
       "619          20       RL    11694   Pave      Reg         Lvl    AllPub   \n",
       "871          20       RL     6600   Pave      Reg         Lvl    AllPub   \n",
       "93           30       RL    13360   Pave      IR1         HLS    AllPub   \n",
       "818          20       RL    13265   Pave      IR1         Lvl    AllPub   \n",
       "303          20       RL    13704   Pave      IR1         Lvl    AllPub   \n",
       "\n",
       "    LotConfig LandSlope Neighborhood  ... OpenPorchSF EnclosedPorch 3SsnPorch  \\\n",
       "Id                                    ...                                       \n",
       "619    Inside       Gtl      NridgHt  ...         108             0         0   \n",
       "871    Inside       Gtl        NAmes  ...           0             0         0   \n",
       "93     Inside       Gtl      Crawfor  ...           0            44         0   \n",
       "818   CulDSac       Gtl      Mitchel  ...          59             0         0   \n",
       "303    Corner       Gtl      CollgCr  ...          81             0         0   \n",
       "\n",
       "    ScreenPorch  PoolArea  MiscVal  MoSold  YrSold SaleType SaleCondition  \n",
       "Id                                                                         \n",
       "619         260         0        0       7    2007      New       Partial  \n",
       "871           0         0        0       8    2009       WD        Normal  \n",
       "93            0         0        0       8    2009       WD        Normal  \n",
       "818           0         0        0       7    2008       WD        Normal  \n",
       "303           0         0        0       1    2006       WD        Normal  \n",
       "\n",
       "[5 rows x 60 columns]"
      ]
     },
     "execution_count": 3,
     "metadata": {},
     "output_type": "execute_result"
    }
   ],
   "source": [
    "X_train.head()"
   ]
  },
  {
   "cell_type": "markdown",
   "id": "7df01044",
   "metadata": {
    "papermill": {
     "duration": 0.030164,
     "end_time": "2022-01-25T08:57:24.581604",
     "exception": false,
     "start_time": "2022-01-25T08:57:24.551440",
     "status": "completed"
    },
    "tags": []
   },
   "source": [
    "Notice that the dataset contains both numerical and categorical variables.  You'll need to encode the categorical data before training a model.\n",
    "\n",
    "To compare different models, you'll use the same `score_dataset()` function from the tutorial.  This function reports the [mean absolute error](https://en.wikipedia.org/wiki/Mean_absolute_error) (MAE) from a random forest model."
   ]
  },
  {
   "cell_type": "code",
   "execution_count": 4,
   "id": "cd5d49d1",
   "metadata": {
    "execution": {
     "iopub.execute_input": "2022-01-25T08:57:24.650637Z",
     "iopub.status.busy": "2022-01-25T08:57:24.649843Z",
     "iopub.status.idle": "2022-01-25T08:57:24.843570Z",
     "shell.execute_reply": "2022-01-25T08:57:24.842972Z",
     "shell.execute_reply.started": "2022-01-25T08:56:20.189083Z"
    },
    "papermill": {
     "duration": 0.230818,
     "end_time": "2022-01-25T08:57:24.843775",
     "exception": false,
     "start_time": "2022-01-25T08:57:24.612957",
     "status": "completed"
    },
    "tags": []
   },
   "outputs": [],
   "source": [
    "from sklearn.ensemble import RandomForestRegressor\n",
    "from sklearn.metrics import mean_absolute_error\n",
    "\n",
    "# function for comparing different approaches\n",
    "def score_dataset(X_train, X_valid, y_train, y_valid):\n",
    "    model = RandomForestRegressor(n_estimators=100, random_state=0)\n",
    "    model.fit(X_train, y_train)\n",
    "    preds = model.predict(X_valid)\n",
    "    return mean_absolute_error(y_valid, preds)"
   ]
  },
  {
   "cell_type": "markdown",
   "id": "a6a02a18",
   "metadata": {
    "papermill": {
     "duration": 0.029961,
     "end_time": "2022-01-25T08:57:24.903756",
     "exception": false,
     "start_time": "2022-01-25T08:57:24.873795",
     "status": "completed"
    },
    "tags": []
   },
   "source": [
    "# Step 1: Drop columns with categorical data\n",
    "\n",
    "You'll get started with the most straightforward approach.  Use the code cell below to preprocess the data in `X_train` and `X_valid` to remove columns with categorical data.  Set the preprocessed DataFrames to `drop_X_train` and `drop_X_valid`, respectively.  "
   ]
  },
  {
   "cell_type": "code",
   "execution_count": 5,
   "id": "91b61925",
   "metadata": {
    "execution": {
     "iopub.execute_input": "2022-01-25T08:57:24.975839Z",
     "iopub.status.busy": "2022-01-25T08:57:24.974602Z",
     "iopub.status.idle": "2022-01-25T08:57:24.987549Z",
     "shell.execute_reply": "2022-01-25T08:57:24.988054Z",
     "shell.execute_reply.started": "2022-01-25T08:56:20.361763Z"
    },
    "papermill": {
     "duration": 0.053939,
     "end_time": "2022-01-25T08:57:24.988238",
     "exception": false,
     "start_time": "2022-01-25T08:57:24.934299",
     "status": "completed"
    },
    "tags": []
   },
   "outputs": [
    {
     "data": {
      "application/javascript": [
       "parent.postMessage({\"jupyterEvent\": \"custom.exercise_interaction\", \"data\": {\"outcomeType\": 1, \"valueTowardsCompletion\": 0.5, \"interactionType\": 1, \"questionType\": 2, \"questionId\": \"1_Drop\", \"learnToolsVersion\": \"0.3.4\", \"failureMessage\": \"\", \"exceptionClass\": \"\", \"trace\": \"\"}}, \"*\")"
      ],
      "text/plain": [
       "<IPython.core.display.Javascript object>"
      ]
     },
     "metadata": {},
     "output_type": "display_data"
    },
    {
     "data": {
      "text/markdown": [
       "<span style=\"color:#33cc33\">Correct</span>"
      ],
      "text/plain": [
       "Correct"
      ]
     },
     "metadata": {},
     "output_type": "display_data"
    }
   ],
   "source": [
    "# Fill in the lines below: drop columns in training and validation data\n",
    "drop_X_train = X_train.select_dtypes(exclude=['object'])\n",
    "drop_X_valid = X_valid.select_dtypes(exclude=['object'])\n",
    "\n",
    "# Check your answers\n",
    "step_1.check()"
   ]
  },
  {
   "cell_type": "code",
   "execution_count": 6,
   "id": "f2036653",
   "metadata": {
    "execution": {
     "iopub.execute_input": "2022-01-25T08:57:25.054170Z",
     "iopub.status.busy": "2022-01-25T08:57:25.052925Z",
     "iopub.status.idle": "2022-01-25T08:57:25.056252Z",
     "shell.execute_reply": "2022-01-25T08:57:25.056785Z",
     "shell.execute_reply.started": "2022-01-25T08:56:20.378502Z"
    },
    "papermill": {
     "duration": 0.037783,
     "end_time": "2022-01-25T08:57:25.056954",
     "exception": false,
     "start_time": "2022-01-25T08:57:25.019171",
     "status": "completed"
    },
    "tags": []
   },
   "outputs": [],
   "source": [
    "# Lines below will give you a hint or solution code\n",
    "#step_1.hint()\n",
    "#step_1.solution()"
   ]
  },
  {
   "cell_type": "markdown",
   "id": "8d993fb8",
   "metadata": {
    "papermill": {
     "duration": 0.03056,
     "end_time": "2022-01-25T08:57:25.118268",
     "exception": false,
     "start_time": "2022-01-25T08:57:25.087708",
     "status": "completed"
    },
    "tags": []
   },
   "source": [
    "Run the next code cell to get the MAE for this approach."
   ]
  },
  {
   "cell_type": "code",
   "execution_count": 7,
   "id": "e9da7934",
   "metadata": {
    "execution": {
     "iopub.execute_input": "2022-01-25T08:57:25.185713Z",
     "iopub.status.busy": "2022-01-25T08:57:25.184605Z",
     "iopub.status.idle": "2022-01-25T08:57:26.408208Z",
     "shell.execute_reply": "2022-01-25T08:57:26.408778Z",
     "shell.execute_reply.started": "2022-01-25T08:56:20.382917Z"
    },
    "papermill": {
     "duration": 1.258717,
     "end_time": "2022-01-25T08:57:26.408954",
     "exception": false,
     "start_time": "2022-01-25T08:57:25.150237",
     "status": "completed"
    },
    "tags": []
   },
   "outputs": [
    {
     "name": "stdout",
     "output_type": "stream",
     "text": [
      "MAE from Approach 1 (Drop categorical variables):\n",
      "17837.82570776256\n"
     ]
    }
   ],
   "source": [
    "print(\"MAE from Approach 1 (Drop categorical variables):\")\n",
    "print(score_dataset(drop_X_train, drop_X_valid, y_train, y_valid))"
   ]
  },
  {
   "cell_type": "markdown",
   "id": "28a35892",
   "metadata": {
    "papermill": {
     "duration": 0.03049,
     "end_time": "2022-01-25T08:57:26.470933",
     "exception": false,
     "start_time": "2022-01-25T08:57:26.440443",
     "status": "completed"
    },
    "tags": []
   },
   "source": [
    "Before jumping into ordinal encoding, we'll investigate the dataset.  Specifically, we'll look at the `'Condition2'` column.  The code cell below prints the unique entries in both the training and validation sets."
   ]
  },
  {
   "cell_type": "code",
   "execution_count": 8,
   "id": "e6bce74f",
   "metadata": {
    "execution": {
     "iopub.execute_input": "2022-01-25T08:57:26.536644Z",
     "iopub.status.busy": "2022-01-25T08:57:26.535940Z",
     "iopub.status.idle": "2022-01-25T08:57:26.542304Z",
     "shell.execute_reply": "2022-01-25T08:57:26.543034Z",
     "shell.execute_reply.started": "2022-01-25T08:56:21.627963Z"
    },
    "papermill": {
     "duration": 0.04055,
     "end_time": "2022-01-25T08:57:26.543262",
     "exception": false,
     "start_time": "2022-01-25T08:57:26.502712",
     "status": "completed"
    },
    "tags": []
   },
   "outputs": [
    {
     "name": "stdout",
     "output_type": "stream",
     "text": [
      "Unique values in 'Condition2' column in training data: ['Norm' 'PosA' 'Feedr' 'PosN' 'Artery' 'RRAe']\n",
      "\n",
      "Unique values in 'Condition2' column in validation data: ['Norm' 'RRAn' 'RRNn' 'Artery' 'Feedr' 'PosN']\n"
     ]
    }
   ],
   "source": [
    "print(\"Unique values in 'Condition2' column in training data:\", X_train['Condition2'].unique())\n",
    "print(\"\\nUnique values in 'Condition2' column in validation data:\", X_valid['Condition2'].unique())"
   ]
  },
  {
   "cell_type": "markdown",
   "id": "76833e2b",
   "metadata": {
    "papermill": {
     "duration": 0.030808,
     "end_time": "2022-01-25T08:57:26.606128",
     "exception": false,
     "start_time": "2022-01-25T08:57:26.575320",
     "status": "completed"
    },
    "tags": []
   },
   "source": [
    "# Step 2: Ordinal encoding\n",
    "\n",
    "### Part A\n",
    "\n",
    "If you now write code to: \n",
    "- fit an ordinal encoder to the training data, and then \n",
    "- use it to transform both the training and validation data, \n",
    "\n",
    "you'll get an error.  Can you see why this is the case?  (_You'll need  to use the above output to answer this question._)"
   ]
  },
  {
   "cell_type": "code",
   "execution_count": 9,
   "id": "955c09cb",
   "metadata": {
    "execution": {
     "iopub.execute_input": "2022-01-25T08:57:26.671400Z",
     "iopub.status.busy": "2022-01-25T08:57:26.670755Z",
     "iopub.status.idle": "2022-01-25T08:57:26.676311Z",
     "shell.execute_reply": "2022-01-25T08:57:26.676895Z",
     "shell.execute_reply.started": "2022-01-25T08:56:21.637587Z"
    },
    "papermill": {
     "duration": 0.039688,
     "end_time": "2022-01-25T08:57:26.677072",
     "exception": false,
     "start_time": "2022-01-25T08:57:26.637384",
     "status": "completed"
    },
    "tags": []
   },
   "outputs": [
    {
     "data": {
      "application/javascript": [
       "parent.postMessage({\"jupyterEvent\": \"custom.exercise_interaction\", \"data\": {\"outcomeType\": 1, \"valueTowardsCompletion\": 0.5, \"interactionType\": 1, \"questionType\": 4, \"questionId\": \"2.1_LabelA\", \"learnToolsVersion\": \"0.3.4\", \"failureMessage\": \"\", \"exceptionClass\": \"\", \"trace\": \"\"}}, \"*\")"
      ],
      "text/plain": [
       "<IPython.core.display.Javascript object>"
      ]
     },
     "metadata": {},
     "output_type": "display_data"
    },
    {
     "data": {
      "text/markdown": [
       "<span style=\"color:#33cc33\">Correct:</span> \n",
       "\n",
       "Fitting an ordinal encoder to a column in the training data creates a corresponding integer-valued label for each unique value **that appears in the training data**. In the case that the validation data contains values that don't also appear in the training data, the encoder will throw an error, because these values won't have an integer assigned to them.  Notice that the `'Condition2'` column in the validation data contains the values `'RRAn'` and `'RRNn'`, but these don't appear in the training data -- thus, if we try to use an ordinal encoder with scikit-learn, the code will throw an error."
      ],
      "text/plain": [
       "Correct: \n",
       "\n",
       "Fitting an ordinal encoder to a column in the training data creates a corresponding integer-valued label for each unique value **that appears in the training data**. In the case that the validation data contains values that don't also appear in the training data, the encoder will throw an error, because these values won't have an integer assigned to them.  Notice that the `'Condition2'` column in the validation data contains the values `'RRAn'` and `'RRNn'`, but these don't appear in the training data -- thus, if we try to use an ordinal encoder with scikit-learn, the code will throw an error."
      ]
     },
     "metadata": {},
     "output_type": "display_data"
    }
   ],
   "source": [
    "# Check your answer (Run this code cell to receive credit!)\n",
    "step_2.a.check()"
   ]
  },
  {
   "cell_type": "code",
   "execution_count": 10,
   "id": "333cf3e2",
   "metadata": {
    "execution": {
     "iopub.execute_input": "2022-01-25T08:57:26.744656Z",
     "iopub.status.busy": "2022-01-25T08:57:26.744040Z",
     "iopub.status.idle": "2022-01-25T08:57:26.746960Z",
     "shell.execute_reply": "2022-01-25T08:57:26.747511Z",
     "shell.execute_reply.started": "2022-01-25T08:56:21.652226Z"
    },
    "papermill": {
     "duration": 0.038082,
     "end_time": "2022-01-25T08:57:26.747691",
     "exception": false,
     "start_time": "2022-01-25T08:57:26.709609",
     "status": "completed"
    },
    "tags": []
   },
   "outputs": [],
   "source": [
    "#step_2.a.hint()"
   ]
  },
  {
   "cell_type": "markdown",
   "id": "fc585c59",
   "metadata": {
    "papermill": {
     "duration": 0.031778,
     "end_time": "2022-01-25T08:57:26.812378",
     "exception": false,
     "start_time": "2022-01-25T08:57:26.780600",
     "status": "completed"
    },
    "tags": []
   },
   "source": [
    "This is a common problem that you'll encounter with real-world data, and there are many approaches to fixing this issue.  For instance, you can write a custom ordinal encoder to deal with new categories.  The simplest approach, however, is to drop the problematic categorical columns.  \n",
    "\n",
    "Run the code cell below to save the problematic columns to a Python list `bad_label_cols`.  Likewise, columns that can be safely ordinal encoded are stored in `good_label_cols`."
   ]
  },
  {
   "cell_type": "code",
   "execution_count": 11,
   "id": "4a3200a3",
   "metadata": {
    "execution": {
     "iopub.execute_input": "2022-01-25T08:57:26.879420Z",
     "iopub.status.busy": "2022-01-25T08:57:26.878768Z",
     "iopub.status.idle": "2022-01-25T08:57:26.894830Z",
     "shell.execute_reply": "2022-01-25T08:57:26.895517Z",
     "shell.execute_reply.started": "2022-01-25T08:56:21.657110Z"
    },
    "papermill": {
     "duration": 0.051573,
     "end_time": "2022-01-25T08:57:26.895759",
     "exception": false,
     "start_time": "2022-01-25T08:57:26.844186",
     "status": "completed"
    },
    "tags": []
   },
   "outputs": [
    {
     "name": "stdout",
     "output_type": "stream",
     "text": [
      "Categorical columns that will be ordinal encoded: ['MSZoning', 'Street', 'LotShape', 'LandContour', 'Utilities', 'LotConfig', 'LandSlope', 'Neighborhood', 'Condition1', 'BldgType', 'HouseStyle', 'RoofStyle', 'Exterior1st', 'Exterior2nd', 'ExterQual', 'ExterCond', 'Foundation', 'Heating', 'HeatingQC', 'CentralAir', 'KitchenQual', 'PavedDrive', 'SaleType', 'SaleCondition']\n",
      "\n",
      "Categorical columns that will be dropped from the dataset: ['Functional', 'RoofMatl', 'Condition2']\n"
     ]
    }
   ],
   "source": [
    "# Categorical columns in the training data\n",
    "object_cols = [col for col in X_train.columns if X_train[col].dtype == \"object\"]\n",
    "\n",
    "# Columns that can be safely ordinal encoded\n",
    "good_label_cols = [col for col in object_cols if \n",
    "                   set(X_valid[col]).issubset(set(X_train[col]))]\n",
    "        \n",
    "# Problematic columns that will be dropped from the dataset\n",
    "bad_label_cols = list(set(object_cols)-set(good_label_cols))\n",
    "        \n",
    "print('Categorical columns that will be ordinal encoded:', good_label_cols)\n",
    "print('\\nCategorical columns that will be dropped from the dataset:', bad_label_cols)"
   ]
  },
  {
   "cell_type": "markdown",
   "id": "8575a911",
   "metadata": {
    "papermill": {
     "duration": 0.033336,
     "end_time": "2022-01-25T08:57:26.962727",
     "exception": false,
     "start_time": "2022-01-25T08:57:26.929391",
     "status": "completed"
    },
    "tags": []
   },
   "source": [
    "### Part B\n",
    "\n",
    "Use the next code cell to ordinal encode the data in `X_train` and `X_valid`.  Set the preprocessed DataFrames to `label_X_train` and `label_X_valid`, respectively.  \n",
    "- We have provided code below to drop the categorical columns in `bad_label_cols` from the dataset. \n",
    "- You should ordinal encode the categorical columns in `good_label_cols`.  "
   ]
  },
  {
   "cell_type": "code",
   "execution_count": 12,
   "id": "a169e94e",
   "metadata": {
    "execution": {
     "iopub.execute_input": "2022-01-25T08:57:27.030723Z",
     "iopub.status.busy": "2022-01-25T08:57:27.030036Z",
     "iopub.status.idle": "2022-01-25T08:57:27.078061Z",
     "shell.execute_reply": "2022-01-25T08:57:27.078547Z",
     "shell.execute_reply.started": "2022-01-25T08:56:21.681035Z"
    },
    "papermill": {
     "duration": 0.083681,
     "end_time": "2022-01-25T08:57:27.078741",
     "exception": false,
     "start_time": "2022-01-25T08:57:26.995060",
     "status": "completed"
    },
    "tags": []
   },
   "outputs": [
    {
     "data": {
      "application/javascript": [
       "parent.postMessage({\"jupyterEvent\": \"custom.exercise_interaction\", \"data\": {\"outcomeType\": 1, \"valueTowardsCompletion\": 0.5, \"interactionType\": 1, \"questionType\": 2, \"questionId\": \"2.2_LabelB\", \"learnToolsVersion\": \"0.3.4\", \"failureMessage\": \"\", \"exceptionClass\": \"\", \"trace\": \"\"}}, \"*\")"
      ],
      "text/plain": [
       "<IPython.core.display.Javascript object>"
      ]
     },
     "metadata": {},
     "output_type": "display_data"
    },
    {
     "data": {
      "text/markdown": [
       "<span style=\"color:#33cc33\">Correct</span>"
      ],
      "text/plain": [
       "Correct"
      ]
     },
     "metadata": {},
     "output_type": "display_data"
    }
   ],
   "source": [
    "from sklearn.preprocessing import OrdinalEncoder\n",
    "\n",
    "# Drop categorical columns that will not be encoded\n",
    "label_X_train = X_train.drop(bad_label_cols, axis=1)\n",
    "label_X_valid = X_valid.drop(bad_label_cols, axis=1)\n",
    "oe = OrdinalEncoder()\n",
    "label_X_train[good_label_cols] = oe.fit_transform(X_train[good_label_cols])\n",
    "label_X_valid[good_label_cols] = oe.transform(X_valid[good_label_cols])\n",
    "# Apply ordinal encoder \n",
    "# Your code here\n",
    "    \n",
    "# Check your answer\n",
    "step_2.b.check()"
   ]
  },
  {
   "cell_type": "code",
   "execution_count": 13,
   "id": "6a20e9f7",
   "metadata": {
    "execution": {
     "iopub.execute_input": "2022-01-25T08:57:27.150969Z",
     "iopub.status.busy": "2022-01-25T08:57:27.149716Z",
     "iopub.status.idle": "2022-01-25T08:57:27.152764Z",
     "shell.execute_reply": "2022-01-25T08:57:27.153292Z",
     "shell.execute_reply.started": "2022-01-25T08:56:21.737280Z"
    },
    "papermill": {
     "duration": 0.040277,
     "end_time": "2022-01-25T08:57:27.153451",
     "exception": false,
     "start_time": "2022-01-25T08:57:27.113174",
     "status": "completed"
    },
    "tags": []
   },
   "outputs": [],
   "source": [
    "# Lines below will give you a hint or solution code\n",
    "#step_2.b.hint()\n",
    "#step_2.b.solution()"
   ]
  },
  {
   "cell_type": "markdown",
   "id": "087f4b05",
   "metadata": {
    "papermill": {
     "duration": 0.033534,
     "end_time": "2022-01-25T08:57:27.220933",
     "exception": false,
     "start_time": "2022-01-25T08:57:27.187399",
     "status": "completed"
    },
    "tags": []
   },
   "source": [
    "Run the next code cell to get the MAE for this approach."
   ]
  },
  {
   "cell_type": "code",
   "execution_count": 14,
   "id": "0034d6d0",
   "metadata": {
    "execution": {
     "iopub.execute_input": "2022-01-25T08:57:27.295616Z",
     "iopub.status.busy": "2022-01-25T08:57:27.294925Z",
     "iopub.status.idle": "2022-01-25T08:57:28.841037Z",
     "shell.execute_reply": "2022-01-25T08:57:28.840226Z",
     "shell.execute_reply.started": "2022-01-25T08:56:21.742594Z"
    },
    "papermill": {
     "duration": 1.586521,
     "end_time": "2022-01-25T08:57:28.841246",
     "exception": false,
     "start_time": "2022-01-25T08:57:27.254725",
     "status": "completed"
    },
    "tags": []
   },
   "outputs": [
    {
     "name": "stdout",
     "output_type": "stream",
     "text": [
      "MAE from Approach 2 (Ordinal Encoding):\n",
      "17098.01649543379\n"
     ]
    }
   ],
   "source": [
    "print(\"MAE from Approach 2 (Ordinal Encoding):\") \n",
    "print(score_dataset(label_X_train, label_X_valid, y_train, y_valid))"
   ]
  },
  {
   "cell_type": "markdown",
   "id": "cee05712",
   "metadata": {
    "papermill": {
     "duration": 0.034183,
     "end_time": "2022-01-25T08:57:28.910605",
     "exception": false,
     "start_time": "2022-01-25T08:57:28.876422",
     "status": "completed"
    },
    "tags": []
   },
   "source": [
    "So far, you've tried two different approaches to dealing with categorical variables.  And, you've seen that encoding categorical data yields better results than removing columns from the dataset.\n",
    "\n",
    "Soon, you'll try one-hot encoding.  Before then, there's one additional topic we need to cover.  Begin by running the next code cell without changes.  "
   ]
  },
  {
   "cell_type": "code",
   "execution_count": 15,
   "id": "51b2dc2b",
   "metadata": {
    "execution": {
     "iopub.execute_input": "2022-01-25T08:57:28.984851Z",
     "iopub.status.busy": "2022-01-25T08:57:28.983804Z",
     "iopub.status.idle": "2022-01-25T08:57:28.998665Z",
     "shell.execute_reply": "2022-01-25T08:57:28.999161Z",
     "shell.execute_reply.started": "2022-01-25T08:56:23.306434Z"
    },
    "papermill": {
     "duration": 0.054312,
     "end_time": "2022-01-25T08:57:28.999327",
     "exception": false,
     "start_time": "2022-01-25T08:57:28.945015",
     "status": "completed"
    },
    "tags": []
   },
   "outputs": [
    {
     "data": {
      "text/plain": [
       "[('Street', 2),\n",
       " ('Utilities', 2),\n",
       " ('CentralAir', 2),\n",
       " ('LandSlope', 3),\n",
       " ('PavedDrive', 3),\n",
       " ('LotShape', 4),\n",
       " ('LandContour', 4),\n",
       " ('ExterQual', 4),\n",
       " ('KitchenQual', 4),\n",
       " ('MSZoning', 5),\n",
       " ('LotConfig', 5),\n",
       " ('BldgType', 5),\n",
       " ('ExterCond', 5),\n",
       " ('HeatingQC', 5),\n",
       " ('Condition2', 6),\n",
       " ('RoofStyle', 6),\n",
       " ('Foundation', 6),\n",
       " ('Heating', 6),\n",
       " ('Functional', 6),\n",
       " ('SaleCondition', 6),\n",
       " ('RoofMatl', 7),\n",
       " ('HouseStyle', 8),\n",
       " ('Condition1', 9),\n",
       " ('SaleType', 9),\n",
       " ('Exterior1st', 15),\n",
       " ('Exterior2nd', 16),\n",
       " ('Neighborhood', 25)]"
      ]
     },
     "execution_count": 15,
     "metadata": {},
     "output_type": "execute_result"
    }
   ],
   "source": [
    "# Get number of unique entries in each column with categorical data\n",
    "object_nunique = list(map(lambda col: X_train[col].nunique(), object_cols))\n",
    "d = dict(zip(object_cols, object_nunique))\n",
    "\n",
    "# Print number of unique entries by column, in ascending order\n",
    "sorted(d.items(), key=lambda x: x[1])"
   ]
  },
  {
   "cell_type": "markdown",
   "id": "e75d1e49",
   "metadata": {
    "papermill": {
     "duration": 0.034625,
     "end_time": "2022-01-25T08:57:29.069575",
     "exception": false,
     "start_time": "2022-01-25T08:57:29.034950",
     "status": "completed"
    },
    "tags": []
   },
   "source": [
    "# Step 3: Investigating cardinality\n",
    "\n",
    "### Part A\n",
    "\n",
    "The output above shows, for each column with categorical data, the number of unique values in the column.  For instance, the `'Street'` column in the training data has two unique values: `'Grvl'` and `'Pave'`, corresponding to a gravel road and a paved road, respectively.\n",
    "\n",
    "We refer to the number of unique entries of a categorical variable as the **cardinality** of that categorical variable.  For instance, the `'Street'` variable has cardinality 2.\n",
    "\n",
    "Use the output above to answer the questions below."
   ]
  },
  {
   "cell_type": "code",
   "execution_count": 16,
   "id": "e84d1162",
   "metadata": {
    "execution": {
     "iopub.execute_input": "2022-01-25T08:57:29.143573Z",
     "iopub.status.busy": "2022-01-25T08:57:29.142634Z",
     "iopub.status.idle": "2022-01-25T08:57:29.150590Z",
     "shell.execute_reply": "2022-01-25T08:57:29.151082Z",
     "shell.execute_reply.started": "2022-01-25T08:56:23.322286Z"
    },
    "papermill": {
     "duration": 0.04711,
     "end_time": "2022-01-25T08:57:29.151258",
     "exception": false,
     "start_time": "2022-01-25T08:57:29.104148",
     "status": "completed"
    },
    "tags": []
   },
   "outputs": [
    {
     "data": {
      "application/javascript": [
       "parent.postMessage({\"jupyterEvent\": \"custom.exercise_interaction\", \"data\": {\"outcomeType\": 1, \"valueTowardsCompletion\": 0.5, \"interactionType\": 1, \"questionType\": 1, \"questionId\": \"3.1_CardinalityA\", \"learnToolsVersion\": \"0.3.4\", \"failureMessage\": \"\", \"exceptionClass\": \"\", \"trace\": \"\"}}, \"*\")"
      ],
      "text/plain": [
       "<IPython.core.display.Javascript object>"
      ]
     },
     "metadata": {},
     "output_type": "display_data"
    },
    {
     "data": {
      "text/markdown": [
       "<span style=\"color:#33cc33\">Correct</span>"
      ],
      "text/plain": [
       "Correct"
      ]
     },
     "metadata": {},
     "output_type": "display_data"
    }
   ],
   "source": [
    "# Fill in the line below: How many categorical variables in the training data\n",
    "# have cardinality greater than 10?\n",
    "high_cardinality_numcols = 3\n",
    "\n",
    "# Fill in the line below: How many columns are needed to one-hot encode the \n",
    "# 'Neighborhood' variable in the training data?\n",
    "num_cols_neighborhood = 25\n",
    "\n",
    "# Check your answers\n",
    "step_3.a.check()"
   ]
  },
  {
   "cell_type": "code",
   "execution_count": 17,
   "id": "cb5dd6d0",
   "metadata": {
    "execution": {
     "iopub.execute_input": "2022-01-25T08:57:29.226988Z",
     "iopub.status.busy": "2022-01-25T08:57:29.226247Z",
     "iopub.status.idle": "2022-01-25T08:57:29.228917Z",
     "shell.execute_reply": "2022-01-25T08:57:29.228392Z",
     "shell.execute_reply.started": "2022-01-25T08:56:23.331479Z"
    },
    "papermill": {
     "duration": 0.04214,
     "end_time": "2022-01-25T08:57:29.229056",
     "exception": false,
     "start_time": "2022-01-25T08:57:29.186916",
     "status": "completed"
    },
    "tags": []
   },
   "outputs": [],
   "source": [
    "# Lines below will give you a hint or solution code\n",
    "#step_3.a.hint()\n",
    "#step_3.a.solution()"
   ]
  },
  {
   "cell_type": "markdown",
   "id": "e6483205",
   "metadata": {
    "papermill": {
     "duration": 0.035699,
     "end_time": "2022-01-25T08:57:29.300942",
     "exception": false,
     "start_time": "2022-01-25T08:57:29.265243",
     "status": "completed"
    },
    "tags": []
   },
   "source": [
    "### Part B\n",
    "\n",
    "For large datasets with many rows, one-hot encoding can greatly expand the size of the dataset.  For this reason, we typically will only one-hot encode columns with relatively low cardinality.  Then, high cardinality columns can either be dropped from the dataset, or we can use ordinal encoding.\n",
    "\n",
    "As an example, consider a dataset with 10,000 rows, and containing one categorical column with 100 unique entries.  \n",
    "- If this column is replaced with the corresponding one-hot encoding, how many entries are added to the dataset?  \n",
    "- If we instead replace the column with the ordinal encoding, how many entries are added?  \n",
    "\n",
    "Use your answers to fill in the lines below."
   ]
  },
  {
   "cell_type": "code",
   "execution_count": 18,
   "id": "c858d7c1",
   "metadata": {
    "execution": {
     "iopub.execute_input": "2022-01-25T08:57:29.377811Z",
     "iopub.status.busy": "2022-01-25T08:57:29.376880Z",
     "iopub.status.idle": "2022-01-25T08:57:29.382781Z",
     "shell.execute_reply": "2022-01-25T08:57:29.382014Z",
     "shell.execute_reply.started": "2022-01-25T08:56:23.345118Z"
    },
    "papermill": {
     "duration": 0.046542,
     "end_time": "2022-01-25T08:57:29.382926",
     "exception": false,
     "start_time": "2022-01-25T08:57:29.336384",
     "status": "completed"
    },
    "tags": []
   },
   "outputs": [
    {
     "data": {
      "application/javascript": [
       "parent.postMessage({\"jupyterEvent\": \"custom.exercise_interaction\", \"data\": {\"outcomeType\": 1, \"valueTowardsCompletion\": 0.5, \"interactionType\": 1, \"questionType\": 1, \"questionId\": \"3.2_CardinalityB\", \"learnToolsVersion\": \"0.3.4\", \"failureMessage\": \"\", \"exceptionClass\": \"\", \"trace\": \"\"}}, \"*\")"
      ],
      "text/plain": [
       "<IPython.core.display.Javascript object>"
      ]
     },
     "metadata": {},
     "output_type": "display_data"
    },
    {
     "data": {
      "text/markdown": [
       "<span style=\"color:#33cc33\">Correct</span>"
      ],
      "text/plain": [
       "Correct"
      ]
     },
     "metadata": {},
     "output_type": "display_data"
    }
   ],
   "source": [
    "# Fill in the line below: How many entries are added to the dataset by \n",
    "# replacing the column with a one-hot encoding?\n",
    "OH_entries_added = 1e4*100 - 1e4\n",
    "\n",
    "# Fill in the line below: How many entries are added to the dataset by\n",
    "# replacing the column with an ordinal encoding?\n",
    "label_entries_added = 0\n",
    "\n",
    "# Check your answers\n",
    "step_3.b.check()"
   ]
  },
  {
   "cell_type": "code",
   "execution_count": 19,
   "id": "99f17246",
   "metadata": {
    "execution": {
     "iopub.execute_input": "2022-01-25T08:57:29.461200Z",
     "iopub.status.busy": "2022-01-25T08:57:29.460484Z",
     "iopub.status.idle": "2022-01-25T08:57:29.463087Z",
     "shell.execute_reply": "2022-01-25T08:57:29.463584Z",
     "shell.execute_reply.started": "2022-01-25T08:56:23.359055Z"
    },
    "papermill": {
     "duration": 0.043842,
     "end_time": "2022-01-25T08:57:29.463777",
     "exception": false,
     "start_time": "2022-01-25T08:57:29.419935",
     "status": "completed"
    },
    "tags": []
   },
   "outputs": [],
   "source": [
    "# Lines below will give you a hint or solution code\n",
    "#step_3.b.hint()\n",
    "#step_3.b.solution()"
   ]
  },
  {
   "cell_type": "markdown",
   "id": "d72a34c8",
   "metadata": {
    "papermill": {
     "duration": 0.036403,
     "end_time": "2022-01-25T08:57:29.536627",
     "exception": false,
     "start_time": "2022-01-25T08:57:29.500224",
     "status": "completed"
    },
    "tags": []
   },
   "source": [
    "Next, you'll experiment with one-hot encoding.  But, instead of encoding all of the categorical variables in the dataset, you'll only create a one-hot encoding for columns with cardinality less than 10.\n",
    "\n",
    "Run the code cell below without changes to set `low_cardinality_cols` to a Python list containing the columns that will be one-hot encoded.  Likewise, `high_cardinality_cols` contains a list of categorical columns that will be dropped from the dataset."
   ]
  },
  {
   "cell_type": "code",
   "execution_count": 20,
   "id": "4a825c03",
   "metadata": {
    "execution": {
     "iopub.execute_input": "2022-01-25T08:57:29.616879Z",
     "iopub.status.busy": "2022-01-25T08:57:29.615876Z",
     "iopub.status.idle": "2022-01-25T08:57:29.625091Z",
     "shell.execute_reply": "2022-01-25T08:57:29.624414Z",
     "shell.execute_reply.started": "2022-01-25T08:56:23.367751Z"
    },
    "papermill": {
     "duration": 0.052119,
     "end_time": "2022-01-25T08:57:29.625234",
     "exception": false,
     "start_time": "2022-01-25T08:57:29.573115",
     "status": "completed"
    },
    "tags": []
   },
   "outputs": [
    {
     "name": "stdout",
     "output_type": "stream",
     "text": [
      "Categorical columns that will be one-hot encoded: ['MSZoning', 'Street', 'LotShape', 'LandContour', 'Utilities', 'LotConfig', 'LandSlope', 'Condition1', 'Condition2', 'BldgType', 'HouseStyle', 'RoofStyle', 'RoofMatl', 'ExterQual', 'ExterCond', 'Foundation', 'Heating', 'HeatingQC', 'CentralAir', 'KitchenQual', 'Functional', 'PavedDrive', 'SaleType', 'SaleCondition']\n",
      "\n",
      "Categorical columns that will be dropped from the dataset: ['Exterior1st', 'Exterior2nd', 'Neighborhood']\n"
     ]
    }
   ],
   "source": [
    "# Columns that will be one-hot encoded\n",
    "low_cardinality_cols = [col for col in object_cols if X_train[col].nunique() < 10]\n",
    "\n",
    "# Columns that will be dropped from the dataset\n",
    "high_cardinality_cols = list(set(object_cols)-set(low_cardinality_cols))\n",
    "\n",
    "print('Categorical columns that will be one-hot encoded:', low_cardinality_cols)\n",
    "print('\\nCategorical columns that will be dropped from the dataset:', high_cardinality_cols)"
   ]
  },
  {
   "cell_type": "markdown",
   "id": "11f3ec5e",
   "metadata": {
    "papermill": {
     "duration": 0.036841,
     "end_time": "2022-01-25T08:57:29.699866",
     "exception": false,
     "start_time": "2022-01-25T08:57:29.663025",
     "status": "completed"
    },
    "tags": []
   },
   "source": [
    "# Step 4: One-hot encoding\n",
    "\n",
    "Use the next code cell to one-hot encode the data in `X_train` and `X_valid`.  Set the preprocessed DataFrames to `OH_X_train` and `OH_X_valid`, respectively.  \n",
    "- The full list of categorical columns in the dataset can be found in the Python list `object_cols`.\n",
    "- You should only one-hot encode the categorical columns in `low_cardinality_cols`.  All other categorical columns should be dropped from the dataset. "
   ]
  },
  {
   "cell_type": "code",
   "execution_count": 21,
   "id": "b45dbe99",
   "metadata": {
    "execution": {
     "iopub.execute_input": "2022-01-25T08:57:29.805144Z",
     "iopub.status.busy": "2022-01-25T08:57:29.798561Z",
     "iopub.status.idle": "2022-01-25T08:57:29.824925Z",
     "shell.execute_reply": "2022-01-25T08:57:29.825390Z",
     "shell.execute_reply.started": "2022-01-25T08:56:23.384146Z"
    },
    "papermill": {
     "duration": 0.088249,
     "end_time": "2022-01-25T08:57:29.825549",
     "exception": false,
     "start_time": "2022-01-25T08:57:29.737300",
     "status": "completed"
    },
    "tags": []
   },
   "outputs": [
    {
     "data": {
      "application/javascript": [
       "parent.postMessage({\"jupyterEvent\": \"custom.exercise_interaction\", \"data\": {\"outcomeType\": 1, \"valueTowardsCompletion\": 0.5, \"interactionType\": 1, \"questionType\": 2, \"questionId\": \"4_OneHot\", \"learnToolsVersion\": \"0.3.4\", \"failureMessage\": \"\", \"exceptionClass\": \"\", \"trace\": \"\"}}, \"*\")"
      ],
      "text/plain": [
       "<IPython.core.display.Javascript object>"
      ]
     },
     "metadata": {},
     "output_type": "display_data"
    },
    {
     "data": {
      "text/markdown": [
       "<span style=\"color:#33cc33\">Correct</span>"
      ],
      "text/plain": [
       "Correct"
      ]
     },
     "metadata": {},
     "output_type": "display_data"
    }
   ],
   "source": [
    "from sklearn.preprocessing import OneHotEncoder\n",
    "\n",
    "# Use as many lines of code as you need!\n",
    "\n",
    "OH_encoder= OneHotEncoder(handle_unknown='ignore', sparse=False)\n",
    "OH_cols_train= pd.DataFrame(OH_encoder.fit_transform(X_train[low_cardinality_cols]))\n",
    "OH_cols_valid= pd.DataFrame(OH_encoder.transform(X_valid[low_cardinality_cols]))\n",
    "\n",
    "\n",
    "OH_cols_train.index= X_train.index\n",
    "OH_cols_valid.index= X_valid.index\n",
    "num_X_train= X_train.drop(object_cols, axis=1)\n",
    "num_X_valid= X_valid.drop(object_cols, axis=1)\n",
    "\n",
    "OH_X_train= pd.concat([num_X_train, OH_cols_train], axis=1)\n",
    "OH_X_valid = pd.concat([num_X_valid, OH_cols_valid], axis=1)\n",
    "\n",
    "# Check your answer\n",
    "step_4.check()"
   ]
  },
  {
   "cell_type": "code",
   "execution_count": 22,
   "id": "bac9649f",
   "metadata": {
    "execution": {
     "iopub.execute_input": "2022-01-25T08:57:29.906940Z",
     "iopub.status.busy": "2022-01-25T08:57:29.906213Z",
     "iopub.status.idle": "2022-01-25T08:57:29.912328Z",
     "shell.execute_reply": "2022-01-25T08:57:29.911698Z",
     "shell.execute_reply.started": "2022-01-25T08:56:23.432750Z"
    },
    "papermill": {
     "duration": 0.048942,
     "end_time": "2022-01-25T08:57:29.912470",
     "exception": false,
     "start_time": "2022-01-25T08:57:29.863528",
     "status": "completed"
    },
    "tags": []
   },
   "outputs": [
    {
     "data": {
      "application/javascript": [
       "parent.postMessage({\"jupyterEvent\": \"custom.exercise_interaction\", \"data\": {\"interactionType\": 3, \"questionType\": 2, \"questionId\": \"4_OneHot\", \"learnToolsVersion\": \"0.3.4\", \"valueTowardsCompletion\": 0.0, \"failureMessage\": \"\", \"exceptionClass\": \"\", \"trace\": \"\", \"outcomeType\": 4}}, \"*\")"
      ],
      "text/plain": [
       "<IPython.core.display.Javascript object>"
      ]
     },
     "metadata": {},
     "output_type": "display_data"
    },
    {
     "data": {
      "text/markdown": [
       "<span style=\"color:#33cc99\">Solution:</span> \n",
       "```python\n",
       "# Apply one-hot encoder to each column with categorical data\n",
       "OH_encoder = OneHotEncoder(handle_unknown='ignore', sparse=False)\n",
       "OH_cols_train = pd.DataFrame(OH_encoder.fit_transform(X_train[low_cardinality_cols]))\n",
       "OH_cols_valid = pd.DataFrame(OH_encoder.transform(X_valid[low_cardinality_cols]))\n",
       "\n",
       "# One-hot encoding removed index; put it back\n",
       "OH_cols_train.index = X_train.index\n",
       "OH_cols_valid.index = X_valid.index\n",
       "\n",
       "# Remove categorical columns (will replace with one-hot encoding)\n",
       "num_X_train = X_train.drop(object_cols, axis=1)\n",
       "num_X_valid = X_valid.drop(object_cols, axis=1)\n",
       "\n",
       "# Add one-hot encoded columns to numerical features\n",
       "OH_X_train = pd.concat([num_X_train, OH_cols_train], axis=1)\n",
       "OH_X_valid = pd.concat([num_X_valid, OH_cols_valid], axis=1)\n",
       "\n",
       "\n",
       "```"
      ],
      "text/plain": [
       "Solution: \n",
       "```python\n",
       "# Apply one-hot encoder to each column with categorical data\n",
       "OH_encoder = OneHotEncoder(handle_unknown='ignore', sparse=False)\n",
       "OH_cols_train = pd.DataFrame(OH_encoder.fit_transform(X_train[low_cardinality_cols]))\n",
       "OH_cols_valid = pd.DataFrame(OH_encoder.transform(X_valid[low_cardinality_cols]))\n",
       "\n",
       "# One-hot encoding removed index; put it back\n",
       "OH_cols_train.index = X_train.index\n",
       "OH_cols_valid.index = X_valid.index\n",
       "\n",
       "# Remove categorical columns (will replace with one-hot encoding)\n",
       "num_X_train = X_train.drop(object_cols, axis=1)\n",
       "num_X_valid = X_valid.drop(object_cols, axis=1)\n",
       "\n",
       "# Add one-hot encoded columns to numerical features\n",
       "OH_X_train = pd.concat([num_X_train, OH_cols_train], axis=1)\n",
       "OH_X_valid = pd.concat([num_X_valid, OH_cols_valid], axis=1)\n",
       "\n",
       "\n",
       "```"
      ]
     },
     "metadata": {},
     "output_type": "display_data"
    }
   ],
   "source": [
    "# Lines below will give you a hint or solution code\n",
    "#step_4.hint()\n",
    "step_4.solution()"
   ]
  },
  {
   "cell_type": "markdown",
   "id": "db272aca",
   "metadata": {
    "papermill": {
     "duration": 0.040115,
     "end_time": "2022-01-25T08:57:29.992494",
     "exception": false,
     "start_time": "2022-01-25T08:57:29.952379",
     "status": "completed"
    },
    "tags": []
   },
   "source": [
    "Run the next code cell to get the MAE for this approach."
   ]
  },
  {
   "cell_type": "code",
   "execution_count": 23,
   "id": "4c2f4cbf",
   "metadata": {
    "execution": {
     "iopub.execute_input": "2022-01-25T08:57:30.079806Z",
     "iopub.status.busy": "2022-01-25T08:57:30.079115Z",
     "iopub.status.idle": "2022-01-25T08:57:31.983229Z",
     "shell.execute_reply": "2022-01-25T08:57:31.983703Z",
     "shell.execute_reply.started": "2022-01-25T08:56:23.442878Z"
    },
    "papermill": {
     "duration": 1.95144,
     "end_time": "2022-01-25T08:57:31.983910",
     "exception": false,
     "start_time": "2022-01-25T08:57:30.032470",
     "status": "completed"
    },
    "tags": []
   },
   "outputs": [
    {
     "name": "stdout",
     "output_type": "stream",
     "text": [
      "MAE from Approach 3 (One-Hot Encoding):\n",
      "17525.345719178084\n"
     ]
    }
   ],
   "source": [
    "print(\"MAE from Approach 3 (One-Hot Encoding):\") \n",
    "print(score_dataset(OH_X_train, OH_X_valid, y_train, y_valid))"
   ]
  },
  {
   "cell_type": "markdown",
   "id": "a32c247f",
   "metadata": {
    "papermill": {
     "duration": 0.039033,
     "end_time": "2022-01-25T08:57:32.063142",
     "exception": false,
     "start_time": "2022-01-25T08:57:32.024109",
     "status": "completed"
    },
    "tags": []
   },
   "source": [
    "# Generate test predictions and submit your results\n",
    "\n",
    "After you complete Step 4, if you'd like to use what you've learned to submit your results to the leaderboard, you'll need to preprocess the test data before generating predictions.\n",
    "\n",
    "**This step is completely optional, and you do not need to submit results to the leaderboard to successfully complete the exercise.**\n",
    "\n",
    "Check out the previous exercise if you need help with remembering how to [join the competition](https://www.kaggle.com/c/home-data-for-ml-course) or save your results to CSV.  Once you have generated a file with your results, follow the instructions below:\n",
    "1. Begin by clicking on the **Save Version** button in the top right corner of the window.  This will generate a pop-up window.  \n",
    "2. Ensure that the **Save and Run All** option is selected, and then click on the **Save** button.\n",
    "3. This generates a window in the bottom left corner of the notebook.  After it has finished running, click on the number to the right of the **Save Version** button.  This pulls up a list of versions on the right of the screen.  Click on the ellipsis **(...)** to the right of the most recent version, and select **Open in Viewer**.  This brings you into view mode of the same page. You will need to scroll down to get back to these instructions.\n",
    "4. Click on the **Output** tab on the right of the screen.  Then, click on the file you would like to submit, and click on the **Submit** button to submit your results to the leaderboard.\n",
    "\n",
    "You have now successfully submitted to the competition!\n",
    "\n",
    "If you want to keep working to improve your performance, select the **Edit** button in the top right of the screen. Then you can change your code and repeat the process. There's a lot of room to improve, and you will climb up the leaderboard as you work.\n"
   ]
  },
  {
   "cell_type": "code",
   "execution_count": 24,
   "id": "0ff63c9f",
   "metadata": {
    "execution": {
     "iopub.execute_input": "2022-01-25T08:57:32.147321Z",
     "iopub.status.busy": "2022-01-25T08:57:32.146589Z",
     "iopub.status.idle": "2022-01-25T08:57:32.149683Z",
     "shell.execute_reply": "2022-01-25T08:57:32.149151Z",
     "shell.execute_reply.started": "2022-01-25T08:56:25.339230Z"
    },
    "papermill": {
     "duration": 0.046788,
     "end_time": "2022-01-25T08:57:32.149820",
     "exception": false,
     "start_time": "2022-01-25T08:57:32.103032",
     "status": "completed"
    },
    "tags": []
   },
   "outputs": [],
   "source": [
    "# (Optional) Your code here"
   ]
  }
 ],
 "metadata": {
  "kernelspec": {
   "display_name": "Python 3",
   "language": "python",
   "name": "python3"
  },
  "language_info": {
   "codemirror_mode": {
    "name": "ipython",
    "version": 3
   },
   "file_extension": ".py",
   "mimetype": "text/x-python",
   "name": "python",
   "nbconvert_exporter": "python",
   "pygments_lexer": "ipython3",
   "version": "3.7.12"
  },
  "papermill": {
   "default_parameters": {},
   "duration": 19.580737,
   "end_time": "2022-01-25T08:57:32.900282",
   "environment_variables": {},
   "exception": null,
   "input_path": "__notebook__.ipynb",
   "output_path": "__notebook__.ipynb",
   "parameters": {},
   "start_time": "2022-01-25T08:57:13.319545",
   "version": "2.3.3"
  }
 },
 "nbformat": 4,
 "nbformat_minor": 5
}
