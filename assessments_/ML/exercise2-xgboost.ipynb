{
 "cells": [
  {
   "cell_type": "markdown",
   "id": "446ece27",
   "metadata": {
    "papermill": {
     "duration": 0.015809,
     "end_time": "2022-01-25T09:12:42.728437",
     "exception": false,
     "start_time": "2022-01-25T09:12:42.712628",
     "status": "completed"
    },
    "tags": []
   },
   "source": [
    "In this exercise, you will use your new knowledge to train a model with **gradient boosting**.\n",
    "\n",
    "# Setup\n",
    "\n",
    "The questions below will give you feedback on your work. Run the following cell to set up the feedback system."
   ]
  },
  {
   "cell_type": "code",
   "execution_count": 1,
   "id": "54e40c4e",
   "metadata": {
    "execution": {
     "iopub.execute_input": "2022-01-25T09:12:42.762279Z",
     "iopub.status.busy": "2022-01-25T09:12:42.761018Z",
     "iopub.status.idle": "2022-01-25T09:12:45.181968Z",
     "shell.execute_reply": "2022-01-25T09:12:45.183339Z",
     "shell.execute_reply.started": "2022-01-25T09:11:56.787778Z"
    },
    "papermill": {
     "duration": 2.440502,
     "end_time": "2022-01-25T09:12:45.183738",
     "exception": false,
     "start_time": "2022-01-25T09:12:42.743236",
     "status": "completed"
    },
    "tags": []
   },
   "outputs": [
    {
     "name": "stdout",
     "output_type": "stream",
     "text": [
      "Setup Complete\n"
     ]
    }
   ],
   "source": [
    "# Set up code checking\n",
    "import os\n",
    "if not os.path.exists(\"../input/train.csv\"):\n",
    "    os.symlink(\"../input/home-data-for-ml-course/train.csv\", \"../input/train.csv\")  \n",
    "    os.symlink(\"../input/home-data-for-ml-course/test.csv\", \"../input/test.csv\") \n",
    "from learntools.core import binder\n",
    "binder.bind(globals())\n",
    "from learntools.ml_intermediate.ex6 import *\n",
    "print(\"Setup Complete\")"
   ]
  },
  {
   "cell_type": "markdown",
   "id": "1375bc0e",
   "metadata": {
    "papermill": {
     "duration": 0.01443,
     "end_time": "2022-01-25T09:12:45.215508",
     "exception": false,
     "start_time": "2022-01-25T09:12:45.201078",
     "status": "completed"
    },
    "tags": []
   },
   "source": [
    "You will work with the [Housing Prices Competition for Kaggle Learn Users](https://www.kaggle.com/c/home-data-for-ml-course) dataset from the previous exercise. \n",
    "\n",
    "![Ames Housing dataset image](https://i.imgur.com/lTJVG4e.png)\n",
    "\n",
    "Run the next code cell without changes to load the training and validation sets in `X_train`, `X_valid`, `y_train`, and `y_valid`.  The test set is loaded in `X_test`."
   ]
  },
  {
   "cell_type": "code",
   "execution_count": 2,
   "id": "39df3136",
   "metadata": {
    "execution": {
     "iopub.execute_input": "2022-01-25T09:12:45.253574Z",
     "iopub.status.busy": "2022-01-25T09:12:45.252858Z",
     "iopub.status.idle": "2022-01-25T09:12:45.445264Z",
     "shell.execute_reply": "2022-01-25T09:12:45.445832Z",
     "shell.execute_reply.started": "2022-01-25T09:11:59.416336Z"
    },
    "papermill": {
     "duration": 0.215897,
     "end_time": "2022-01-25T09:12:45.446017",
     "exception": false,
     "start_time": "2022-01-25T09:12:45.230120",
     "status": "completed"
    },
    "tags": []
   },
   "outputs": [],
   "source": [
    "import pandas as pd\n",
    "from sklearn.model_selection import train_test_split\n",
    "\n",
    "# Read the data\n",
    "X = pd.read_csv('../input/train.csv', index_col='Id')\n",
    "X_test_full = pd.read_csv('../input/test.csv', index_col='Id')\n",
    "\n",
    "# Remove rows with missing target, separate target from predictors\n",
    "X.dropna(axis=0, subset=['SalePrice'], inplace=True)\n",
    "y = X.SalePrice              \n",
    "X.drop(['SalePrice'], axis=1, inplace=True)\n",
    "\n",
    "# Break off validation set from training data\n",
    "X_train_full, X_valid_full, y_train, y_valid = train_test_split(X, y, train_size=0.8, test_size=0.2,\n",
    "                                                                random_state=0)\n",
    "\n",
    "# \"Cardinality\" means the number of unique values in a column\n",
    "# Select categorical columns with relatively low cardinality (convenient but arbitrary)\n",
    "low_cardinality_cols = [cname for cname in X_train_full.columns if X_train_full[cname].nunique() < 10 and \n",
    "                        X_train_full[cname].dtype == \"object\"]\n",
    "\n",
    "# Select numeric columns\n",
    "numeric_cols = [cname for cname in X_train_full.columns if X_train_full[cname].dtype in ['int64', 'float64']]\n",
    "\n",
    "# Keep selected columns only\n",
    "my_cols = low_cardinality_cols + numeric_cols\n",
    "X_train = X_train_full[my_cols].copy()\n",
    "X_valid = X_valid_full[my_cols].copy()\n",
    "X_test = X_test_full[my_cols].copy()\n",
    "\n",
    "# One-hot encode the data (to shorten the code, we use pandas)\n",
    "X_train = pd.get_dummies(X_train)\n",
    "X_valid = pd.get_dummies(X_valid)\n",
    "X_test = pd.get_dummies(X_test)\n",
    "X_train, X_valid = X_train.align(X_valid, join='left', axis=1)\n",
    "X_train, X_test = X_train.align(X_test, join='left', axis=1)"
   ]
  },
  {
   "cell_type": "markdown",
   "id": "93eed7e8",
   "metadata": {
    "papermill": {
     "duration": 0.014375,
     "end_time": "2022-01-25T09:12:45.475139",
     "exception": false,
     "start_time": "2022-01-25T09:12:45.460764",
     "status": "completed"
    },
    "tags": []
   },
   "source": [
    "# Step 1: Build model\n",
    "\n",
    "### Part A\n",
    "\n",
    "In this step, you'll build and train your first model with gradient boosting.\n",
    "\n",
    "- Begin by setting `my_model_1` to an XGBoost model.  Use the [XGBRegressor](https://xgboost.readthedocs.io/en/latest/python/python_api.html#xgboost.XGBRegressor) class, and set the random seed to 0 (`random_state=0`).  **Leave all other parameters as default.**\n",
    "- Then, fit the model to the training data in `X_train` and `y_train`."
   ]
  },
  {
   "cell_type": "code",
   "execution_count": 3,
   "id": "91cc9635",
   "metadata": {
    "execution": {
     "iopub.execute_input": "2022-01-25T09:12:45.508665Z",
     "iopub.status.busy": "2022-01-25T09:12:45.507913Z",
     "iopub.status.idle": "2022-01-25T09:12:46.412528Z",
     "shell.execute_reply": "2022-01-25T09:12:46.413058Z",
     "shell.execute_reply.started": "2022-01-25T09:11:59.631101Z"
    },
    "papermill": {
     "duration": 0.923482,
     "end_time": "2022-01-25T09:12:46.413250",
     "exception": false,
     "start_time": "2022-01-25T09:12:45.489768",
     "status": "completed"
    },
    "tags": []
   },
   "outputs": [
    {
     "data": {
      "application/javascript": [
       "parent.postMessage({\"jupyterEvent\": \"custom.exercise_interaction\", \"data\": {\"outcomeType\": 1, \"valueTowardsCompletion\": 0.5, \"interactionType\": 1, \"questionType\": 2, \"questionId\": \"1.1_Model1A\", \"learnToolsVersion\": \"0.3.4\", \"failureMessage\": \"\", \"exceptionClass\": \"\", \"trace\": \"\"}}, \"*\")"
      ],
      "text/plain": [
       "<IPython.core.display.Javascript object>"
      ]
     },
     "metadata": {},
     "output_type": "display_data"
    },
    {
     "data": {
      "text/markdown": [
       "<span style=\"color:#33cc33\">Correct</span>"
      ],
      "text/plain": [
       "Correct"
      ]
     },
     "metadata": {},
     "output_type": "display_data"
    }
   ],
   "source": [
    "from xgboost import XGBRegressor\n",
    "\n",
    "# Define the model\n",
    "my_model_1 = XGBRegressor(random_state=0)    # Your code here\n",
    "\n",
    "# Fit the model\n",
    "# Your code here\n",
    "my_model_1.fit(X_train, y_train)\n",
    "# Check your answer\n",
    "step_1.a.check()"
   ]
  },
  {
   "cell_type": "code",
   "execution_count": 4,
   "id": "e9ac5f93",
   "metadata": {
    "execution": {
     "iopub.execute_input": "2022-01-25T09:12:46.449617Z",
     "iopub.status.busy": "2022-01-25T09:12:46.448609Z",
     "iopub.status.idle": "2022-01-25T09:12:46.451301Z",
     "shell.execute_reply": "2022-01-25T09:12:46.450764Z",
     "shell.execute_reply.started": "2022-01-25T09:12:00.596461Z"
    },
    "papermill": {
     "duration": 0.022546,
     "end_time": "2022-01-25T09:12:46.451445",
     "exception": false,
     "start_time": "2022-01-25T09:12:46.428899",
     "status": "completed"
    },
    "tags": []
   },
   "outputs": [],
   "source": [
    "# Lines below will give you a hint or solution code\n",
    "#step_1.a.hint()\n",
    "#step_1.a.solution()"
   ]
  },
  {
   "cell_type": "markdown",
   "id": "ee02c4c7",
   "metadata": {
    "papermill": {
     "duration": 0.01516,
     "end_time": "2022-01-25T09:12:46.482296",
     "exception": false,
     "start_time": "2022-01-25T09:12:46.467136",
     "status": "completed"
    },
    "tags": []
   },
   "source": [
    "### Part B\n",
    "\n",
    "Set `predictions_1` to the model's predictions for the validation data.  Recall that the validation features are stored in `X_valid`."
   ]
  },
  {
   "cell_type": "code",
   "execution_count": 5,
   "id": "c257522a",
   "metadata": {
    "execution": {
     "iopub.execute_input": "2022-01-25T09:12:46.519369Z",
     "iopub.status.busy": "2022-01-25T09:12:46.518334Z",
     "iopub.status.idle": "2022-01-25T09:12:46.546154Z",
     "shell.execute_reply": "2022-01-25T09:12:46.545480Z",
     "shell.execute_reply.started": "2022-01-25T09:12:00.602461Z"
    },
    "papermill": {
     "duration": 0.048438,
     "end_time": "2022-01-25T09:12:46.546303",
     "exception": false,
     "start_time": "2022-01-25T09:12:46.497865",
     "status": "completed"
    },
    "tags": []
   },
   "outputs": [
    {
     "data": {
      "application/javascript": [
       "parent.postMessage({\"jupyterEvent\": \"custom.exercise_interaction\", \"data\": {\"outcomeType\": 1, \"valueTowardsCompletion\": 0.5, \"interactionType\": 1, \"questionType\": 2, \"questionId\": \"1.2_Model1B\", \"learnToolsVersion\": \"0.3.4\", \"failureMessage\": \"\", \"exceptionClass\": \"\", \"trace\": \"\"}}, \"*\")"
      ],
      "text/plain": [
       "<IPython.core.display.Javascript object>"
      ]
     },
     "metadata": {},
     "output_type": "display_data"
    },
    {
     "data": {
      "text/markdown": [
       "<span style=\"color:#33cc33\">Correct</span>"
      ],
      "text/plain": [
       "Correct"
      ]
     },
     "metadata": {},
     "output_type": "display_data"
    }
   ],
   "source": [
    "from sklearn.metrics import mean_absolute_error\n",
    "\n",
    "# Get predictions\n",
    "predictions_1 = predictions_1 = my_model_1.predict(X_valid)\n",
    "# Your code here\n",
    "\n",
    "# Check your answer\n",
    "step_1.b.check()"
   ]
  },
  {
   "cell_type": "code",
   "execution_count": 6,
   "id": "575c778f",
   "metadata": {
    "execution": {
     "iopub.execute_input": "2022-01-25T09:12:46.583831Z",
     "iopub.status.busy": "2022-01-25T09:12:46.583158Z",
     "iopub.status.idle": "2022-01-25T09:12:46.585723Z",
     "shell.execute_reply": "2022-01-25T09:12:46.585055Z",
     "shell.execute_reply.started": "2022-01-25T09:12:00.640924Z"
    },
    "papermill": {
     "duration": 0.023025,
     "end_time": "2022-01-25T09:12:46.585862",
     "exception": false,
     "start_time": "2022-01-25T09:12:46.562837",
     "status": "completed"
    },
    "tags": []
   },
   "outputs": [],
   "source": [
    "# Lines below will give you a hint or solution code\n",
    "#step_1.b.hint()\n",
    "#step_1.b.solution()"
   ]
  },
  {
   "cell_type": "markdown",
   "id": "5764e001",
   "metadata": {
    "papermill": {
     "duration": 0.016351,
     "end_time": "2022-01-25T09:12:46.619499",
     "exception": false,
     "start_time": "2022-01-25T09:12:46.603148",
     "status": "completed"
    },
    "tags": []
   },
   "source": [
    "### Part C\n",
    "\n",
    "Finally, use the `mean_absolute_error()` function to calculate the mean absolute error (MAE) corresponding to the predictions for the validation set.  Recall that the labels for the validation data are stored in `y_valid`."
   ]
  },
  {
   "cell_type": "code",
   "execution_count": 7,
   "id": "5b1cdc36",
   "metadata": {
    "execution": {
     "iopub.execute_input": "2022-01-25T09:12:46.655924Z",
     "iopub.status.busy": "2022-01-25T09:12:46.655300Z",
     "iopub.status.idle": "2022-01-25T09:12:46.666159Z",
     "shell.execute_reply": "2022-01-25T09:12:46.665440Z",
     "shell.execute_reply.started": "2022-01-25T09:12:00.646077Z"
    },
    "papermill": {
     "duration": 0.030125,
     "end_time": "2022-01-25T09:12:46.666302",
     "exception": false,
     "start_time": "2022-01-25T09:12:46.636177",
     "status": "completed"
    },
    "tags": []
   },
   "outputs": [
    {
     "name": "stdout",
     "output_type": "stream",
     "text": [
      "Mean Absolute Error: 17662.736729452055\n"
     ]
    },
    {
     "data": {
      "application/javascript": [
       "parent.postMessage({\"jupyterEvent\": \"custom.exercise_interaction\", \"data\": {\"outcomeType\": 1, \"valueTowardsCompletion\": 0.5, \"interactionType\": 1, \"questionType\": 2, \"questionId\": \"1.3_Model1C\", \"learnToolsVersion\": \"0.3.4\", \"failureMessage\": \"\", \"exceptionClass\": \"\", \"trace\": \"\"}}, \"*\")"
      ],
      "text/plain": [
       "<IPython.core.display.Javascript object>"
      ]
     },
     "metadata": {},
     "output_type": "display_data"
    },
    {
     "data": {
      "text/markdown": [
       "<span style=\"color:#33cc33\">Correct</span>"
      ],
      "text/plain": [
       "Correct"
      ]
     },
     "metadata": {},
     "output_type": "display_data"
    }
   ],
   "source": [
    "# Calculate MAE\n",
    "mae_1 = mean_absolute_error(predictions_1, y_valid)\n",
    "# Your code here\n",
    "\n",
    "# Uncomment to print MAE\n",
    "print(\"Mean Absolute Error:\" , mae_1)\n",
    "\n",
    "# Check your answer\n",
    "step_1.c.check()"
   ]
  },
  {
   "cell_type": "code",
   "execution_count": 8,
   "id": "4d798c72",
   "metadata": {
    "execution": {
     "iopub.execute_input": "2022-01-25T09:12:46.707936Z",
     "iopub.status.busy": "2022-01-25T09:12:46.706912Z",
     "iopub.status.idle": "2022-01-25T09:12:46.710341Z",
     "shell.execute_reply": "2022-01-25T09:12:46.710888Z",
     "shell.execute_reply.started": "2022-01-25T09:12:00.664966Z"
    },
    "papermill": {
     "duration": 0.025034,
     "end_time": "2022-01-25T09:12:46.711063",
     "exception": false,
     "start_time": "2022-01-25T09:12:46.686029",
     "status": "completed"
    },
    "tags": []
   },
   "outputs": [],
   "source": [
    "# Lines below will give you a hint or solution code\n",
    "#step_1.c.hint()\n",
    "#step_1.c.solution()"
   ]
  },
  {
   "cell_type": "markdown",
   "id": "333b0303",
   "metadata": {
    "papermill": {
     "duration": 0.018692,
     "end_time": "2022-01-25T09:12:46.747827",
     "exception": false,
     "start_time": "2022-01-25T09:12:46.729135",
     "status": "completed"
    },
    "tags": []
   },
   "source": [
    "# Step 2: Improve the model\n",
    "\n",
    "Now that you've trained a default model as baseline, it's time to tinker with the parameters, to see if you can get better performance!\n",
    "- Begin by setting `my_model_2` to an XGBoost model, using the [XGBRegressor](https://xgboost.readthedocs.io/en/latest/python/python_api.html#xgboost.XGBRegressor) class.  Use what you learned in the previous tutorial to figure out how to change the default parameters (like `n_estimators` and `learning_rate`) to get better results.\n",
    "- Then, fit the model to the training data in `X_train` and `y_train`.\n",
    "- Set `predictions_2` to the model's predictions for the validation data.  Recall that the validation features are stored in `X_valid`.\n",
    "- Finally, use the `mean_absolute_error()` function to calculate the mean absolute error (MAE) corresponding to the predictions on the validation set.  Recall that the labels for the validation data are stored in `y_valid`.\n",
    "\n",
    "In order for this step to be marked correct, your model in `my_model_2` must attain lower MAE than the model in `my_model_1`. "
   ]
  },
  {
   "cell_type": "code",
   "execution_count": 9,
   "id": "67768e1b",
   "metadata": {
    "execution": {
     "iopub.execute_input": "2022-01-25T09:12:46.788714Z",
     "iopub.status.busy": "2022-01-25T09:12:46.787648Z",
     "iopub.status.idle": "2022-01-25T09:12:56.395630Z",
     "shell.execute_reply": "2022-01-25T09:12:56.395045Z",
     "shell.execute_reply.started": "2022-01-25T09:12:00.670770Z"
    },
    "papermill": {
     "duration": 9.629305,
     "end_time": "2022-01-25T09:12:56.395768",
     "exception": false,
     "start_time": "2022-01-25T09:12:46.766463",
     "status": "completed"
    },
    "tags": []
   },
   "outputs": [
    {
     "name": "stdout",
     "output_type": "stream",
     "text": [
      "Mean Absolute Error: 16688.691513270547\n"
     ]
    },
    {
     "data": {
      "application/javascript": [
       "parent.postMessage({\"jupyterEvent\": \"custom.exercise_interaction\", \"data\": {\"outcomeType\": 1, \"valueTowardsCompletion\": 0.5, \"interactionType\": 1, \"questionType\": 2, \"questionId\": \"2_Model2\", \"learnToolsVersion\": \"0.3.4\", \"failureMessage\": \"\", \"exceptionClass\": \"\", \"trace\": \"\"}}, \"*\")"
      ],
      "text/plain": [
       "<IPython.core.display.Javascript object>"
      ]
     },
     "metadata": {},
     "output_type": "display_data"
    },
    {
     "data": {
      "text/markdown": [
       "<span style=\"color:#33cc33\">Correct</span>"
      ],
      "text/plain": [
       "Correct"
      ]
     },
     "metadata": {},
     "output_type": "display_data"
    }
   ],
   "source": [
    "# Define the model\n",
    "my_model_2 = XGBRegressor(n_estimators=1000,learning_rate=0.05)\n",
    "# Your code here\n",
    "\n",
    "# Fit the model\n",
    "my_model_2.fit(X_train, y_train)\n",
    "# Your code here\n",
    "\n",
    "# Get predictions\n",
    "predictions_2 = my_model_2.predict(X_valid)\n",
    "# Your code here\n",
    "\n",
    "# Calculate MAE\n",
    "mae_2 = mean_absolute_error(predictions_2,y_valid) # Your code here\n",
    "\n",
    "# Uncomment to print MAE\n",
    "print(\"Mean Absolute Error:\",mae_2)\n",
    "\n",
    "# Check your answer\n",
    "step_2.check()"
   ]
  },
  {
   "cell_type": "code",
   "execution_count": 10,
   "id": "d8d6bc94",
   "metadata": {
    "execution": {
     "iopub.execute_input": "2022-01-25T09:12:56.441228Z",
     "iopub.status.busy": "2022-01-25T09:12:56.440286Z",
     "iopub.status.idle": "2022-01-25T09:12:56.443290Z",
     "shell.execute_reply": "2022-01-25T09:12:56.442752Z",
     "shell.execute_reply.started": "2022-01-25T09:12:10.019152Z"
    },
    "papermill": {
     "duration": 0.026035,
     "end_time": "2022-01-25T09:12:56.443433",
     "exception": false,
     "start_time": "2022-01-25T09:12:56.417398",
     "status": "completed"
    },
    "tags": []
   },
   "outputs": [],
   "source": [
    "# Lines below will give you a hint or solution code\n",
    "#step_2.hint()\n",
    "#step_2.solution()"
   ]
  },
  {
   "cell_type": "markdown",
   "id": "8e6bfdda",
   "metadata": {
    "papermill": {
     "duration": 0.018778,
     "end_time": "2022-01-25T09:12:56.481304",
     "exception": false,
     "start_time": "2022-01-25T09:12:56.462526",
     "status": "completed"
    },
    "tags": []
   },
   "source": [
    "# Step 3: Break the model\n",
    "\n",
    "In this step, you will create a model that performs worse than the original model in Step 1.  This will help you to develop your intuition for how to set parameters.  You might even find that you accidentally get better performance, which is ultimately a nice problem to have and a valuable learning experience!\n",
    "- Begin by setting `my_model_3` to an XGBoost model, using the [XGBRegressor](https://xgboost.readthedocs.io/en/latest/python/python_api.html#xgboost.XGBRegressor) class.  Use what you learned in the previous tutorial to figure out how to change the default parameters (like `n_estimators` and `learning_rate`) to design a model to get high MAE.\n",
    "- Then, fit the model to the training data in `X_train` and `y_train`.\n",
    "- Set `predictions_3` to the model's predictions for the validation data.  Recall that the validation features are stored in `X_valid`.\n",
    "- Finally, use the `mean_absolute_error()` function to calculate the mean absolute error (MAE) corresponding to the predictions on the validation set.  Recall that the labels for the validation data are stored in `y_valid`.\n",
    "\n",
    "In order for this step to be marked correct, your model in `my_model_3` must attain higher MAE than the model in `my_model_1`. "
   ]
  },
  {
   "cell_type": "code",
   "execution_count": 11,
   "id": "46b9c1ac",
   "metadata": {
    "execution": {
     "iopub.execute_input": "2022-01-25T09:12:56.525730Z",
     "iopub.status.busy": "2022-01-25T09:12:56.524716Z",
     "iopub.status.idle": "2022-01-25T09:12:56.588402Z",
     "shell.execute_reply": "2022-01-25T09:12:56.589291Z",
     "shell.execute_reply.started": "2022-01-25T09:12:10.025178Z"
    },
    "papermill": {
     "duration": 0.089114,
     "end_time": "2022-01-25T09:12:56.589491",
     "exception": false,
     "start_time": "2022-01-25T09:12:56.500377",
     "status": "completed"
    },
    "tags": []
   },
   "outputs": [
    {
     "name": "stdout",
     "output_type": "stream",
     "text": [
      "Mean Absolute Error: 127895.0828807256\n"
     ]
    },
    {
     "data": {
      "application/javascript": [
       "parent.postMessage({\"jupyterEvent\": \"custom.exercise_interaction\", \"data\": {\"outcomeType\": 1, \"valueTowardsCompletion\": 0.5, \"interactionType\": 1, \"questionType\": 2, \"questionId\": \"3_Model3\", \"learnToolsVersion\": \"0.3.4\", \"failureMessage\": \"\", \"exceptionClass\": \"\", \"trace\": \"\"}}, \"*\")"
      ],
      "text/plain": [
       "<IPython.core.display.Javascript object>"
      ]
     },
     "metadata": {},
     "output_type": "display_data"
    },
    {
     "data": {
      "text/markdown": [
       "<span style=\"color:#33cc33\">Correct</span>"
      ],
      "text/plain": [
       "Correct"
      ]
     },
     "metadata": {},
     "output_type": "display_data"
    }
   ],
   "source": [
    "# Define the model\n",
    "my_model_3 = XGBRegressor(n_estimators=1)\n",
    "# Your code here\n",
    "\n",
    "# Fit the model\n",
    "my_model_3.fit(X_train, y_train)\n",
    "\n",
    "# Get predictions\n",
    "predictions_3 = my_model_3.predict(X_valid)\n",
    "\n",
    "# Calculate MAE\n",
    "mae_3 = mean_absolute_error(predictions_3,y_valid)\n",
    "\n",
    "# Uncomment to print MAE\n",
    "print(\"Mean Absolute Error:\" , mae_3)\n",
    "\n",
    "# Check your answer\n",
    "step_3.check()"
   ]
  },
  {
   "cell_type": "code",
   "execution_count": 12,
   "id": "bcb10657",
   "metadata": {
    "execution": {
     "iopub.execute_input": "2022-01-25T09:12:56.634690Z",
     "iopub.status.busy": "2022-01-25T09:12:56.633697Z",
     "iopub.status.idle": "2022-01-25T09:12:56.637045Z",
     "shell.execute_reply": "2022-01-25T09:12:56.637576Z",
     "shell.execute_reply.started": "2022-01-25T09:12:10.119623Z"
    },
    "papermill": {
     "duration": 0.027418,
     "end_time": "2022-01-25T09:12:56.637750",
     "exception": false,
     "start_time": "2022-01-25T09:12:56.610332",
     "status": "completed"
    },
    "tags": []
   },
   "outputs": [],
   "source": [
    "# Lines below will give you a hint or solution code\n",
    "#step_3.hint()\n",
    "#step_3.solution()"
   ]
  }
 ],
 "metadata": {
  "kernelspec": {
   "display_name": "Python 3",
   "language": "python",
   "name": "python3"
  },
  "language_info": {
   "codemirror_mode": {
    "name": "ipython",
    "version": 3
   },
   "file_extension": ".py",
   "mimetype": "text/x-python",
   "name": "python",
   "nbconvert_exporter": "python",
   "pygments_lexer": "ipython3",
   "version": "3.7.12"
  },
  "papermill": {
   "default_parameters": {},
   "duration": 24.805228,
   "end_time": "2022-01-25T09:12:57.368622",
   "environment_variables": {},
   "exception": null,
   "input_path": "__notebook__.ipynb",
   "output_path": "__notebook__.ipynb",
   "parameters": {},
   "start_time": "2022-01-25T09:12:32.563394",
   "version": "2.3.3"
  }
 },
 "nbformat": 4,
 "nbformat_minor": 5
}
