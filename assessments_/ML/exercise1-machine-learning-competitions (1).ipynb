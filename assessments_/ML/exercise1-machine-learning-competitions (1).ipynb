{
 "cells": [
  {
   "cell_type": "markdown",
   "id": "66a186fc",
   "metadata": {
    "papermill": {
     "duration": 0.012614,
     "end_time": "2022-01-23T10:09:09.156391",
     "exception": false,
     "start_time": "2022-01-23T10:09:09.143777",
     "status": "completed"
    },
    "tags": []
   },
   "source": [
    "**This notebook is an exercise in the [Introduction to Machine Learning](https://www.kaggle.com/learn/intro-to-machine-learning) course.  You can reference the tutorial at [this link](https://www.kaggle.com/alexisbcook/machine-learning-competitions).**\n",
    "\n",
    "---\n"
   ]
  },
  {
   "cell_type": "markdown",
   "id": "dd53bce3",
   "metadata": {
    "papermill": {
     "duration": 0.011576,
     "end_time": "2022-01-23T10:09:09.182486",
     "exception": false,
     "start_time": "2022-01-23T10:09:09.170910",
     "status": "completed"
    },
    "tags": []
   },
   "source": [
    "# Introduction\n",
    "\n",
    "In this exercise, you will create and submit predictions for a Kaggle competition. You can then improve your model (e.g. by adding features) to apply what you've learned and move up the leaderboard.\n",
    "\n",
    "Begin by running the code cell below to set up code checking and the filepaths for the dataset."
   ]
  },
  {
   "cell_type": "code",
   "execution_count": 1,
   "id": "ab839639",
   "metadata": {
    "execution": {
     "iopub.execute_input": "2022-01-23T10:09:09.211936Z",
     "iopub.status.busy": "2022-01-23T10:09:09.209857Z",
     "iopub.status.idle": "2022-01-23T10:09:09.261610Z",
     "shell.execute_reply": "2022-01-23T10:09:09.262252Z",
     "shell.execute_reply.started": "2022-01-23T10:07:53.755217Z"
    },
    "papermill": {
     "duration": 0.068776,
     "end_time": "2022-01-23T10:09:09.262718",
     "exception": false,
     "start_time": "2022-01-23T10:09:09.193942",
     "status": "completed"
    },
    "tags": []
   },
   "outputs": [],
   "source": [
    "# Set up code checking\n",
    "from learntools.core import binder\n",
    "binder.bind(globals())\n",
    "from learntools.machine_learning.ex7 import *\n",
    "\n",
    "# Set up filepaths\n",
    "import os\n",
    "if not os.path.exists(\"../input/train.csv\"):\n",
    "    os.symlink(\"../input/home-data-for-ml-course/train.csv\", \"../input/train.csv\")  \n",
    "    os.symlink(\"../input/home-data-for-ml-course/test.csv\", \"../input/test.csv\") "
   ]
  },
  {
   "cell_type": "markdown",
   "id": "b6a7efab",
   "metadata": {
    "papermill": {
     "duration": 0.011473,
     "end_time": "2022-01-23T10:09:09.285697",
     "exception": false,
     "start_time": "2022-01-23T10:09:09.274224",
     "status": "completed"
    },
    "tags": []
   },
   "source": [
    "Here's some of the code you've written so far. Start by running it again."
   ]
  },
  {
   "cell_type": "code",
   "execution_count": 2,
   "id": "2c2a6e19",
   "metadata": {
    "execution": {
     "iopub.execute_input": "2022-01-23T10:09:09.318831Z",
     "iopub.status.busy": "2022-01-23T10:09:09.318108Z",
     "iopub.status.idle": "2022-01-23T10:09:11.097483Z",
     "shell.execute_reply": "2022-01-23T10:09:11.098379Z",
     "shell.execute_reply.started": "2022-01-23T10:07:58.323992Z"
    },
    "papermill": {
     "duration": 1.801166,
     "end_time": "2022-01-23T10:09:11.098624",
     "exception": false,
     "start_time": "2022-01-23T10:09:09.297458",
     "status": "completed"
    },
    "tags": []
   },
   "outputs": [
    {
     "name": "stdout",
     "output_type": "stream",
     "text": [
      "Validation MAE for Random Forest Model: 21,857\n"
     ]
    }
   ],
   "source": [
    "# Import helpful libraries\n",
    "import pandas as pd\n",
    "from sklearn.ensemble import RandomForestRegressor\n",
    "from sklearn.metrics import mean_absolute_error\n",
    "from sklearn.model_selection import train_test_split\n",
    "\n",
    "# Load the data, and separate the target\n",
    "iowa_file_path = '../input/train.csv'\n",
    "home_data = pd.read_csv(iowa_file_path)\n",
    "y = home_data.SalePrice\n",
    "\n",
    "# Create X (After completing the exercise, you can return to modify this line!)\n",
    "features = ['LotArea', 'YearBuilt', '1stFlrSF', '2ndFlrSF', 'FullBath', 'BedroomAbvGr', 'TotRmsAbvGrd']\n",
    "\n",
    "# Select columns corresponding to features, and preview the data\n",
    "X = home_data[features]\n",
    "X.head()\n",
    "\n",
    "# Split into validation and training data\n",
    "train_X, val_X, train_y, val_y = train_test_split(X, y, random_state=1)\n",
    "\n",
    "# Define a random forest model\n",
    "rf_model = RandomForestRegressor(random_state=1)\n",
    "rf_model.fit(train_X, train_y)\n",
    "rf_val_predictions = rf_model.predict(val_X)\n",
    "rf_val_mae = mean_absolute_error(rf_val_predictions, val_y)\n",
    "\n",
    "print(\"Validation MAE for Random Forest Model: {:,.0f}\".format(rf_val_mae))"
   ]
  },
  {
   "cell_type": "markdown",
   "id": "b7af9f22",
   "metadata": {
    "papermill": {
     "duration": 0.012161,
     "end_time": "2022-01-23T10:09:11.122782",
     "exception": false,
     "start_time": "2022-01-23T10:09:11.110621",
     "status": "completed"
    },
    "tags": []
   },
   "source": [
    "# Train a model for the competition\n",
    "\n",
    "The code cell above trains a Random Forest model on **`train_X`** and **`train_y`**.  \n",
    "\n",
    "Use the code cell below to build a Random Forest model and train it on all of **`X`** and **`y`**."
   ]
  },
  {
   "cell_type": "code",
   "execution_count": 3,
   "id": "28864246",
   "metadata": {
    "execution": {
     "iopub.execute_input": "2022-01-23T10:09:11.150246Z",
     "iopub.status.busy": "2022-01-23T10:09:11.149521Z",
     "iopub.status.idle": "2022-01-23T10:09:11.715202Z",
     "shell.execute_reply": "2022-01-23T10:09:11.714441Z",
     "shell.execute_reply.started": "2022-01-23T10:08:03.263361Z"
    },
    "papermill": {
     "duration": 0.580831,
     "end_time": "2022-01-23T10:09:11.715359",
     "exception": false,
     "start_time": "2022-01-23T10:09:11.134528",
     "status": "completed"
    },
    "tags": []
   },
   "outputs": [
    {
     "data": {
      "text/plain": [
       "RandomForestRegressor(random_state=1)"
      ]
     },
     "execution_count": 3,
     "metadata": {},
     "output_type": "execute_result"
    }
   ],
   "source": [
    "# To improve accuracy, create a new Random Forest model which you will train on all training data\n",
    "rf_model_on_full_data = RandomForestRegressor(random_state=1)\n",
    "\n",
    "#rf_val_pred = rf_model_on_full_data.predict(X)\n",
    "\n",
    "# fit rf_model_on_full_data on all data from the training data\n",
    "rf_model_on_full_data.fit(X, y)"
   ]
  },
  {
   "cell_type": "markdown",
   "id": "ebdc8dc9",
   "metadata": {
    "papermill": {
     "duration": 0.011898,
     "end_time": "2022-01-23T10:09:11.739339",
     "exception": false,
     "start_time": "2022-01-23T10:09:11.727441",
     "status": "completed"
    },
    "tags": []
   },
   "source": [
    "Now, read the file of \"test\" data, and apply your model to make predictions."
   ]
  },
  {
   "cell_type": "code",
   "execution_count": 4,
   "id": "dc25023c",
   "metadata": {
    "execution": {
     "iopub.execute_input": "2022-01-23T10:09:11.771060Z",
     "iopub.status.busy": "2022-01-23T10:09:11.770330Z",
     "iopub.status.idle": "2022-01-23T10:09:11.849427Z",
     "shell.execute_reply": "2022-01-23T10:09:11.848771Z",
     "shell.execute_reply.started": "2022-01-23T10:08:07.057345Z"
    },
    "papermill": {
     "duration": 0.09801,
     "end_time": "2022-01-23T10:09:11.849602",
     "exception": false,
     "start_time": "2022-01-23T10:09:11.751592",
     "status": "completed"
    },
    "tags": []
   },
   "outputs": [],
   "source": [
    "# path to file you will use for predictions\n",
    "test_data_path = '../input/test.csv'\n",
    "\n",
    "# read test data file using pandas\n",
    "test_data = pd.read_csv(test_data_path)\n",
    "\n",
    "# create test_X which comes from test_data but includes only the columns you used for prediction.\n",
    "# The list of columns is stored in a variable called features\n",
    "test_X = test_data[features]\n",
    "val_y = y\n",
    "# make predictions which we will submit. \n",
    "test_preds = rf_model_on_full_data.predict(test_X)\n",
    "output = pd.DataFrame({'Id': test_data.Id,\n",
    "                       'SalePrice': test_preds})\n",
    "output.to_csv('submission.csv', index=False)\n",
    "#r=pd.read_csv('submission.csv')\n",
    "#r"
   ]
  },
  {
   "cell_type": "markdown",
   "id": "92f284a3",
   "metadata": {
    "papermill": {
     "duration": 0.011794,
     "end_time": "2022-01-23T10:09:11.873481",
     "exception": false,
     "start_time": "2022-01-23T10:09:11.861687",
     "status": "completed"
    },
    "tags": []
   },
   "source": [
    "Before submitting, run a check to make sure your `test_preds` have the right format."
   ]
  },
  {
   "cell_type": "code",
   "execution_count": 5,
   "id": "d23f8602",
   "metadata": {
    "execution": {
     "iopub.execute_input": "2022-01-23T10:09:11.904897Z",
     "iopub.status.busy": "2022-01-23T10:09:11.904178Z",
     "iopub.status.idle": "2022-01-23T10:09:11.909475Z",
     "shell.execute_reply": "2022-01-23T10:09:11.910098Z",
     "shell.execute_reply.started": "2022-01-23T10:08:11.136380Z"
    },
    "papermill": {
     "duration": 0.024679,
     "end_time": "2022-01-23T10:09:11.910285",
     "exception": false,
     "start_time": "2022-01-23T10:09:11.885606",
     "status": "completed"
    },
    "tags": []
   },
   "outputs": [
    {
     "data": {
      "application/javascript": [
       "parent.postMessage({\"jupyterEvent\": \"custom.exercise_interaction\", \"data\": {\"outcomeType\": 1, \"valueTowardsCompletion\": 1.0, \"interactionType\": 1, \"questionType\": 2, \"questionId\": \"1_CheckSubmittablePreds\", \"learnToolsVersion\": \"0.3.4\", \"failureMessage\": \"\", \"exceptionClass\": \"\", \"trace\": \"\"}}, \"*\")"
      ],
      "text/plain": [
       "<IPython.core.display.Javascript object>"
      ]
     },
     "metadata": {},
     "output_type": "display_data"
    },
    {
     "data": {
      "text/markdown": [
       "<span style=\"color:#33cc33\">Correct</span>"
      ],
      "text/plain": [
       "Correct"
      ]
     },
     "metadata": {},
     "output_type": "display_data"
    }
   ],
   "source": [
    "# Check your answer (To get credit for completing the exercise, you must get a \"Correct\" result!)\n",
    "step_1.check()\n",
    "#step_1.solution()"
   ]
  },
  {
   "cell_type": "markdown",
   "id": "7ef5a531",
   "metadata": {
    "papermill": {
     "duration": 0.012863,
     "end_time": "2022-01-23T10:09:11.936459",
     "exception": false,
     "start_time": "2022-01-23T10:09:11.923596",
     "status": "completed"
    },
    "tags": []
   },
   "source": [
    "# Generate a submission\n",
    "\n",
    "Run the code cell below to generate a CSV file with your predictions that you can use to submit to the competition."
   ]
  },
  {
   "cell_type": "code",
   "execution_count": 6,
   "id": "9f5c84b5",
   "metadata": {
    "execution": {
     "iopub.execute_input": "2022-01-23T10:09:11.968013Z",
     "iopub.status.busy": "2022-01-23T10:09:11.966056Z",
     "iopub.status.idle": "2022-01-23T10:09:11.975820Z",
     "shell.execute_reply": "2022-01-23T10:09:11.976408Z",
     "shell.execute_reply.started": "2022-01-23T10:08:22.993669Z"
    },
    "papermill": {
     "duration": 0.026872,
     "end_time": "2022-01-23T10:09:11.976601",
     "exception": false,
     "start_time": "2022-01-23T10:09:11.949729",
     "status": "completed"
    },
    "tags": []
   },
   "outputs": [],
   "source": [
    "# Run the code to save predictions in the format used for competition scoring\n",
    "\n",
    "output = pd.DataFrame({'Id': test_data.Id,\n",
    "                       'SalePrice': test_preds})\n",
    "output.to_csv('submission.csv', index=False)"
   ]
  },
  {
   "cell_type": "markdown",
   "id": "5ad75b76",
   "metadata": {
    "papermill": {
     "duration": 0.01373,
     "end_time": "2022-01-23T10:09:12.003741",
     "exception": false,
     "start_time": "2022-01-23T10:09:11.990011",
     "status": "completed"
    },
    "tags": []
   },
   "source": [
    "# Submit to the competition\n",
    "\n",
    "To test your results, you'll need to join the competition (if you haven't already).  So open a new window by clicking on **[this link](https://www.kaggle.com/c/home-data-for-ml-course)**.  Then click on the **Join Competition** button.\n",
    "\n",
    "![join competition image](https://i.imgur.com/axBzctl.png)\n",
    "\n",
    "Next, follow the instructions below:\n",
    "1. Begin by clicking on the **Save Version** button in the top right corner of the window.  This will generate a pop-up window.  \n",
    "2. Ensure that the **Save and Run All** option is selected, and then click on the **Save** button.\n",
    "3. This generates a window in the bottom left corner of the notebook.  After it has finished running, click on the number to the right of the **Save Version** button.  This pulls up a list of versions on the right of the screen.  Click on the ellipsis **(...)** to the right of the most recent version, and select **Open in Viewer**.  This brings you into view mode of the same page. You will need to scroll down to get back to these instructions.\n",
    "4. Click on the **Output** tab on the right of the screen.  Then, click on the file you would like to submit, and click on the **Submit** button to submit your results to the leaderboard.\n",
    "\n",
    "You have now successfully submitted to the competition!\n",
    "\n",
    "If you want to keep working to improve your performance, select the **Edit** button in the top right of the screen. Then you can change your code and repeat the process. There's a lot of room to improve, and you will climb up the leaderboard as you work.\n",
    "\n",
    "\n",
    "# Continue Your Progress\n",
    "There are many ways to improve your model, and **experimenting is a great way to learn at this point.**\n",
    "\n",
    "The best way to improve your model is to add features.  To add more features to the data, revisit the first code cell, and change this line of code to include more column names:\n",
    "```python\n",
    "features = ['LotArea', 'YearBuilt', '1stFlrSF', '2ndFlrSF', 'FullBath', 'BedroomAbvGr', 'TotRmsAbvGrd']\n",
    "```\n",
    "\n",
    "Some features will cause errors because of issues like missing values or non-numeric data types.  Here is a complete list of potential columns that you might like to use, and that won't throw errors:\n",
    "- 'MSSubClass'\n",
    "- 'LotArea'\n",
    "- 'OverallQual' \n",
    "- 'OverallCond' \n",
    "- 'YearBuilt'\n",
    "- 'YearRemodAdd' \n",
    "- '1stFlrSF'\n",
    "- '2ndFlrSF' \n",
    "- 'LowQualFinSF' \n",
    "- 'GrLivArea'\n",
    "- 'FullBath'\n",
    "- 'HalfBath'\n",
    "- 'BedroomAbvGr' \n",
    "- 'KitchenAbvGr' \n",
    "- 'TotRmsAbvGrd' \n",
    "- 'Fireplaces' \n",
    "- 'WoodDeckSF' \n",
    "- 'OpenPorchSF'\n",
    "- 'EnclosedPorch' \n",
    "- '3SsnPorch' \n",
    "- 'ScreenPorch' \n",
    "- 'PoolArea' \n",
    "- 'MiscVal' \n",
    "- 'MoSold' \n",
    "- 'YrSold'\n",
    "\n",
    "Look at the list of columns and think about what might affect home prices.  To learn more about each of these features, take a look at the data description on the **[competition page](https://www.kaggle.com/c/home-data-for-ml-course/data)**.\n",
    "\n",
    "After updating the code cell above that defines the features, re-run all of the code cells to evaluate the model and generate a new submission file.  "
   ]
  },
  {
   "cell_type": "markdown",
   "id": "65bb1687",
   "metadata": {
    "papermill": {
     "duration": 0.013268,
     "end_time": "2022-01-23T10:09:12.030808",
     "exception": false,
     "start_time": "2022-01-23T10:09:12.017540",
     "status": "completed"
    },
    "tags": []
   },
   "source": []
  }
 ],
 "metadata": {
  "kernelspec": {
   "display_name": "Python 3",
   "language": "python",
   "name": "python3"
  },
  "language_info": {
   "codemirror_mode": {
    "name": "ipython",
    "version": 3
   },
   "file_extension": ".py",
   "mimetype": "text/x-python",
   "name": "python",
   "nbconvert_exporter": "python",
   "pygments_lexer": "ipython3",
   "version": "3.7.12"
  },
  "papermill": {
   "default_parameters": {},
   "duration": 14.275797,
   "end_time": "2022-01-23T10:09:12.754087",
   "environment_variables": {},
   "exception": null,
   "input_path": "__notebook__.ipynb",
   "output_path": "__notebook__.ipynb",
   "parameters": {},
   "start_time": "2022-01-23T10:08:58.478290",
   "version": "2.3.3"
  }
 },
 "nbformat": 4,
 "nbformat_minor": 5
}
