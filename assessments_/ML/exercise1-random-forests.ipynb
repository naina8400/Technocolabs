{
 "cells": [
  {
   "cell_type": "markdown",
   "id": "48c94770",
   "metadata": {
    "papermill": {
     "duration": 0.007772,
     "end_time": "2022-01-25T08:48:51.121544",
     "exception": false,
     "start_time": "2022-01-25T08:48:51.113772",
     "status": "completed"
    },
    "tags": []
   },
   "source": [
    "## Recap\n",
    "Here's the code you've written so far."
   ]
  },
  {
   "cell_type": "code",
   "execution_count": 1,
   "id": "21ea9e20",
   "metadata": {
    "execution": {
     "iopub.execute_input": "2022-01-25T08:48:51.141607Z",
     "iopub.status.busy": "2022-01-25T08:48:51.139807Z",
     "iopub.status.idle": "2022-01-25T08:48:52.565707Z",
     "shell.execute_reply": "2022-01-25T08:48:52.566139Z",
     "shell.execute_reply.started": "2022-01-25T08:48:15.951950Z"
    },
    "papermill": {
     "duration": 1.437628,
     "end_time": "2022-01-25T08:48:52.566453",
     "exception": false,
     "start_time": "2022-01-25T08:48:51.128825",
     "status": "completed"
    },
    "tags": []
   },
   "outputs": [
    {
     "name": "stdout",
     "output_type": "stream",
     "text": [
      "Validation MAE when not specifying max_leaf_nodes: 29,653\n",
      "Validation MAE for best value of max_leaf_nodes: 27,283\n",
      "\n",
      "Setup complete\n"
     ]
    }
   ],
   "source": [
    "# Code you have previously used to load data\n",
    "import pandas as pd\n",
    "from sklearn.metrics import mean_absolute_error\n",
    "from sklearn.model_selection import train_test_split\n",
    "from sklearn.tree import DecisionTreeRegressor\n",
    "\n",
    "\n",
    "# Path of the file to read\n",
    "iowa_file_path = '../input/home-data-for-ml-course/train.csv'\n",
    "\n",
    "home_data = pd.read_csv(iowa_file_path)\n",
    "# Create target object and call it y\n",
    "y = home_data.SalePrice\n",
    "# Create X\n",
    "features = ['LotArea', 'YearBuilt', '1stFlrSF', '2ndFlrSF', 'FullBath', 'BedroomAbvGr', 'TotRmsAbvGrd']\n",
    "X = home_data[features]\n",
    "\n",
    "# Split into validation and training data\n",
    "train_X, val_X, train_y, val_y = train_test_split(X, y, random_state=1)\n",
    "\n",
    "# Specify Model\n",
    "iowa_model = DecisionTreeRegressor(random_state=1)\n",
    "# Fit Model\n",
    "iowa_model.fit(train_X, train_y)\n",
    "\n",
    "# Make validation predictions and calculate mean absolute error\n",
    "val_predictions = iowa_model.predict(val_X)\n",
    "val_mae = mean_absolute_error(val_predictions, val_y)\n",
    "print(\"Validation MAE when not specifying max_leaf_nodes: {:,.0f}\".format(val_mae))\n",
    "\n",
    "# Using best value for max_leaf_nodes\n",
    "iowa_model = DecisionTreeRegressor(max_leaf_nodes=100, random_state=1)\n",
    "iowa_model.fit(train_X, train_y)\n",
    "val_predictions = iowa_model.predict(val_X)\n",
    "val_mae = mean_absolute_error(val_predictions, val_y)\n",
    "print(\"Validation MAE for best value of max_leaf_nodes: {:,.0f}\".format(val_mae))\n",
    "\n",
    "\n",
    "# Set up code checking\n",
    "from learntools.core import binder\n",
    "binder.bind(globals())\n",
    "from learntools.machine_learning.ex6 import *\n",
    "print(\"\\nSetup complete\")"
   ]
  },
  {
   "cell_type": "markdown",
   "id": "e6eb78b9",
   "metadata": {
    "papermill": {
     "duration": 0.004723,
     "end_time": "2022-01-25T08:48:52.576771",
     "exception": false,
     "start_time": "2022-01-25T08:48:52.572048",
     "status": "completed"
    },
    "tags": []
   },
   "source": [
    "# Exercises\n",
    "Data science isn't always this easy. But replacing the decision tree with a Random Forest is going to be an easy win."
   ]
  },
  {
   "cell_type": "markdown",
   "id": "0917f336",
   "metadata": {
    "papermill": {
     "duration": 0.004773,
     "end_time": "2022-01-25T08:48:52.586442",
     "exception": false,
     "start_time": "2022-01-25T08:48:52.581669",
     "status": "completed"
    },
    "tags": []
   },
   "source": [
    "## Step 1: Use a Random Forest"
   ]
  },
  {
   "cell_type": "code",
   "execution_count": 2,
   "id": "84a03b75",
   "metadata": {
    "execution": {
     "iopub.execute_input": "2022-01-25T08:48:52.602734Z",
     "iopub.status.busy": "2022-01-25T08:48:52.602183Z",
     "iopub.status.idle": "2022-01-25T08:48:53.060674Z",
     "shell.execute_reply": "2022-01-25T08:48:53.061110Z",
     "shell.execute_reply.started": "2022-01-25T08:48:17.225763Z"
    },
    "papermill": {
     "duration": 0.469781,
     "end_time": "2022-01-25T08:48:53.061295",
     "exception": false,
     "start_time": "2022-01-25T08:48:52.591514",
     "status": "completed"
    },
    "tags": []
   },
   "outputs": [
    {
     "name": "stdout",
     "output_type": "stream",
     "text": [
      "Validation MAE for Random Forest Model: 21857.15912981083\n"
     ]
    },
    {
     "data": {
      "application/javascript": [
       "parent.postMessage({\"jupyterEvent\": \"custom.exercise_interaction\", \"data\": {\"outcomeType\": 1, \"valueTowardsCompletion\": 1.0, \"interactionType\": 1, \"questionType\": 2, \"questionId\": \"1_CheckRfScore\", \"learnToolsVersion\": \"0.3.4\", \"failureMessage\": \"\", \"exceptionClass\": \"\", \"trace\": \"\"}}, \"*\")"
      ],
      "text/plain": [
       "<IPython.core.display.Javascript object>"
      ]
     },
     "metadata": {},
     "output_type": "display_data"
    },
    {
     "data": {
      "text/markdown": [
       "<span style=\"color:#33cc33\">Correct</span>"
      ],
      "text/plain": [
       "Correct"
      ]
     },
     "metadata": {},
     "output_type": "display_data"
    }
   ],
   "source": [
    "from sklearn.ensemble import RandomForestRegressor\n",
    "\n",
    "# Define the model. Set random_state to 1\n",
    "rf_model = RandomForestRegressor(random_state =1)\n",
    "\n",
    "# fit your model\n",
    "rf_model.fit(train_X, train_y)\n",
    "val_pred= rf_model.predict(val_X)\n",
    "\n",
    "# Calculate the mean absolute error of your Random Forest model on the validation data\n",
    "rf_val_mae = mean_absolute_error(val_y, val_pred)\n",
    "\n",
    "print(\"Validation MAE for Random Forest Model: {}\".format(rf_val_mae))\n",
    "\n",
    "# Check your answer\n",
    "step_1.check()"
   ]
  },
  {
   "cell_type": "code",
   "execution_count": 3,
   "id": "cb9dcd4e",
   "metadata": {
    "execution": {
     "iopub.execute_input": "2022-01-25T08:48:53.079976Z",
     "iopub.status.busy": "2022-01-25T08:48:53.079421Z",
     "iopub.status.idle": "2022-01-25T08:48:53.082993Z",
     "shell.execute_reply": "2022-01-25T08:48:53.082420Z",
     "shell.execute_reply.started": "2022-01-25T08:48:17.710622Z"
    },
    "papermill": {
     "duration": 0.015152,
     "end_time": "2022-01-25T08:48:53.083120",
     "exception": false,
     "start_time": "2022-01-25T08:48:53.067968",
     "status": "completed"
    },
    "tags": []
   },
   "outputs": [],
   "source": [
    "# The lines below will show you a hint or the solution.\n",
    "# step_1.hint() \n",
    "# step_1.solution()\n"
   ]
  },
  {
   "cell_type": "markdown",
   "id": "4603fce8",
   "metadata": {
    "papermill": {
     "duration": 0.006278,
     "end_time": "2022-01-25T08:48:53.096134",
     "exception": false,
     "start_time": "2022-01-25T08:48:53.089856",
     "status": "completed"
    },
    "tags": []
   },
   "source": [
    "So far, you have followed specific instructions at each step of your project. This helped learn key ideas and build your first model, but now you know enough to try things on your own. \n",
    "\n",
    "Machine Learning competitions are a great way to try your own ideas and learn more as you independently navigate a machine learning project. "
   ]
  }
 ],
 "metadata": {
  "kernelspec": {
   "display_name": "Python 3",
   "language": "python",
   "name": "python3"
  },
  "language_info": {
   "codemirror_mode": {
    "name": "ipython",
    "version": 3
   },
   "file_extension": ".py",
   "mimetype": "text/x-python",
   "name": "python",
   "nbconvert_exporter": "python",
   "pygments_lexer": "ipython3",
   "version": "3.7.12"
  },
  "papermill": {
   "default_parameters": {},
   "duration": 13.04477,
   "end_time": "2022-01-25T08:48:53.815043",
   "environment_variables": {},
   "exception": null,
   "input_path": "__notebook__.ipynb",
   "output_path": "__notebook__.ipynb",
   "parameters": {},
   "start_time": "2022-01-25T08:48:40.770273",
   "version": "2.3.3"
  }
 },
 "nbformat": 4,
 "nbformat_minor": 5
}
