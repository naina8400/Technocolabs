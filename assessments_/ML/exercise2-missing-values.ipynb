{
 "cells": [
  {
   "cell_type": "markdown",
   "id": "7ba0b753",
   "metadata": {
    "papermill": {
     "duration": 0.029329,
     "end_time": "2022-01-24T11:01:04.735663",
     "exception": false,
     "start_time": "2022-01-24T11:01:04.706334",
     "status": "completed"
    },
    "tags": []
   },
   "source": [
    "**This notebook is an exercise in the [Intermediate Machine Learning](https://www.kaggle.com/learn/intermediate-machine-learning) course.  You can reference the tutorial at [this link](https://www.kaggle.com/alexisbcook/missing-values).**\n",
    "\n",
    "---\n"
   ]
  },
  {
   "cell_type": "markdown",
   "id": "d45275b2",
   "metadata": {
    "papermill": {
     "duration": 0.026654,
     "end_time": "2022-01-24T11:01:04.791293",
     "exception": false,
     "start_time": "2022-01-24T11:01:04.764639",
     "status": "completed"
    },
    "tags": []
   },
   "source": [
    "Now it's your turn to test your new knowledge of **missing values** handling. You'll probably find it makes a big difference.\n",
    "\n",
    "# Setup\n",
    "\n",
    "The questions will give you feedback on your work. Run the following cell to set up the feedback system."
   ]
  },
  {
   "cell_type": "code",
   "execution_count": 1,
   "id": "c3144abf",
   "metadata": {
    "execution": {
     "iopub.execute_input": "2022-01-24T11:01:04.852054Z",
     "iopub.status.busy": "2022-01-24T11:01:04.850224Z",
     "iopub.status.idle": "2022-01-24T11:01:04.904388Z",
     "shell.execute_reply": "2022-01-24T11:01:04.904989Z",
     "shell.execute_reply.started": "2022-01-24T10:52:56.882520Z"
    },
    "papermill": {
     "duration": 0.086617,
     "end_time": "2022-01-24T11:01:04.905301",
     "exception": false,
     "start_time": "2022-01-24T11:01:04.818684",
     "status": "completed"
    },
    "tags": []
   },
   "outputs": [
    {
     "name": "stdout",
     "output_type": "stream",
     "text": [
      "Setup Complete\n"
     ]
    }
   ],
   "source": [
    "# Set up code checking\n",
    "import os\n",
    "if not os.path.exists(\"../input/train.csv\"):\n",
    "    os.symlink(\"../input/home-data-for-ml-course/train.csv\", \"../input/train.csv\")  \n",
    "    os.symlink(\"../input/home-data-for-ml-course/test.csv\", \"../input/test.csv\") \n",
    "from learntools.core import binder\n",
    "binder.bind(globals())\n",
    "from learntools.ml_intermediate.ex2 import *\n",
    "print(\"Setup Complete\")"
   ]
  },
  {
   "cell_type": "markdown",
   "id": "fa2fd5ff",
   "metadata": {
    "papermill": {
     "duration": 0.027397,
     "end_time": "2022-01-24T11:01:04.960444",
     "exception": false,
     "start_time": "2022-01-24T11:01:04.933047",
     "status": "completed"
    },
    "tags": []
   },
   "source": [
    "In this exercise, you will work with data from the [Housing Prices Competition for Kaggle Learn Users](https://www.kaggle.com/c/home-data-for-ml-course). \n",
    "\n",
    "![Ames Housing dataset image](https://i.imgur.com/lTJVG4e.png)\n",
    "\n",
    "Run the next code cell without changes to load the training and validation sets in `X_train`, `X_valid`, `y_train`, and `y_valid`.  The test set is loaded in `X_test`."
   ]
  },
  {
   "cell_type": "code",
   "execution_count": 2,
   "id": "389d47c9",
   "metadata": {
    "execution": {
     "iopub.execute_input": "2022-01-24T11:01:05.026681Z",
     "iopub.status.busy": "2022-01-24T11:01:05.025877Z",
     "iopub.status.idle": "2022-01-24T11:01:06.249729Z",
     "shell.execute_reply": "2022-01-24T11:01:06.249145Z",
     "shell.execute_reply.started": "2022-01-24T10:53:00.946014Z"
    },
    "papermill": {
     "duration": 1.261285,
     "end_time": "2022-01-24T11:01:06.249910",
     "exception": false,
     "start_time": "2022-01-24T11:01:04.988625",
     "status": "completed"
    },
    "tags": []
   },
   "outputs": [],
   "source": [
    "import pandas as pd\n",
    "from sklearn.model_selection import train_test_split\n",
    "\n",
    "# Read the data\n",
    "X_full = pd.read_csv('../input/train.csv', index_col='Id')\n",
    "X_test_full = pd.read_csv('../input/test.csv', index_col='Id')\n",
    "\n",
    "# Remove rows with missing target, separate target from predictors\n",
    "X_full.dropna(axis=0, subset=['SalePrice'], inplace=True)\n",
    "y = X_full.SalePrice\n",
    "X_full.drop(['SalePrice'], axis=1, inplace=True)\n",
    "\n",
    "# To keep things simple, we'll use only numerical predictors\n",
    "X = X_full.select_dtypes(exclude=['object'])\n",
    "X_test = X_test_full.select_dtypes(exclude=['object'])\n",
    "\n",
    "# Break off validation set from training data\n",
    "X_train, X_valid, y_train, y_valid = train_test_split(X, y, train_size=0.8, test_size=0.2,\n",
    "                                                      random_state=0)"
   ]
  },
  {
   "cell_type": "markdown",
   "id": "f1ce9a02",
   "metadata": {
    "papermill": {
     "duration": 0.029179,
     "end_time": "2022-01-24T11:01:06.309963",
     "exception": false,
     "start_time": "2022-01-24T11:01:06.280784",
     "status": "completed"
    },
    "tags": []
   },
   "source": [
    "Use the next code cell to print the first five rows of the data."
   ]
  },
  {
   "cell_type": "code",
   "execution_count": 3,
   "id": "e337854e",
   "metadata": {
    "execution": {
     "iopub.execute_input": "2022-01-24T11:01:06.369561Z",
     "iopub.status.busy": "2022-01-24T11:01:06.368544Z",
     "iopub.status.idle": "2022-01-24T11:01:06.397254Z",
     "shell.execute_reply": "2022-01-24T11:01:06.397783Z",
     "shell.execute_reply.started": "2022-01-24T10:53:05.373847Z"
    },
    "papermill": {
     "duration": 0.059817,
     "end_time": "2022-01-24T11:01:06.397973",
     "exception": false,
     "start_time": "2022-01-24T11:01:06.338156",
     "status": "completed"
    },
    "tags": []
   },
   "outputs": [
    {
     "data": {
      "text/html": [
       "<div>\n",
       "<style scoped>\n",
       "    .dataframe tbody tr th:only-of-type {\n",
       "        vertical-align: middle;\n",
       "    }\n",
       "\n",
       "    .dataframe tbody tr th {\n",
       "        vertical-align: top;\n",
       "    }\n",
       "\n",
       "    .dataframe thead th {\n",
       "        text-align: right;\n",
       "    }\n",
       "</style>\n",
       "<table border=\"1\" class=\"dataframe\">\n",
       "  <thead>\n",
       "    <tr style=\"text-align: right;\">\n",
       "      <th></th>\n",
       "      <th>MSSubClass</th>\n",
       "      <th>LotFrontage</th>\n",
       "      <th>LotArea</th>\n",
       "      <th>OverallQual</th>\n",
       "      <th>OverallCond</th>\n",
       "      <th>YearBuilt</th>\n",
       "      <th>YearRemodAdd</th>\n",
       "      <th>MasVnrArea</th>\n",
       "      <th>BsmtFinSF1</th>\n",
       "      <th>BsmtFinSF2</th>\n",
       "      <th>...</th>\n",
       "      <th>GarageArea</th>\n",
       "      <th>WoodDeckSF</th>\n",
       "      <th>OpenPorchSF</th>\n",
       "      <th>EnclosedPorch</th>\n",
       "      <th>3SsnPorch</th>\n",
       "      <th>ScreenPorch</th>\n",
       "      <th>PoolArea</th>\n",
       "      <th>MiscVal</th>\n",
       "      <th>MoSold</th>\n",
       "      <th>YrSold</th>\n",
       "    </tr>\n",
       "    <tr>\n",
       "      <th>Id</th>\n",
       "      <th></th>\n",
       "      <th></th>\n",
       "      <th></th>\n",
       "      <th></th>\n",
       "      <th></th>\n",
       "      <th></th>\n",
       "      <th></th>\n",
       "      <th></th>\n",
       "      <th></th>\n",
       "      <th></th>\n",
       "      <th></th>\n",
       "      <th></th>\n",
       "      <th></th>\n",
       "      <th></th>\n",
       "      <th></th>\n",
       "      <th></th>\n",
       "      <th></th>\n",
       "      <th></th>\n",
       "      <th></th>\n",
       "      <th></th>\n",
       "      <th></th>\n",
       "    </tr>\n",
       "  </thead>\n",
       "  <tbody>\n",
       "    <tr>\n",
       "      <th>619</th>\n",
       "      <td>20</td>\n",
       "      <td>90.0</td>\n",
       "      <td>11694</td>\n",
       "      <td>9</td>\n",
       "      <td>5</td>\n",
       "      <td>2007</td>\n",
       "      <td>2007</td>\n",
       "      <td>452.0</td>\n",
       "      <td>48</td>\n",
       "      <td>0</td>\n",
       "      <td>...</td>\n",
       "      <td>774</td>\n",
       "      <td>0</td>\n",
       "      <td>108</td>\n",
       "      <td>0</td>\n",
       "      <td>0</td>\n",
       "      <td>260</td>\n",
       "      <td>0</td>\n",
       "      <td>0</td>\n",
       "      <td>7</td>\n",
       "      <td>2007</td>\n",
       "    </tr>\n",
       "    <tr>\n",
       "      <th>871</th>\n",
       "      <td>20</td>\n",
       "      <td>60.0</td>\n",
       "      <td>6600</td>\n",
       "      <td>5</td>\n",
       "      <td>5</td>\n",
       "      <td>1962</td>\n",
       "      <td>1962</td>\n",
       "      <td>0.0</td>\n",
       "      <td>0</td>\n",
       "      <td>0</td>\n",
       "      <td>...</td>\n",
       "      <td>308</td>\n",
       "      <td>0</td>\n",
       "      <td>0</td>\n",
       "      <td>0</td>\n",
       "      <td>0</td>\n",
       "      <td>0</td>\n",
       "      <td>0</td>\n",
       "      <td>0</td>\n",
       "      <td>8</td>\n",
       "      <td>2009</td>\n",
       "    </tr>\n",
       "    <tr>\n",
       "      <th>93</th>\n",
       "      <td>30</td>\n",
       "      <td>80.0</td>\n",
       "      <td>13360</td>\n",
       "      <td>5</td>\n",
       "      <td>7</td>\n",
       "      <td>1921</td>\n",
       "      <td>2006</td>\n",
       "      <td>0.0</td>\n",
       "      <td>713</td>\n",
       "      <td>0</td>\n",
       "      <td>...</td>\n",
       "      <td>432</td>\n",
       "      <td>0</td>\n",
       "      <td>0</td>\n",
       "      <td>44</td>\n",
       "      <td>0</td>\n",
       "      <td>0</td>\n",
       "      <td>0</td>\n",
       "      <td>0</td>\n",
       "      <td>8</td>\n",
       "      <td>2009</td>\n",
       "    </tr>\n",
       "    <tr>\n",
       "      <th>818</th>\n",
       "      <td>20</td>\n",
       "      <td>NaN</td>\n",
       "      <td>13265</td>\n",
       "      <td>8</td>\n",
       "      <td>5</td>\n",
       "      <td>2002</td>\n",
       "      <td>2002</td>\n",
       "      <td>148.0</td>\n",
       "      <td>1218</td>\n",
       "      <td>0</td>\n",
       "      <td>...</td>\n",
       "      <td>857</td>\n",
       "      <td>150</td>\n",
       "      <td>59</td>\n",
       "      <td>0</td>\n",
       "      <td>0</td>\n",
       "      <td>0</td>\n",
       "      <td>0</td>\n",
       "      <td>0</td>\n",
       "      <td>7</td>\n",
       "      <td>2008</td>\n",
       "    </tr>\n",
       "    <tr>\n",
       "      <th>303</th>\n",
       "      <td>20</td>\n",
       "      <td>118.0</td>\n",
       "      <td>13704</td>\n",
       "      <td>7</td>\n",
       "      <td>5</td>\n",
       "      <td>2001</td>\n",
       "      <td>2002</td>\n",
       "      <td>150.0</td>\n",
       "      <td>0</td>\n",
       "      <td>0</td>\n",
       "      <td>...</td>\n",
       "      <td>843</td>\n",
       "      <td>468</td>\n",
       "      <td>81</td>\n",
       "      <td>0</td>\n",
       "      <td>0</td>\n",
       "      <td>0</td>\n",
       "      <td>0</td>\n",
       "      <td>0</td>\n",
       "      <td>1</td>\n",
       "      <td>2006</td>\n",
       "    </tr>\n",
       "  </tbody>\n",
       "</table>\n",
       "<p>5 rows × 36 columns</p>\n",
       "</div>"
      ],
      "text/plain": [
       "     MSSubClass  LotFrontage  LotArea  OverallQual  OverallCond  YearBuilt  \\\n",
       "Id                                                                           \n",
       "619          20         90.0    11694            9            5       2007   \n",
       "871          20         60.0     6600            5            5       1962   \n",
       "93           30         80.0    13360            5            7       1921   \n",
       "818          20          NaN    13265            8            5       2002   \n",
       "303          20        118.0    13704            7            5       2001   \n",
       "\n",
       "     YearRemodAdd  MasVnrArea  BsmtFinSF1  BsmtFinSF2  ...  GarageArea  \\\n",
       "Id                                                     ...               \n",
       "619          2007       452.0          48           0  ...         774   \n",
       "871          1962         0.0           0           0  ...         308   \n",
       "93           2006         0.0         713           0  ...         432   \n",
       "818          2002       148.0        1218           0  ...         857   \n",
       "303          2002       150.0           0           0  ...         843   \n",
       "\n",
       "     WoodDeckSF  OpenPorchSF  EnclosedPorch  3SsnPorch  ScreenPorch  PoolArea  \\\n",
       "Id                                                                              \n",
       "619           0          108              0          0          260         0   \n",
       "871           0            0              0          0            0         0   \n",
       "93            0            0             44          0            0         0   \n",
       "818         150           59              0          0            0         0   \n",
       "303         468           81              0          0            0         0   \n",
       "\n",
       "     MiscVal  MoSold  YrSold  \n",
       "Id                            \n",
       "619        0       7    2007  \n",
       "871        0       8    2009  \n",
       "93         0       8    2009  \n",
       "818        0       7    2008  \n",
       "303        0       1    2006  \n",
       "\n",
       "[5 rows x 36 columns]"
      ]
     },
     "execution_count": 3,
     "metadata": {},
     "output_type": "execute_result"
    }
   ],
   "source": [
    "X_train.head()"
   ]
  },
  {
   "cell_type": "markdown",
   "id": "82f7f4c7",
   "metadata": {
    "papermill": {
     "duration": 0.027867,
     "end_time": "2022-01-24T11:01:06.455894",
     "exception": false,
     "start_time": "2022-01-24T11:01:06.428027",
     "status": "completed"
    },
    "tags": []
   },
   "source": [
    "You can already see a few missing values in the first several rows.  In the next step, you'll obtain a more comprehensive understanding of the missing values in the dataset.\n",
    "\n",
    "# Step 1: Preliminary investigation\n",
    "\n",
    "Run the code cell below without changes."
   ]
  },
  {
   "cell_type": "code",
   "execution_count": 4,
   "id": "ca16f8e3",
   "metadata": {
    "execution": {
     "iopub.execute_input": "2022-01-24T11:01:06.517858Z",
     "iopub.status.busy": "2022-01-24T11:01:06.516510Z",
     "iopub.status.idle": "2022-01-24T11:01:06.526938Z",
     "shell.execute_reply": "2022-01-24T11:01:06.527422Z",
     "shell.execute_reply.started": "2022-01-24T10:53:09.381007Z"
    },
    "papermill": {
     "duration": 0.043087,
     "end_time": "2022-01-24T11:01:06.527601",
     "exception": false,
     "start_time": "2022-01-24T11:01:06.484514",
     "status": "completed"
    },
    "tags": []
   },
   "outputs": [
    {
     "name": "stdout",
     "output_type": "stream",
     "text": [
      "(1168, 36)\n",
      "LotFrontage    212\n",
      "MasVnrArea       6\n",
      "GarageYrBlt     58\n",
      "dtype: int64\n"
     ]
    }
   ],
   "source": [
    "# Shape of training data (num_rows, num_columns)\n",
    "print(X_train.shape)\n",
    "\n",
    "# Number of missing values in each column of training data\n",
    "missing_val_count_by_column = (X_train.isnull().sum())\n",
    "print(missing_val_count_by_column[missing_val_count_by_column > 0])"
   ]
  },
  {
   "cell_type": "markdown",
   "id": "ce9ef277",
   "metadata": {
    "papermill": {
     "duration": 0.028051,
     "end_time": "2022-01-24T11:01:06.585597",
     "exception": false,
     "start_time": "2022-01-24T11:01:06.557546",
     "status": "completed"
    },
    "tags": []
   },
   "source": [
    "### Part A\n",
    "\n",
    "Use the above output to answer the questions below."
   ]
  },
  {
   "cell_type": "code",
   "execution_count": 5,
   "id": "a3160570",
   "metadata": {
    "execution": {
     "iopub.execute_input": "2022-01-24T11:01:06.649629Z",
     "iopub.status.busy": "2022-01-24T11:01:06.648957Z",
     "iopub.status.idle": "2022-01-24T11:01:06.653955Z",
     "shell.execute_reply": "2022-01-24T11:01:06.654498Z",
     "shell.execute_reply.started": "2022-01-24T10:53:13.566091Z"
    },
    "papermill": {
     "duration": 0.040907,
     "end_time": "2022-01-24T11:01:06.654700",
     "exception": false,
     "start_time": "2022-01-24T11:01:06.613793",
     "status": "completed"
    },
    "tags": []
   },
   "outputs": [
    {
     "data": {
      "application/javascript": [
       "parent.postMessage({\"jupyterEvent\": \"custom.exercise_interaction\", \"data\": {\"outcomeType\": 1, \"valueTowardsCompletion\": 1.0, \"interactionType\": 1, \"questionType\": 1, \"questionId\": \"1.1_InvestigateEquality\", \"learnToolsVersion\": \"0.3.4\", \"failureMessage\": \"\", \"exceptionClass\": \"\", \"trace\": \"\"}}, \"*\")"
      ],
      "text/plain": [
       "<IPython.core.display.Javascript object>"
      ]
     },
     "metadata": {},
     "output_type": "display_data"
    },
    {
     "data": {
      "text/markdown": [
       "<span style=\"color:#33cc33\">Correct</span>"
      ],
      "text/plain": [
       "Correct"
      ]
     },
     "metadata": {},
     "output_type": "display_data"
    }
   ],
   "source": [
    "# Fill in the line below: How many rows are in the training data?\n",
    "num_rows = 1168\n",
    "\n",
    "# Fill in the line below: How many columns in the training data\n",
    "# have missing values?\n",
    "num_cols_with_missing = 3\n",
    "\n",
    "# Fill in the line below: How many missing entries are contained in \n",
    "# all of the training data?\n",
    "tot_missing = 276\n",
    "\n",
    "# Check your answers\n",
    "step_1.a.check()"
   ]
  },
  {
   "cell_type": "code",
   "execution_count": 6,
   "id": "990c4613",
   "metadata": {
    "execution": {
     "iopub.execute_input": "2022-01-24T11:01:06.720197Z",
     "iopub.status.busy": "2022-01-24T11:01:06.718784Z",
     "iopub.status.idle": "2022-01-24T11:01:06.723467Z",
     "shell.execute_reply": "2022-01-24T11:01:06.722703Z"
    },
    "papermill": {
     "duration": 0.037934,
     "end_time": "2022-01-24T11:01:06.723635",
     "exception": false,
     "start_time": "2022-01-24T11:01:06.685701",
     "status": "completed"
    },
    "tags": []
   },
   "outputs": [],
   "source": [
    "# Lines below will give you a hint or solution code\n",
    "#step_1.a.hint()\n",
    "#step_1.a.solution()"
   ]
  },
  {
   "cell_type": "markdown",
   "id": "197b2e2e",
   "metadata": {
    "papermill": {
     "duration": 0.030369,
     "end_time": "2022-01-24T11:01:06.783719",
     "exception": false,
     "start_time": "2022-01-24T11:01:06.753350",
     "status": "completed"
    },
    "tags": []
   },
   "source": [
    "### Part B\n",
    "Considering your answers above, what do you think is likely the best approach to dealing with the missing values?"
   ]
  },
  {
   "cell_type": "code",
   "execution_count": 7,
   "id": "39dcb5f0",
   "metadata": {
    "execution": {
     "iopub.execute_input": "2022-01-24T11:01:06.849173Z",
     "iopub.status.busy": "2022-01-24T11:01:06.848427Z",
     "iopub.status.idle": "2022-01-24T11:01:06.852384Z",
     "shell.execute_reply": "2022-01-24T11:01:06.852907Z",
     "shell.execute_reply.started": "2022-01-24T10:53:17.375719Z"
    },
    "papermill": {
     "duration": 0.039369,
     "end_time": "2022-01-24T11:01:06.853076",
     "exception": false,
     "start_time": "2022-01-24T11:01:06.813707",
     "status": "completed"
    },
    "tags": []
   },
   "outputs": [
    {
     "data": {
      "application/javascript": [
       "parent.postMessage({\"jupyterEvent\": \"custom.exercise_interaction\", \"data\": {\"outcomeType\": 1, \"valueTowardsCompletion\": 1.0, \"interactionType\": 1, \"questionType\": 4, \"questionId\": \"1.2_InvestigateThought\", \"learnToolsVersion\": \"0.3.4\", \"failureMessage\": \"\", \"exceptionClass\": \"\", \"trace\": \"\"}}, \"*\")"
      ],
      "text/plain": [
       "<IPython.core.display.Javascript object>"
      ]
     },
     "metadata": {},
     "output_type": "display_data"
    },
    {
     "data": {
      "text/markdown": [
       "<span style=\"color:#33cc33\">Correct:</span> \n",
       "\n",
       "Since there are relatively few missing entries in the data (the column with the greatest percentage of missing values is missing less than 20% of its entries), we can expect that dropping columns is unlikely to yield good results.  This is because we'd be throwing away a lot of valuable data, and so imputation will likely perform better."
      ],
      "text/plain": [
       "Correct: \n",
       "\n",
       "Since there are relatively few missing entries in the data (the column with the greatest percentage of missing values is missing less than 20% of its entries), we can expect that dropping columns is unlikely to yield good results.  This is because we'd be throwing away a lot of valuable data, and so imputation will likely perform better."
      ]
     },
     "metadata": {},
     "output_type": "display_data"
    }
   ],
   "source": [
    "# Check your answer (Run this code cell to receive credit!)\n",
    "step_1.b.check()"
   ]
  },
  {
   "cell_type": "code",
   "execution_count": 8,
   "id": "9803ab44",
   "metadata": {
    "execution": {
     "iopub.execute_input": "2022-01-24T11:01:06.917882Z",
     "iopub.status.busy": "2022-01-24T11:01:06.917110Z",
     "iopub.status.idle": "2022-01-24T11:01:06.920541Z",
     "shell.execute_reply": "2022-01-24T11:01:06.921050Z"
    },
    "papermill": {
     "duration": 0.037562,
     "end_time": "2022-01-24T11:01:06.921228",
     "exception": false,
     "start_time": "2022-01-24T11:01:06.883666",
     "status": "completed"
    },
    "tags": []
   },
   "outputs": [],
   "source": [
    "#step_1.b.hint()"
   ]
  },
  {
   "cell_type": "markdown",
   "id": "96242ef7",
   "metadata": {
    "papermill": {
     "duration": 0.031697,
     "end_time": "2022-01-24T11:01:06.983781",
     "exception": false,
     "start_time": "2022-01-24T11:01:06.952084",
     "status": "completed"
    },
    "tags": []
   },
   "source": [
    "To compare different approaches to dealing with missing values, you'll use the same `score_dataset()` function from the tutorial.  This function reports the [mean absolute error](https://en.wikipedia.org/wiki/Mean_absolute_error) (MAE) from a random forest model."
   ]
  },
  {
   "cell_type": "code",
   "execution_count": 9,
   "id": "830ac073",
   "metadata": {
    "execution": {
     "iopub.execute_input": "2022-01-24T11:01:07.053152Z",
     "iopub.status.busy": "2022-01-24T11:01:07.049246Z",
     "iopub.status.idle": "2022-01-24T11:01:07.254584Z",
     "shell.execute_reply": "2022-01-24T11:01:07.253870Z",
     "shell.execute_reply.started": "2022-01-24T10:53:21.089637Z"
    },
    "papermill": {
     "duration": 0.240155,
     "end_time": "2022-01-24T11:01:07.254741",
     "exception": false,
     "start_time": "2022-01-24T11:01:07.014586",
     "status": "completed"
    },
    "tags": []
   },
   "outputs": [],
   "source": [
    "from sklearn.ensemble import RandomForestRegressor\n",
    "from sklearn.metrics import mean_absolute_error\n",
    "\n",
    "# Function for comparing different approaches\n",
    "def score_dataset(X_train, X_valid, y_train, y_valid):\n",
    "    model = RandomForestRegressor(n_estimators=100, random_state=0)\n",
    "    model.fit(X_train, y_train)\n",
    "    preds = model.predict(X_valid)\n",
    "    return mean_absolute_error(y_valid, preds)"
   ]
  },
  {
   "cell_type": "markdown",
   "id": "a97b76a9",
   "metadata": {
    "papermill": {
     "duration": 0.030549,
     "end_time": "2022-01-24T11:01:07.316126",
     "exception": false,
     "start_time": "2022-01-24T11:01:07.285577",
     "status": "completed"
    },
    "tags": []
   },
   "source": [
    "# Step 2: Drop columns with missing values\n",
    "\n",
    "In this step, you'll preprocess the data in `X_train` and `X_valid` to remove columns with missing values.  Set the preprocessed DataFrames to `reduced_X_train` and `reduced_X_valid`, respectively.  "
   ]
  },
  {
   "cell_type": "code",
   "execution_count": 10,
   "id": "dad771e9",
   "metadata": {
    "execution": {
     "iopub.execute_input": "2022-01-24T11:01:07.387096Z",
     "iopub.status.busy": "2022-01-24T11:01:07.386367Z",
     "iopub.status.idle": "2022-01-24T11:01:07.409425Z",
     "shell.execute_reply": "2022-01-24T11:01:07.410009Z",
     "shell.execute_reply.started": "2022-01-24T10:53:27.750376Z"
    },
    "papermill": {
     "duration": 0.062869,
     "end_time": "2022-01-24T11:01:07.410198",
     "exception": false,
     "start_time": "2022-01-24T11:01:07.347329",
     "status": "completed"
    },
    "tags": []
   },
   "outputs": [
    {
     "data": {
      "application/javascript": [
       "parent.postMessage({\"jupyterEvent\": \"custom.exercise_interaction\", \"data\": {\"outcomeType\": 1, \"valueTowardsCompletion\": 1.0, \"interactionType\": 1, \"questionType\": 2, \"questionId\": \"2_DropMissing\", \"learnToolsVersion\": \"0.3.4\", \"failureMessage\": \"\", \"exceptionClass\": \"\", \"trace\": \"\"}}, \"*\")"
      ],
      "text/plain": [
       "<IPython.core.display.Javascript object>"
      ]
     },
     "metadata": {},
     "output_type": "display_data"
    },
    {
     "data": {
      "text/markdown": [
       "<span style=\"color:#33cc33\">Correct</span>"
      ],
      "text/plain": [
       "Correct"
      ]
     },
     "metadata": {},
     "output_type": "display_data"
    }
   ],
   "source": [
    "# Fill in the line below: get names of columns with missing values\n",
    "# Your code here\n",
    "col_with_missing =[ i for i in X_train.columns if X_train[i].isnull().any()]\n",
    "# Fill in the lines below: drop columns in training and validation data\n",
    "reduced_X_train = X_train.drop(col_with_missing, axis = 1)\n",
    "reduced_X_valid = X_valid.drop(col_with_missing, axis = 1)\n",
    "\n",
    "# Check your answers\n",
    "step_2.check()"
   ]
  },
  {
   "cell_type": "code",
   "execution_count": 11,
   "id": "3593789d",
   "metadata": {
    "execution": {
     "iopub.execute_input": "2022-01-24T11:01:07.478663Z",
     "iopub.status.busy": "2022-01-24T11:01:07.478027Z",
     "iopub.status.idle": "2022-01-24T11:01:07.481059Z",
     "shell.execute_reply": "2022-01-24T11:01:07.481589Z"
    },
    "papermill": {
     "duration": 0.038915,
     "end_time": "2022-01-24T11:01:07.481761",
     "exception": false,
     "start_time": "2022-01-24T11:01:07.442846",
     "status": "completed"
    },
    "tags": []
   },
   "outputs": [],
   "source": [
    "# Lines below will give you a hint or solution code\n",
    "#step_2.hint()\n",
    "#step_2.solution()"
   ]
  },
  {
   "cell_type": "markdown",
   "id": "369ac998",
   "metadata": {
    "papermill": {
     "duration": 0.031553,
     "end_time": "2022-01-24T11:01:07.545027",
     "exception": false,
     "start_time": "2022-01-24T11:01:07.513474",
     "status": "completed"
    },
    "tags": []
   },
   "source": [
    "Run the next code cell without changes to obtain the MAE for this approach."
   ]
  },
  {
   "cell_type": "code",
   "execution_count": 12,
   "id": "f35e0bd7",
   "metadata": {
    "execution": {
     "iopub.execute_input": "2022-01-24T11:01:07.612799Z",
     "iopub.status.busy": "2022-01-24T11:01:07.612130Z",
     "iopub.status.idle": "2022-01-24T11:01:08.853212Z",
     "shell.execute_reply": "2022-01-24T11:01:08.852472Z",
     "shell.execute_reply.started": "2022-01-24T10:53:34.792518Z"
    },
    "papermill": {
     "duration": 1.275659,
     "end_time": "2022-01-24T11:01:08.853364",
     "exception": false,
     "start_time": "2022-01-24T11:01:07.577705",
     "status": "completed"
    },
    "tags": []
   },
   "outputs": [
    {
     "name": "stdout",
     "output_type": "stream",
     "text": [
      "MAE (Drop columns with missing values):\n",
      "17837.82570776256\n"
     ]
    }
   ],
   "source": [
    "print(\"MAE (Drop columns with missing values):\")\n",
    "print(score_dataset(reduced_X_train, reduced_X_valid, y_train, y_valid))"
   ]
  },
  {
   "cell_type": "markdown",
   "id": "a56c7516",
   "metadata": {
    "papermill": {
     "duration": 0.032664,
     "end_time": "2022-01-24T11:01:08.918843",
     "exception": false,
     "start_time": "2022-01-24T11:01:08.886179",
     "status": "completed"
    },
    "tags": []
   },
   "source": [
    "# Step 3: Imputation\n",
    "\n",
    "### Part A\n",
    "\n",
    "Use the next code cell to impute missing values with the mean value along each column.  Set the preprocessed DataFrames to `imputed_X_train` and `imputed_X_valid`.  Make sure that the column names match those in `X_train` and `X_valid`."
   ]
  },
  {
   "cell_type": "code",
   "execution_count": 13,
   "id": "716a51fb",
   "metadata": {
    "execution": {
     "iopub.execute_input": "2022-01-24T11:01:08.989771Z",
     "iopub.status.busy": "2022-01-24T11:01:08.988567Z",
     "iopub.status.idle": "2022-01-24T11:01:09.023005Z",
     "shell.execute_reply": "2022-01-24T11:01:09.023512Z",
     "shell.execute_reply.started": "2022-01-24T10:53:41.111234Z"
    },
    "papermill": {
     "duration": 0.071273,
     "end_time": "2022-01-24T11:01:09.023699",
     "exception": false,
     "start_time": "2022-01-24T11:01:08.952426",
     "status": "completed"
    },
    "tags": []
   },
   "outputs": [
    {
     "data": {
      "application/javascript": [
       "parent.postMessage({\"jupyterEvent\": \"custom.exercise_interaction\", \"data\": {\"outcomeType\": 1, \"valueTowardsCompletion\": 1.0, \"interactionType\": 1, \"questionType\": 2, \"questionId\": \"3.1_ImputeCode\", \"learnToolsVersion\": \"0.3.4\", \"failureMessage\": \"\", \"exceptionClass\": \"\", \"trace\": \"\"}}, \"*\")"
      ],
      "text/plain": [
       "<IPython.core.display.Javascript object>"
      ]
     },
     "metadata": {},
     "output_type": "display_data"
    },
    {
     "data": {
      "text/markdown": [
       "<span style=\"color:#33cc33\">Correct</span>"
      ],
      "text/plain": [
       "Correct"
      ]
     },
     "metadata": {},
     "output_type": "display_data"
    }
   ],
   "source": [
    "from sklearn.impute import SimpleImputer\n",
    "\n",
    "# Fill in the lines below: imputation\n",
    "# Your code here\n",
    "imp = SimpleImputer()\n",
    "imputed_X_train = pd.DataFrame(imp.fit_transform(X_train))\n",
    "imputed_X_valid = pd.DataFrame(imp.transform(X_valid))\n",
    "\n",
    "# Fill in the lines below: imputation removed column names; put them back\n",
    "imputed_X_train.columns = X_train.columns\n",
    "imputed_X_valid.columns = X_valid.columns\n",
    "\n",
    "# Check your answers\n",
    "step_3.a.check()"
   ]
  },
  {
   "cell_type": "code",
   "execution_count": 14,
   "id": "daec2c44",
   "metadata": {
    "execution": {
     "iopub.execute_input": "2022-01-24T11:01:09.097126Z",
     "iopub.status.busy": "2022-01-24T11:01:09.096425Z",
     "iopub.status.idle": "2022-01-24T11:01:09.099264Z",
     "shell.execute_reply": "2022-01-24T11:01:09.098662Z"
    },
    "papermill": {
     "duration": 0.041432,
     "end_time": "2022-01-24T11:01:09.099416",
     "exception": false,
     "start_time": "2022-01-24T11:01:09.057984",
     "status": "completed"
    },
    "tags": []
   },
   "outputs": [],
   "source": [
    "# Lines below will give you a hint or solution code\n",
    "#step_3.a.hint()\n",
    "#step_3.a.solution()"
   ]
  },
  {
   "cell_type": "markdown",
   "id": "5bdabd2e",
   "metadata": {
    "papermill": {
     "duration": 0.033118,
     "end_time": "2022-01-24T11:01:09.166974",
     "exception": false,
     "start_time": "2022-01-24T11:01:09.133856",
     "status": "completed"
    },
    "tags": []
   },
   "source": [
    "Run the next code cell without changes to obtain the MAE for this approach."
   ]
  },
  {
   "cell_type": "code",
   "execution_count": 15,
   "id": "56bffe8a",
   "metadata": {
    "execution": {
     "iopub.execute_input": "2022-01-24T11:01:09.238989Z",
     "iopub.status.busy": "2022-01-24T11:01:09.238229Z",
     "iopub.status.idle": "2022-01-24T11:01:10.604388Z",
     "shell.execute_reply": "2022-01-24T11:01:10.604936Z",
     "shell.execute_reply.started": "2022-01-24T10:53:45.926298Z"
    },
    "papermill": {
     "duration": 1.404487,
     "end_time": "2022-01-24T11:01:10.605126",
     "exception": false,
     "start_time": "2022-01-24T11:01:09.200639",
     "status": "completed"
    },
    "tags": []
   },
   "outputs": [
    {
     "name": "stdout",
     "output_type": "stream",
     "text": [
      "MAE (Imputation):\n",
      "18062.894611872147\n"
     ]
    }
   ],
   "source": [
    "print(\"MAE (Imputation):\")\n",
    "print(score_dataset(imputed_X_train, imputed_X_valid, y_train, y_valid))"
   ]
  },
  {
   "cell_type": "markdown",
   "id": "1e970594",
   "metadata": {
    "papermill": {
     "duration": 0.034164,
     "end_time": "2022-01-24T11:01:10.674759",
     "exception": false,
     "start_time": "2022-01-24T11:01:10.640595",
     "status": "completed"
    },
    "tags": []
   },
   "source": [
    "### Part B\n",
    "\n",
    "Compare the MAE from each approach.  Does anything surprise you about the results?  Why do you think one approach performed better than the other?"
   ]
  },
  {
   "cell_type": "code",
   "execution_count": 16,
   "id": "08528e8e",
   "metadata": {
    "execution": {
     "iopub.execute_input": "2022-01-24T11:01:10.748827Z",
     "iopub.status.busy": "2022-01-24T11:01:10.747800Z",
     "iopub.status.idle": "2022-01-24T11:01:10.755770Z",
     "shell.execute_reply": "2022-01-24T11:01:10.756330Z",
     "shell.execute_reply.started": "2022-01-24T10:53:52.496664Z"
    },
    "papermill": {
     "duration": 0.046852,
     "end_time": "2022-01-24T11:01:10.756492",
     "exception": false,
     "start_time": "2022-01-24T11:01:10.709640",
     "status": "completed"
    },
    "tags": []
   },
   "outputs": [
    {
     "data": {
      "application/javascript": [
       "parent.postMessage({\"jupyterEvent\": \"custom.exercise_interaction\", \"data\": {\"outcomeType\": 1, \"valueTowardsCompletion\": 1.0, \"interactionType\": 1, \"questionType\": 4, \"questionId\": \"3.2_ImputeThought\", \"learnToolsVersion\": \"0.3.4\", \"failureMessage\": \"\", \"exceptionClass\": \"\", \"trace\": \"\"}}, \"*\")"
      ],
      "text/plain": [
       "<IPython.core.display.Javascript object>"
      ]
     },
     "metadata": {},
     "output_type": "display_data"
    },
    {
     "data": {
      "text/markdown": [
       "<span style=\"color:#33cc33\">Correct:</span> \n",
       "\n",
       "Given that thre are so few missing values in the dataset, we'd expect imputation to perform better than dropping columns entirely.  However, we see that dropping columns performs slightly better!  While this can probably partially be attributed to noise in the dataset, another potential explanation is that the imputation method is not a great match to this dataset.  That is, maybe instead of filling in the mean value, it makes more sense to set every missing value to a value of 0, to fill in the most frequently encountered value, or to use some other method.  For instance, consider the `GarageYrBlt` column (which indicates the year that the garage was built).  It's likely that in some cases, a missing value could indicate a house that does not have a garage.  Does it make more sense to fill in the median value along each column in this case?  Or could we get better results by filling in the minimum value along each column?  It's not quite clear what's best in this case, but perhaps we can rule out some options immediately - for instance, setting missing values in this column to 0 is likely to yield horrible results!"
      ],
      "text/plain": [
       "Correct: \n",
       "\n",
       "Given that thre are so few missing values in the dataset, we'd expect imputation to perform better than dropping columns entirely.  However, we see that dropping columns performs slightly better!  While this can probably partially be attributed to noise in the dataset, another potential explanation is that the imputation method is not a great match to this dataset.  That is, maybe instead of filling in the mean value, it makes more sense to set every missing value to a value of 0, to fill in the most frequently encountered value, or to use some other method.  For instance, consider the `GarageYrBlt` column (which indicates the year that the garage was built).  It's likely that in some cases, a missing value could indicate a house that does not have a garage.  Does it make more sense to fill in the median value along each column in this case?  Or could we get better results by filling in the minimum value along each column?  It's not quite clear what's best in this case, but perhaps we can rule out some options immediately - for instance, setting missing values in this column to 0 is likely to yield horrible results!"
      ]
     },
     "metadata": {},
     "output_type": "display_data"
    }
   ],
   "source": [
    "# Check your answer (Run this code cell to receive credit!)\n",
    "step_3.b.check()"
   ]
  },
  {
   "cell_type": "code",
   "execution_count": 17,
   "id": "0d3da862",
   "metadata": {
    "execution": {
     "iopub.execute_input": "2022-01-24T11:01:10.833433Z",
     "iopub.status.busy": "2022-01-24T11:01:10.832591Z",
     "iopub.status.idle": "2022-01-24T11:01:10.834115Z",
     "shell.execute_reply": "2022-01-24T11:01:10.834599Z"
    },
    "papermill": {
     "duration": 0.042907,
     "end_time": "2022-01-24T11:01:10.834764",
     "exception": false,
     "start_time": "2022-01-24T11:01:10.791857",
     "status": "completed"
    },
    "tags": []
   },
   "outputs": [],
   "source": [
    "#step_3.b.hint()"
   ]
  },
  {
   "cell_type": "markdown",
   "id": "db67199b",
   "metadata": {
    "papermill": {
     "duration": 0.037574,
     "end_time": "2022-01-24T11:01:10.908078",
     "exception": false,
     "start_time": "2022-01-24T11:01:10.870504",
     "status": "completed"
    },
    "tags": []
   },
   "source": [
    "# Step 4: Generate test predictions\n",
    "\n",
    "In this final step, you'll use any approach of your choosing to deal with missing values.  Once you've preprocessed the training and validation features, you'll train and evaluate a random forest model.  Then, you'll preprocess the test data before generating predictions that can be submitted to the competition!\n",
    "\n",
    "### Part A\n",
    "\n",
    "Use the next code cell to preprocess the training and validation data.  Set the preprocessed DataFrames to `final_X_train` and `final_X_valid`.  **You can use any approach of your choosing here!**  in order for this step to be marked as correct, you need only ensure:\n",
    "- the preprocessed DataFrames have the same number of columns,\n",
    "- the preprocessed DataFrames have no missing values, \n",
    "- `final_X_train` and `y_train` have the same number of rows, and\n",
    "- `final_X_valid` and `y_valid` have the same number of rows."
   ]
  },
  {
   "cell_type": "code",
   "execution_count": 18,
   "id": "8e8d4407",
   "metadata": {
    "execution": {
     "iopub.execute_input": "2022-01-24T11:01:10.984401Z",
     "iopub.status.busy": "2022-01-24T11:01:10.983619Z",
     "iopub.status.idle": "2022-01-24T11:01:11.013082Z",
     "shell.execute_reply": "2022-01-24T11:01:11.013713Z",
     "shell.execute_reply.started": "2022-01-24T10:54:00.006507Z"
    },
    "papermill": {
     "duration": 0.068438,
     "end_time": "2022-01-24T11:01:11.013902",
     "exception": false,
     "start_time": "2022-01-24T11:01:10.945464",
     "status": "completed"
    },
    "tags": []
   },
   "outputs": [
    {
     "data": {
      "application/javascript": [
       "parent.postMessage({\"jupyterEvent\": \"custom.exercise_interaction\", \"data\": {\"outcomeType\": 1, \"valueTowardsCompletion\": 1.0, \"interactionType\": 1, \"questionType\": 2, \"questionId\": \"4.1_PredsCodeA\", \"learnToolsVersion\": \"0.3.4\", \"failureMessage\": \"\", \"exceptionClass\": \"\", \"trace\": \"\"}}, \"*\")"
      ],
      "text/plain": [
       "<IPython.core.display.Javascript object>"
      ]
     },
     "metadata": {},
     "output_type": "display_data"
    },
    {
     "data": {
      "text/markdown": [
       "<span style=\"color:#33cc33\">Correct</span>"
      ],
      "text/plain": [
       "Correct"
      ]
     },
     "metadata": {},
     "output_type": "display_data"
    }
   ],
   "source": [
    "# Preprocessed training and validation features\n",
    "fim= SimpleImputer(strategy='median')\n",
    "final_X_train = pd.DataFrame(fim.fit_transform(X_train))\n",
    "final_X_valid = pd.DataFrame(fim.transform(X_valid))\n",
    "final_X_train.columns = X_train.columns\n",
    "final_X_valid.columns = X_valid.columns\n",
    "\n",
    "# Check your answers\n",
    "step_4.a.check()"
   ]
  },
  {
   "cell_type": "code",
   "execution_count": 19,
   "id": "31a81b06",
   "metadata": {
    "execution": {
     "iopub.execute_input": "2022-01-24T11:01:11.091055Z",
     "iopub.status.busy": "2022-01-24T11:01:11.090416Z",
     "iopub.status.idle": "2022-01-24T11:01:11.093399Z",
     "shell.execute_reply": "2022-01-24T11:01:11.093967Z"
    },
    "papermill": {
     "duration": 0.043835,
     "end_time": "2022-01-24T11:01:11.094133",
     "exception": false,
     "start_time": "2022-01-24T11:01:11.050298",
     "status": "completed"
    },
    "tags": []
   },
   "outputs": [],
   "source": [
    "# Lines below will give you a hint or solution code\n",
    "#step_4.a.hint()\n",
    "#step_4.a.solution()"
   ]
  },
  {
   "cell_type": "markdown",
   "id": "8e55be99",
   "metadata": {
    "papermill": {
     "duration": 0.037617,
     "end_time": "2022-01-24T11:01:11.168492",
     "exception": false,
     "start_time": "2022-01-24T11:01:11.130875",
     "status": "completed"
    },
    "tags": []
   },
   "source": [
    "Run the next code cell to train and evaluate a random forest model.  (*Note that we don't use the `score_dataset()` function above, because we will soon use the trained model to generate test predictions!*)"
   ]
  },
  {
   "cell_type": "code",
   "execution_count": 20,
   "id": "bfe150b6",
   "metadata": {
    "execution": {
     "iopub.execute_input": "2022-01-24T11:01:11.247377Z",
     "iopub.status.busy": "2022-01-24T11:01:11.246673Z",
     "iopub.status.idle": "2022-01-24T11:01:12.616625Z",
     "shell.execute_reply": "2022-01-24T11:01:12.615972Z",
     "shell.execute_reply.started": "2022-01-24T10:55:19.743326Z"
    },
    "papermill": {
     "duration": 1.410595,
     "end_time": "2022-01-24T11:01:12.616770",
     "exception": false,
     "start_time": "2022-01-24T11:01:11.206175",
     "status": "completed"
    },
    "tags": []
   },
   "outputs": [
    {
     "name": "stdout",
     "output_type": "stream",
     "text": [
      "MAE (Your approach):\n",
      "17791.59899543379\n"
     ]
    }
   ],
   "source": [
    "# Define and fit model\n",
    "model = RandomForestRegressor(n_estimators=100, random_state=0)\n",
    "model.fit(final_X_train, y_train)\n",
    "\n",
    "# Get validation predictions and MAE\n",
    "preds_valid = model.predict(final_X_valid)\n",
    "print(\"MAE (Your approach):\")\n",
    "print(mean_absolute_error(y_valid, preds_valid))"
   ]
  },
  {
   "cell_type": "markdown",
   "id": "a81d1c67",
   "metadata": {
    "papermill": {
     "duration": 0.039052,
     "end_time": "2022-01-24T11:01:12.694242",
     "exception": false,
     "start_time": "2022-01-24T11:01:12.655190",
     "status": "completed"
    },
    "tags": []
   },
   "source": [
    "### Part B\n",
    "\n",
    "Use the next code cell to preprocess your test data.  Make sure that you use a method that agrees with how you preprocessed the training and validation data, and set the preprocessed test features to `final_X_test`.\n",
    "\n",
    "Then, use the preprocessed test features and the trained model to generate test predictions in `preds_test`.\n",
    "\n",
    "In order for this step to be marked correct, you need only ensure:\n",
    "- the preprocessed test DataFrame has no missing values, and\n",
    "- `final_X_test` has the same number of rows as `X_test`."
   ]
  },
  {
   "cell_type": "code",
   "execution_count": 21,
   "id": "2eb7daa4",
   "metadata": {
    "execution": {
     "iopub.execute_input": "2022-01-24T11:01:12.782265Z",
     "iopub.status.busy": "2022-01-24T11:01:12.781474Z",
     "iopub.status.idle": "2022-01-24T11:01:12.819449Z",
     "shell.execute_reply": "2022-01-24T11:01:12.818781Z",
     "shell.execute_reply.started": "2022-01-24T10:59:11.735861Z"
    },
    "papermill": {
     "duration": 0.084632,
     "end_time": "2022-01-24T11:01:12.819588",
     "exception": false,
     "start_time": "2022-01-24T11:01:12.734956",
     "status": "completed"
    },
    "tags": []
   },
   "outputs": [
    {
     "data": {
      "application/javascript": [
       "parent.postMessage({\"jupyterEvent\": \"custom.exercise_interaction\", \"data\": {\"outcomeType\": 1, \"valueTowardsCompletion\": 1.0, \"interactionType\": 1, \"questionType\": 2, \"questionId\": \"4.2_PredsCodeB\", \"learnToolsVersion\": \"0.3.4\", \"failureMessage\": \"\", \"exceptionClass\": \"\", \"trace\": \"\"}}, \"*\")"
      ],
      "text/plain": [
       "<IPython.core.display.Javascript object>"
      ]
     },
     "metadata": {},
     "output_type": "display_data"
    },
    {
     "data": {
      "text/markdown": [
       "<span style=\"color:#33cc33\">Correct</span>"
      ],
      "text/plain": [
       "Correct"
      ]
     },
     "metadata": {},
     "output_type": "display_data"
    },
    {
     "data": {
      "text/plain": [
       "array([214016.26      , 149545.59      , 102276.91      , 222790.39      ,\n",
       "        89753.79      , 108301.93      , 260967.73      , 122679.41      ,\n",
       "       535948.21      , 155379.12      , 192830.5       , 144717.14      ,\n",
       "       223151.6       , 114177.6       , 127984.35      , 147014.37      ,\n",
       "       222602.18      , 118031.75      , 141432.99      , 182024.34      ,\n",
       "       123271.08      , 144744.91666667, 125712.58      , 164249.16      ,\n",
       "       176732.3       , 219852.18      , 169374.52      ,  84909.65      ,\n",
       "       333980.67      , 118901.76      , 137098.5       , 190068.4       ,\n",
       "       140130.61666667, 291177.16      , 325750.83      , 183527.9       ,\n",
       "       282696.17      , 126245.03      , 231681.01      , 301528.63      ,\n",
       "       219059.4       , 119521.44      , 179189.29      , 295426.42      ,\n",
       "       318493.27      , 147254.7       , 128528.5       , 128891.5       ,\n",
       "       167579.32      ,  99781.37      , 369080.05      , 144042.87      ,\n",
       "       166790.56      ,  84337.08      , 232984.29      , 112577.5       ,\n",
       "       143283.09      , 246594.38      , 143390.        ,  99473.36      ,\n",
       "       143654.58      , 133955.5       , 144187.75      , 150382.87      ,\n",
       "       204776.72      , 153018.5       , 125142.02      , 217328.68      ,\n",
       "       119843.84      , 191259.21      , 178444.97      , 118254.        ,\n",
       "        89090.48      , 230471.24      ,  90482.74      , 269644.84      ,\n",
       "       129891.        , 109254.88      , 281960.61      , 159667.5       ,\n",
       "       137793.27      , 133003.        , 123343.65      , 142459.        ,\n",
       "       177354.06      , 198220.62      ,  88991.3       , 192486.91      ,\n",
       "       185618.99      , 140519.5       , 195648.32      , 198145.25      ,\n",
       "       179564.34      , 222590.68      , 185433.72      , 150738.5       ,\n",
       "       209601.33      , 185941.63      , 119676.08      , 149277.92      ,\n",
       "       255654.68      , 222539.98      , 116151.78      , 159250.        ,\n",
       "       106991.76      , 280807.35      , 149064.61      , 114107.5       ,\n",
       "       173265.55      , 111850.02      ,  99700.        , 130427.5       ,\n",
       "       193537.62      , 120406.03      , 171253.62      , 155523.5       ,\n",
       "       414248.41      , 126907.82      , 195277.2       , 261705.41      ,\n",
       "       161386.04      , 172065.04      , 139302.58      , 212995.        ,\n",
       "       228289.49      , 216253.69      , 391277.11      , 194359.81      ,\n",
       "       192957.85      , 173354.        , 211458.58      , 196813.84      ,\n",
       "       144273.95      , 184342.32      , 105797.58      , 221354.86      ,\n",
       "       140017.5       , 189552.81      , 110809.07      , 174654.75      ,\n",
       "       141099.6       , 137526.95      , 206243.6       , 147052.8       ,\n",
       "       139249.37      , 182297.32      , 227682.51      , 136904.25      ,\n",
       "       305038.8       , 238478.48      , 167214.        , 383314.3       ,\n",
       "       304312.89      , 180454.56      , 185995.96      , 273397.9       ,\n",
       "       119491.13      , 199555.78      , 126590.87      , 170116.95      ,\n",
       "       120652.5       , 145349.37      , 193837.36      , 125923.18      ,\n",
       "       247066.07      , 134383.68      , 159180.03      , 270017.43      ,\n",
       "       194338.59      , 179252.22      , 170489.9       , 165720.82      ,\n",
       "       184855.09      , 160861.15      , 124856.41      , 112535.07      ,\n",
       "       137821.75      , 235001.8       , 115139.5       , 147427.54      ,\n",
       "       311643.11      , 201507.9       , 107673.85      , 303289.71      ,\n",
       "       115205.92      , 173113.        ,  96144.41      , 195967.        ,\n",
       "       185717.84      , 139781.60333333, 143433.37      , 158874.        ,\n",
       "       209413.26      , 130774.66      , 114802.99      , 142835.97      ,\n",
       "        86287.61      , 131050.        , 167389.22      , 134292.1       ,\n",
       "       139025.5       , 199586.78      , 108644.83      , 126956.75      ,\n",
       "       143322.46      , 168906.4       , 150738.87      , 321472.39      ,\n",
       "       260922.68      ,  67014.        , 153590.5       , 265164.73      ,\n",
       "        90570.36      ,  96213.94      , 379964.41      , 213875.82      ,\n",
       "       190526.58      , 252743.48      , 253635.24      ,  87491.5       ,\n",
       "       215088.23      , 147620.5       , 140516.43      , 121046.        ,\n",
       "       190283.57      , 256353.68      , 245836.44      , 202777.1       ,\n",
       "       133484.59      , 167919.4       ,  90554.86      , 155269.67      ,\n",
       "       109613.58      , 145508.85      , 215405.25      , 127114.72      ,\n",
       "       137342.14      , 126068.5       ,  95034.39      , 183198.17      ,\n",
       "       118184.54      , 191213.        , 200916.6       , 215680.05      ,\n",
       "       169251.99      , 182898.4       , 217557.        , 188385.35      ,\n",
       "       126716.55      , 196989.55      , 186916.        , 264441.76      ,\n",
       "        94872.3       , 416747.1       , 231146.38      , 230073.09      ,\n",
       "        99813.47      , 216266.96      , 389717.11      , 482061.78      ,\n",
       "       219254.59      , 133273.4       , 138166.39      , 100354.22      ,\n",
       "       446451.58      , 331691.81      , 368678.91      ,  71352.05      ,\n",
       "       220809.59      , 259758.33      , 137850.46      , 241612.16      ,\n",
       "       135385.86      , 189939.2       , 141594.62      , 230392.37      ,\n",
       "       225202.16      , 175489.75      , 219963.34      , 117427.83      ,\n",
       "       135241.5       , 373059.86      , 160685.34      , 147638.84      ,\n",
       "       193580.09      , 170605.5       , 114605.62      , 302538.55      ,\n",
       "       447240.93      , 161152.61      ,  74163.16      ,  96852.01      ])"
      ]
     },
     "execution_count": 21,
     "metadata": {},
     "output_type": "execute_result"
    }
   ],
   "source": [
    "# Fill in the line below: preprocess test data\n",
    "final_X_test = pd.DataFrame(fim.transform(X_test))\n",
    "\n",
    "# Fill in the line below: get test predictions\n",
    "preds_test = model.predict(final_X_valid)\n",
    "# Check your answers\n",
    "step_4.b.check()\n",
    "preds_test"
   ]
  },
  {
   "cell_type": "code",
   "execution_count": 22,
   "id": "a69daf91",
   "metadata": {
    "execution": {
     "iopub.execute_input": "2022-01-24T11:01:12.901574Z",
     "iopub.status.busy": "2022-01-24T11:01:12.900897Z",
     "iopub.status.idle": "2022-01-24T11:01:12.902736Z",
     "shell.execute_reply": "2022-01-24T11:01:12.903282Z",
     "shell.execute_reply.started": "2022-01-24T10:56:12.201567Z"
    },
    "papermill": {
     "duration": 0.045611,
     "end_time": "2022-01-24T11:01:12.903474",
     "exception": false,
     "start_time": "2022-01-24T11:01:12.857863",
     "status": "completed"
    },
    "tags": []
   },
   "outputs": [],
   "source": [
    "# Lines below will give you a hint or solution code\n",
    "#step_4.b.hint()\n",
    "#step_4.b.solution()"
   ]
  },
  {
   "cell_type": "markdown",
   "id": "dcf18c60",
   "metadata": {
    "papermill": {
     "duration": 0.039467,
     "end_time": "2022-01-24T11:01:12.983938",
     "exception": false,
     "start_time": "2022-01-24T11:01:12.944471",
     "status": "completed"
    },
    "tags": []
   },
   "source": [
    "Run the next code cell without changes to save your results to a CSV file that can be submitted directly to the competition."
   ]
  },
  {
   "cell_type": "code",
   "execution_count": 23,
   "id": "8eb08bae",
   "metadata": {
    "execution": {
     "iopub.execute_input": "2022-01-24T11:01:13.071456Z",
     "iopub.status.busy": "2022-01-24T11:01:13.070745Z",
     "iopub.status.idle": "2022-01-24T11:01:13.079950Z",
     "shell.execute_reply": "2022-01-24T11:01:13.080504Z",
     "shell.execute_reply.started": "2022-01-24T11:00:23.395519Z"
    },
    "papermill": {
     "duration": 0.055895,
     "end_time": "2022-01-24T11:01:13.080681",
     "exception": false,
     "start_time": "2022-01-24T11:01:13.024786",
     "status": "completed"
    },
    "tags": []
   },
   "outputs": [],
   "source": [
    "# Save test predictions to file\n",
    "output = pd.DataFrame(data = [[X_test.index, preds_test]], columns = ['Id', 'SalesPrice'])\n",
    "output.to_csv('submission.csv', index=False)"
   ]
  },
  {
   "cell_type": "markdown",
   "id": "a53cc335",
   "metadata": {
    "papermill": {
     "duration": 0.038045,
     "end_time": "2022-01-24T11:01:13.157926",
     "exception": false,
     "start_time": "2022-01-24T11:01:13.119881",
     "status": "completed"
    },
    "tags": []
   },
   "source": [
    "# Submit your results\n",
    "\n",
    "Once you have successfully completed Step 4, you're ready to submit your results to the leaderboard!  (_You also learned how to do this in the previous exercise.  If you need a reminder of how to do this, please use the instructions below._)  \n",
    "\n",
    "First, you'll need to join the competition if you haven't already.  So open a new window by clicking on [this link](https://www.kaggle.com/c/home-data-for-ml-course).  Then click on the **Join Competition** button.\n",
    "\n",
    "![join competition image](https://i.imgur.com/wLmFtH3.png)\n",
    "\n",
    "Next, follow the instructions below:\n",
    "1. Begin by clicking on the **Save Version** button in the top right corner of the window.  This will generate a pop-up window.  \n",
    "2. Ensure that the **Save and Run All** option is selected, and then click on the **Save** button.\n",
    "3. This generates a window in the bottom left corner of the notebook.  After it has finished running, click on the number to the right of the **Save Version** button.  This pulls up a list of versions on the right of the screen.  Click on the ellipsis **(...)** to the right of the most recent version, and select **Open in Viewer**.  This brings you into view mode of the same page. You will need to scroll down to get back to these instructions.\n",
    "4. Click on the **Output** tab on the right of the screen.  Then, click on the file you would like to submit, and click on the **Submit** button to submit your results to the leaderboard.\n",
    "\n",
    "You have now successfully submitted to the competition!\n",
    "\n",
    "If you want to keep working to improve your performance, select the **Edit** button in the top right of the screen. Then you can change your code and repeat the process. There's a lot of room to improve, and you will climb up the leaderboard as you work.\n",
    "\n",
    "\n",
    "# Keep going\n",
    "\n",
    "Move on to learn what **[categorical variables](https://www.kaggle.com/alexisbcook/categorical-variables)** are, along with how to incorporate them into your machine learning models.  Categorical variables are very common in real-world data, but you'll get an error if you try to plug them into your models without processing them first!"
   ]
  },
  {
   "cell_type": "markdown",
   "id": "d4b56704",
   "metadata": {
    "papermill": {
     "duration": 0.039431,
     "end_time": "2022-01-24T11:01:13.235645",
     "exception": false,
     "start_time": "2022-01-24T11:01:13.196214",
     "status": "completed"
    },
    "tags": []
   },
   "source": [
    "---\n",
    "\n",
    "\n",
    "\n",
    "\n",
    "*Have questions or comments? Visit the [course discussion forum](https://www.kaggle.com/learn/intermediate-machine-learning/discussion) to chat with other learners.*"
   ]
  }
 ],
 "metadata": {
  "kernelspec": {
   "display_name": "Python 3",
   "language": "python",
   "name": "python3"
  },
  "language_info": {
   "codemirror_mode": {
    "name": "ipython",
    "version": 3
   },
   "file_extension": ".py",
   "mimetype": "text/x-python",
   "name": "python",
   "nbconvert_exporter": "python",
   "pygments_lexer": "ipython3",
   "version": "3.7.12"
  },
  "papermill": {
   "default_parameters": {},
   "duration": 20.205903,
   "end_time": "2022-01-24T11:01:13.984551",
   "environment_variables": {},
   "exception": null,
   "input_path": "__notebook__.ipynb",
   "output_path": "__notebook__.ipynb",
   "parameters": {},
   "start_time": "2022-01-24T11:00:53.778648",
   "version": "2.3.3"
  }
 },
 "nbformat": 4,
 "nbformat_minor": 5
}
