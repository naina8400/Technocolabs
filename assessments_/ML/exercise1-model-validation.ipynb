{
 "cells": [
  {
   "cell_type": "markdown",
   "id": "df142078",
   "metadata": {
    "papermill": {
     "duration": 0.011558,
     "end_time": "2022-01-25T08:43:38.558193",
     "exception": false,
     "start_time": "2022-01-25T08:43:38.546635",
     "status": "completed"
    },
    "tags": []
   },
   "source": [
    "## Recap\n",
    "You've built a model. In this exercise you will test how good your model is.\n",
    "\n",
    "Run the cell below to set up your coding environment where the previous exercise left off."
   ]
  },
  {
   "cell_type": "code",
   "execution_count": 1,
   "id": "9ad38b33",
   "metadata": {
    "execution": {
     "iopub.execute_input": "2022-01-25T08:43:38.584039Z",
     "iopub.status.busy": "2022-01-25T08:43:38.583134Z",
     "iopub.status.idle": "2022-01-25T08:43:40.216070Z",
     "shell.execute_reply": "2022-01-25T08:43:40.216624Z",
     "shell.execute_reply.started": "2022-01-25T08:42:53.008464Z"
    },
    "papermill": {
     "duration": 1.646946,
     "end_time": "2022-01-25T08:43:40.216947",
     "exception": false,
     "start_time": "2022-01-25T08:43:38.570001",
     "status": "completed"
    },
    "tags": []
   },
   "outputs": [
    {
     "name": "stdout",
     "output_type": "stream",
     "text": [
      "First in-sample predictions: [208500. 181500. 223500. 140000. 250000.]\n",
      "Actual target values for those homes: [208500, 181500, 223500, 140000, 250000]\n",
      "Setup Complete\n"
     ]
    }
   ],
   "source": [
    "# Code you have previously used to load data\n",
    "import pandas as pd\n",
    "from sklearn.tree import DecisionTreeRegressor\n",
    "\n",
    "# Path of the file to read\n",
    "iowa_file_path = '../input/home-data-for-ml-course/train.csv'\n",
    "\n",
    "home_data = pd.read_csv(iowa_file_path)\n",
    "y = home_data.SalePrice\n",
    "feature_columns = ['LotArea', 'YearBuilt', '1stFlrSF', '2ndFlrSF', 'FullBath', 'BedroomAbvGr', 'TotRmsAbvGrd']\n",
    "X = home_data[feature_columns]\n",
    "\n",
    "# Specify Model\n",
    "iowa_model = DecisionTreeRegressor()\n",
    "# Fit Model\n",
    "iowa_model.fit(X, y)\n",
    "\n",
    "print(\"First in-sample predictions:\", iowa_model.predict(X.head()))\n",
    "print(\"Actual target values for those homes:\", y.head().tolist())\n",
    "\n",
    "# Set up code checking\n",
    "from learntools.core import binder\n",
    "binder.bind(globals())\n",
    "from learntools.machine_learning.ex4 import *\n",
    "print(\"Setup Complete\")"
   ]
  },
  {
   "cell_type": "markdown",
   "id": "6e844645",
   "metadata": {
    "papermill": {
     "duration": 0.016132,
     "end_time": "2022-01-25T08:43:40.249751",
     "exception": false,
     "start_time": "2022-01-25T08:43:40.233619",
     "status": "completed"
    },
    "tags": []
   },
   "source": [
    "# Exercises\n",
    "\n",
    "## Step 1: Split Your Data\n",
    "Use the `train_test_split` function to split up your data.\n",
    "\n",
    "Give it the argument `random_state=1` so the `check` functions know what to expect when verifying your code.\n",
    "\n",
    "Recall, your features are loaded in the DataFrame **X** and your target is loaded in **y**.\n"
   ]
  },
  {
   "cell_type": "code",
   "execution_count": 2,
   "id": "f812e3be",
   "metadata": {
    "execution": {
     "iopub.execute_input": "2022-01-25T08:43:40.287061Z",
     "iopub.status.busy": "2022-01-25T08:43:40.286236Z",
     "iopub.status.idle": "2022-01-25T08:43:40.300610Z",
     "shell.execute_reply": "2022-01-25T08:43:40.301246Z",
     "shell.execute_reply.started": "2022-01-25T08:42:54.317512Z"
    },
    "papermill": {
     "duration": 0.035233,
     "end_time": "2022-01-25T08:43:40.301426",
     "exception": false,
     "start_time": "2022-01-25T08:43:40.266193",
     "status": "completed"
    },
    "tags": []
   },
   "outputs": [
    {
     "data": {
      "application/javascript": [
       "parent.postMessage({\"jupyterEvent\": \"custom.exercise_interaction\", \"data\": {\"outcomeType\": 1, \"valueTowardsCompletion\": 0.25, \"interactionType\": 1, \"questionType\": 2, \"questionId\": \"1_SplitData\", \"learnToolsVersion\": \"0.3.4\", \"failureMessage\": \"\", \"exceptionClass\": \"\", \"trace\": \"\"}}, \"*\")"
      ],
      "text/plain": [
       "<IPython.core.display.Javascript object>"
      ]
     },
     "metadata": {},
     "output_type": "display_data"
    },
    {
     "data": {
      "text/markdown": [
       "<span style=\"color:#33cc33\">Correct</span>"
      ],
      "text/plain": [
       "Correct"
      ]
     },
     "metadata": {},
     "output_type": "display_data"
    }
   ],
   "source": [
    "# Import the train_test_split function and uncomment\n",
    "from sklearn.model_selection import train_test_split\n",
    "train_X,val_X,train_y,val_y=train_test_split(X,y,random_state=1)\n",
    "\n",
    "# Check your answer\n",
    "step_1.check()"
   ]
  },
  {
   "cell_type": "code",
   "execution_count": 3,
   "id": "dd629daa",
   "metadata": {
    "execution": {
     "iopub.execute_input": "2022-01-25T08:43:40.339519Z",
     "iopub.status.busy": "2022-01-25T08:43:40.338860Z",
     "iopub.status.idle": "2022-01-25T08:43:40.342464Z",
     "shell.execute_reply": "2022-01-25T08:43:40.343034Z",
     "shell.execute_reply.started": "2022-01-25T08:42:54.342240Z"
    },
    "papermill": {
     "duration": 0.02465,
     "end_time": "2022-01-25T08:43:40.343214",
     "exception": false,
     "start_time": "2022-01-25T08:43:40.318564",
     "status": "completed"
    },
    "tags": []
   },
   "outputs": [],
   "source": [
    "# The lines below will show you a hint or the solution.\n",
    "# step_1.hint() \n",
    "# step_1.solution()\n"
   ]
  },
  {
   "cell_type": "markdown",
   "id": "59400fde",
   "metadata": {
    "papermill": {
     "duration": 0.016677,
     "end_time": "2022-01-25T08:43:40.376820",
     "exception": false,
     "start_time": "2022-01-25T08:43:40.360143",
     "status": "completed"
    },
    "tags": []
   },
   "source": [
    "## Step 2: Specify and Fit the Model\n",
    "\n",
    "Create a `DecisionTreeRegressor` model and fit it to the relevant data.\n",
    "Set `random_state` to 1 again when creating the model."
   ]
  },
  {
   "cell_type": "code",
   "execution_count": 4,
   "id": "7ca7f8de",
   "metadata": {
    "execution": {
     "iopub.execute_input": "2022-01-25T08:43:40.414844Z",
     "iopub.status.busy": "2022-01-25T08:43:40.414130Z",
     "iopub.status.idle": "2022-01-25T08:43:40.437142Z",
     "shell.execute_reply": "2022-01-25T08:43:40.436594Z",
     "shell.execute_reply.started": "2022-01-25T08:42:54.350524Z"
    },
    "papermill": {
     "duration": 0.043025,
     "end_time": "2022-01-25T08:43:40.437251",
     "exception": false,
     "start_time": "2022-01-25T08:43:40.394226",
     "status": "completed"
    },
    "tags": []
   },
   "outputs": [
    {
     "name": "stdout",
     "output_type": "stream",
     "text": [
      "[186500. 184000. 130000.  92000. 164500. 220000. 335000. 144152. 215000.\n",
      " 262000.]\n",
      "[186500. 184000. 130000.  92000. 164500. 220000. 335000. 144152. 215000.\n",
      " 262000.]\n"
     ]
    },
    {
     "data": {
      "application/javascript": [
       "parent.postMessage({\"jupyterEvent\": \"custom.exercise_interaction\", \"data\": {\"outcomeType\": 1, \"valueTowardsCompletion\": 0.25, \"interactionType\": 1, \"questionType\": 2, \"questionId\": \"2_FitModelWithTrain\", \"learnToolsVersion\": \"0.3.4\", \"failureMessage\": \"\", \"exceptionClass\": \"\", \"trace\": \"\"}}, \"*\")"
      ],
      "text/plain": [
       "<IPython.core.display.Javascript object>"
      ]
     },
     "metadata": {},
     "output_type": "display_data"
    },
    {
     "data": {
      "text/markdown": [
       "<span style=\"color:#33cc33\">Correct</span>"
      ],
      "text/plain": [
       "Correct"
      ]
     },
     "metadata": {},
     "output_type": "display_data"
    }
   ],
   "source": [
    "# You imported DecisionTreeRegressor in your last exercise\n",
    "# and that code has been copied to the setup code above. So, no need to\n",
    "from sklearn.tree import DecisionTreeRegressor\n",
    "\n",
    "# Specify the model\n",
    "iowa_model = DecisionTreeRegressor(random_state=1)\n",
    "iowa_model.fit(train_X, train_y)\n",
    "\n",
    "# Fit iowa_model with the training data.\n",
    "# Check your answer\n",
    "step_2.check()"
   ]
  },
  {
   "cell_type": "code",
   "execution_count": 5,
   "id": "baa53659",
   "metadata": {
    "execution": {
     "iopub.execute_input": "2022-01-25T08:43:40.467562Z",
     "iopub.status.busy": "2022-01-25T08:43:40.466741Z",
     "iopub.status.idle": "2022-01-25T08:43:40.470544Z",
     "shell.execute_reply": "2022-01-25T08:43:40.470078Z",
     "shell.execute_reply.started": "2022-01-25T08:42:54.388077Z"
    },
    "papermill": {
     "duration": 0.021022,
     "end_time": "2022-01-25T08:43:40.470661",
     "exception": false,
     "start_time": "2022-01-25T08:43:40.449639",
     "status": "completed"
    },
    "tags": []
   },
   "outputs": [],
   "source": [
    "# step_2.hint()\n",
    "# step_2.solution()"
   ]
  },
  {
   "cell_type": "markdown",
   "id": "8f82714a",
   "metadata": {
    "papermill": {
     "duration": 0.012178,
     "end_time": "2022-01-25T08:43:40.495564",
     "exception": false,
     "start_time": "2022-01-25T08:43:40.483386",
     "status": "completed"
    },
    "tags": []
   },
   "source": [
    "## Step 3: Make Predictions with Validation data\n"
   ]
  },
  {
   "cell_type": "code",
   "execution_count": 6,
   "id": "a1a63981",
   "metadata": {
    "execution": {
     "iopub.execute_input": "2022-01-25T08:43:40.528438Z",
     "iopub.status.busy": "2022-01-25T08:43:40.527693Z",
     "iopub.status.idle": "2022-01-25T08:43:40.537871Z",
     "shell.execute_reply": "2022-01-25T08:43:40.537303Z",
     "shell.execute_reply.started": "2022-01-25T08:42:54.394153Z"
    },
    "papermill": {
     "duration": 0.029978,
     "end_time": "2022-01-25T08:43:40.537989",
     "exception": false,
     "start_time": "2022-01-25T08:43:40.508011",
     "status": "completed"
    },
    "tags": []
   },
   "outputs": [
    {
     "data": {
      "application/javascript": [
       "parent.postMessage({\"jupyterEvent\": \"custom.exercise_interaction\", \"data\": {\"outcomeType\": 1, \"valueTowardsCompletion\": 0.25, \"interactionType\": 1, \"questionType\": 2, \"questionId\": \"3_ValPreds\", \"learnToolsVersion\": \"0.3.4\", \"failureMessage\": \"\", \"exceptionClass\": \"\", \"trace\": \"\"}}, \"*\")"
      ],
      "text/plain": [
       "<IPython.core.display.Javascript object>"
      ]
     },
     "metadata": {},
     "output_type": "display_data"
    },
    {
     "data": {
      "text/markdown": [
       "<span style=\"color:#33cc33\">Correct</span>"
      ],
      "text/plain": [
       "Correct"
      ]
     },
     "metadata": {},
     "output_type": "display_data"
    }
   ],
   "source": [
    "# Predict with all validation observations\n",
    "val_predictions = iowa_model.predict(val_X)\n",
    "\n",
    "# Check your answer\n",
    "step_3.check()"
   ]
  },
  {
   "cell_type": "code",
   "execution_count": 7,
   "id": "493d0efb",
   "metadata": {
    "execution": {
     "iopub.execute_input": "2022-01-25T08:43:40.568452Z",
     "iopub.status.busy": "2022-01-25T08:43:40.567929Z",
     "iopub.status.idle": "2022-01-25T08:43:40.571622Z",
     "shell.execute_reply": "2022-01-25T08:43:40.571195Z",
     "shell.execute_reply.started": "2022-01-25T08:42:54.409761Z"
    },
    "papermill": {
     "duration": 0.02069,
     "end_time": "2022-01-25T08:43:40.571762",
     "exception": false,
     "start_time": "2022-01-25T08:43:40.551072",
     "status": "completed"
    },
    "tags": []
   },
   "outputs": [],
   "source": [
    "# step_3.hint()\n",
    "# step_3.solution()"
   ]
  },
  {
   "cell_type": "markdown",
   "id": "87a926c2",
   "metadata": {
    "papermill": {
     "duration": 0.012971,
     "end_time": "2022-01-25T08:43:40.597932",
     "exception": false,
     "start_time": "2022-01-25T08:43:40.584961",
     "status": "completed"
    },
    "tags": []
   },
   "source": [
    "Inspect your predictions and actual values from validation data."
   ]
  },
  {
   "cell_type": "code",
   "execution_count": 8,
   "id": "419f4a9d",
   "metadata": {
    "execution": {
     "iopub.execute_input": "2022-01-25T08:43:40.630992Z",
     "iopub.status.busy": "2022-01-25T08:43:40.630421Z",
     "iopub.status.idle": "2022-01-25T08:43:40.642468Z",
     "shell.execute_reply": "2022-01-25T08:43:40.642856Z",
     "shell.execute_reply.started": "2022-01-25T08:42:54.416542Z"
    },
    "papermill": {
     "duration": 0.032248,
     "end_time": "2022-01-25T08:43:40.643009",
     "exception": false,
     "start_time": "2022-01-25T08:43:40.610761",
     "status": "completed"
    },
    "tags": []
   },
   "outputs": [
    {
     "data": {
      "text/html": [
       "<div>\n",
       "<style scoped>\n",
       "    .dataframe tbody tr th:only-of-type {\n",
       "        vertical-align: middle;\n",
       "    }\n",
       "\n",
       "    .dataframe tbody tr th {\n",
       "        vertical-align: top;\n",
       "    }\n",
       "\n",
       "    .dataframe thead th {\n",
       "        text-align: right;\n",
       "    }\n",
       "</style>\n",
       "<table border=\"1\" class=\"dataframe\">\n",
       "  <thead>\n",
       "    <tr style=\"text-align: right;\">\n",
       "      <th></th>\n",
       "      <th>LotArea</th>\n",
       "      <th>YearBuilt</th>\n",
       "      <th>1stFlrSF</th>\n",
       "      <th>2ndFlrSF</th>\n",
       "      <th>FullBath</th>\n",
       "      <th>BedroomAbvGr</th>\n",
       "      <th>TotRmsAbvGrd</th>\n",
       "    </tr>\n",
       "  </thead>\n",
       "  <tbody>\n",
       "    <tr>\n",
       "      <th>6</th>\n",
       "      <td>10084</td>\n",
       "      <td>2004</td>\n",
       "      <td>1694</td>\n",
       "      <td>0</td>\n",
       "      <td>2</td>\n",
       "      <td>3</td>\n",
       "      <td>7</td>\n",
       "    </tr>\n",
       "    <tr>\n",
       "      <th>807</th>\n",
       "      <td>21384</td>\n",
       "      <td>1923</td>\n",
       "      <td>1072</td>\n",
       "      <td>504</td>\n",
       "      <td>1</td>\n",
       "      <td>3</td>\n",
       "      <td>6</td>\n",
       "    </tr>\n",
       "    <tr>\n",
       "      <th>955</th>\n",
       "      <td>7136</td>\n",
       "      <td>1946</td>\n",
       "      <td>979</td>\n",
       "      <td>979</td>\n",
       "      <td>2</td>\n",
       "      <td>4</td>\n",
       "      <td>8</td>\n",
       "    </tr>\n",
       "    <tr>\n",
       "      <th>1040</th>\n",
       "      <td>13125</td>\n",
       "      <td>1957</td>\n",
       "      <td>1803</td>\n",
       "      <td>0</td>\n",
       "      <td>2</td>\n",
       "      <td>3</td>\n",
       "      <td>8</td>\n",
       "    </tr>\n",
       "    <tr>\n",
       "      <th>701</th>\n",
       "      <td>9600</td>\n",
       "      <td>1969</td>\n",
       "      <td>1164</td>\n",
       "      <td>0</td>\n",
       "      <td>1</td>\n",
       "      <td>3</td>\n",
       "      <td>6</td>\n",
       "    </tr>\n",
       "  </tbody>\n",
       "</table>\n",
       "</div>"
      ],
      "text/plain": [
       "      LotArea  YearBuilt  1stFlrSF  2ndFlrSF  FullBath  BedroomAbvGr  \\\n",
       "6       10084       2004      1694         0         2             3   \n",
       "807     21384       1923      1072       504         1             3   \n",
       "955      7136       1946       979       979         2             4   \n",
       "1040    13125       1957      1803         0         2             3   \n",
       "701      9600       1969      1164         0         1             3   \n",
       "\n",
       "      TotRmsAbvGrd  \n",
       "6                7  \n",
       "807              6  \n",
       "955              8  \n",
       "1040             8  \n",
       "701              6  "
      ]
     },
     "execution_count": 8,
     "metadata": {},
     "output_type": "execute_result"
    }
   ],
   "source": [
    "# print the top few validation predictions\n",
    "val_X.head()\n",
    "# print the top few actual prices from validation data\n",
    "train_X.head()"
   ]
  },
  {
   "cell_type": "markdown",
   "id": "319b8571",
   "metadata": {
    "papermill": {
     "duration": 0.013262,
     "end_time": "2022-01-25T08:43:40.669804",
     "exception": false,
     "start_time": "2022-01-25T08:43:40.656542",
     "status": "completed"
    },
    "tags": []
   },
   "source": [
    "What do you notice that is different from what you saw with in-sample predictions (which are printed after the top code cell in this page).\n",
    "\n",
    "Do you remember why validation predictions differ from in-sample (or training) predictions? This is an important idea from the last lesson.\n",
    "\n",
    "## Step 4: Calculate the Mean Absolute Error in Validation Data\n"
   ]
  },
  {
   "cell_type": "code",
   "execution_count": 9,
   "id": "7327f4c7",
   "metadata": {
    "execution": {
     "iopub.execute_input": "2022-01-25T08:43:40.703160Z",
     "iopub.status.busy": "2022-01-25T08:43:40.701822Z",
     "iopub.status.idle": "2022-01-25T08:43:40.709981Z",
     "shell.execute_reply": "2022-01-25T08:43:40.709461Z",
     "shell.execute_reply.started": "2022-01-25T08:42:54.445170Z"
    },
    "papermill": {
     "duration": 0.026934,
     "end_time": "2022-01-25T08:43:40.710086",
     "exception": false,
     "start_time": "2022-01-25T08:43:40.683152",
     "status": "completed"
    },
    "tags": []
   },
   "outputs": [
    {
     "name": "stdout",
     "output_type": "stream",
     "text": [
      "29652.931506849316\n"
     ]
    },
    {
     "data": {
      "application/javascript": [
       "parent.postMessage({\"jupyterEvent\": \"custom.exercise_interaction\", \"data\": {\"outcomeType\": 1, \"valueTowardsCompletion\": 0.25, \"interactionType\": 1, \"questionType\": 1, \"questionId\": \"4_MAE\", \"learnToolsVersion\": \"0.3.4\", \"failureMessage\": \"\", \"exceptionClass\": \"\", \"trace\": \"\"}}, \"*\")"
      ],
      "text/plain": [
       "<IPython.core.display.Javascript object>"
      ]
     },
     "metadata": {},
     "output_type": "display_data"
    },
    {
     "data": {
      "text/markdown": [
       "<span style=\"color:#33cc33\">Correct</span>"
      ],
      "text/plain": [
       "Correct"
      ]
     },
     "metadata": {},
     "output_type": "display_data"
    }
   ],
   "source": [
    "from sklearn.metrics import mean_absolute_error\n",
    "val_mae = mean_absolute_error(val_y, val_predictions)\n",
    "\n",
    "# uncomment following line to see the validation_mae\n",
    "print(val_mae)\n",
    "\n",
    "# Check your answer\n",
    "step_4.check()"
   ]
  },
  {
   "cell_type": "code",
   "execution_count": 10,
   "id": "2832c951",
   "metadata": {
    "execution": {
     "iopub.execute_input": "2022-01-25T08:43:40.743313Z",
     "iopub.status.busy": "2022-01-25T08:43:40.742810Z",
     "iopub.status.idle": "2022-01-25T08:43:40.744432Z",
     "shell.execute_reply": "2022-01-25T08:43:40.743989Z",
     "shell.execute_reply.started": "2022-01-25T08:42:54.458530Z"
    },
    "papermill": {
     "duration": 0.019948,
     "end_time": "2022-01-25T08:43:40.744551",
     "exception": false,
     "start_time": "2022-01-25T08:43:40.724603",
     "status": "completed"
    },
    "tags": []
   },
   "outputs": [],
   "source": [
    "# step_4.hint()\n",
    "# step_4.solution()"
   ]
  },
  {
   "cell_type": "markdown",
   "id": "d4750460",
   "metadata": {
    "papermill": {
     "duration": 0.013205,
     "end_time": "2022-01-25T08:43:40.771347",
     "exception": false,
     "start_time": "2022-01-25T08:43:40.758142",
     "status": "completed"
    },
    "tags": []
   },
   "source": [
    "Is that MAE good?  There isn't a general rule for what values are good that applies across applications. But you'll see how to use (and improve) this number in the next step.\n"
   ]
  }
 ],
 "metadata": {
  "kernelspec": {
   "display_name": "Python 3",
   "language": "python",
   "name": "python3"
  },
  "language_info": {
   "codemirror_mode": {
    "name": "ipython",
    "version": 3
   },
   "file_extension": ".py",
   "mimetype": "text/x-python",
   "name": "python",
   "nbconvert_exporter": "python",
   "pygments_lexer": "ipython3",
   "version": "3.7.12"
  },
  "papermill": {
   "default_parameters": {},
   "duration": 15.00757,
   "end_time": "2022-01-25T08:43:41.797950",
   "environment_variables": {},
   "exception": null,
   "input_path": "__notebook__.ipynb",
   "output_path": "__notebook__.ipynb",
   "parameters": {},
   "start_time": "2022-01-25T08:43:26.790380",
   "version": "2.3.3"
  }
 },
 "nbformat": 4,
 "nbformat_minor": 5
}
